{
 "cells": [
  {
   "cell_type": "markdown",
   "id": "effective-inspector",
   "metadata": {
    "toc": "true"
   },
   "source": [
    "<h1>Table of Contents<span class=\"tocSkip\"></span></h1>\n",
    "<div class=\"toc\"><ul class=\"toc-item\"><li><span><a href=\"#Make-Python-faster\" data-toc-modified-id=\"Make-Python-faster-1\"><span class=\"toc-item-num\">1&nbsp;&nbsp;</span>Make Python faster</a></span><ul class=\"toc-item\"><li><ul class=\"toc-item\"><li><span><a href=\"#Example-2,-avoid-dot-operator\" data-toc-modified-id=\"Example-2,-avoid-dot-operator-1.0.1\"><span class=\"toc-item-num\">1.0.1&nbsp;&nbsp;</span>Example-2, avoid dot operator</a></span></li><li><span><a href=\"#Example-1\" data-toc-modified-id=\"Example-1-1.0.2\"><span class=\"toc-item-num\">1.0.2&nbsp;&nbsp;</span>Example-1</a></span></li></ul></li><li><span><a href=\"#Avoid-deep-copy-if-possible\" data-toc-modified-id=\"Avoid-deep-copy-if-possible-1.1\"><span class=\"toc-item-num\">1.1&nbsp;&nbsp;</span>Avoid deep copy if possible</a></span></li><li><span><a href=\"#Use-Numba-or-PyPy-Project\" data-toc-modified-id=\"Use-Numba-or-PyPy-Project-1.2\"><span class=\"toc-item-num\">1.2&nbsp;&nbsp;</span>Use Numba or PyPy Project</a></span></li></ul></li></ul></div>"
   ]
  },
  {
   "cell_type": "markdown",
   "id": "exceptional-indie",
   "metadata": {},
   "source": [
    "# Make Python faster"
   ]
  },
  {
   "cell_type": "markdown",
   "id": "aggressive-error",
   "metadata": {},
   "source": [
    "- Write function instead of use it as global script,  about 10~25% faster\n",
    "- Use from math import sqrt, instead of math.sqrt, to avoid a **lookup**. Every use of the dot (.) operator to access attributes comes with a cost. Under the covers, this triggers special methods, such as \\_\\_getattribute\\_\\_() and \\_\\_getattr\\_\\_(), which often lead to dictionary lookups."
   ]
  },
  {
   "cell_type": "markdown",
   "id": "connected-hindu",
   "metadata": {},
   "source": [
    "### Example-2, avoid dot operator"
   ]
  },
  {
   "cell_type": "code",
   "execution_count": 1,
   "id": "encouraging-noise",
   "metadata": {},
   "outputs": [],
   "source": [
    "import math\n",
    "def compute_roots(nums): \n",
    "    result = []\n",
    "    for n in nums: \n",
    "        result.append(math.sqrt(n))\n",
    "    return result"
   ]
  },
  {
   "cell_type": "code",
   "execution_count": 2,
   "id": "desirable-geometry",
   "metadata": {},
   "outputs": [],
   "source": [
    "# Test\n",
    "nums = range(1000000) "
   ]
  },
  {
   "cell_type": "code",
   "execution_count": 4,
   "id": "accessible-comment",
   "metadata": {},
   "outputs": [
    {
     "name": "stdout",
     "output_type": "stream",
     "text": [
      "3.46 s ± 33.8 ms per loop (mean ± std. dev. of 7 runs, 1 loop each)\n"
     ]
    }
   ],
   "source": [
    "%timeit [compute_roots(nums) for n in range(20)]"
   ]
  },
  {
   "cell_type": "code",
   "execution_count": 15,
   "id": "czech-million",
   "metadata": {},
   "outputs": [],
   "source": [
    "# the attribute access is avoid\n",
    "from math import sqrt"
   ]
  },
  {
   "cell_type": "code",
   "execution_count": 6,
   "id": "weekly-fundamentals",
   "metadata": {},
   "outputs": [],
   "source": [
    "def compute_roots(nums):\n",
    "    result = []\n",
    "    result_append = result.append\n",
    "    for n in nums:\n",
    "        result_append(sqrt(n))\n",
    "    return result"
   ]
  },
  {
   "cell_type": "code",
   "execution_count": 7,
   "id": "green-bermuda",
   "metadata": {},
   "outputs": [
    {
     "name": "stdout",
     "output_type": "stream",
     "text": [
      "2.6 s ± 20.2 ms per loop (mean ± std. dev. of 7 runs, 1 loop each)\n"
     ]
    }
   ],
   "source": [
    "%timeit [compute_roots(nums) for n in range(20)]"
   ]
  },
  {
   "cell_type": "markdown",
   "id": "virtual-shipping",
   "metadata": {},
   "source": [
    "### Example-1"
   ]
  },
  {
   "cell_type": "code",
   "execution_count": 13,
   "id": "enabling-calculation",
   "metadata": {},
   "outputs": [],
   "source": [
    "import math\n",
    "def compute_roots(nums): \n",
    "    # That additional speedup is due to a local lookup of sqrt being a bit faster than a global lookup of sqrt.\n",
    "    sqrt = math.sqrt\n",
    "    result = []\n",
    "    # even make function local\n",
    "    result_append = result.append \n",
    "    for n in nums:\n",
    "        result_append(sqrt(n)) \n",
    "    return result"
   ]
  },
  {
   "cell_type": "code",
   "execution_count": 14,
   "id": "supposed-quick",
   "metadata": {},
   "outputs": [
    {
     "name": "stdout",
     "output_type": "stream",
     "text": [
      "2.33 s ± 12.6 ms per loop (mean ± std. dev. of 7 runs, 1 loop each)\n"
     ]
    }
   ],
   "source": [
    "%timeit [compute_roots(nums) for n in range(20)]"
   ]
  },
  {
   "cell_type": "markdown",
   "id": "israeli-train",
   "metadata": {},
   "source": [
    "## Avoid deep copy if possible"
   ]
  },
  {
   "cell_type": "markdown",
   "id": "patient-expression",
   "metadata": {},
   "source": [
    "Overuse of functions such as copy.deep copy() may be a sign of code that’s been written by someone who doesn’t fully understand or trust Python’s memory model. In such code, it may be safe to eliminate many of the copies."
   ]
  },
  {
   "cell_type": "markdown",
   "id": "roman-municipality",
   "metadata": {},
   "source": [
    "## Use Numba or PyPy Project"
   ]
  },
  {
   "cell_type": "code",
   "execution_count": null,
   "id": "neither-colorado",
   "metadata": {},
   "outputs": [],
   "source": []
  },
  {
   "cell_type": "code",
   "execution_count": null,
   "id": "overall-raleigh",
   "metadata": {},
   "outputs": [],
   "source": []
  },
  {
   "cell_type": "code",
   "execution_count": null,
   "id": "entire-speaker",
   "metadata": {},
   "outputs": [],
   "source": []
  },
  {
   "cell_type": "code",
   "execution_count": null,
   "id": "organizational-kernel",
   "metadata": {},
   "outputs": [],
   "source": []
  }
 ],
 "metadata": {
  "kernelspec": {
   "display_name": "Python 3 (ipykernel)",
   "language": "python",
   "name": "python3"
  },
  "language_info": {
   "codemirror_mode": {
    "name": "ipython",
    "version": 3
   },
   "file_extension": ".py",
   "mimetype": "text/x-python",
   "name": "python",
   "nbconvert_exporter": "python",
   "pygments_lexer": "ipython3",
   "version": "3.9.7"
  },
  "toc": {
   "base_numbering": 1,
   "nav_menu": {
    "height": "104.815px",
    "width": "251.989px"
   },
   "number_sections": true,
   "sideBar": true,
   "skip_h1_title": false,
   "title_cell": "Table of Contents",
   "title_sidebar": "Contents",
   "toc_cell": true,
   "toc_position": {},
   "toc_section_display": "block",
   "toc_window_display": true
  }
 },
 "nbformat": 4,
 "nbformat_minor": 5
}
