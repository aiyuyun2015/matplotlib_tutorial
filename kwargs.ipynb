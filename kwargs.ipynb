{
 "cells": [
  {
   "cell_type": "markdown",
   "id": "9b884e60",
   "metadata": {},
   "source": [
    "### Supposwe, we want to pass some arguments, but the function can take \"any\" number of them"
   ]
  },
  {
   "cell_type": "code",
   "execution_count": 6,
   "id": "feb5aeac",
   "metadata": {},
   "outputs": [],
   "source": [
    "keyword_dict = {'keyword1': 1, 'keyword2': 2}\n",
    "\n",
    "\n",
    "\n",
    "# write a function to accept all non-positional and positional arguments\n",
    "def function(*args, **kwargs):\n",
    "    print(\"args:\")\n",
    "    print(args)\n",
    "    print(type(args))\n",
    "    print(\"===============\")\n",
    "    print(\"position args\")\n",
    "    print(kwargs)\n",
    "    print(type(kwargs))"
   ]
  },
  {
   "cell_type": "code",
   "execution_count": 7,
   "id": "579837d7",
   "metadata": {},
   "outputs": [
    {
     "name": "stdout",
     "output_type": "stream",
     "text": [
      "args:\n",
      "()\n",
      "<class 'tuple'>\n",
      "===============\n",
      "position args\n",
      "{'a': 1, 'b': 2}\n",
      "<class 'dict'>\n"
     ]
    }
   ],
   "source": [
    "function(a=1, b=2)"
   ]
  },
  {
   "cell_type": "code",
   "execution_count": 8,
   "id": "55f52bd9",
   "metadata": {},
   "outputs": [
    {
     "name": "stdout",
     "output_type": "stream",
     "text": [
      "args:\n",
      "(10, 20)\n",
      "<class 'tuple'>\n",
      "===============\n",
      "position args\n",
      "{}\n",
      "<class 'dict'>\n"
     ]
    }
   ],
   "source": [
    "function(10, 20)"
   ]
  },
  {
   "cell_type": "code",
   "execution_count": 9,
   "id": "4b5ad0c8",
   "metadata": {},
   "outputs": [
    {
     "name": "stdout",
     "output_type": "stream",
     "text": [
      "args:\n",
      "(10, 20)\n",
      "<class 'tuple'>\n",
      "===============\n",
      "position args\n",
      "{'a': 1, 'b': 2}\n",
      "<class 'dict'>\n"
     ]
    }
   ],
   "source": [
    "function(10, 20, a=1, b=2)"
   ]
  },
  {
   "cell_type": "markdown",
   "id": "05053c05",
   "metadata": {},
   "source": [
    "#### This time, the function, takes by *args, **kwargs, and want to pass to next level"
   ]
  },
  {
   "cell_type": "code",
   "execution_count": 20,
   "id": "56e31f82",
   "metadata": {},
   "outputs": [],
   "source": [
    "key_args={'verbose':True, 'others':1}"
   ]
  },
  {
   "cell_type": "code",
   "execution_count": 15,
   "id": "fa982371",
   "metadata": {},
   "outputs": [
    {
     "data": {
      "text/plain": [
       "True"
      ]
     },
     "execution_count": 15,
     "metadata": {},
     "output_type": "execute_result"
    }
   ],
   "source": [
    "key_args.pop('verbose')\n",
    "\n",
    "key_args.pop('verbose', False)"
   ]
  },
  {
   "cell_type": "code",
   "execution_count": 34,
   "id": "ab906f52",
   "metadata": {},
   "outputs": [],
   "source": [
    "\n",
    "\n",
    "\n",
    "def _2(*args, **kwargs):\n",
    "    print(\"args:\")\n",
    "    print(args)\n",
    "    print(type(args))\n",
    "    print(\"===============\")\n",
    "    print(\"position args\")\n",
    "    print(kwargs)\n",
    "    print(type(kwargs))\n",
    "# write a function to accept all non-positional and positional arguments\n",
    "def _1(*args, **kwargs):\n",
    "    verbose = kwargs.pop('verbose', False)\n",
    "    _2(*args, **kwargs)"
   ]
  },
  {
   "cell_type": "code",
   "execution_count": 35,
   "id": "46e022c8",
   "metadata": {},
   "outputs": [],
   "source": [
    "key_args = {'verbose':True, 'keyword1': 1, 'keyword2': 2}\n"
   ]
  },
  {
   "cell_type": "code",
   "execution_count": 38,
   "id": "f36c2745",
   "metadata": {},
   "outputs": [
    {
     "name": "stdout",
     "output_type": "stream",
     "text": [
      "args:\n",
      "(1, 2, 3)\n",
      "<class 'tuple'>\n",
      "===============\n",
      "position args\n",
      "{'keyword1': 1, 'keyword2': 2}\n",
      "<class 'dict'>\n"
     ]
    }
   ],
   "source": [
    "_1(1, 2, 3, verbose=True, keyword1=1, keyword2=2)"
   ]
  },
  {
   "cell_type": "markdown",
   "id": "65c3f7f9",
   "metadata": {},
   "source": [
    "## How about add true of false to function?"
   ]
  },
  {
   "cell_type": "code",
   "execution_count": 41,
   "id": "a41c350c",
   "metadata": {},
   "outputs": [],
   "source": [
    "def cprint(*args, **kwargs):\n",
    "    if cprint.verbose:\n",
    "        print(*args, **kwargs)"
   ]
  },
  {
   "cell_type": "code",
   "execution_count": 42,
   "id": "efd84095",
   "metadata": {},
   "outputs": [],
   "source": [
    "cprint.verbose=True"
   ]
  },
  {
   "cell_type": "code",
   "execution_count": 43,
   "id": "c0aa2e1c",
   "metadata": {},
   "outputs": [
    {
     "name": "stdout",
     "output_type": "stream",
     "text": [
      "lala\n"
     ]
    }
   ],
   "source": [
    "cprint(\"lala\")"
   ]
  },
  {
   "cell_type": "code",
   "execution_count": 44,
   "id": "81844e2e",
   "metadata": {},
   "outputs": [],
   "source": [
    "cprint.verbose=False"
   ]
  },
  {
   "cell_type": "code",
   "execution_count": 45,
   "id": "0ab6e428",
   "metadata": {},
   "outputs": [],
   "source": [
    "cprint(\"ll\")"
   ]
  },
  {
   "cell_type": "markdown",
   "id": "bb370ff7",
   "metadata": {},
   "source": [
    "### what if arguments take **kwargs"
   ]
  },
  {
   "cell_type": "code",
   "execution_count": 1,
   "id": "358b0f5e",
   "metadata": {},
   "outputs": [],
   "source": [
    "def kprint(**kwargs):\n",
    "    print(kwargs)"
   ]
  },
  {
   "cell_type": "code",
   "execution_count": 2,
   "id": "424c6f42",
   "metadata": {},
   "outputs": [],
   "source": [
    "my_dict = {\"a\":[1,2]}"
   ]
  },
  {
   "cell_type": "code",
   "execution_count": 3,
   "id": "f9f7b013",
   "metadata": {},
   "outputs": [
    {
     "ename": "TypeError",
     "evalue": "kprint() takes 0 positional arguments but 1 was given",
     "output_type": "error",
     "traceback": [
      "\u001b[1;31m---------------------------------------------------------------------------\u001b[0m",
      "\u001b[1;31mTypeError\u001b[0m                                 Traceback (most recent call last)",
      "\u001b[1;32mC:\\Users\\ADMINI~1\\AppData\\Local\\Temp/ipykernel_21908/3241527482.py\u001b[0m in \u001b[0;36m<module>\u001b[1;34m\u001b[0m\n\u001b[1;32m----> 1\u001b[1;33m \u001b[0mkprint\u001b[0m\u001b[1;33m(\u001b[0m\u001b[0mmy_dict\u001b[0m\u001b[1;33m)\u001b[0m\u001b[1;33m\u001b[0m\u001b[1;33m\u001b[0m\u001b[0m\n\u001b[0m",
      "\u001b[1;31mTypeError\u001b[0m: kprint() takes 0 positional arguments but 1 was given"
     ]
    }
   ],
   "source": [
    "kprint(my_dict)"
   ]
  },
  {
   "cell_type": "code",
   "execution_count": 4,
   "id": "70c0fff2",
   "metadata": {},
   "outputs": [
    {
     "name": "stdout",
     "output_type": "stream",
     "text": [
      "{'a': [1, 2]}\n"
     ]
    }
   ],
   "source": [
    "kprint(**my_dict)"
   ]
  },
  {
   "cell_type": "code",
   "execution_count": null,
   "id": "4155a5ce",
   "metadata": {},
   "outputs": [],
   "source": []
  }
 ],
 "metadata": {
  "kernelspec": {
   "display_name": "Python 3 (ipykernel)",
   "language": "python",
   "name": "python3"
  },
  "language_info": {
   "codemirror_mode": {
    "name": "ipython",
    "version": 3
   },
   "file_extension": ".py",
   "mimetype": "text/x-python",
   "name": "python",
   "nbconvert_exporter": "python",
   "pygments_lexer": "ipython3",
   "version": "3.9.7"
  }
 },
 "nbformat": 4,
 "nbformat_minor": 5
}
