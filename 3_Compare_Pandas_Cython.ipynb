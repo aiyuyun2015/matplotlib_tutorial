{
 "cells": [
  {
   "cell_type": "markdown",
   "id": "d3357c20",
   "metadata": {},
   "source": [
    "https://tedboy.github.io/pandas/enhancingperf/enhancingperf1.html"
   ]
  },
  {
   "cell_type": "code",
   "execution_count": 1,
   "id": "dd4ba0b7",
   "metadata": {},
   "outputs": [],
   "source": [
    "import pandas as pd"
   ]
  },
  {
   "cell_type": "code",
   "execution_count": 3,
   "id": "f49e6e61",
   "metadata": {},
   "outputs": [],
   "source": [
    "import numpy as np"
   ]
  },
  {
   "cell_type": "code",
   "execution_count": 4,
   "id": "ffc187dd",
   "metadata": {},
   "outputs": [],
   "source": [
    "df = pd.DataFrame({'a': np.random.randn(1000),\n",
    "                   'b': np.random.randn(1000),\n",
    "                   'N': np.random.randint(100, 1000, (1000)),\n",
    "                   'x': 'x'})"
   ]
  },
  {
   "cell_type": "code",
   "execution_count": 9,
   "id": "376d6269",
   "metadata": {},
   "outputs": [
    {
     "data": {
      "text/plain": [
       "549643"
      ]
     },
     "execution_count": 9,
     "metadata": {},
     "output_type": "execute_result"
    }
   ],
   "source": [
    "df['N'].sum()"
   ]
  },
  {
   "cell_type": "code",
   "execution_count": 8,
   "id": "a7aecf7c",
   "metadata": {},
   "outputs": [
    {
     "data": {
      "text/html": [
       "<div>\n",
       "<style scoped>\n",
       "    .dataframe tbody tr th:only-of-type {\n",
       "        vertical-align: middle;\n",
       "    }\n",
       "\n",
       "    .dataframe tbody tr th {\n",
       "        vertical-align: top;\n",
       "    }\n",
       "\n",
       "    .dataframe thead th {\n",
       "        text-align: right;\n",
       "    }\n",
       "</style>\n",
       "<table border=\"1\" class=\"dataframe\">\n",
       "  <thead>\n",
       "    <tr style=\"text-align: right;\">\n",
       "      <th></th>\n",
       "      <th>a</th>\n",
       "      <th>b</th>\n",
       "      <th>N</th>\n",
       "      <th>x</th>\n",
       "    </tr>\n",
       "  </thead>\n",
       "  <tbody>\n",
       "    <tr>\n",
       "      <th>0</th>\n",
       "      <td>-0.419506</td>\n",
       "      <td>0.388628</td>\n",
       "      <td>337</td>\n",
       "      <td>x</td>\n",
       "    </tr>\n",
       "    <tr>\n",
       "      <th>1</th>\n",
       "      <td>-0.641013</td>\n",
       "      <td>-1.267908</td>\n",
       "      <td>214</td>\n",
       "      <td>x</td>\n",
       "    </tr>\n",
       "    <tr>\n",
       "      <th>2</th>\n",
       "      <td>1.400197</td>\n",
       "      <td>0.934439</td>\n",
       "      <td>262</td>\n",
       "      <td>x</td>\n",
       "    </tr>\n",
       "    <tr>\n",
       "      <th>3</th>\n",
       "      <td>0.376756</td>\n",
       "      <td>0.518383</td>\n",
       "      <td>914</td>\n",
       "      <td>x</td>\n",
       "    </tr>\n",
       "    <tr>\n",
       "      <th>4</th>\n",
       "      <td>1.041748</td>\n",
       "      <td>-1.944490</td>\n",
       "      <td>524</td>\n",
       "      <td>x</td>\n",
       "    </tr>\n",
       "    <tr>\n",
       "      <th>...</th>\n",
       "      <td>...</td>\n",
       "      <td>...</td>\n",
       "      <td>...</td>\n",
       "      <td>...</td>\n",
       "    </tr>\n",
       "    <tr>\n",
       "      <th>995</th>\n",
       "      <td>0.006013</td>\n",
       "      <td>0.941230</td>\n",
       "      <td>483</td>\n",
       "      <td>x</td>\n",
       "    </tr>\n",
       "    <tr>\n",
       "      <th>996</th>\n",
       "      <td>0.285279</td>\n",
       "      <td>2.589398</td>\n",
       "      <td>981</td>\n",
       "      <td>x</td>\n",
       "    </tr>\n",
       "    <tr>\n",
       "      <th>997</th>\n",
       "      <td>-0.023540</td>\n",
       "      <td>-0.364760</td>\n",
       "      <td>642</td>\n",
       "      <td>x</td>\n",
       "    </tr>\n",
       "    <tr>\n",
       "      <th>998</th>\n",
       "      <td>-0.463712</td>\n",
       "      <td>-0.475140</td>\n",
       "      <td>601</td>\n",
       "      <td>x</td>\n",
       "    </tr>\n",
       "    <tr>\n",
       "      <th>999</th>\n",
       "      <td>-0.757437</td>\n",
       "      <td>-2.138810</td>\n",
       "      <td>488</td>\n",
       "      <td>x</td>\n",
       "    </tr>\n",
       "  </tbody>\n",
       "</table>\n",
       "<p>1000 rows × 4 columns</p>\n",
       "</div>"
      ],
      "text/plain": [
       "            a         b    N  x\n",
       "0   -0.419506  0.388628  337  x\n",
       "1   -0.641013 -1.267908  214  x\n",
       "2    1.400197  0.934439  262  x\n",
       "3    0.376756  0.518383  914  x\n",
       "4    1.041748 -1.944490  524  x\n",
       "..        ...       ...  ... ..\n",
       "995  0.006013  0.941230  483  x\n",
       "996  0.285279  2.589398  981  x\n",
       "997 -0.023540 -0.364760  642  x\n",
       "998 -0.463712 -0.475140  601  x\n",
       "999 -0.757437 -2.138810  488  x\n",
       "\n",
       "[1000 rows x 4 columns]"
      ]
     },
     "execution_count": 8,
     "metadata": {},
     "output_type": "execute_result"
    }
   ],
   "source": [
    "df"
   ]
  },
  {
   "cell_type": "code",
   "execution_count": 13,
   "id": "783d97ea",
   "metadata": {},
   "outputs": [],
   "source": [
    "def f(x):\n",
    "    return x * (x - 1)\n",
    "\n",
    "def integrate_f(a, b, N):\n",
    "    s = 0\n",
    "    dx = (b - a) / N\n",
    "    for i in range(N):\n",
    "        s += f(a + i * dx)\n",
    "    return s * dx"
   ]
  },
  {
   "cell_type": "code",
   "execution_count": 6,
   "id": "21d637f4",
   "metadata": {},
   "outputs": [
    {
     "name": "stdout",
     "output_type": "stream",
     "text": [
      "77.5 ms ± 3.43 ms per loop (mean ± std. dev. of 7 runs, 1 loop each)\n"
     ]
    }
   ],
   "source": [
    "%timeit df.apply(lambda x: integrate_f(x['a'], x['b'], x['N']), axis=1)"
   ]
  },
  {
   "cell_type": "code",
   "execution_count": 10,
   "id": "c7d6d952",
   "metadata": {},
   "outputs": [
    {
     "name": "stdout",
     "output_type": "stream",
     "text": [
      " "
     ]
    }
   ],
   "source": [
    "%prun -l 8 df.apply(lambda x: integrate_f(x['a'], x['b'], x['N']), axis=1)"
   ]
  },
  {
   "cell_type": "markdown",
   "id": "afdb4c12",
   "metadata": {},
   "source": [
    "The above, calling method will pass three series to integerate_f, let's call them x1, x2, x3, then a is from x1[i], etc."
   ]
  },
  {
   "cell_type": "code",
   "execution_count": 15,
   "id": "0e1f59ae",
   "metadata": {},
   "outputs": [],
   "source": [
    "def f2(x):\n",
    "    return x * (x - 1)\n",
    "\n",
    "def integrate_f2(x):\n",
    "    a, b, N = x['a'], x['b'], x['N']\n",
    "    s = 0\n",
    "    dx = (b - a) / N\n",
    "    for i in range(N):\n",
    "        s += f2(a + i * dx)\n",
    "    return s * dx"
   ]
  },
  {
   "cell_type": "code",
   "execution_count": 40,
   "id": "d3a1b2af",
   "metadata": {
    "scrolled": true
   },
   "outputs": [
    {
     "name": "stdout",
     "output_type": "stream",
     "text": [
      "78.6 ms ± 2.04 ms per loop (mean ± std. dev. of 7 runs, 10 loops each)\n"
     ]
    }
   ],
   "source": [
    "%timeit df.apply(lambda x: integrate_f2(x), axis=1)"
   ]
  },
  {
   "cell_type": "code",
   "execution_count": 42,
   "id": "963d652c",
   "metadata": {
    "scrolled": true
   },
   "outputs": [
    {
     "name": "stdout",
     "output_type": "stream",
     "text": [
      " "
     ]
    }
   ],
   "source": [
    "%prun  df.apply(lambda x: integrate_f2(x), axis=1)"
   ]
  },
  {
   "cell_type": "markdown",
   "id": "3c91e611",
   "metadata": {},
   "source": [
    "# OK, cython"
   ]
  },
  {
   "cell_type": "code",
   "execution_count": 19,
   "id": "314affcf",
   "metadata": {},
   "outputs": [],
   "source": [
    "%load_ext Cython"
   ]
  },
  {
   "cell_type": "code",
   "execution_count": 48,
   "id": "a8365d62",
   "metadata": {},
   "outputs": [],
   "source": [
    "# add type checking, a big gain ~ 10 faster"
   ]
  },
  {
   "cell_type": "code",
   "execution_count": 37,
   "id": "2bc20406",
   "metadata": {},
   "outputs": [],
   "source": [
    "%%cython\n",
    "cdef double f_typed(double x) except? -2:\n",
    "    return x * (x - 1)\n",
    "cpdef double integrate_f_typed(double a, double b, int N):\n",
    "    cdef int i\n",
    "    cdef double s, dx\n",
    "    s = 0\n",
    "    dx = (b - a) / N\n",
    "    for i in range(N):\n",
    "        s += f_typed(a + i * dx)\n",
    "    return s * dx"
   ]
  },
  {
   "cell_type": "code",
   "execution_count": 38,
   "id": "ea1be266",
   "metadata": {},
   "outputs": [
    {
     "name": "stdout",
     "output_type": "stream",
     "text": [
      "8.43 ms ± 169 µs per loop (mean ± std. dev. of 7 runs, 100 loops each)\n"
     ]
    }
   ],
   "source": [
    "%timeit df.apply(lambda x: integrate_f_typed(x['a'], x['b'], x['N']), axis=1)"
   ]
  },
  {
   "cell_type": "code",
   "execution_count": 39,
   "id": "6fdb4b21",
   "metadata": {},
   "outputs": [
    {
     "name": "stdout",
     "output_type": "stream",
     "text": [
      " "
     ]
    }
   ],
   "source": [
    "%prun df.apply(lambda x: integrate_f_typed(x['a'], x['b'], x['N']), axis=1)"
   ]
  },
  {
   "cell_type": "markdown",
   "id": "b7546bf5",
   "metadata": {},
   "source": [
    "It’s calling series... a lot! It’s creating a Series from each row, and get-ting from both the index and the series (three times for each row). Function calls are expensive in python, so maybe we could minimise these by cythonizing the apply part."
   ]
  },
  {
   "cell_type": "markdown",
   "id": "a9d77565",
   "metadata": {},
   "source": [
    "## Now, also explicitly telling our code the argument type is nd.array "
   ]
  },
  {
   "cell_type": "markdown",
   "id": "d35e71e9",
   "metadata": {},
   "source": [
    "A big gain, ~ 10 faster"
   ]
  },
  {
   "cell_type": "code",
   "execution_count": 28,
   "id": "afb953bd",
   "metadata": {},
   "outputs": [],
   "source": [
    "%%cython\n",
    "cimport numpy as np\n",
    "import numpy as np\n",
    "cdef double f_typed(double x) except? -2:\n",
    "    return x * (x - 1)\n",
    "cpdef double integrate_f_typed(double a, double b, int N):\n",
    "    cdef int i\n",
    "    cdef double s, dx\n",
    "    s = 0\n",
    "    dx = (b - a) / N\n",
    "    for i in range(N):\n",
    "        s += f_typed(a + i * dx)\n",
    "    return s * dx\n",
    "cpdef np.ndarray[double] apply_integrate_f(np.ndarray col_a, np.ndarray col_b, np.ndarray col_N):\n",
    "    assert (col_a.dtype == np.float and col_b.dtype == np.float and col_N.dtype == np.int)\n",
    "    cdef Py_ssize_t i, n = len(col_N)\n",
    "    assert (len(col_a) == len(col_b) == n)\n",
    "    cdef np.ndarray[double] res = np.empty(n)\n",
    "    for i in range(len(col_a)):\n",
    "        res[i] = integrate_f_typed(col_a[i], col_b[i], col_N[i])\n",
    "    return res\n"
   ]
  },
  {
   "cell_type": "markdown",
   "id": "ce7d1d8c",
   "metadata": {},
   "source": [
    "In 0.13.0 since Series has internaly been refactored to no longer sub-class ndarray but instead subclass NDFrame, you can not pass a Series directly as a ndarray typed parameter to a cython function. Instead pass the actual ndarray using the .values attribute of the Series.\n",
    "\n",
    "Prior to 0.13.0\n",
    "\n",
    "apply_integrate_f(df['a'], df['b'], df['N'])\n",
    "Use .values to get the underlying ndarray\n",
    "\n",
    "apply_integrate_f(df['a'].values, df['b'].values, df['N'].values)"
   ]
  },
  {
   "cell_type": "code",
   "execution_count": 29,
   "id": "5bfebd38",
   "metadata": {
    "scrolled": true
   },
   "outputs": [
    {
     "name": "stderr",
     "output_type": "stream",
     "text": [
      "<magic-timeit>:1: DeprecationWarning: `np.float` is a deprecated alias for the builtin `float`. To silence this warning, use `float` by itself. Doing this will not modify any behavior and is safe. If you specifically wanted the numpy scalar type, use `np.float64` here.\n",
      "Deprecated in NumPy 1.20; for more details and guidance: https://numpy.org/devdocs/release/1.20.0-notes.html#deprecations\n",
      "<magic-timeit>:1: DeprecationWarning: `np.int` is a deprecated alias for the builtin `int`. To silence this warning, use `int` by itself. Doing this will not modify any behavior and is safe. When replacing `np.int`, you may wish to use e.g. `np.int64` or `np.int32` to specify the precision. If you wish to review your current use, check the release note link for additional information.\n",
      "Deprecated in NumPy 1.20; for more details and guidance: https://numpy.org/devdocs/release/1.20.0-notes.html#deprecations\n"
     ]
    },
    {
     "name": "stdout",
     "output_type": "stream",
     "text": [
      "660 µs ± 13.5 µs per loop (mean ± std. dev. of 7 runs, 1000 loops each)\n"
     ]
    }
   ],
   "source": [
    "%timeit apply_integrate_f(df['a'].values, df['b'].values, df['N'].values)"
   ]
  },
  {
   "cell_type": "code",
   "execution_count": 31,
   "id": "a3a73194",
   "metadata": {},
   "outputs": [
    {
     "name": "stdout",
     "output_type": "stream",
     "text": [
      " "
     ]
    },
    {
     "name": "stderr",
     "output_type": "stream",
     "text": [
      "<string>:1: DeprecationWarning: `np.float` is a deprecated alias for the builtin `float`. To silence this warning, use `float` by itself. Doing this will not modify any behavior and is safe. If you specifically wanted the numpy scalar type, use `np.float64` here.\n",
      "Deprecated in NumPy 1.20; for more details and guidance: https://numpy.org/devdocs/release/1.20.0-notes.html#deprecations\n",
      "<string>:1: DeprecationWarning: `np.int` is a deprecated alias for the builtin `int`. To silence this warning, use `int` by itself. Doing this will not modify any behavior and is safe. When replacing `np.int`, you may wish to use e.g. `np.int64` or `np.int32` to specify the precision. If you wish to review your current use, check the release note link for additional information.\n",
      "Deprecated in NumPy 1.20; for more details and guidance: https://numpy.org/devdocs/release/1.20.0-notes.html#deprecations\n"
     ]
    }
   ],
   "source": [
    "%prun apply_integrate_f(df['a'].values, df['b'].values, df['N'].values)"
   ]
  },
  {
   "cell_type": "markdown",
   "id": "71b202b5",
   "metadata": {},
   "source": [
    "## add bound checking, wraparound"
   ]
  },
  {
   "cell_type": "code",
   "execution_count": 35,
   "id": "4adf8714",
   "metadata": {},
   "outputs": [],
   "source": [
    "%%cython\n",
    "cimport cython\n",
    "cimport numpy as np\n",
    "import numpy as np\n",
    "cdef double f_typed(double x) except? -2:\n",
    "    return x * (x - 1)\n",
    "cpdef double integrate_f_typed(double a, double b, int N):\n",
    "    cdef int i\n",
    "    cdef double s, dx\n",
    "    s = 0\n",
    "    dx = (b - a) / N\n",
    "    for i in range(N):\n",
    "        s += f_typed(a + i * dx)\n",
    "    return s * dx\n",
    "\n",
    "@cython.boundscheck(False)\n",
    "@cython.wraparound(False)\n",
    "cpdef np.ndarray[double] apply_integrate_f2(np.ndarray col_a, np.ndarray col_b, np.ndarray col_N):\n",
    "    assert (col_a.dtype == np.float and col_b.dtype == np.float and col_N.dtype == np.int)\n",
    "    cdef Py_ssize_t i, n = len(col_N)\n",
    "    assert (len(col_a) == len(col_b) == n)\n",
    "    cdef np.ndarray[double] res = np.empty(n)\n",
    "    for i in range(len(col_a)):\n",
    "        res[i] = integrate_f_typed(col_a[i], col_b[i], col_N[i])\n",
    "    return res\n"
   ]
  },
  {
   "cell_type": "code",
   "execution_count": 36,
   "id": "75f9f6b3",
   "metadata": {},
   "outputs": [
    {
     "name": "stderr",
     "output_type": "stream",
     "text": [
      "<magic-timeit>:1: DeprecationWarning: `np.float` is a deprecated alias for the builtin `float`. To silence this warning, use `float` by itself. Doing this will not modify any behavior and is safe. If you specifically wanted the numpy scalar type, use `np.float64` here.\n",
      "Deprecated in NumPy 1.20; for more details and guidance: https://numpy.org/devdocs/release/1.20.0-notes.html#deprecations\n",
      "<magic-timeit>:1: DeprecationWarning: `np.int` is a deprecated alias for the builtin `int`. To silence this warning, use `int` by itself. Doing this will not modify any behavior and is safe. When replacing `np.int`, you may wish to use e.g. `np.int64` or `np.int32` to specify the precision. If you wish to review your current use, check the release note link for additional information.\n",
      "Deprecated in NumPy 1.20; for more details and guidance: https://numpy.org/devdocs/release/1.20.0-notes.html#deprecations\n"
     ]
    },
    {
     "name": "stdout",
     "output_type": "stream",
     "text": [
      "658 µs ± 17.7 µs per loop (mean ± std. dev. of 7 runs, 1000 loops each)\n"
     ]
    }
   ],
   "source": [
    "%timeit apply_integrate_f2(df['a'].values, df['b'].values, df['N'].values)"
   ]
  },
  {
   "cell_type": "code",
   "execution_count": null,
   "id": "48fb0b4e",
   "metadata": {},
   "outputs": [],
   "source": []
  }
 ],
 "metadata": {
  "kernelspec": {
   "display_name": "Python 3 (ipykernel)",
   "language": "python",
   "name": "python3"
  },
  "language_info": {
   "codemirror_mode": {
    "name": "ipython",
    "version": 3
   },
   "file_extension": ".py",
   "mimetype": "text/x-python",
   "name": "python",
   "nbconvert_exporter": "python",
   "pygments_lexer": "ipython3",
   "version": "3.9.7"
  }
 },
 "nbformat": 4,
 "nbformat_minor": 5
}
