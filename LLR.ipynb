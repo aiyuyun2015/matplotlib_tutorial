{
 "cells": [
  {
   "cell_type": "code",
   "execution_count": 12,
   "id": "7cdff5f3",
   "metadata": {},
   "outputs": [],
   "source": [
    "import numpy as np"
   ]
  },
  {
   "cell_type": "code",
   "execution_count": 14,
   "id": "c7cd8b65",
   "metadata": {},
   "outputs": [],
   "source": [
    "import matplotlib.pyplot as plt"
   ]
  },
  {
   "cell_type": "code",
   "execution_count": 16,
   "id": "598568fc",
   "metadata": {},
   "outputs": [],
   "source": [
    "np.random.seed(1) # similarily, use seed to make pseudo-random number"
   ]
  },
  {
   "cell_type": "markdown",
   "id": "62359a05",
   "metadata": {},
   "source": [
    "# RelfPerfPasDiff ~ N(-2.55e-6, 4.65e-4)"
   ]
  },
  {
   "cell_type": "code",
   "execution_count": 19,
   "id": "13cf920c",
   "metadata": {
    "scrolled": true
   },
   "outputs": [
    {
     "data": {
      "image/png": "[encoded data removed]",
      "text/plain": [
       "<Figure size 432x288 with 1 Axes>"
      ]
     },
     "metadata": {
      "needs_background": "light"
     },
     "output_type": "display_data"
    }
   ],
   "source": [
    "N = 4000000\n",
    "mu, sigma = -2.155e-6, 4.65e-4\n",
    "sginal = np.random.normal(mu, sigma, size=(N,))\n",
    "\n",
    "count, bins, ignored = plt.hist(sginal, 30, density=True)\n",
    "\n",
    "#plt.plot(bins, 1/(sigma * np.sqrt(2 * np.pi)) *\n",
    "#               np.exp( - (bins - mu)**2 / (2 * sigma**2) ),\n",
    "#         linewidth=2, color='r')\n",
    "plt.show()"
   ]
  },
  {
   "cell_type": "markdown",
   "id": "622e88dc",
   "metadata": {},
   "source": [
    "# YpYR100"
   ]
  },
  {
   "cell_type": "code",
   "execution_count": 20,
   "id": "b0407256",
   "metadata": {},
   "outputs": [],
   "source": [
    "\n",
    "N = 4000000\n",
    "mu, sigma = 0, 9.5e-4\n",
    "y = np.random.normal(mu, sigma, size=(N,))"
   ]
  },
  {
   "cell_type": "code",
   "execution_count": null,
   "id": "b32701aa",
   "metadata": {},
   "outputs": [],
   "source": []
  },
  {
   "cell_type": "code",
   "execution_count": 27,
   "id": "0ec08ef4",
   "metadata": {},
   "outputs": [],
   "source": [
    "import socket"
   ]
  },
  {
   "cell_type": "code",
   "execution_count": 28,
   "id": "3dc0405a",
   "metadata": {},
   "outputs": [
    {
     "data": {
      "text/plain": [
       "'DESKTOP-1CKV62T'"
      ]
     },
     "execution_count": 28,
     "metadata": {},
     "output_type": "execute_result"
    }
   ],
   "source": [
    "socket.gethostname()\n"
   ]
  },
  {
   "cell_type": "code",
   "execution_count": 38,
   "id": "0a3f82f6",
   "metadata": {},
   "outputs": [],
   "source": [
    "def flat2one(nested_list):\n",
    "    \n",
    "    '''\n",
    "    Convert 2d to 1d list, or flat (by recursion).\n",
    "    '''\n",
    "    # TODO: how to make this better, say, the mixed type is found?\n",
    "    #   for now, it works in consitent type cases.\n",
    "    if len(nested_list) == 0:\n",
    "        return []\n",
    "    \n",
    "    if not isinstance(nested_list[0], list):\n",
    "        return nested_list\n",
    "    \n",
    "    ans = []\n",
    "    for x in nested_list:\n",
    "        ans += flat2one(x)\n",
    "    return ans"
   ]
  },
  {
   "cell_type": "code",
   "execution_count": null,
   "id": "9c03c93d",
   "metadata": {},
   "outputs": [],
   "source": []
  },
  {
   "cell_type": "markdown",
   "id": "924e5715",
   "metadata": {},
   "source": [
    "# Autocorrelation of white"
   ]
  },
  {
   "cell_type": "code",
   "execution_count": 3,
   "id": "def180b0",
   "metadata": {},
   "outputs": [],
   "source": [
    "from statsmodels.graphics import tsaplots\n",
    "import matplotlib.pyplot as plt\n",
    "import numpy as np\n"
   ]
  },
  {
   "cell_type": "code",
   "execution_count": 4,
   "id": "3b9c275b",
   "metadata": {},
   "outputs": [
    {
     "data": {
      "image/png": "[encoded data removed]",
      "text/plain": [
       "<Figure size 432x288 with 1 Axes>"
      ]
     },
     "metadata": {
      "needs_background": "light"
     },
     "output_type": "display_data"
    }
   ],
   "source": [
    "N = 4000\n",
    "mu, sigma = -2.155e-6, 4.65e-4\n",
    "signal = np.random.normal(mu, sigma, size=(N,))\n",
    "#plot autocorrelation function\n",
    "fig = tsaplots.plot_acf(signal, lags=10)\n",
    "plt.show()\n",
    "\n",
    "#plt.plot(bins, 1/(sigma * np.sqrt(2 * np.pi)) *\n",
    "#               np.exp( - (bins - mu)**2 / (2 * sigma**2) ),\n",
    "#         linewidth=2, color='r')\n",
    "#plt.show()"
   ]
  },
  {
   "cell_type": "code",
   "execution_count": null,
   "id": "9c2b698d",
   "metadata": {},
   "outputs": [],
   "source": []
  }
 ],
 "metadata": {
  "kernelspec": {
   "display_name": "Python 3 (ipykernel)",
   "language": "python",
   "name": "python3"
  },
  "language_info": {
   "codemirror_mode": {
    "name": "ipython",
    "version": 3
   },
   "file_extension": ".py",
   "mimetype": "text/x-python",
   "name": "python",
   "nbconvert_exporter": "python",
   "pygments_lexer": "ipython3",
   "version": "3.9.7"
  },
  "toc": {
   "base_numbering": 1,
   "nav_menu": {},
   "number_sections": true,
   "sideBar": true,
   "skip_h1_title": false,
   "title_cell": "Table of Contents",
   "title_sidebar": "Contents",
   "toc_cell": false,
   "toc_position": {},
   "toc_section_display": true,
   "toc_window_display": false
  }
 },
 "nbformat": 4,
 "nbformat_minor": 5
}
