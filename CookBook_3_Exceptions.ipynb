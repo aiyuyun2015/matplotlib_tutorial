{
 "cells": [
  {
   "cell_type": "markdown",
   "id": "hispanic-meaning",
   "metadata": {
    "toc": "true"
   },
   "source": [
    "<h1>Table of Contents<span class=\"tocSkip\"></span></h1>\n",
    "<div class=\"toc\"><ul class=\"toc-item\"><li><span><a href=\"#Exceptions\" data-toc-modified-id=\"Exceptions-1\"><span class=\"toc-item-num\">1&nbsp;&nbsp;</span>Exceptions</a></span><ul class=\"toc-item\"><li><span><a href=\"#Exception-knowledges\" data-toc-modified-id=\"Exception-knowledges-1.1\"><span class=\"toc-item-num\">1.1&nbsp;&nbsp;</span>Exception knowledges</a></span><ul class=\"toc-item\"><li><span><a href=\"#syntax\" data-toc-modified-id=\"syntax-1.1.1\"><span class=\"toc-item-num\">1.1.1&nbsp;&nbsp;</span>syntax</a></span></li><li><span><a href=\"#Exception-handlers\" data-toc-modified-id=\"Exception-handlers-1.1.2\"><span class=\"toc-item-num\">1.1.2&nbsp;&nbsp;</span>Exception handlers</a></span></li><li><span><a href=\"#except-is-checked-in-sequence\" data-toc-modified-id=\"except-is-checked-in-sequence-1.1.3\"><span class=\"toc-item-num\">1.1.3&nbsp;&nbsp;</span>except is checked in sequence</a></span></li><li><span><a href=\"#Catch-general-error-and-use-if-condition\" data-toc-modified-id=\"Catch-general-error-and-use-if-condition-1.1.4\"><span class=\"toc-item-num\">1.1.4&nbsp;&nbsp;</span>Catch general error and use if-condition</a></span></li><li><span><a href=\"#Catch-all-exceptions\" data-toc-modified-id=\"Catch-all-exceptions-1.1.5\"><span class=\"toc-item-num\">1.1.5&nbsp;&nbsp;</span>Catch all exceptions</a></span></li><li><span><a href=\"#Custom-exceptions\" data-toc-modified-id=\"Custom-exceptions-1.1.6\"><span class=\"toc-item-num\">1.1.6&nbsp;&nbsp;</span>Custom exceptions</a></span></li><li><span><a href=\"#Raise-from\" data-toc-modified-id=\"Raise-from-1.1.7\"><span class=\"toc-item-num\">1.1.7&nbsp;&nbsp;</span>Raise from</a></span><ul class=\"toc-item\"><li><span><a href=\"#If-we-don't-want-too-all-info\" data-toc-modified-id=\"If-we-don't-want-too-all-info-1.1.7.1\"><span class=\"toc-item-num\">1.1.7.1&nbsp;&nbsp;</span>If we don't want too all info</a></span></li><li><span><a href=\"#If-we-want-to-repeat-the-cause\" data-toc-modified-id=\"If-we-want-to-repeat-the-cause-1.1.7.2\"><span class=\"toc-item-num\">1.1.7.2&nbsp;&nbsp;</span>If we want to repeat the cause</a></span></li></ul></li></ul></li></ul></li></ul></div>"
   ]
  },
  {
   "cell_type": "markdown",
   "id": "genetic-recall",
   "metadata": {},
   "source": [
    "# Exceptions"
   ]
  },
  {
   "cell_type": "markdown",
   "id": "abandoned-looking",
   "metadata": {},
   "source": [
    "## Exception knowledges"
   ]
  },
  {
   "cell_type": "markdown",
   "id": "geographic-parks",
   "metadata": {},
   "source": [
    "Ref: \n",
    "- https://stackoverflow.com/a/16138864/2882148\n",
    "- https://pythonarray.com/why-try-except-error-handling-is-useful-in-python/\n",
    "\n",
    "Why exception handlers?\n",
    "- Python uses the norm (of using try except control flow\", while there are other languages that do not),  and it's common to see try-except.\n",
    "- Python, as an interpreter language, doesn't have automatic **loop invariant motion**(namely, moving code out of the loop to improve performance), and reqruies try-except to help move the error handler outside of the loop\n",
    "- \"look-before-you-leap\" to prevent **race-condition**. In some cases, we have to do it, e.g., multithread, and mkdir, though you may try to use os.path.exist to avoid, the condition might have been out of date when you mkdir. Thus, we use try-except for a safe mkdir.\n",
    "- If-condition is usually used for business logic, while try-except is error handling\n",
    "\n",
    "\n",
    "In the Python world, using exceptions for flow control is common and normal.\n",
    "\n",
    "Even the Python core developers use exceptions for flow-control and that style is heavily baked into the language \n",
    "\n",
    "\n",
    "\n"
   ]
  },
  {
   "cell_type": "markdown",
   "id": "electrical-assault",
   "metadata": {},
   "source": [
    "   \n",
    "**Criticism: some people think it's only interesting in writing framework.**\n",
    "\n",
    "For people who write frameworks, perhaps it's interesting.You should be circumspect about breaking the ordinary top-to-bottom sequential processing of your program. The exception handling is -- intentionally -- hard to read. Therefore, reserve exceptions for things that are outside the standard scenarios.\n",
    "\n",
    "Example: Don't use exceptions to validate user input. People make input mistakes all the time. That's not exceptional, that's why we write software. That's what if-statements are for.\n",
    "\n",
    "When your application gets an OutOfMemory exception, there's no point in catching it. That's exceptional. The \"sequential execution\" assumption is out the window. Your application is doomed, just crash and hope that your RDBMS transaction finishes before you crash. "
   ]
  },
  {
   "cell_type": "markdown",
   "id": "advised-yemen",
   "metadata": {},
   "source": [
    "### syntax\n",
    "\n",
    "The idea of the try-except block is this:\n",
    "\n",
    "- try: the code with the exception(s) to catch. If an exception is raised, it jumps straight into the except block.\n",
    "\n",
    "- except: this code is only executed if an exception occured in the try block. The except block is required with a try block, even if it contains only the pass statement. \n",
    "\n",
    "It may be combined with the else and finally keywords.\n",
    "\n",
    "- else: Code in the else block is only executed if no exceptions were raised in the try block.\n",
    "\n",
    "- finally: The code in the finally block is always executed, regardless of if a an exception was raised or not.\n",
    "\n",
    "\n",
    "Exceptions are raised when an error occurs. But in Python you can also force an exception to occur with the keyword raise."
   ]
  },
  {
   "cell_type": "markdown",
   "id": "internal-thesaurus",
   "metadata": {},
   "source": [
    "else in try-except syntax is not very ofthen seen, some people even think we shoudl avoid it. However, in some cases, we do need it. e.g., see below"
   ]
  },
  {
   "cell_type": "code",
   "execution_count": null,
   "id": "collaborative-midnight",
   "metadata": {},
   "outputs": [],
   "source": [
    "# try:\n",
    "#     try_this(whatever)\n",
    "# except SomeException as the_exception:\n",
    "#     handle(the_exception)\n",
    "# else:\n",
    "#     return something"
   ]
  },
  {
   "cell_type": "markdown",
   "id": "smaller-masters",
   "metadata": {},
   "source": [
    "Without the \"else\" syntax, we have to check"
   ]
  },
  {
   "cell_type": "code",
   "execution_count": null,
   "id": "optional-developer",
   "metadata": {},
   "outputs": [],
   "source": [
    "# no_error = None\n",
    "# try:\n",
    "#     try_this(whatever)\n",
    "#     no_error = True\n",
    "# except SomeException as the_exception:\n",
    "#     handle(the_exception)\n",
    "# if no_error:\n",
    "#     return something"
   ]
  },
  {
   "cell_type": "code",
   "execution_count": null,
   "id": "ideal-replication",
   "metadata": {},
   "outputs": [],
   "source": []
  },
  {
   "cell_type": "markdown",
   "id": "indie-liability",
   "metadata": {},
   "source": [
    "### Exception handlers"
   ]
  },
  {
   "cell_type": "code",
   "execution_count": null,
   "id": "national-investigator",
   "metadata": {},
   "outputs": [],
   "source": [
    "# handle multiple errors\n",
    "try: \n",
    "    pass\n",
    "except (URLError, ValueError): \n",
    "    pass\n",
    "except SocketTimeout: \n",
    "    pass\n",
    "\n",
    "# alternatively, if two errors inherits from the same base, you could do\n",
    "try:\n",
    "    pass\n",
    "except OSError: \n",
    "    pass\n",
    "# instead of except (FileNotFoundError, PermissionError):\n"
   ]
  },
  {
   "cell_type": "markdown",
   "id": "sapphire-germany",
   "metadata": {},
   "source": [
    "### except is checked in sequence"
   ]
  },
  {
   "cell_type": "code",
   "execution_count": null,
   "id": "changed-seeker",
   "metadata": {},
   "outputs": [],
   "source": [
    "# suppose we have a try-except block like below, the FileNotFoundError will \n",
    "# never be reached, why? Since OSError is more general, and FileNotFoundError \n",
    "# inherits from it\n",
    "try:\n",
    "    f = open('missing')\n",
    "except OSError:\n",
    "    print('It failed')\n",
    "except FileNotFoundError:\n",
    "    print('File not found')"
   ]
  },
  {
   "cell_type": "code",
   "execution_count": null,
   "id": "purple-confidence",
   "metadata": {},
   "outputs": [],
   "source": [
    "# use __mro__ to check it's hierarchy\n",
    "FileNotFoundError.__mro__"
   ]
  },
  {
   "cell_type": "code",
   "execution_count": null,
   "id": "quantitative-jumping",
   "metadata": {},
   "outputs": [],
   "source": [
    "FileExistsError.__base__"
   ]
  },
  {
   "cell_type": "markdown",
   "id": "painful-psychiatry",
   "metadata": {},
   "source": [
    "### Catch general error and use if-condition"
   ]
  },
  {
   "cell_type": "code",
   "execution_count": null,
   "id": "operating-queensland",
   "metadata": {},
   "outputs": [],
   "source": [
    "import errno\n",
    "import logging\n",
    "try:\n",
    "    f = open('filename')\n",
    "except OSError as e:\n",
    "    if e.errno == errno.ENOENT:\n",
    "        logging.error('File not found') \n",
    "    elif e.errno == errno.EACCES:\n",
    "        logging.error('Permission denied')\n",
    "    else:\n",
    "        logging.error('Unexpected error: %d', e.errno)      "
   ]
  },
  {
   "cell_type": "markdown",
   "id": "precise-library",
   "metadata": {},
   "source": [
    "### Catch all exceptions"
   ]
  },
  {
   "cell_type": "code",
   "execution_count": null,
   "id": "hydraulic-cradle",
   "metadata": {},
   "outputs": [],
   "source": [
    "# if you want to catch all exceptions, remembrer to print out them!\n",
    "\n",
    "try: \n",
    "    pass\n",
    "except Exception as e: \n",
    "    log('Reason:', e) # important!! otherwiese you don't know what's going on"
   ]
  },
  {
   "cell_type": "markdown",
   "id": "requested-forge",
   "metadata": {},
   "source": [
    "### Custom exceptions"
   ]
  },
  {
   "cell_type": "markdown",
   "id": "broken-baker",
   "metadata": {},
   "source": [
    "- Inherite from **built-in** exception class\n",
    "- Dont inherite from base class __BaseException__, which is reserved for system-exiting exceptions such as __KeyboardInterrupt__ or __SystemExit__."
   ]
  },
  {
   "cell_type": "markdown",
   "id": "ranking-promotion",
   "metadata": {},
   "source": [
    "### Raise from"
   ]
  },
  {
   "cell_type": "markdown",
   "id": "better-storage",
   "metadata": {},
   "source": [
    "前置知识：\n",
    "\n",
    "- **\\_\\_cause\\_\\_** is the cause of the exception - due to the given exception, the current exception was raised. This is a direct link - X threw this exception, therefore Y has to throw this exception.\n",
    "\n",
    "- **\\_\\_context\\_\\_** on the other hand means that the current exception was raised while trying to handle another exception, and defines the exception that was being handled at the time this one was raised. This is so that you don't lose the fact that the other exceptions happened (and hence were at this code to throw the exception) - the context. X threw this exception, while handling it, Y was also thrown.\n",
    "\n",
    "- **\\_\\_traceback\\_\\_** shows you the stack - the various levels of functions that have been followed to get to the current line of code. This allows you to pinpoint what caused the exception. It is likely to be used (potentially in tandem with \\_\\_context\\_\\_) to find what caused a given bug."
   ]
  },
  {
   "cell_type": "markdown",
   "id": "operational-holocaust",
   "metadata": {},
   "source": [
    "如果，我们想要在一个异常抛出时，增加一个异常，则最好用 \"from e\", 这样的好处在于，我们在掉这个函数的时候，我们可以通过\\_\\_case\\_\\_来查找异常的起源,\n",
    "如果没有用 from e, 则没有这个功能, 但是\\_\\_context\\_\\_还是有的。它表示，我们在跑某个try, 然后发现了错误"
   ]
  },
  {
   "cell_type": "code",
   "execution_count": null,
   "id": "aggregate-index",
   "metadata": {},
   "outputs": [],
   "source": [
    "def example():\n",
    "    try:\n",
    "        int('N/A')\n",
    "    except ValueError as e:\n",
    "        raise RuntimeError(\"ll\") from e\n",
    "#example()"
   ]
  },
  {
   "cell_type": "code",
   "execution_count": null,
   "id": "biblical-linux",
   "metadata": {},
   "outputs": [],
   "source": [
    "\n",
    "try:\n",
    "    example()\n",
    "except RuntimeError as e:\n",
    "    print(\"what?\", e)\n",
    "    if e.__cause__:\n",
    "        print(\"cause:\", e.__cause__)\n",
    "        # will supress the underlying error\n"
   ]
  },
  {
   "cell_type": "markdown",
   "id": "clinical-moldova",
   "metadata": {},
   "source": [
    "#### If we don't want too all info"
   ]
  },
  {
   "cell_type": "code",
   "execution_count": null,
   "id": "architectural-tracy",
   "metadata": {},
   "outputs": [],
   "source": [
    "def example():\n",
    "    try:\n",
    "        int('N/A')\n",
    "    except ValueError as e:\n",
    "        raise RuntimeError(\"ll\") from None # will supress the underlying error\n",
    "example()"
   ]
  },
  {
   "cell_type": "markdown",
   "id": "protective-moral",
   "metadata": {},
   "source": [
    "#### If we want to repeat the cause"
   ]
  },
  {
   "cell_type": "code",
   "execution_count": null,
   "id": "perfect-computer",
   "metadata": {},
   "outputs": [],
   "source": [
    "try: \n",
    "    pass\n",
    "except Exception as e:\n",
    "    # Process exception information in some way ...\n",
    "    \n",
    "    # Propagate the exception\n",
    "    raise # simply raise it again"
   ]
  },
  {
   "cell_type": "code",
   "execution_count": null,
   "id": "meaningful-electric",
   "metadata": {},
   "outputs": [],
   "source": []
  },
  {
   "cell_type": "code",
   "execution_count": null,
   "id": "adjustable-shannon",
   "metadata": {},
   "outputs": [],
   "source": []
  },
  {
   "cell_type": "code",
   "execution_count": null,
   "id": "closing-adams",
   "metadata": {},
   "outputs": [],
   "source": []
  },
  {
   "cell_type": "code",
   "execution_count": null,
   "id": "classified-berlin",
   "metadata": {},
   "outputs": [],
   "source": []
  },
  {
   "cell_type": "code",
   "execution_count": null,
   "id": "valued-interference",
   "metadata": {},
   "outputs": [],
   "source": []
  },
  {
   "cell_type": "code",
   "execution_count": null,
   "id": "false-terminology",
   "metadata": {},
   "outputs": [],
   "source": []
  },
  {
   "cell_type": "code",
   "execution_count": null,
   "id": "worldwide-aurora",
   "metadata": {},
   "outputs": [],
   "source": []
  }
 ],
 "metadata": {
  "kernelspec": {
   "display_name": "Python 3 (ipykernel)",
   "language": "python",
   "name": "python3"
  },
  "language_info": {
   "codemirror_mode": {
    "name": "ipython",
    "version": 3
   },
   "file_extension": ".py",
   "mimetype": "text/x-python",
   "name": "python",
   "nbconvert_exporter": "python",
   "pygments_lexer": "ipython3",
   "version": "3.9.7"
  },
  "toc": {
   "base_numbering": 1,
   "nav_menu": {
    "height": "511.989px",
    "width": "251.989px"
   },
   "number_sections": true,
   "sideBar": true,
   "skip_h1_title": false,
   "title_cell": "Table of Contents",
   "title_sidebar": "Contents",
   "toc_cell": true,
   "toc_position": {
    "height": "calc(100% - 180px)",
    "left": "10px",
    "top": "150px",
    "width": "384px"
   },
   "toc_section_display": "block",
   "toc_window_display": true
  }
 },
 "nbformat": 4,
 "nbformat_minor": 5
}
