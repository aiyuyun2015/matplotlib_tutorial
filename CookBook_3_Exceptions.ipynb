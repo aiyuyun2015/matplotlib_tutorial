{
 "cells": [
  {
   "cell_type": "markdown",
   "id": "hispanic-meaning",
   "metadata": {
    "toc": "true"
   },
   "source": [
    "<h1>Table of Contents<span class=\"tocSkip\"></span></h1>\n",
    "<div class=\"toc\"><ul class=\"toc-item\"><li><span><a href=\"#Dictionary\" data-toc-modified-id=\"Dictionary-1\"><span class=\"toc-item-num\">1&nbsp;&nbsp;</span>Dictionary</a></span><ul class=\"toc-item\"><li><span><a href=\"#Dict-Max,-Min\" data-toc-modified-id=\"Dict-Max,-Min-1.1\"><span class=\"toc-item-num\">1.1&nbsp;&nbsp;</span>Dict Max, Min</a></span><ul class=\"toc-item\"><li><span><a href=\"#Max/Min-is-based-on-keys-not-values\" data-toc-modified-id=\"Max/Min-is-based-on-keys-not-values-1.1.1\"><span class=\"toc-item-num\">1.1.1&nbsp;&nbsp;</span>Max/Min is based on keys not values</a></span></li><li><span><a href=\"#Another-way-is-to-use-max/min(iterables,-func)\" data-toc-modified-id=\"Another-way-is-to-use-max/min(iterables,-func)-1.1.2\"><span class=\"toc-item-num\">1.1.2&nbsp;&nbsp;</span>Another way is to use max/min(iterables, func)</a></span></li><li><span><a href=\"#It-gest-messy-if-you-want-val\" data-toc-modified-id=\"It-gest-messy-if-you-want-val-1.1.3\"><span class=\"toc-item-num\">1.1.3&nbsp;&nbsp;</span>It gest messy if you want val</a></span></li><li><span><a href=\"#Best-Solution-to-find-min-and-max-is-to-zip-reveresed-(val,-key)-tuple\" data-toc-modified-id=\"Best-Solution-to-find-min-and-max-is-to-zip-reveresed-(val,-key)-tuple-1.1.4\"><span class=\"toc-item-num\">1.1.4&nbsp;&nbsp;</span>Best Solution to find min and max is to zip reveresed (val, key) tuple</a></span></li><li><span><a href=\"#One-thing-interesting-is-&quot;Key&quot;-will-be-used-when-&quot;Values&quot;-are-duplicated\" data-toc-modified-id=\"One-thing-interesting-is-&quot;Key&quot;-will-be-used-when-&quot;Values&quot;-are-duplicated-1.1.5\"><span class=\"toc-item-num\">1.1.5&nbsp;&nbsp;</span>One thing interesting is \"Key\" will be used when \"Values\" are duplicated</a></span></li><li><span><a href=\"#Example-3-Zip-is-called-only-once\" data-toc-modified-id=\"Example-3-Zip-is-called-only-once-1.1.6\"><span class=\"toc-item-num\">1.1.6&nbsp;&nbsp;</span>Example-3 Zip is called only once</a></span></li></ul></li><li><span><a href=\"#Dict-common\" data-toc-modified-id=\"Dict-common-1.2\"><span class=\"toc-item-num\">1.2&nbsp;&nbsp;</span>Dict common</a></span><ul class=\"toc-item\"><li><span><a href=\"#Easiest-way-to-find-common\" data-toc-modified-id=\"Easiest-way-to-find-common-1.2.1\"><span class=\"toc-item-num\">1.2.1&nbsp;&nbsp;</span>Easiest way to find common</a></span></li></ul></li></ul></li><li><span><a href=\"#Hashable\" data-toc-modified-id=\"Hashable-2\"><span class=\"toc-item-num\">2&nbsp;&nbsp;</span>Hashable</a></span><ul class=\"toc-item\"><li><span><a href=\"#Basic-hashable-knowledge\" data-toc-modified-id=\"Basic-hashable-knowledge-2.1\"><span class=\"toc-item-num\">2.1&nbsp;&nbsp;</span>Basic hashable knowledge</a></span><ul class=\"toc-item\"><li><span><a href=\"#Here,-we-define-the-hash-function,-(default-way-of-hashing-from-id-in-Python)\" data-toc-modified-id=\"Here,-we-define-the-hash-function,-(default-way-of-hashing-from-id-in-Python)-2.1.1\"><span class=\"toc-item-num\">2.1.1&nbsp;&nbsp;</span>Here, we define the hash function, (default way of hashing from id in Python)</a></span></li><li><span><a href=\"#But-built-in-type..-No\" data-toc-modified-id=\"But-built-in-type..-No-2.1.2\"><span class=\"toc-item-num\">2.1.2&nbsp;&nbsp;</span>But built-in type.. No</a></span></li><li><span><a href=\"#In-fact,-the-default-hash-val-is-from-id,-with-some-calculations\" data-toc-modified-id=\"In-fact,-the-default-hash-val-is-from-id,-with-some-calculations-2.1.3\"><span class=\"toc-item-num\">2.1.3&nbsp;&nbsp;</span>In fact, the default hash val is from id, with some calculations</a></span></li><li><span><a href=\"#Of-course,-you-can-re-define-hash,-but-do-it-correctly!\" data-toc-modified-id=\"Of-course,-you-can-re-define-hash,-but-do-it-correctly!-2.1.4\"><span class=\"toc-item-num\">2.1.4&nbsp;&nbsp;</span>Of course, you can re-define hash, but do it correctly!</a></span></li></ul></li><li><span><a href=\"#Cookbook-it!-If-we-want-to-make-a-new-dict,-based-on-old-dict-but-without-some-keys\" data-toc-modified-id=\"Cookbook-it!-If-we-want-to-make-a-new-dict,-based-on-old-dict-but-without-some-keys-2.2\"><span class=\"toc-item-num\">2.2&nbsp;&nbsp;</span>Cookbook it! If we want to make a new dict, based on old dict but without some keys</a></span></li><li><span><a href=\"#What-if-we-want-to-remove-duplicates-from-sequence\" data-toc-modified-id=\"What-if-we-want-to-remove-duplicates-from-sequence-2.3\"><span class=\"toc-item-num\">2.3&nbsp;&nbsp;</span>What if we want to remove duplicates from sequence</a></span><ul class=\"toc-item\"><li><span><a href=\"#Naming-a-slice-(cookbook-1.11)\" data-toc-modified-id=\"Naming-a-slice-(cookbook-1.11)-2.3.1\"><span class=\"toc-item-num\">2.3.1&nbsp;&nbsp;</span>Naming a slice (cookbook 1.11)</a></span></li><li><span><a href=\"#Use-counter\" data-toc-modified-id=\"Use-counter-2.3.2\"><span class=\"toc-item-num\">2.3.2&nbsp;&nbsp;</span>Use counter</a></span></li><li><span><a href=\"#Itemgetter-for-lookup\" data-toc-modified-id=\"Itemgetter-for-lookup-2.3.3\"><span class=\"toc-item-num\">2.3.3&nbsp;&nbsp;</span>Itemgetter for lookup</a></span></li><li><span><a href=\"#attrgetter\" data-toc-modified-id=\"attrgetter-2.3.4\"><span class=\"toc-item-num\">2.3.4&nbsp;&nbsp;</span>attrgetter</a></span></li><li><span><a href=\"#Dict,-List,-Tuple-comprehension\" data-toc-modified-id=\"Dict,-List,-Tuple-comprehension-2.3.5\"><span class=\"toc-item-num\">2.3.5&nbsp;&nbsp;</span>Dict, List, Tuple comprehension</a></span></li></ul></li></ul></li><li><span><a href=\"#Testing,-Debugging,-and-Extension\" data-toc-modified-id=\"Testing,-Debugging,-and-Extension-3\"><span class=\"toc-item-num\">3&nbsp;&nbsp;</span>Testing, Debugging, and Extension</a></span><ul class=\"toc-item\"><li><span><a href=\"#Context-Manager-Knowledge\" data-toc-modified-id=\"Context-Manager-Knowledge-3.1\"><span class=\"toc-item-num\">3.1&nbsp;&nbsp;</span>Context Manager Knowledge</a></span><ul class=\"toc-item\"><li><span><a href=\"#A-real-example\" data-toc-modified-id=\"A-real-example-3.1.1\"><span class=\"toc-item-num\">3.1.1&nbsp;&nbsp;</span>A real example</a></span></li><li><span><a href=\"#Use-@contextmanager\" data-toc-modified-id=\"Use-@contextmanager-3.1.2\"><span class=\"toc-item-num\">3.1.2&nbsp;&nbsp;</span>Use @contextmanager</a></span></li></ul></li></ul></li><li><span><a href=\"#Exceptions\" data-toc-modified-id=\"Exceptions-4\"><span class=\"toc-item-num\">4&nbsp;&nbsp;</span>Exceptions</a></span><ul class=\"toc-item\"><li><span><a href=\"#Exception-knowledges\" data-toc-modified-id=\"Exception-knowledges-4.1\"><span class=\"toc-item-num\">4.1&nbsp;&nbsp;</span>Exception knowledges</a></span><ul class=\"toc-item\"><li><span><a href=\"#syntax\" data-toc-modified-id=\"syntax-4.1.1\"><span class=\"toc-item-num\">4.1.1&nbsp;&nbsp;</span>syntax</a></span></li><li><span><a href=\"#Exception-handlers\" data-toc-modified-id=\"Exception-handlers-4.1.2\"><span class=\"toc-item-num\">4.1.2&nbsp;&nbsp;</span>Exception handlers</a></span></li><li><span><a href=\"#except-is-checked-in-sequence\" data-toc-modified-id=\"except-is-checked-in-sequence-4.1.3\"><span class=\"toc-item-num\">4.1.3&nbsp;&nbsp;</span>except is checked in sequence</a></span></li><li><span><a href=\"#Catch-general-error-and-use-if-condition\" data-toc-modified-id=\"Catch-general-error-and-use-if-condition-4.1.4\"><span class=\"toc-item-num\">4.1.4&nbsp;&nbsp;</span>Catch general error and use if-condition</a></span></li><li><span><a href=\"#Catch-all-exceptions\" data-toc-modified-id=\"Catch-all-exceptions-4.1.5\"><span class=\"toc-item-num\">4.1.5&nbsp;&nbsp;</span>Catch all exceptions</a></span></li><li><span><a href=\"#Custom-exceptions\" data-toc-modified-id=\"Custom-exceptions-4.1.6\"><span class=\"toc-item-num\">4.1.6&nbsp;&nbsp;</span>Custom exceptions</a></span></li><li><span><a href=\"#Raise-from\" data-toc-modified-id=\"Raise-from-4.1.7\"><span class=\"toc-item-num\">4.1.7&nbsp;&nbsp;</span>Raise from</a></span><ul class=\"toc-item\"><li><span><a href=\"#If-we-don't-want-too-all-info\" data-toc-modified-id=\"If-we-don't-want-too-all-info-4.1.7.1\"><span class=\"toc-item-num\">4.1.7.1&nbsp;&nbsp;</span>If we don't want too all info</a></span></li><li><span><a href=\"#If-we-want-to-repeat-the-cause\" data-toc-modified-id=\"If-we-want-to-repeat-the-cause-4.1.7.2\"><span class=\"toc-item-num\">4.1.7.2&nbsp;&nbsp;</span>If we want to repeat the cause</a></span></li></ul></li></ul></li><li><span><a href=\"#Profiling-and-Timing-(Cookbook-14.13)\" data-toc-modified-id=\"Profiling-and-Timing-(Cookbook-14.13)-4.2\"><span class=\"toc-item-num\">4.2&nbsp;&nbsp;</span>Profiling and Timing (Cookbook 14.13)</a></span><ul class=\"toc-item\"><li><span><a href=\"#Test-a-function-running-time\" data-toc-modified-id=\"Test-a-function-running-time-4.2.1\"><span class=\"toc-item-num\">4.2.1&nbsp;&nbsp;</span>Test a function running time</a></span></li><li><span><a href=\"#Test-a-block-of-code\" data-toc-modified-id=\"Test-a-block-of-code-4.2.2\"><span class=\"toc-item-num\">4.2.2&nbsp;&nbsp;</span>Test a block of code</a></span></li><li><span><a href=\"#Use-Timeit-but-as-function\" data-toc-modified-id=\"Use-Timeit-but-as-function-4.2.3\"><span class=\"toc-item-num\">4.2.3&nbsp;&nbsp;</span>Use Timeit but as function</a></span></li><li><span><a href=\"#Machine-time-vs-process-time-measurement\" data-toc-modified-id=\"Machine-time-vs-process-time-measurement-4.2.4\"><span class=\"toc-item-num\">4.2.4&nbsp;&nbsp;</span>Machine time vs process time measurement</a></span></li></ul></li></ul></li></ul></div>"
   ]
  },
  {
   "cell_type": "markdown",
   "id": "genetic-recall",
   "metadata": {},
   "source": [
    "# Exceptions"
   ]
  },
  {
   "cell_type": "markdown",
   "id": "abandoned-looking",
   "metadata": {},
   "source": [
    "## Exception knowledges"
   ]
  },
  {
   "cell_type": "markdown",
   "id": "geographic-parks",
   "metadata": {},
   "source": [
    "Ref: \n",
    "- https://stackoverflow.com/a/16138864/2882148\n",
    "- https://pythonarray.com/why-try-except-error-handling-is-useful-in-python/\n",
    "\n",
    "Why exception handlers?\n",
    "- Python uses the norm (of using try except control flow\", while there are other languages that do not),  and it's common to see try-except.\n",
    "- Python, as an interpreter language, doesn't have automatic **loop invariant motion**(namely, moving code out of the loop to improve performance), and reqruies try-except to help move the error handler outside of the loop\n",
    "- \"look-before-you-leap\" to prevent **race-condition**. In some cases, we have to do it, e.g., multithread, and mkdir, though you may try to use os.path.exist to avoid, the condition might have been out of date when you mkdir. Thus, we use try-except for a safe mkdir.\n",
    "- If-condition is usually used for business logic, while try-except is error handling\n",
    "\n",
    "\n",
    "In the Python world, using exceptions for flow control is common and normal.\n",
    "\n",
    "Even the Python core developers use exceptions for flow-control and that style is heavily baked into the language \n",
    "\n",
    "\n",
    "\n"
   ]
  },
  {
   "cell_type": "markdown",
   "id": "electrical-assault",
   "metadata": {},
   "source": [
    "   \n",
    "**Criticism: some people think it's only interesting in writing framework.**\n",
    "\n",
    "For people who write frameworks, perhaps it's interesting.You should be circumspect about breaking the ordinary top-to-bottom sequential processing of your program. The exception handling is -- intentionally -- hard to read. Therefore, reserve exceptions for things that are outside the standard scenarios.\n",
    "\n",
    "Example: Don't use exceptions to validate user input. People make input mistakes all the time. That's not exceptional, that's why we write software. That's what if-statements are for.\n",
    "\n",
    "When your application gets an OutOfMemory exception, there's no point in catching it. That's exceptional. The \"sequential execution\" assumption is out the window. Your application is doomed, just crash and hope that your RDBMS transaction finishes before you crash. "
   ]
  },
  {
   "cell_type": "markdown",
   "id": "advised-yemen",
   "metadata": {},
   "source": [
    "### syntax\n",
    "\n",
    "The idea of the try-except block is this:\n",
    "\n",
    "- try: the code with the exception(s) to catch. If an exception is raised, it jumps straight into the except block.\n",
    "\n",
    "- except: this code is only executed if an exception occured in the try block. The except block is required with a try block, even if it contains only the pass statement. \n",
    "\n",
    "It may be combined with the else and finally keywords.\n",
    "\n",
    "- else: Code in the else block is only executed if no exceptions were raised in the try block.\n",
    "\n",
    "- finally: The code in the finally block is always executed, regardless of if a an exception was raised or not.\n",
    "\n",
    "\n",
    "Exceptions are raised when an error occurs. But in Python you can also force an exception to occur with the keyword raise."
   ]
  },
  {
   "cell_type": "markdown",
   "id": "internal-thesaurus",
   "metadata": {},
   "source": [
    "else in try-except syntax is not very ofthen seen, some people even think we shoudl avoid it. However, in some cases, we do need it. e.g., see below"
   ]
  },
  {
   "cell_type": "code",
   "execution_count": null,
   "id": "collaborative-midnight",
   "metadata": {},
   "outputs": [],
   "source": [
    "# try:\n",
    "#     try_this(whatever)\n",
    "# except SomeException as the_exception:\n",
    "#     handle(the_exception)\n",
    "# else:\n",
    "#     return something"
   ]
  },
  {
   "cell_type": "markdown",
   "id": "smaller-masters",
   "metadata": {},
   "source": [
    "Without the \"else\" syntax, we have to check"
   ]
  },
  {
   "cell_type": "code",
   "execution_count": null,
   "id": "optional-developer",
   "metadata": {},
   "outputs": [],
   "source": [
    "# no_error = None\n",
    "# try:\n",
    "#     try_this(whatever)\n",
    "#     no_error = True\n",
    "# except SomeException as the_exception:\n",
    "#     handle(the_exception)\n",
    "# if no_error:\n",
    "#     return something"
   ]
  },
  {
   "cell_type": "code",
   "execution_count": null,
   "id": "ideal-replication",
   "metadata": {},
   "outputs": [],
   "source": []
  },
  {
   "cell_type": "markdown",
   "id": "indie-liability",
   "metadata": {},
   "source": [
    "### Exception handlers"
   ]
  },
  {
   "cell_type": "code",
   "execution_count": null,
   "id": "national-investigator",
   "metadata": {},
   "outputs": [],
   "source": [
    "# handle multiple errors\n",
    "try: \n",
    "    pass\n",
    "except (URLError, ValueError): \n",
    "    pass\n",
    "except SocketTimeout: \n",
    "    pass\n",
    "\n",
    "# alternatively, if two errors inherits from the same base, you could do\n",
    "try:\n",
    "    pass\n",
    "except OSError: \n",
    "    pass\n",
    "# instead of except (FileNotFoundError, PermissionError):\n"
   ]
  },
  {
   "cell_type": "markdown",
   "id": "sapphire-germany",
   "metadata": {},
   "source": [
    "### except is checked in sequence"
   ]
  },
  {
   "cell_type": "code",
   "execution_count": null,
   "id": "changed-seeker",
   "metadata": {},
   "outputs": [],
   "source": [
    "# suppose we have a try-except block like below, the FileNotFoundError will \n",
    "# never be reached, why? Since OSError is more general, and FileNotFoundError \n",
    "# inherits from it\n",
    "try:\n",
    "    f = open('missing')\n",
    "except OSError:\n",
    "    print('It failed')\n",
    "except FileNotFoundError:\n",
    "    print('File not found')"
   ]
  },
  {
   "cell_type": "code",
   "execution_count": null,
   "id": "purple-confidence",
   "metadata": {},
   "outputs": [],
   "source": [
    "# use __mro__ to check it's hierarchy\n",
    "FileNotFoundError.__mro__"
   ]
  },
  {
   "cell_type": "code",
   "execution_count": null,
   "id": "quantitative-jumping",
   "metadata": {},
   "outputs": [],
   "source": [
    "FileExistsError.__base__"
   ]
  },
  {
   "cell_type": "markdown",
   "id": "painful-psychiatry",
   "metadata": {},
   "source": [
    "### Catch general error and use if-condition"
   ]
  },
  {
   "cell_type": "code",
   "execution_count": null,
   "id": "operating-queensland",
   "metadata": {},
   "outputs": [],
   "source": [
    "import errno\n",
    "import logging\n",
    "try:\n",
    "    f = open('filename')\n",
    "except OSError as e:\n",
    "    if e.errno == errno.ENOENT:\n",
    "        logging.error('File not found') \n",
    "    elif e.errno == errno.EACCES:\n",
    "        logging.error('Permission denied')\n",
    "    else:\n",
    "        logging.error('Unexpected error: %d', e.errno)      "
   ]
  },
  {
   "cell_type": "markdown",
   "id": "precise-library",
   "metadata": {},
   "source": [
    "### Catch all exceptions"
   ]
  },
  {
   "cell_type": "code",
   "execution_count": null,
   "id": "hydraulic-cradle",
   "metadata": {},
   "outputs": [],
   "source": [
    "# if you want to catch all exceptions, remembrer to print out them!\n",
    "\n",
    "try: \n",
    "    pass\n",
    "except Exception as e: \n",
    "    log('Reason:', e) # important!! otherwiese you don't know what's going on"
   ]
  },
  {
   "cell_type": "markdown",
   "id": "requested-forge",
   "metadata": {},
   "source": [
    "### Custom exceptions"
   ]
  },
  {
   "cell_type": "markdown",
   "id": "broken-baker",
   "metadata": {},
   "source": [
    "- Inherite from **built-in** exception class\n",
    "- Dont inherite from base class __BaseException__, which is reserved for system-exiting exceptions such as __KeyboardInterrupt__ or __SystemExit__."
   ]
  },
  {
   "cell_type": "markdown",
   "id": "ranking-promotion",
   "metadata": {},
   "source": [
    "### Raise from"
   ]
  },
  {
   "cell_type": "markdown",
   "id": "better-storage",
   "metadata": {},
   "source": [
    "前置知识：\n",
    "\n",
    "- **\\_\\_cause\\_\\_** is the cause of the exception - due to the given exception, the current exception was raised. This is a direct link - X threw this exception, therefore Y has to throw this exception.\n",
    "\n",
    "- **\\_\\_context\\_\\_** on the other hand means that the current exception was raised while trying to handle another exception, and defines the exception that was being handled at the time this one was raised. This is so that you don't lose the fact that the other exceptions happened (and hence were at this code to throw the exception) - the context. X threw this exception, while handling it, Y was also thrown.\n",
    "\n",
    "- **\\_\\_traceback\\_\\_** shows you the stack - the various levels of functions that have been followed to get to the current line of code. This allows you to pinpoint what caused the exception. It is likely to be used (potentially in tandem with \\_\\_context\\_\\_) to find what caused a given bug."
   ]
  },
  {
   "cell_type": "markdown",
   "id": "operational-holocaust",
   "metadata": {},
   "source": [
    "如果，我们想要在一个异常抛出时，增加一个异常，则最好用 \"from e\", 这样的好处在于，我们在掉这个函数的时候，我们可以通过\\_\\_case\\_\\_来查找异常的起源,\n",
    "如果没有用 from e, 则没有这个功能, 但是\\_\\_context\\_\\_还是有的。它表示，我们在跑某个try, 然后发现了错误"
   ]
  },
  {
   "cell_type": "code",
   "execution_count": null,
   "id": "aggregate-index",
   "metadata": {},
   "outputs": [],
   "source": [
    "def example():\n",
    "    try:\n",
    "        int('N/A')\n",
    "    except ValueError as e:\n",
    "        raise RuntimeError(\"ll\") from e\n",
    "#example()"
   ]
  },
  {
   "cell_type": "code",
   "execution_count": null,
   "id": "biblical-linux",
   "metadata": {},
   "outputs": [],
   "source": [
    "\n",
    "try:\n",
    "    example()\n",
    "except RuntimeError as e:\n",
    "    print(\"what?\", e)\n",
    "    if e.__cause__:\n",
    "        print(\"cause:\", e.__cause__)\n",
    "        # will supress the underlying error\n"
   ]
  },
  {
   "cell_type": "markdown",
   "id": "clinical-moldova",
   "metadata": {},
   "source": [
    "#### If we don't want too all info"
   ]
  },
  {
   "cell_type": "code",
   "execution_count": null,
   "id": "architectural-tracy",
   "metadata": {},
   "outputs": [],
   "source": [
    "def example():\n",
    "    try:\n",
    "        int('N/A')\n",
    "    except ValueError as e:\n",
    "        raise RuntimeError(\"ll\") from None # will supress the underlying error\n",
    "example()"
   ]
  },
  {
   "cell_type": "markdown",
   "id": "protective-moral",
   "metadata": {},
   "source": [
    "#### If we want to repeat the cause"
   ]
  },
  {
   "cell_type": "code",
   "execution_count": null,
   "id": "perfect-computer",
   "metadata": {},
   "outputs": [],
   "source": [
    "try: \n",
    "    pass\n",
    "except Exception as e:\n",
    "    # Process exception information in some way ...\n",
    "    \n",
    "    # Propagate the exception\n",
    "    raise # simply raise it again"
   ]
  },
  {
   "cell_type": "code",
   "execution_count": null,
   "id": "meaningful-electric",
   "metadata": {},
   "outputs": [],
   "source": []
  },
  {
   "cell_type": "code",
   "execution_count": null,
   "id": "adjustable-shannon",
   "metadata": {},
   "outputs": [],
   "source": []
  },
  {
   "cell_type": "code",
   "execution_count": null,
   "id": "closing-adams",
   "metadata": {},
   "outputs": [],
   "source": []
  },
  {
   "cell_type": "code",
   "execution_count": null,
   "id": "classified-berlin",
   "metadata": {},
   "outputs": [],
   "source": []
  },
  {
   "cell_type": "code",
   "execution_count": null,
   "id": "valued-interference",
   "metadata": {},
   "outputs": [],
   "source": []
  },
  {
   "cell_type": "code",
   "execution_count": null,
   "id": "false-terminology",
   "metadata": {},
   "outputs": [],
   "source": []
  },
  {
   "cell_type": "code",
   "execution_count": null,
   "id": "worldwide-aurora",
   "metadata": {},
   "outputs": [],
   "source": []
  }
 ],
 "metadata": {
  "kernelspec": {
   "display_name": "Python 3 (ipykernel)",
   "language": "python",
   "name": "python3"
  },
  "language_info": {
   "codemirror_mode": {
    "name": "ipython",
    "version": 3
   },
   "file_extension": ".py",
   "mimetype": "text/x-python",
   "name": "python",
   "nbconvert_exporter": "python",
   "pygments_lexer": "ipython3",
   "version": "3.9.7"
  },
  "toc": {
   "base_numbering": 1,
   "nav_menu": {
    "height": "511.989px",
    "width": "251.989px"
   },
   "number_sections": true,
   "sideBar": true,
   "skip_h1_title": false,
   "title_cell": "Table of Contents",
   "title_sidebar": "Contents",
   "toc_cell": true,
   "toc_position": {
    "height": "calc(100% - 180px)",
    "left": "10px",
    "top": "150px",
    "width": "384px"
   },
   "toc_section_display": "block",
   "toc_window_display": true
  }
 },
 "nbformat": 4,
 "nbformat_minor": 5
}
