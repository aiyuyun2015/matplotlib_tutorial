{
 "cells": [
  {
   "cell_type": "markdown",
   "id": "fourth-oasis",
   "metadata": {
    "toc": "true"
   },
   "source": [
    "# Table of Contents\n",
    " <p>"
   ]
  },
  {
   "cell_type": "code",
   "execution_count": 9,
   "id": "express-going",
   "metadata": {},
   "outputs": [],
   "source": [
    "from multiprocessing import Process\n",
    "\n",
    "import os\n",
    "import time\n",
    "def run_proc(name):\n",
    "    time.sleep(10)\n",
    "    print(\"**{}\".format(os.getpid()))\n",
    "\n",
    "def hello():\n",
    "    time.sleep(5)\n",
    "    print(\"**{}\".format(os.getpid()))\n",
    "    \n",
    "if __name__=='__main__':\n",
    "    p1 = Process(target=run_proc, args=(\"test\",))\n",
    "    p2 = Process(target=hello)\n",
    "\n",
    "    p1.start()\n",
    "    p2.start()\n",
    "    p1.join()"
   ]
  },
  {
   "cell_type": "code",
   "execution_count": 14,
   "id": "efficient-surfing",
   "metadata": {},
   "outputs": [],
   "source": [
    "import math"
   ]
  },
  {
   "cell_type": "code",
   "execution_count": 16,
   "id": "documentary-specific",
   "metadata": {},
   "outputs": [
    {
     "data": {
      "text/plain": [
       "13.027032743678163"
      ]
     },
     "execution_count": 16,
     "metadata": {},
     "output_type": "execute_result"
    }
   ],
   "source": [
    "\n",
    "math.sqrt(0.05*0.95/260)*2+260*0.05"
   ]
  },
  {
   "cell_type": "code",
   "execution_count": null,
   "id": "aggressive-audience",
   "metadata": {},
   "outputs": [],
   "source": []
  }
 ],
 "metadata": {
  "kernelspec": {
   "display_name": "Python 3",
   "language": "python",
   "name": "python3"
  },
  "language_info": {
   "codemirror_mode": {
    "name": "ipython",
    "version": 3
   },
   "file_extension": ".py",
   "mimetype": "text/x-python",
   "name": "python",
   "nbconvert_exporter": "python",
   "pygments_lexer": "ipython3",
   "version": "3.8.7"
  },
  "toc": {
   "colors": {
    "hover_highlight": "#DAA520",
    "running_highlight": "#FF0000",
    "selected_highlight": "#FFD700"
   },
   "moveMenuLeft": true,
   "nav_menu": {
    "height": "11.9886px",
    "width": "251.989px"
   },
   "navigate_menu": true,
   "number_sections": true,
   "sideBar": true,
   "threshold": 4,
   "toc_cell": true,
   "toc_section_display": "block",
   "toc_window_display": true,
   "widenNotebook": false
  }
 },
 "nbformat": 4,
 "nbformat_minor": 5
}
