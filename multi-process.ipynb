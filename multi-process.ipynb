{
 "cells": [
  {
   "cell_type": "markdown",
   "id": "fourth-oasis",
   "metadata": {
    "toc": "true"
   },
   "source": [
    "<h1>Table of Contents<span class=\"tocSkip\"></span></h1>\n",
    "<div class=\"toc\"><ul class=\"toc-item\"><li><span><a href=\"#Multiple-Process-with-map\" data-toc-modified-id=\"Multiple-Process-with-map-1\"><span class=\"toc-item-num\">1&nbsp;&nbsp;</span>Multiple Process with map</a></span></li></ul></div>"
   ]
  },
  {
   "cell_type": "code",
   "execution_count": 9,
   "id": "express-going",
   "metadata": {},
   "outputs": [],
   "source": [
    "from multiprocessing import Process\n",
    "\n",
    "import os\n",
    "import time\n",
    "def run_proc(name):\n",
    "    time.sleep(10)\n",
    "    print(\"**{}\".format(os.getpid()))\n",
    "\n",
    "def hello():\n",
    "    time.sleep(5)\n",
    "    print(\"**{}\".format(os.getpid()))\n",
    "    \n",
    "if __name__=='__main__':\n",
    "    p1 = Process(target=run_proc, args=(\"test\",))\n",
    "    p2 = Process(target=hello)\n",
    "\n",
    "    p1.start()\n",
    "    p2.start()\n",
    "    p1.join()"
   ]
  },
  {
   "cell_type": "code",
   "execution_count": 14,
   "id": "efficient-surfing",
   "metadata": {},
   "outputs": [],
   "source": [
    "import math"
   ]
  },
  {
   "cell_type": "code",
   "execution_count": 16,
   "id": "documentary-specific",
   "metadata": {},
   "outputs": [
    {
     "data": {
      "text/plain": [
       "13.027032743678163"
      ]
     },
     "execution_count": 16,
     "metadata": {},
     "output_type": "execute_result"
    }
   ],
   "source": [
    "\n",
    "math.sqrt(0.05*0.95/260)*2+260*0.05"
   ]
  },
  {
   "cell_type": "markdown",
   "id": "40593ca0",
   "metadata": {},
   "source": [
    "# Multiple Process with map"
   ]
  },
  {
   "cell_type": "code",
   "execution_count": null,
   "id": "635fd9ff",
   "metadata": {},
   "outputs": [],
   "source": [
    "from multiprocessing import Pool\n",
    "from functools import partial\n",
    "\n",
    "def multiply(x, y):\n",
    "    print(x*y)"
   ]
  },
  {
   "cell_type": "code",
   "execution_count": null,
   "id": "85e9d8f8",
   "metadata": {},
   "outputs": [],
   "source": [
    "if __name__ == '__main__':\n",
    "    with Pool(3) as p:\n",
    "        p.map(partial(multiply, 5), [1, 2, 3])"
   ]
  },
  {
   "cell_type": "code",
   "execution_count": null,
   "id": "a8f497c0",
   "metadata": {},
   "outputs": [],
   "source": []
  }
 ],
 "metadata": {
  "kernelspec": {
   "display_name": "Python 3 (ipykernel)",
   "language": "python",
   "name": "python3"
  },
  "language_info": {
   "codemirror_mode": {
    "name": "ipython",
    "version": 3
   },
   "file_extension": ".py",
   "mimetype": "text/x-python",
   "name": "python",
   "nbconvert_exporter": "python",
   "pygments_lexer": "ipython3",
   "version": "3.9.7"
  },
  "toc": {
   "base_numbering": 1,
   "nav_menu": {
    "height": "11.9886px",
    "width": "251.989px"
   },
   "number_sections": true,
   "sideBar": true,
   "skip_h1_title": false,
   "title_cell": "Table of Contents",
   "title_sidebar": "Contents",
   "toc_cell": true,
   "toc_position": {},
   "toc_section_display": "block",
   "toc_window_display": true
  }
 },
 "nbformat": 4,
 "nbformat_minor": 5
}
