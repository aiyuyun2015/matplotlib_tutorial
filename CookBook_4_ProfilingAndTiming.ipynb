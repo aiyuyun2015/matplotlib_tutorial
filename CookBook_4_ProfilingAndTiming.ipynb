{
 "cells": [
  {
   "cell_type": "markdown",
   "id": "hispanic-meaning",
   "metadata": {
    "toc": "true"
   },
   "source": [
    "<h1>Table of Contents<span class=\"tocSkip\"></span></h1>\n",
    "<div class=\"toc\"><ul class=\"toc-item\"><li><span><a href=\"#Exceptions\" data-toc-modified-id=\"Exceptions-1\"><span class=\"toc-item-num\">1&nbsp;&nbsp;</span>Exceptions</a></span><ul class=\"toc-item\"><li><span><a href=\"#Exception-knowledges\" data-toc-modified-id=\"Exception-knowledges-1.1\"><span class=\"toc-item-num\">1.1&nbsp;&nbsp;</span>Exception knowledges</a></span><ul class=\"toc-item\"><li><span><a href=\"#syntax\" data-toc-modified-id=\"syntax-1.1.1\"><span class=\"toc-item-num\">1.1.1&nbsp;&nbsp;</span>syntax</a></span></li><li><span><a href=\"#Exception-handlers\" data-toc-modified-id=\"Exception-handlers-1.1.2\"><span class=\"toc-item-num\">1.1.2&nbsp;&nbsp;</span>Exception handlers</a></span></li><li><span><a href=\"#except-is-checked-in-sequence\" data-toc-modified-id=\"except-is-checked-in-sequence-1.1.3\"><span class=\"toc-item-num\">1.1.3&nbsp;&nbsp;</span>except is checked in sequence</a></span></li><li><span><a href=\"#Catch-general-error-and-use-if-condition\" data-toc-modified-id=\"Catch-general-error-and-use-if-condition-1.1.4\"><span class=\"toc-item-num\">1.1.4&nbsp;&nbsp;</span>Catch general error and use if-condition</a></span></li><li><span><a href=\"#Catch-all-exceptions\" data-toc-modified-id=\"Catch-all-exceptions-1.1.5\"><span class=\"toc-item-num\">1.1.5&nbsp;&nbsp;</span>Catch all exceptions</a></span></li><li><span><a href=\"#Custom-exceptions\" data-toc-modified-id=\"Custom-exceptions-1.1.6\"><span class=\"toc-item-num\">1.1.6&nbsp;&nbsp;</span>Custom exceptions</a></span></li><li><span><a href=\"#Raise-from\" data-toc-modified-id=\"Raise-from-1.1.7\"><span class=\"toc-item-num\">1.1.7&nbsp;&nbsp;</span>Raise from</a></span><ul class=\"toc-item\"><li><span><a href=\"#If-we-don't-want-too-all-info\" data-toc-modified-id=\"If-we-don't-want-too-all-info-1.1.7.1\"><span class=\"toc-item-num\">1.1.7.1&nbsp;&nbsp;</span>If we don't want too all info</a></span></li><li><span><a href=\"#If-we-want-to-repeat-the-cause\" data-toc-modified-id=\"If-we-want-to-repeat-the-cause-1.1.7.2\"><span class=\"toc-item-num\">1.1.7.2&nbsp;&nbsp;</span>If we want to repeat the cause</a></span></li></ul></li></ul></li><li><span><a href=\"#Profiling-and-Timing-(Cookbook-14.13)\" data-toc-modified-id=\"Profiling-and-Timing-(Cookbook-14.13)-1.2\"><span class=\"toc-item-num\">1.2&nbsp;&nbsp;</span>Profiling and Timing (Cookbook 14.13)</a></span><ul class=\"toc-item\"><li><span><a href=\"#Test-a-function-running-time\" data-toc-modified-id=\"Test-a-function-running-time-1.2.1\"><span class=\"toc-item-num\">1.2.1&nbsp;&nbsp;</span>Test a function running time</a></span></li><li><span><a href=\"#Test-a-block-of-code\" data-toc-modified-id=\"Test-a-block-of-code-1.2.2\"><span class=\"toc-item-num\">1.2.2&nbsp;&nbsp;</span>Test a block of code</a></span></li><li><span><a href=\"#Use-Timeit-but-as-function\" data-toc-modified-id=\"Use-Timeit-but-as-function-1.2.3\"><span class=\"toc-item-num\">1.2.3&nbsp;&nbsp;</span>Use Timeit but as function</a></span></li><li><span><a href=\"#Machine-time-vs-process-time-measurement\" data-toc-modified-id=\"Machine-time-vs-process-time-measurement-1.2.4\"><span class=\"toc-item-num\">1.2.4&nbsp;&nbsp;</span>Machine time vs process time measurement</a></span></li></ul></li></ul></li></ul></div>"
   ]
  },
  {
   "cell_type": "markdown",
   "id": "false-trainer",
   "metadata": {},
   "source": [
    "## Profiling and Timing (Cookbook 14.13)"
   ]
  },
  {
   "cell_type": "markdown",
   "id": "potential-popularity",
   "metadata": {},
   "source": [
    "### Test a function running time"
   ]
  },
  {
   "cell_type": "code",
   "execution_count": null,
   "id": "concrete-console",
   "metadata": {},
   "outputs": [],
   "source": [
    "import time\n",
    "from functools import wraps\n",
    "\n",
    "def timethis(func): \n",
    "    @wraps(func)\n",
    "    def wrapper(*args, **kwargs):\n",
    "        start = time.perf_counter()\n",
    "        r = func(*args, **kwargs)\n",
    "        end = time.perf_counter()\n",
    "        print('{}.{} : {:.3f}s'.format(func.__module__, func.__name__, end - start)) \n",
    "        return r\n",
    "    return wrapper"
   ]
  },
  {
   "cell_type": "code",
   "execution_count": null,
   "id": "multiple-needle",
   "metadata": {},
   "outputs": [],
   "source": [
    "@timethis\n",
    "def countdown(n):\n",
    "    while n > 0:\n",
    "        n -= 1"
   ]
  },
  {
   "cell_type": "code",
   "execution_count": null,
   "id": "alert-horizon",
   "metadata": {},
   "outputs": [],
   "source": [
    "countdown(1000)"
   ]
  },
  {
   "cell_type": "markdown",
   "id": "local-teens",
   "metadata": {},
   "source": [
    "### Test a block of code"
   ]
  },
  {
   "cell_type": "code",
   "execution_count": null,
   "id": "expensive-toner",
   "metadata": {},
   "outputs": [],
   "source": [
    "from contextlib import contextmanager\n",
    "@contextmanager\n",
    "def timeblock(label):\n",
    "    start = time.perf_counter() \n",
    "    try:\n",
    "        yield \n",
    "    finally:\n",
    "        end = time.perf_counter()\n",
    "        print('{} : {:.3f} s'.format(label, end - start))"
   ]
  },
  {
   "cell_type": "code",
   "execution_count": null,
   "id": "accomplished-picking",
   "metadata": {},
   "outputs": [],
   "source": [
    "with timeblock('counting'):\n",
    "    n = int(1e6)\n",
    "    while n > 0:\n",
    "        n -= 1"
   ]
  },
  {
   "cell_type": "markdown",
   "id": "everyday-plaintiff",
   "metadata": {},
   "source": [
    "### Use Timeit but as function"
   ]
  },
  {
   "cell_type": "code",
   "execution_count": null,
   "id": "exclusive-stationery",
   "metadata": {},
   "outputs": [],
   "source": [
    "# timeit(<func>, <required module>, # of iterations)\n",
    "from timeit import timeit\n",
    "timeit('math.sqrt(2)', 'import math', number=10000000)"
   ]
  },
  {
   "cell_type": "markdown",
   "id": "written-bargain",
   "metadata": {},
   "source": [
    "### Machine time vs process time measurement"
   ]
  },
  {
   "cell_type": "code",
   "execution_count": null,
   "id": "incorporate-appointment",
   "metadata": {},
   "outputs": [],
   "source": [
    "from functools import wraps \n",
    "def timethis(func):\n",
    "    @wraps(func)\n",
    "    def wrapper(*args, **kwargs):\n",
    "        start = time.process_time()\n",
    "        r = func(*args, **kwargs)\n",
    "        end = time.process_time()\n",
    "        print('{}.{} : {}'.format(func.__module__, func.__name__, end - start)) \n",
    "        return r\n",
    "    return wrapper"
   ]
  },
  {
   "cell_type": "markdown",
   "id": "following-bennett",
   "metadata": {},
   "source": []
  },
  {
   "cell_type": "markdown",
   "id": "desperate-flower",
   "metadata": {},
   "source": []
  },
  {
   "cell_type": "code",
   "execution_count": null,
   "id": "meaningful-electric",
   "metadata": {},
   "outputs": [],
   "source": []
  },
  {
   "cell_type": "code",
   "execution_count": null,
   "id": "adjustable-shannon",
   "metadata": {},
   "outputs": [],
   "source": []
  },
  {
   "cell_type": "code",
   "execution_count": null,
   "id": "closing-adams",
   "metadata": {},
   "outputs": [],
   "source": []
  },
  {
   "cell_type": "code",
   "execution_count": null,
   "id": "classified-berlin",
   "metadata": {},
   "outputs": [],
   "source": []
  },
  {
   "cell_type": "code",
   "execution_count": null,
   "id": "valued-interference",
   "metadata": {},
   "outputs": [],
   "source": []
  },
  {
   "cell_type": "code",
   "execution_count": null,
   "id": "false-terminology",
   "metadata": {},
   "outputs": [],
   "source": []
  },
  {
   "cell_type": "code",
   "execution_count": null,
   "id": "worldwide-aurora",
   "metadata": {},
   "outputs": [],
   "source": []
  }
 ],
 "metadata": {
  "kernelspec": {
   "display_name": "Python 3 (ipykernel)",
   "language": "python",
   "name": "python3"
  },
  "language_info": {
   "codemirror_mode": {
    "name": "ipython",
    "version": 3
   },
   "file_extension": ".py",
   "mimetype": "text/x-python",
   "name": "python",
   "nbconvert_exporter": "python",
   "pygments_lexer": "ipython3",
   "version": "3.9.7"
  },
  "toc": {
   "base_numbering": 1,
   "nav_menu": {
    "height": "511.989px",
    "width": "251.989px"
   },
   "number_sections": true,
   "sideBar": true,
   "skip_h1_title": false,
   "title_cell": "Table of Contents",
   "title_sidebar": "Contents",
   "toc_cell": true,
   "toc_position": {
    "height": "calc(100% - 180px)",
    "left": "10px",
    "top": "150px",
    "width": "384px"
   },
   "toc_section_display": "block",
   "toc_window_display": true
  }
 },
 "nbformat": 4,
 "nbformat_minor": 5
}
