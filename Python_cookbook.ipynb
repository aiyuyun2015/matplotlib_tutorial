{
 "cells": [
  {
   "cell_type": "markdown",
   "id": "hispanic-meaning",
   "metadata": {
    "toc": "true"
   },
   "source": [
    "# Table of Contents\n",
    " <p><div class=\"lev1 toc-item\"><a href=\"#Dictionary\" data-toc-modified-id=\"Dictionary-1\"><span class=\"toc-item-num\">1&nbsp;&nbsp;</span>Dictionary</a></div><div class=\"lev2 toc-item\"><a href=\"#Dict-Max,-Min\" data-toc-modified-id=\"Dict-Max,-Min-11\"><span class=\"toc-item-num\">1.1&nbsp;&nbsp;</span>Dict Max, Min</a></div><div class=\"lev3 toc-item\"><a href=\"#Max/Min-is-based-on-keys-not-values\" data-toc-modified-id=\"Max/Min-is-based-on-keys-not-values-111\"><span class=\"toc-item-num\">1.1.1&nbsp;&nbsp;</span>Max/Min is based on keys not values</a></div><div class=\"lev3 toc-item\"><a href=\"#Another-way-is-to-use-max/min(iterables,-func)\" data-toc-modified-id=\"Another-way-is-to-use-max/min(iterables,-func)-112\"><span class=\"toc-item-num\">1.1.2&nbsp;&nbsp;</span>Another way is to use max/min(iterables, func)</a></div><div class=\"lev3 toc-item\"><a href=\"#It-gest-messy-if-you-want-val\" data-toc-modified-id=\"It-gest-messy-if-you-want-val-113\"><span class=\"toc-item-num\">1.1.3&nbsp;&nbsp;</span>It gest messy if you want val</a></div><div class=\"lev3 toc-item\"><a href=\"#Best-Solution-to-find-min-and-max-is-to-zip-reveresed-(val,-key)-tuple\" data-toc-modified-id=\"Best-Solution-to-find-min-and-max-is-to-zip-reveresed-(val,-key)-tuple-114\"><span class=\"toc-item-num\">1.1.4&nbsp;&nbsp;</span>Best Solution to find min and max is to zip reveresed (val, key) tuple</a></div><div class=\"lev3 toc-item\"><a href=\"#One-thing-interesting-is-&quot;Key&quot;-will-be-used-when-&quot;Values&quot;-are-duplicated\" data-toc-modified-id=\"One-thing-interesting-is-&quot;Key&quot;-will-be-used-when-&quot;Values&quot;-are-duplicated-115\"><span class=\"toc-item-num\">1.1.5&nbsp;&nbsp;</span>One thing interesting is \"Key\" will be used when \"Values\" are duplicated</a></div><div class=\"lev3 toc-item\"><a href=\"#Example-3-Zip-is-called-only-once\" data-toc-modified-id=\"Example-3-Zip-is-called-only-once-116\"><span class=\"toc-item-num\">1.1.6&nbsp;&nbsp;</span>Example-3 Zip is called only once</a></div><div class=\"lev2 toc-item\"><a href=\"#Dict-common\" data-toc-modified-id=\"Dict-common-12\"><span class=\"toc-item-num\">1.2&nbsp;&nbsp;</span>Dict common</a></div><div class=\"lev3 toc-item\"><a href=\"#Easiest-way-to-find-common\" data-toc-modified-id=\"Easiest-way-to-find-common-121\"><span class=\"toc-item-num\">1.2.1&nbsp;&nbsp;</span>Easiest way to find common</a></div><div class=\"lev1 toc-item\"><a href=\"#Hashable\" data-toc-modified-id=\"Hashable-2\"><span class=\"toc-item-num\">2&nbsp;&nbsp;</span>Hashable</a></div><div class=\"lev2 toc-item\"><a href=\"#Basic-hashable-knowledge\" data-toc-modified-id=\"Basic-hashable-knowledge-21\"><span class=\"toc-item-num\">2.1&nbsp;&nbsp;</span>Basic hashable knowledge</a></div><div class=\"lev3 toc-item\"><a href=\"#Here,-we-define-the-hash-function,-(default-way-of-hashing-from-id-in-Python)\" data-toc-modified-id=\"Here,-we-define-the-hash-function,-(default-way-of-hashing-from-id-in-Python)-211\"><span class=\"toc-item-num\">2.1.1&nbsp;&nbsp;</span>Here, we define the hash function, (default way of hashing from id in Python)</a></div><div class=\"lev3 toc-item\"><a href=\"#But-built-in-type..-No\" data-toc-modified-id=\"But-built-in-type..-No-212\"><span class=\"toc-item-num\">2.1.2&nbsp;&nbsp;</span>But built-in type.. No</a></div><div class=\"lev3 toc-item\"><a href=\"#In-fact,-the-default-hash-val-is-from-id,-with-some-calculations\" data-toc-modified-id=\"In-fact,-the-default-hash-val-is-from-id,-with-some-calculations-213\"><span class=\"toc-item-num\">2.1.3&nbsp;&nbsp;</span>In fact, the default hash val is from id, with some calculations</a></div><div class=\"lev3 toc-item\"><a href=\"#Of-course,-you-can-re-define-hash,-but-do-it-correctly!\" data-toc-modified-id=\"Of-course,-you-can-re-define-hash,-but-do-it-correctly!-214\"><span class=\"toc-item-num\">2.1.4&nbsp;&nbsp;</span>Of course, you can re-define hash, but do it correctly!</a></div><div class=\"lev2 toc-item\"><a href=\"#Cookbook-it!-If-we-want-to-make-a-new-dict,-based-on-old-dict-but-without-some-keys\" data-toc-modified-id=\"Cookbook-it!-If-we-want-to-make-a-new-dict,-based-on-old-dict-but-without-some-keys-22\"><span class=\"toc-item-num\">2.2&nbsp;&nbsp;</span>Cookbook it! If we want to make a new dict, based on old dict but without some keys</a></div><div class=\"lev2 toc-item\"><a href=\"#What-if-we-want-to-remove-duplicates-from-sequence\" data-toc-modified-id=\"What-if-we-want-to-remove-duplicates-from-sequence-23\"><span class=\"toc-item-num\">2.3&nbsp;&nbsp;</span>What if we want to remove duplicates from sequence</a></div><div class=\"lev3 toc-item\"><a href=\"#Naming-a-slice-(cookbook-1.11)\" data-toc-modified-id=\"Naming-a-slice-(cookbook-1.11)-231\"><span class=\"toc-item-num\">2.3.1&nbsp;&nbsp;</span>Naming a slice (cookbook 1.11)</a></div><div class=\"lev3 toc-item\"><a href=\"#Use-counter\" data-toc-modified-id=\"Use-counter-232\"><span class=\"toc-item-num\">2.3.2&nbsp;&nbsp;</span>Use counter</a></div><div class=\"lev3 toc-item\"><a href=\"#Itemgetter-for-lookup\" data-toc-modified-id=\"Itemgetter-for-lookup-233\"><span class=\"toc-item-num\">2.3.3&nbsp;&nbsp;</span>Itemgetter for lookup</a></div><div class=\"lev3 toc-item\"><a href=\"#attrgetter\" data-toc-modified-id=\"attrgetter-234\"><span class=\"toc-item-num\">2.3.4&nbsp;&nbsp;</span>attrgetter</a></div><div class=\"lev3 toc-item\"><a href=\"#Dict,-List,-Tuple-comprehension\" data-toc-modified-id=\"Dict,-List,-Tuple-comprehension-235\"><span class=\"toc-item-num\">2.3.5&nbsp;&nbsp;</span>Dict, List, Tuple comprehension</a></div><div class=\"lev1 toc-item\"><a href=\"#Testing,-Debugging,-and-Extension\" data-toc-modified-id=\"Testing,-Debugging,-and-Extension-3\"><span class=\"toc-item-num\">3&nbsp;&nbsp;</span>Testing, Debugging, and Extension</a></div><div class=\"lev2 toc-item\"><a href=\"#Context-Manager-Knowledge\" data-toc-modified-id=\"Context-Manager-Knowledge-31\"><span class=\"toc-item-num\">3.1&nbsp;&nbsp;</span>Context Manager Knowledge</a></div><div class=\"lev3 toc-item\"><a href=\"#A-real-example\" data-toc-modified-id=\"A-real-example-311\"><span class=\"toc-item-num\">3.1.1&nbsp;&nbsp;</span>A real example</a></div><div class=\"lev3 toc-item\"><a href=\"#Use-@contextmanager\" data-toc-modified-id=\"Use-@contextmanager-312\"><span class=\"toc-item-num\">3.1.2&nbsp;&nbsp;</span>Use @contextmanager</a></div><div class=\"lev2 toc-item\"><a href=\"#Exceptions\" data-toc-modified-id=\"Exceptions-32\"><span class=\"toc-item-num\">3.2&nbsp;&nbsp;</span>Exceptions</a></div><div class=\"lev2 toc-item\"><a href=\"#Exception-knowledges\" data-toc-modified-id=\"Exception-knowledges-33\"><span class=\"toc-item-num\">3.3&nbsp;&nbsp;</span>Exception knowledges</a></div><div class=\"lev3 toc-item\"><a href=\"#syntax\" data-toc-modified-id=\"syntax-331\"><span class=\"toc-item-num\">3.3.1&nbsp;&nbsp;</span>syntax</a></div><div class=\"lev3 toc-item\"><a href=\"#Exception-handlers\" data-toc-modified-id=\"Exception-handlers-332\"><span class=\"toc-item-num\">3.3.2&nbsp;&nbsp;</span>Exception handlers</a></div><div class=\"lev3 toc-item\"><a href=\"#except-is-checked-in-sequence\" data-toc-modified-id=\"except-is-checked-in-sequence-333\"><span class=\"toc-item-num\">3.3.3&nbsp;&nbsp;</span>except is checked in sequence</a></div><div class=\"lev3 toc-item\"><a href=\"#Catch-general-error-and-use-if-condition\" data-toc-modified-id=\"Catch-general-error-and-use-if-condition-334\"><span class=\"toc-item-num\">3.3.4&nbsp;&nbsp;</span>Catch general error and use if-condition</a></div><div class=\"lev3 toc-item\"><a href=\"#Catch-all-exceptions\" data-toc-modified-id=\"Catch-all-exceptions-335\"><span class=\"toc-item-num\">3.3.5&nbsp;&nbsp;</span>Catch all exceptions</a></div><div class=\"lev3 toc-item\"><a href=\"#Custom-exceptions\" data-toc-modified-id=\"Custom-exceptions-336\"><span class=\"toc-item-num\">3.3.6&nbsp;&nbsp;</span>Custom exceptions</a></div><div class=\"lev3 toc-item\"><a href=\"#Raise-from\" data-toc-modified-id=\"Raise-from-337\"><span class=\"toc-item-num\">3.3.7&nbsp;&nbsp;</span>Raise from</a></div><div class=\"lev4 toc-item\"><a href=\"#If-we-don't-want-too-all-info\" data-toc-modified-id=\"If-we-don't-want-too-all-info-3371\"><span class=\"toc-item-num\">3.3.7.1&nbsp;&nbsp;</span>If we don't want too all info</a></div><div class=\"lev4 toc-item\"><a href=\"#If-we-want-to-repeat-the-cause\" data-toc-modified-id=\"If-we-want-to-repeat-the-cause-3372\"><span class=\"toc-item-num\">3.3.7.2&nbsp;&nbsp;</span>If we want to repeat the cause</a></div><div class=\"lev2 toc-item\"><a href=\"#Profiling-and-Timing-(Cookbook-14.13)\" data-toc-modified-id=\"Profiling-and-Timing-(Cookbook-14.13)-34\"><span class=\"toc-item-num\">3.4&nbsp;&nbsp;</span>Profiling and Timing (Cookbook 14.13)</a></div><div class=\"lev3 toc-item\"><a href=\"#Test-a-function-running-time\" data-toc-modified-id=\"Test-a-function-running-time-341\"><span class=\"toc-item-num\">3.4.1&nbsp;&nbsp;</span>Test a function running time</a></div><div class=\"lev3 toc-item\"><a href=\"#Test-a-block-of-code\" data-toc-modified-id=\"Test-a-block-of-code-342\"><span class=\"toc-item-num\">3.4.2&nbsp;&nbsp;</span>Test a block of code</a></div><div class=\"lev3 toc-item\"><a href=\"#Use-Timeit-but-as-function\" data-toc-modified-id=\"Use-Timeit-but-as-function-343\"><span class=\"toc-item-num\">3.4.3&nbsp;&nbsp;</span>Use Timeit but as function</a></div><div class=\"lev3 toc-item\"><a href=\"#Machine-time-vs-process-time-measurement\" data-toc-modified-id=\"Machine-time-vs-process-time-measurement-344\"><span class=\"toc-item-num\">3.4.4&nbsp;&nbsp;</span>Machine time vs process time measurement</a></div><div class=\"lev1 toc-item\"><a href=\"#Make-Python-faster\" data-toc-modified-id=\"Make-Python-faster-4\"><span class=\"toc-item-num\">4&nbsp;&nbsp;</span>Make Python faster</a></div>"
   ]
  },
  {
   "cell_type": "markdown",
   "id": "anonymous-synthesis",
   "metadata": {},
   "source": [
    "# Dictionary"
   ]
  },
  {
   "cell_type": "markdown",
   "id": "deluxe-commander",
   "metadata": {},
   "source": [
    "## Dict Max, Min"
   ]
  },
  {
   "cell_type": "code",
   "execution_count": 1,
   "id": "pointed-gravity",
   "metadata": {},
   "outputs": [],
   "source": [
    "prices = {\n",
    "       'ACME': 45.23,\n",
    "       'AAPL': 612.78,\n",
    "       'IBM': 205.55,\n",
    "       'HPQ': 37.20,\n",
    "       'FB': 10.75\n",
    "}"
   ]
  },
  {
   "cell_type": "markdown",
   "id": "ecological-elizabeth",
   "metadata": {},
   "source": [
    "### Max/Min is based on keys not values"
   ]
  },
  {
   "cell_type": "code",
   "execution_count": 13,
   "id": "devoted-superior",
   "metadata": {},
   "outputs": [
    {
     "name": "stdout",
     "output_type": "stream",
     "text": [
      "IBM\n"
     ]
    }
   ],
   "source": [
    " print(max(prices)) # why? This string is biggest, \"I\""
   ]
  },
  {
   "cell_type": "code",
   "execution_count": 15,
   "id": "signed-punch",
   "metadata": {},
   "outputs": [
    {
     "name": "stdout",
     "output_type": "stream",
     "text": [
      "612.78\n"
     ]
    }
   ],
   "source": [
    "print(max(prices.values())) # Ok, if you want to use values"
   ]
  },
  {
   "cell_type": "markdown",
   "id": "entertaining-knife",
   "metadata": {},
   "source": [
    "### Another way is to use max/min(iterables, func)"
   ]
  },
  {
   "cell_type": "code",
   "execution_count": 16,
   "id": "medieval-carry",
   "metadata": {},
   "outputs": [
    {
     "data": {
      "text/plain": [
       "'AAPL'"
      ]
     },
     "execution_count": 16,
     "metadata": {},
     "output_type": "execute_result"
    }
   ],
   "source": [
    "max(prices, key=lambda x: prices[x])"
   ]
  },
  {
   "cell_type": "markdown",
   "id": "analyzed-exhaust",
   "metadata": {},
   "source": [
    "### It gest messy if you want val"
   ]
  },
  {
   "cell_type": "code",
   "execution_count": 18,
   "id": "verbal-teens",
   "metadata": {},
   "outputs": [
    {
     "data": {
      "text/plain": [
       "612.78"
      ]
     },
     "execution_count": 18,
     "metadata": {},
     "output_type": "execute_result"
    }
   ],
   "source": [
    "prices[max(prices, key=lambda x:prices[x])]"
   ]
  },
  {
   "cell_type": "markdown",
   "id": "funny-vision",
   "metadata": {},
   "source": [
    "### Best Solution to find min and max is to zip reveresed (val, key) tuple"
   ]
  },
  {
   "cell_type": "code",
   "execution_count": 3,
   "id": "going-pavilion",
   "metadata": {},
   "outputs": [
    {
     "name": "stdout",
     "output_type": "stream",
     "text": [
      "(10.75, 'FB')\n"
     ]
    }
   ],
   "source": [
    "# Solution \n",
    "min_price = min(zip(prices.values(), prices.keys()))\n",
    "print(min_price)"
   ]
  },
  {
   "cell_type": "code",
   "execution_count": 6,
   "id": "simplified-midwest",
   "metadata": {},
   "outputs": [
    {
     "name": "stdout",
     "output_type": "stream",
     "text": [
      "[(10.75, 'FB'), (37.2, 'HPQ'), (45.23, 'ACME'), (205.55, 'IBM'), (612.78, 'AAPL')]\n"
     ]
    }
   ],
   "source": [
    "prices_sorted = sorted(zip(prices.values(), prices.keys()))\n",
    "print(prices_sorted)"
   ]
  },
  {
   "cell_type": "markdown",
   "id": "advised-cambridge",
   "metadata": {},
   "source": [
    "### One thing interesting is \"Key\" will be used when \"Values\" are duplicated"
   ]
  },
  {
   "cell_type": "code",
   "execution_count": null,
   "id": "fresh-hobby",
   "metadata": {},
   "outputs": [],
   "source": [
    "prices = { 'AAA' : 45.23, 'ZZZ': 45.23 }"
   ]
  },
  {
   "cell_type": "code",
   "execution_count": null,
   "id": "useful-consumer",
   "metadata": {},
   "outputs": [
    {
     "data": {
      "text/plain": [
       "(45.23, 'AAA')"
      ]
     },
     "execution_count": 2,
     "metadata": {},
     "output_type": "execute_result"
    }
   ],
   "source": [
    "min(zip(prices.values(), prices.keys()))"
   ]
  },
  {
   "cell_type": "code",
   "execution_count": 3,
   "id": "spread-navigation",
   "metadata": {},
   "outputs": [
    {
     "data": {
      "text/plain": [
       "(45.23, 'ZZZ')"
      ]
     },
     "execution_count": 3,
     "metadata": {},
     "output_type": "execute_result"
    }
   ],
   "source": [
    " max(zip(prices.values(), prices.keys()))"
   ]
  },
  {
   "cell_type": "markdown",
   "id": "comic-remark",
   "metadata": {},
   "source": [
    "### Example-3 Zip is called only once"
   ]
  },
  {
   "cell_type": "code",
   "execution_count": 11,
   "id": "verbal-dancing",
   "metadata": {},
   "outputs": [
    {
     "name": "stdout",
     "output_type": "stream",
     "text": [
      "(10.75, 'FB')\n"
     ]
    },
    {
     "ename": "ValueError",
     "evalue": "max() arg is an empty sequence",
     "output_type": "error",
     "traceback": [
      "\u001b[0;31m---------------------------------------------------------------------------\u001b[0m",
      "\u001b[0;31mValueError\u001b[0m                                Traceback (most recent call last)",
      "\u001b[0;32m<ipython-input-11-c1202be833d5>\u001b[0m in \u001b[0;36m<module>\u001b[0;34m\u001b[0m\n\u001b[1;32m      5\u001b[0m \u001b[0;34m\u001b[0m\u001b[0m\n\u001b[1;32m      6\u001b[0m \u001b[0mprint\u001b[0m\u001b[0;34m(\u001b[0m\u001b[0mmin\u001b[0m\u001b[0;34m(\u001b[0m\u001b[0mprices_and_names\u001b[0m\u001b[0;34m)\u001b[0m\u001b[0;34m)\u001b[0m \u001b[0;31m# OK\u001b[0m\u001b[0;34m\u001b[0m\u001b[0;34m\u001b[0m\u001b[0m\n\u001b[0;32m----> 7\u001b[0;31m \u001b[0mprint\u001b[0m\u001b[0;34m(\u001b[0m\u001b[0mmax\u001b[0m\u001b[0;34m(\u001b[0m\u001b[0mprices_and_names\u001b[0m\u001b[0;34m)\u001b[0m\u001b[0;34m)\u001b[0m \u001b[0;31m# ValueError: max() arg is an empty sequence\u001b[0m\u001b[0;34m\u001b[0m\u001b[0;34m\u001b[0m\u001b[0m\n\u001b[0m",
      "\u001b[0;31mValueError\u001b[0m: max() arg is an empty sequence"
     ]
    }
   ],
   "source": [
    "# Example - 3\n",
    "# Zip will crete an iterator that can be consumed once ONLY\n",
    "\n",
    "prices_and_names = zip(prices.values(), prices.keys())\n",
    "\n",
    "print(min(prices_and_names)) # OK\n",
    "print(max(prices_and_names)) # ValueError: max() arg is an empty sequence"
   ]
  },
  {
   "cell_type": "markdown",
   "id": "intelligent-liberal",
   "metadata": {},
   "source": [
    "## Dict common"
   ]
  },
  {
   "cell_type": "markdown",
   "id": "breeding-engineer",
   "metadata": {},
   "source": [
    "A dictionary is a mapping between a set of keys and values. The keys() method of a dictionary returns a keys-view object that exposes the keys. A little-known feature of keys views is that they also support common set operations such as unions, intersections, and differences. \n",
    "\n",
    "**Thus, if you need to perform common set operations with dictionary keys, you can often just use the keys-view objects directly without first converting them into a set.**\n",
    "\n",
    "- Keys() --> set\n",
    "- Values --> not set, since duplicated values may exist\n",
    "- Items() --> set (tuple a-like)"
   ]
  },
  {
   "cell_type": "code",
   "execution_count": 15,
   "id": "touched-wilson",
   "metadata": {},
   "outputs": [],
   "source": [
    "m = {'x', 'y', 'z'} # this will create a set\n",
    "n = {'x', 'y', 'j'}"
   ]
  },
  {
   "cell_type": "code",
   "execution_count": 21,
   "id": "saving-casting",
   "metadata": {
    "scrolled": true
   },
   "outputs": [
    {
     "data": {
      "text/plain": [
       "{'x', 'y'}"
      ]
     },
     "execution_count": 21,
     "metadata": {},
     "output_type": "execute_result"
    }
   ],
   "source": [
    "m & n"
   ]
  },
  {
   "cell_type": "markdown",
   "id": "horizontal-uncertainty",
   "metadata": {},
   "source": [
    "### Easiest way to find common"
   ]
  },
  {
   "cell_type": "code",
   "execution_count": 24,
   "id": "equivalent-volunteer",
   "metadata": {},
   "outputs": [],
   "source": [
    "a={\n",
    "'x' : 1,\n",
    "'y' : 2,\n",
    "'z' : 3 }\n",
    "\n",
    "b={\n",
    "'w' : 10,\n",
    "'x' : 11,\n",
    "'y' : 2 }\n"
   ]
  },
  {
   "cell_type": "code",
   "execution_count": 25,
   "id": "sustained-yugoslavia",
   "metadata": {},
   "outputs": [
    {
     "name": "stdout",
     "output_type": "stream",
     "text": [
      "<class 'dict_keys'>\n",
      "<class 'dict_values'>\n"
     ]
    }
   ],
   "source": [
    "print(type(a.keys()))\n",
    "print(type(a.values()))"
   ]
  },
  {
   "cell_type": "code",
   "execution_count": 26,
   "id": "impossible-reaction",
   "metadata": {},
   "outputs": [
    {
     "data": {
      "text/plain": [
       "{('y', 2)}"
      ]
     },
     "execution_count": 26,
     "metadata": {},
     "output_type": "execute_result"
    }
   ],
   "source": [
    "# Find keys in common\n",
    "a.keys() & b.keys() # { 'x', 'y' }\n",
    "\n",
    "# Find keys in a that are not in b \n",
    "a.keys() - b.keys() # { 'z' }\n",
    "\n",
    "# Find (key,value) pairs in common \n",
    "a.items() & b.items() # { ('y', 2) }"
   ]
  },
  {
   "cell_type": "markdown",
   "id": "forced-freight",
   "metadata": {},
   "source": [
    "# Hashable"
   ]
  },
  {
   "cell_type": "markdown",
   "id": "based-speech",
   "metadata": {},
   "source": [
    "## Basic hashable knowledge"
   ]
  },
  {
   "cell_type": "markdown",
   "id": "specific-watch",
   "metadata": {},
   "source": [
    "- What is hashable ? you can call hash on it, usually an immutable(sth doesnt change) is hashable, you always get a same hash value, things like float, int, str.\n",
    "- An object is hashable if it has a hash value which never changes during its lifetime (it needs a __hash__() method), and can be compared to other objects (it needs an __eq__() or __cmp__() method). Hashable objects which compare equal must have the same hash value.\n",
    "\n",
    "- Hashability makes an object usable as a dictionary key and a set member, because these data structures use the hash value internally.\n",
    "\n",
    "- All of Python’s immutable built-in objects are hashable, while no mutable containers (such as lists or dictionaries) are. Objects which are instances of user-defined classes are hashable by default; they all compare unequal, and their hash value is their id() (**in fact, this is not true, the hash val is from id, but not exact id, see test below**).\n"
   ]
  },
  {
   "cell_type": "markdown",
   "id": "linear-genius",
   "metadata": {},
   "source": [
    "### Here, we define the hash function, (default way of hashing from id in Python)"
   ]
  },
  {
   "cell_type": "code",
   "execution_count": null,
   "id": "destroyed-imagination",
   "metadata": {},
   "outputs": [],
   "source": [
    "# https://stackoverflow.com/questions/11324271/what-is-the-default-hash-in-python\n",
    "# What is the default __hash__ in python?\n",
    "def compute_hash(my_id):\n",
    "    import numpy\n",
    "    y = numpy.array([my_id], dtype='int64')\n",
    "    SIZEOF_VOID_P = 8\n",
    "    return (y >> 4) | (y << (8 * SIZEOF_VOID_P - 4))"
   ]
  },
  {
   "cell_type": "markdown",
   "id": "above-marijuana",
   "metadata": {},
   "source": [
    "### But built-in type.. No"
   ]
  },
  {
   "cell_type": "code",
   "execution_count": null,
   "id": "comparative-representative",
   "metadata": {},
   "outputs": [],
   "source": [
    "# item-2, str hash values != id\n",
    "test_str = \"p\"\n",
    "print(hash(test_str) )\n",
    "print(id(test_str))\n",
    "print(compute_hash(id(test_str)))"
   ]
  },
  {
   "cell_type": "code",
   "execution_count": 80,
   "id": "exclusive-cream",
   "metadata": {},
   "outputs": [
    {
     "name": "stdout",
     "output_type": "stream",
     "text": [
      "-3256958674500163095\n",
      "140542295805232\n",
      "[8783893487827]\n",
      "4433758944\n",
      "2\n",
      "[277109934]\n"
     ]
    }
   ],
   "source": [
    "#\n",
    "a = 2\n",
    "print(id(a))\n",
    "print(hash(a))\n",
    "print(compute_hash(id(a)))"
   ]
  },
  {
   "cell_type": "markdown",
   "id": "coupled-respect",
   "metadata": {},
   "source": [
    "### In fact, the default hash val is from id, with some calculations"
   ]
  },
  {
   "cell_type": "code",
   "execution_count": 77,
   "id": "enormous-investor",
   "metadata": {},
   "outputs": [
    {
     "name": "stdout",
     "output_type": "stream",
     "text": [
      "hash_val: 8783897318075\n",
      "hash_val: 8783897318075\n",
      "id      : 140542357089200\n",
      "hash from id: [8783897318075]\n"
     ]
    }
   ],
   "source": [
    "class test0():\n",
    "    use_int = 0\n",
    "    use_name = \"\"\n",
    "    use_list = []\n",
    "    \n",
    "    def __init__(self, use_int:int, use_name:str, use_list:list)->None:\n",
    "        self.use_int = use_int\n",
    "        self.use_name = use_name\n",
    "        self.use_list = use_list\n",
    "\n",
    "test_obj = test0(0,\"John\",[\"test\",\"more test\",])\n",
    "print(\"hash_val:\", hash(test_obj))\n",
    "print(\"hash_val:\", test_obj.__hash__())\n",
    "print(\"id      :\", id(test_obj))\n",
    "print(\"hash from id:\", compute_hash(id(test_obj)))"
   ]
  },
  {
   "cell_type": "code",
   "execution_count": 69,
   "id": "peaceful-young",
   "metadata": {},
   "outputs": [
    {
     "name": "stdout",
     "output_type": "stream",
     "text": [
      "140542338911584\n",
      "8783896181974\n",
      "[8783896181974]\n"
     ]
    }
   ],
   "source": [
    "class test: pass\n",
    "\n",
    "a = test()\n",
    "print(id(a))\n",
    "print(hash(a))\n",
    "print(compute_hash(id(a)))"
   ]
  },
  {
   "cell_type": "markdown",
   "id": "intelligent-saskatchewan",
   "metadata": {},
   "source": [
    "### Of course, you can re-define hash, but do it correctly!"
   ]
  },
  {
   "cell_type": "code",
   "execution_count": 54,
   "id": "geological-wages",
   "metadata": {
    "scrolled": true
   },
   "outputs": [
    {
     "name": "stdout",
     "output_type": "stream",
     "text": [
      "-8432193631831888705\n",
      "2151556622989448099\n",
      "3376702520863720933\n",
      "obj id=140542352256304\n",
      "{<__main__.test object at 0x7fd290fb6d30>: 'object used as key'}\n",
      "obj id=140542352256304\n",
      "{<__main__.test object at 0x7fd290fb6d30>: 'object used as key'}\n",
      "{<__main__.test object at 0x7fd290fb6d30>: 'object used as key', <__main__.test object at 0x7fd290fb6d30>: 'second object'}\n",
      "{<__main__.test object at 0x7fd290fb6d30>: 'third object', <__main__.test object at 0x7fd290fb6d30>: 'second object'}\n",
      "2,John,test,more test\n",
      "2151556622989448099\n"
     ]
    }
   ],
   "source": [
    "# python mutable and hashable types\n",
    "# https://stackoverflow.com/questions/67249977/python-mutable-and-hashable-types\n",
    "# 解释，我们的object instance, 如果不重新改写hash, 则会是一个随机数（貌似不是id), 如果改写，有可能得到我们不想要的结果\n",
    "# 例如，这个例子，我们instance.use_list 改变后，虽然，还是一个instance, 但是，对应的hash值不同了，则出现了“重复”的keys\n",
    "# {<__main__.test object at 0x7fd290fb6d00>: 'object used as key', <__main__.test object at 0x7fd290fb6d00>: 'second object'}\n",
    "# 这个，可以看出来，key是相同的，但是为什么出现在keys里面？仔细看，我们的hash利用了keys, 这个又是和use_list有关，即其实是不同的，\n",
    "# 所以我们这样做，不好。。\n",
    "# 解决方法：不要乱改__key(), __hash(), 用自带的\n",
    "# 或者好好写。。\n",
    "class test():\n",
    "    \n",
    "    use_int = 0\n",
    "    use_name = \"\"\n",
    "    use_list = []\n",
    "    \n",
    "    def __init__(self, use_int:int, use_name:str, use_list:list)->None:\n",
    "        self.use_int = use_int\n",
    "        self.use_name = use_name\n",
    "        self.use_list = use_list\n",
    "    \n",
    "    def __key(self):\n",
    "        return (str(self.use_int), self.use_name,\",\".join(self.use_list))\n",
    "        \n",
    "    def __hash__(self):\n",
    "        return hash(self.__key())\n",
    "    \n",
    "    def __str__(self):\n",
    "        return \",\".join(self.__key())\n",
    "        \n",
    "if __name__ == \"__main__\":\n",
    "    test_obj = test(0,\"John\",[\"test\",\"more test\",])\n",
    "    # create an object instance, then change int\n",
    "    print(test_obj.__hash__())\n",
    "    # -8432193631831888705\n",
    "    test_obj.use_int = 1\n",
    "    print(test_obj.__hash__())\n",
    "    # 2151556622989448099\n",
    "    test_obj.use_int = 2\n",
    "    print(test_obj.__hash__())\n",
    "    # 3376702520863720933\n",
    "    \n",
    "    print(f\"obj id={id(test_obj)}\")\n",
    "    test_dict = dict() # if we create dict and use our instance as \"keys\"\n",
    "    test_dict[test_obj] = \"object used as key\" # dict key can be user object instance\n",
    "    print(test_dict)\n",
    "    # {<__main__.test object at 0x7fd29125eca0>: 'object used as key'}\n",
    "    test_obj.use_list.append(\"yet more tests\")\n",
    "    print(f\"obj id={id(test_obj)}\")\n",
    "    print(test_dict) # nothing changes, after we change the data in our object\n",
    "    # {<__main__.test object at 0x7fd29192ef10>: 'object used as key'}\n",
    "    \n",
    "    test_dict[test_obj] = \"second object\"\n",
    "    print(test_dict)\n",
    "    # {<__main__.test object at 0x7fd29125eca0>: 'object used as key', <__main__.test object at 0x7fd29125eca0>: 'second object'}\n",
    "    \n",
    "    del test_obj.use_list[-1]\n",
    "    test_dict[test_obj] = \"third object\"\n",
    "    print(test_dict)\n",
    "    # {<__main__.test object at 0x7fd2913495e0>: 'third object', <__main__.test object at 0x7fd2913495e0>: 'second object'}\n",
    "\n",
    "    print(test_obj)\n",
    "    # 2,John,test,more test\n",
    "\n",
    "    test_obj.use_int = 1\n",
    "    print(test_obj.__hash__())"
   ]
  },
  {
   "cell_type": "markdown",
   "id": "manufactured-rider",
   "metadata": {},
   "source": [
    "## Cookbook it! If we want to make a new dict, based on old dict but without some keys"
   ]
  },
  {
   "cell_type": "code",
   "execution_count": 27,
   "id": "formed-second",
   "metadata": {},
   "outputs": [],
   "source": [
    "  # Make a new dictionary with certain keys removed\n",
    "c = {key:a[key] for key in a.keys() - {'z', 'w'}} # c is {'x': 1, 'y': 2}"
   ]
  },
  {
   "cell_type": "markdown",
   "id": "introductory-shell",
   "metadata": {},
   "source": [
    "## What if we want to remove duplicates from sequence"
   ]
  },
  {
   "cell_type": "code",
   "execution_count": 84,
   "id": "inappropriate-ireland",
   "metadata": {},
   "outputs": [],
   "source": [
    "def dedupe(items, key=None): \n",
    "    seen = set()\n",
    "    for item in items:\n",
    "        val = item if key is None else key(item) \n",
    "        if val not in seen:\n",
    "            yield item \n",
    "            seen.add(val)"
   ]
  },
  {
   "cell_type": "code",
   "execution_count": 85,
   "id": "corporate-supply",
   "metadata": {},
   "outputs": [],
   "source": [
    "# The key parameter is to used, when the item is not \"hashable\", for example\n",
    "a = [ {'x':1, 'y':2}, {'x':1, 'y':3}, {'x':1, 'y':2}, {'x':2, 'y':4}]"
   ]
  },
  {
   "cell_type": "code",
   "execution_count": 86,
   "id": "determined-pathology",
   "metadata": {},
   "outputs": [
    {
     "data": {
      "text/plain": [
       "[{'x': 1, 'y': 2}, {'x': 1, 'y': 3}, {'x': 2, 'y': 4}]"
      ]
     },
     "execution_count": 86,
     "metadata": {},
     "output_type": "execute_result"
    }
   ],
   "source": [
    "# since the item is dict, not hashable, we cannot use set to remove duplciates\n",
    "# thus, we could use their vals, ignoring their keys, but of course, we have to define\n",
    "# the rule of \"duplicates\"\n",
    "list(dedupe(a, key=lambda d: (d['x'],d['y'])))"
   ]
  },
  {
   "cell_type": "code",
   "execution_count": 87,
   "id": "realistic-winner",
   "metadata": {},
   "outputs": [
    {
     "data": {
      "text/plain": [
       "[{'x': 1, 'y': 2}, {'x': 2, 'y': 4}]"
      ]
     },
     "execution_count": 87,
     "metadata": {},
     "output_type": "execute_result"
    }
   ],
   "source": [
    "# alternatively, we use x only\n",
    "list(dedupe(a, key=lambda d: d['x']))"
   ]
  },
  {
   "cell_type": "markdown",
   "id": "suffering-supervision",
   "metadata": {},
   "source": [
    "### Naming a slice (cookbook 1.11)"
   ]
  },
  {
   "cell_type": "code",
   "execution_count": 88,
   "id": "noticed-underwear",
   "metadata": {},
   "outputs": [],
   "source": [
    "record = '....................100          .......513.25     ..........'\n",
    "cost = int(record[20:32]) * float(record[40:48])"
   ]
  },
  {
   "cell_type": "code",
   "execution_count": 89,
   "id": "damaged-shakespeare",
   "metadata": {},
   "outputs": [
    {
     "data": {
      "text/plain": [
       "51325.0"
      ]
     },
     "execution_count": 89,
     "metadata": {},
     "output_type": "execute_result"
    }
   ],
   "source": [
    "cost"
   ]
  },
  {
   "cell_type": "code",
   "execution_count": 90,
   "id": "pointed-president",
   "metadata": {},
   "outputs": [],
   "source": [
    "SHARES = slice(20,32)\n",
    "PRICE  = slice(40,48)"
   ]
  },
  {
   "cell_type": "code",
   "execution_count": 92,
   "id": "reduced-motel",
   "metadata": {},
   "outputs": [],
   "source": [
    "cost = int(record[SHARES]) * float(record[PRICE])"
   ]
  },
  {
   "cell_type": "code",
   "execution_count": 93,
   "id": "still-progress",
   "metadata": {},
   "outputs": [
    {
     "data": {
      "text/plain": [
       "51325.0"
      ]
     },
     "execution_count": 93,
     "metadata": {},
     "output_type": "execute_result"
    }
   ],
   "source": [
    "cost"
   ]
  },
  {
   "cell_type": "markdown",
   "id": "genetic-oxygen",
   "metadata": {},
   "source": [
    "### Use counter"
   ]
  },
  {
   "cell_type": "code",
   "execution_count": 96,
   "id": "comparative-equipment",
   "metadata": {},
   "outputs": [
    {
     "name": "stdout",
     "output_type": "stream",
     "text": [
      "[('eyes', 8), ('the', 5), ('look', 4)]\n"
     ]
    }
   ],
   "source": [
    "words = [\n",
    "   'look', 'into', 'my', 'eyes', 'look', 'into', 'my', 'eyes',\n",
    "   'the', 'eyes', 'the', 'eyes', 'the', 'eyes', 'not', 'around', 'the',\n",
    "   'eyes', \"don't\", 'look', 'around', 'the', 'eyes', 'look', 'into',\n",
    "   'my', 'eyes', \"you're\", 'under'\n",
    "]\n",
    "from collections import Counter \n",
    "\n",
    "word_counts = Counter(words)\n",
    "top_three = word_counts.most_common(3) \n",
    "print(top_three)"
   ]
  },
  {
   "cell_type": "markdown",
   "id": "powerful-sunset",
   "metadata": {},
   "source": [
    "### Itemgetter for lookup"
   ]
  },
  {
   "cell_type": "code",
   "execution_count": 100,
   "id": "vietnamese-commodity",
   "metadata": {},
   "outputs": [
    {
     "name": "stdout",
     "output_type": "stream",
     "text": [
      "[{'fname': 'Big', 'lname': 'Jones', 'uid': 1004}, {'fname': 'Brian', 'lname': 'Jones', 'uid': 1003}, {'fname': 'David', 'lname': 'Beazley', 'uid': 1002}, {'fname': 'John', 'lname': 'Cleese', 'uid': 1001}]\n",
      "----------------\n",
      "[{'fname': 'John', 'lname': 'Cleese', 'uid': 1001}, {'fname': 'David', 'lname': 'Beazley', 'uid': 1002}, {'fname': 'Brian', 'lname': 'Jones', 'uid': 1003}, {'fname': 'Big', 'lname': 'Jones', 'uid': 1004}]\n"
     ]
    }
   ],
   "source": [
    "rows = [\n",
    "    {'fname': 'Brian', 'lname': 'Jones', 'uid': 1003},\n",
    "    {'fname': 'David', 'lname': 'Beazley', 'uid': 1002},\n",
    "    {'fname': 'John', 'lname': 'Cleese', 'uid': 1001},\n",
    "    {'fname': 'Big', 'lname': 'Jones', 'uid': 1004}\n",
    "]\n",
    "\n",
    "from operator import itemgetter\n",
    "rows_by_fname = sorted(rows, key=itemgetter('fname'))\n",
    "rows_by_uid = sorted(rows, key=itemgetter('uid')) \n",
    "\n",
    "print(rows_by_fname)\n",
    "print(\"----------------\")\n",
    "print(rows_by_uid)"
   ]
  },
  {
   "cell_type": "code",
   "execution_count": 102,
   "id": "charming-throw",
   "metadata": {},
   "outputs": [
    {
     "name": "stdout",
     "output_type": "stream",
     "text": [
      "[{'fname': 'David', 'lname': 'Beazley', 'uid': 1002}, {'fname': 'John', 'lname': 'Cleese', 'uid': 1001}, {'fname': 'Big', 'lname': 'Jones', 'uid': 1004}, {'fname': 'Brian', 'lname': 'Jones', 'uid': 1003}]\n"
     ]
    }
   ],
   "source": [
    "# you can also pass two keys, so the return is a tuple\n",
    "rows_by_lfname = sorted(rows, key=itemgetter('lname','fname'))\n",
    "print(rows_by_lfname)"
   ]
  },
  {
   "cell_type": "code",
   "execution_count": 107,
   "id": "bottom-essex",
   "metadata": {},
   "outputs": [
    {
     "name": "stdout",
     "output_type": "stream",
     "text": [
      "601 ns ± 10.2 ns per loop (mean ± std. dev. of 7 runs, 1000000 loops each)\n"
     ]
    }
   ],
   "source": [
    "# The functionality of itemgetter() is sometimes replaced by lambda expressions. For example:\n",
    "# why use itemgetter? itemgetter is faster! But not that much..? \n",
    "%timeit rows_by_fname = sorted(rows, key=lambda r: r['fname'])"
   ]
  },
  {
   "cell_type": "code",
   "execution_count": 108,
   "id": "bored-beast",
   "metadata": {},
   "outputs": [
    {
     "name": "stdout",
     "output_type": "stream",
     "text": [
      "515 ns ± 7.11 ns per loop (mean ± std. dev. of 7 runs, 1000000 loops each)\n"
     ]
    }
   ],
   "source": [
    "%timeit rows_by_fname = sorted(rows, key=itemgetter('fname'))\n"
   ]
  },
  {
   "cell_type": "markdown",
   "id": "exceptional-damages",
   "metadata": {},
   "source": [
    "### attrgetter"
   ]
  },
  {
   "cell_type": "code",
   "execution_count": 109,
   "id": "about-edgar",
   "metadata": {},
   "outputs": [],
   "source": [
    "class User:\n",
    "    def __init__(self, user_id): \n",
    "        self.user_id = user_id\n",
    "    def __repr__(self):\n",
    "        return 'User({})'.format(self.user_id)"
   ]
  },
  {
   "cell_type": "code",
   "execution_count": 110,
   "id": "reliable-adult",
   "metadata": {},
   "outputs": [],
   "source": [
    "users = [User(23), User(3), User(99)]"
   ]
  },
  {
   "cell_type": "code",
   "execution_count": 111,
   "id": "consistent-episode",
   "metadata": {},
   "outputs": [
    {
     "data": {
      "text/plain": [
       "[User(23), User(3), User(99)]"
      ]
     },
     "execution_count": 111,
     "metadata": {},
     "output_type": "execute_result"
    }
   ],
   "source": [
    "users"
   ]
  },
  {
   "cell_type": "code",
   "execution_count": 113,
   "id": "furnished-recruitment",
   "metadata": {},
   "outputs": [
    {
     "data": {
      "text/plain": [
       "[User(3), User(23), User(99)]"
      ]
     },
     "execution_count": 113,
     "metadata": {},
     "output_type": "execute_result"
    }
   ],
   "source": [
    "# solution 1 is to use lambda\n",
    "sorted(users, key=lambda u: u.user_id)"
   ]
  },
  {
   "cell_type": "code",
   "execution_count": 119,
   "id": "negative-hometown",
   "metadata": {},
   "outputs": [
    {
     "data": {
      "text/plain": [
       "[User(3), User(23), User(99)]"
      ]
     },
     "execution_count": 119,
     "metadata": {},
     "output_type": "execute_result"
    }
   ],
   "source": [
    "# solution 2 is to implement lt\n",
    "class User:\n",
    "    def __init__(self, user_id): \n",
    "        self.user_id = user_id\n",
    "    def __repr__(self):\n",
    "        return 'User({})'.format(self.user_id)\n",
    "    def __lt__(self, other):\n",
    "        return self.user_id < other.user_id\n",
    "\n",
    "users2 = [User(23), User(3), User(99)]\n",
    "sorted(users2)"
   ]
  },
  {
   "cell_type": "code",
   "execution_count": 120,
   "id": "armed-bryan",
   "metadata": {},
   "outputs": [
    {
     "data": {
      "text/plain": [
       "[User(3), User(23), User(99)]"
      ]
     },
     "execution_count": 120,
     "metadata": {},
     "output_type": "execute_result"
    }
   ],
   "source": [
    "# solution 3 is to use attr\n",
    "\n",
    "from operator import attrgetter\n",
    "sorted(users, key=attrgetter('user_id'))"
   ]
  },
  {
   "cell_type": "markdown",
   "id": "blocked-carnival",
   "metadata": {},
   "source": [
    "### Dict, List, Tuple comprehension"
   ]
  },
  {
   "cell_type": "code",
   "execution_count": 121,
   "id": "exotic-melissa",
   "metadata": {},
   "outputs": [],
   "source": [
    "mylist = [1, 4, -5, 10, -7, 2, 3, -1]"
   ]
  },
  {
   "cell_type": "code",
   "execution_count": 122,
   "id": "authentic-remove",
   "metadata": {},
   "outputs": [
    {
     "data": {
      "text/plain": [
       "[1, 4, 10, 2, 3]"
      ]
     },
     "execution_count": 122,
     "metadata": {},
     "output_type": "execute_result"
    }
   ],
   "source": [
    "[n for n in mylist if n > 0]"
   ]
  },
  {
   "cell_type": "code",
   "execution_count": 129,
   "id": "modified-sender",
   "metadata": {},
   "outputs": [
    {
     "name": "stdout",
     "output_type": "stream",
     "text": [
      "1,4,10,2,3,"
     ]
    }
   ],
   "source": [
    "# when the list is big, you may want to use generator to produce filtered values iteratively\n",
    "\n",
    "pos = (n for n in mylist if n > 0)\n",
    "for x in pos:\n",
    "    print(x, end=',')\n",
    "    \n",
    "# of course, you can use filter if the logic is complicated or you  need raise error\n",
    "def is_int(val): \n",
    "    try:\n",
    "        x = int(val)\n",
    "        return True \n",
    "    except ValueError:\n",
    "        return False\n",
    "values = ['1', '2', '-3', '-', '4', 'N/A', '5']"
   ]
  },
  {
   "cell_type": "code",
   "execution_count": 130,
   "id": "surprised-stretch",
   "metadata": {},
   "outputs": [
    {
     "name": "stdout",
     "output_type": "stream",
     "text": [
      "['1', '2', '-3', '4', '5']\n"
     ]
    }
   ],
   "source": [
    "ivals = list(filter(is_int, values))\n",
    "print(ivals)"
   ]
  },
  {
   "cell_type": "code",
   "execution_count": null,
   "id": "institutional-amsterdam",
   "metadata": {},
   "outputs": [],
   "source": []
  },
  {
   "cell_type": "code",
   "execution_count": null,
   "id": "antique-bernard",
   "metadata": {},
   "outputs": [],
   "source": []
  },
  {
   "cell_type": "code",
   "execution_count": null,
   "id": "familiar-bankruptcy",
   "metadata": {},
   "outputs": [],
   "source": []
  },
  {
   "cell_type": "markdown",
   "id": "grave-relation",
   "metadata": {},
   "source": [
    "# Testing, Debugging, and Extension"
   ]
  },
  {
   "cell_type": "markdown",
   "id": "remarkable-resolution",
   "metadata": {},
   "source": [
    "## Context Manager Knowledge"
   ]
  },
  {
   "cell_type": "markdown",
   "id": "funded-mainland",
   "metadata": {},
   "source": [
    "Why context manager?\n",
    "- too many file may be opened but not closed properly (file descriptor leakage)\n",
    "- if an error is thrown, it's not easy to find the files opened and close them"
   ]
  },
  {
   "cell_type": "code",
   "execution_count": null,
   "id": "funky-spencer",
   "metadata": {},
   "outputs": [],
   "source": [
    "# file_descriptors = []\n",
    "# for x in range(100000):\n",
    "#     file_descriptors.append(open('test.txt', 'w'))\n"
   ]
  },
  {
   "cell_type": "code",
   "execution_count": 1,
   "id": "personal-animal",
   "metadata": {},
   "outputs": [],
   "source": [
    "# Python program creating a\n",
    "# context manager\n",
    "\n",
    "class ContextManager():\n",
    "    def __init__(self):\n",
    "        print('init method called')\n",
    "\n",
    "    def __enter__(self):\n",
    "        # build and return the resource needed\n",
    "        print('enter method called')\n",
    "        return self\n",
    "\n",
    "    def __exit__(self, exc_type, exc_value, exc_traceback):\n",
    "        # it cleans up after the context manager scope is finished\n",
    "        print('exit method called')\n",
    "\n",
    "\n",
    "with ContextManager() as manager:\n",
    "\tprint('with statement block')\n"
   ]
  },
  {
   "cell_type": "markdown",
   "id": "little-aspect",
   "metadata": {},
   "source": [
    "### A real example"
   ]
  },
  {
   "cell_type": "markdown",
   "id": "developing-lottery",
   "metadata": {},
   "source": [
    "On executing the with block, the following operations happen in sequence:\n",
    "\n",
    "- A FileManager object is created with test.txt as the filename and w(write) as the mode when __init__ method is executed.\n",
    "- The __enter__ method opens the test.txt file in write mode(setup operation) and returns the FileManager object to variable f.\n",
    "- The text ‘Test’ is written into the file.\n",
    "- The __exit__ method takes care of closing the file on exiting the with block(teardown operation).\n",
    "- When print(f.closed) is run, the output is True as the FileManager has already taken care of closing the file which otherwise needed to be explicitly done."
   ]
  },
  {
   "cell_type": "code",
   "execution_count": 3,
   "id": "bearing-redhead",
   "metadata": {},
   "outputs": [
    {
     "name": "stdout",
     "output_type": "stream",
     "text": [
      "True\n"
     ]
    }
   ],
   "source": [
    "# a real example\n",
    "# Python program showing\n",
    "# file management using\n",
    "# context manager\n",
    "\n",
    "class FileManager():\n",
    "    def __init__(self, filename, mode):\n",
    "        self.filename = filename\n",
    "        self.mode = mode\n",
    "        self.file = None\n",
    "\n",
    "    def __enter__(self):\n",
    "        self.file = open(self.filename, self.mode)\n",
    "        return self.file\n",
    "\n",
    "    def __exit__(self, exc_type, exc_value, exc_traceback):\n",
    "        self.file.close()\n",
    "\n",
    "# loading a file\n",
    "with FileManager('test.txt', 'w') as f:\n",
    "\tf.write('Test')\n",
    "\n",
    "print(f.closed)\n"
   ]
  },
  {
   "cell_type": "markdown",
   "id": "weighted-modern",
   "metadata": {},
   "source": [
    "### Use @contextmanager"
   ]
  },
  {
   "cell_type": "code",
   "execution_count": 5,
   "id": "geographic-index",
   "metadata": {},
   "outputs": [],
   "source": [
    "#     \"\"\"@contextmanager decorator.\n",
    "\n",
    "#     Typical usage:\n",
    "\n",
    "#         @contextmanager\n",
    "#         def some_generator(<arguments>):\n",
    "#             <setup>\n",
    "#             try:\n",
    "#                 yield <value>\n",
    "#             finally:\n",
    "#                 <cleanup>\n",
    "\n",
    "#     This makes this:\n",
    "\n",
    "#         with some_generator(<arguments>) as <variable>:\n",
    "#             <body>\n",
    "\n",
    "#     equivalent to this:\n",
    "\n",
    "#         <setup>\n",
    "#         try:\n",
    "#             <variable> = <value>\n",
    "#             <body>\n",
    "#         finally:\n",
    "#             <cleanup>\n",
    "\n",
    "#     \"\"\"\n"
   ]
  },
  {
   "cell_type": "code",
   "execution_count": 7,
   "id": "packed-manner",
   "metadata": {},
   "outputs": [],
   "source": [
    "from contextlib import contextmanager\n",
    "\n",
    "@contextmanager\n",
    "def myOpen(name, state):\n",
    "    try:\n",
    "        f = open(name, state)\n",
    "        yield f\n",
    "    finally:\n",
    "        f.close()\n",
    "\n",
    "\n",
    "with myOpen(\"test.txt\", \"w\") as f:\n",
    "    f.write(\"hello world!\")\n",
    "# ————————————————\n",
    "# 版权声明：本文为CSDN博主「孔天逸」的原创文章，遵循CC 4.0 BY-SA版权协议，转载请附上原文出处链接及本声明。\n",
    "# 原文链接：https://blog.csdn.net/qq_30242609/article/details/52926646"
   ]
  },
  {
   "cell_type": "markdown",
   "id": "genetic-recall",
   "metadata": {},
   "source": [
    "## Exceptions"
   ]
  },
  {
   "cell_type": "markdown",
   "id": "abandoned-looking",
   "metadata": {},
   "source": [
    "## Exception knowledges"
   ]
  },
  {
   "cell_type": "markdown",
   "id": "geographic-parks",
   "metadata": {},
   "source": [
    "Ref: \n",
    "- https://stackoverflow.com/a/16138864/2882148\n",
    "- https://pythonarray.com/why-try-except-error-handling-is-useful-in-python/\n",
    "\n",
    "Why exception handlers?\n",
    "- Python uses the norm (of using try except control flow\", while there are other languages that do not),  and it's common to see try-except.\n",
    "- Python, as an interpreter language, doesn't have automatic **loop invariant motion**(namely, moving code out of the loop to improve performance), and reqruies try-except to help move the error handler outside of the loop\n",
    "- \"look-before-you-leap\" to prevent **race-condition**. In some cases, we have to do it, e.g., multithread, and mkdir, though you may try to use os.path.exist to avoid, the condition might have been out of date when you mkdir. Thus, we use try-except for a safe mkdir.\n",
    "- If-condition is usually used for business logic, while try-except is error handling\n",
    "\n",
    "\n",
    "In the Python world, using exceptions for flow control is common and normal.\n",
    "\n",
    "Even the Python core developers use exceptions for flow-control and that style is heavily baked into the language \n",
    "\n",
    "\n",
    "\n"
   ]
  },
  {
   "cell_type": "markdown",
   "id": "electrical-assault",
   "metadata": {},
   "source": [
    "   \n",
    "**Criticism: some people think it's only interesting in writing framework.**\n",
    "\n",
    "For people who write frameworks, perhaps it's interesting.You should be circumspect about breaking the ordinary top-to-bottom sequential processing of your program. The exception handling is -- intentionally -- hard to read. Therefore, reserve exceptions for things that are outside the standard scenarios.\n",
    "\n",
    "Example: Don't use exceptions to validate user input. People make input mistakes all the time. That's not exceptional, that's why we write software. That's what if-statements are for.\n",
    "\n",
    "When your application gets an OutOfMemory exception, there's no point in catching it. That's exceptional. The \"sequential execution\" assumption is out the window. Your application is doomed, just crash and hope that your RDBMS transaction finishes before you crash. "
   ]
  },
  {
   "cell_type": "markdown",
   "id": "advised-yemen",
   "metadata": {},
   "source": [
    "### syntax\n",
    "\n",
    "The idea of the try-except block is this:\n",
    "\n",
    "- try: the code with the exception(s) to catch. If an exception is raised, it jumps straight into the except block.\n",
    "\n",
    "- except: this code is only executed if an exception occured in the try block. The except block is required with a try block, even if it contains only the pass statement. \n",
    "\n",
    "It may be combined with the else and finally keywords.\n",
    "\n",
    "- else: Code in the else block is only executed if no exceptions were raised in the try block.\n",
    "\n",
    "- finally: The code in the finally block is always executed, regardless of if a an exception was raised or not.\n",
    "\n",
    "\n",
    "Exceptions are raised when an error occurs. But in Python you can also force an exception to occur with the keyword raise."
   ]
  },
  {
   "cell_type": "markdown",
   "id": "internal-thesaurus",
   "metadata": {},
   "source": [
    "else in try-except syntax is not very ofthen seen, some people even think we shoudl avoid it. However, in some cases, we do need it. e.g., see below"
   ]
  },
  {
   "cell_type": "code",
   "execution_count": 14,
   "id": "collaborative-midnight",
   "metadata": {},
   "outputs": [],
   "source": [
    "# try:\n",
    "#     try_this(whatever)\n",
    "# except SomeException as the_exception:\n",
    "#     handle(the_exception)\n",
    "# else:\n",
    "#     return something"
   ]
  },
  {
   "cell_type": "markdown",
   "id": "smaller-masters",
   "metadata": {},
   "source": [
    "Without the \"else\" syntax, we have to check"
   ]
  },
  {
   "cell_type": "code",
   "execution_count": 15,
   "id": "optional-developer",
   "metadata": {},
   "outputs": [],
   "source": [
    "# no_error = None\n",
    "# try:\n",
    "#     try_this(whatever)\n",
    "#     no_error = True\n",
    "# except SomeException as the_exception:\n",
    "#     handle(the_exception)\n",
    "# if no_error:\n",
    "#     return something"
   ]
  },
  {
   "cell_type": "code",
   "execution_count": null,
   "id": "ideal-replication",
   "metadata": {},
   "outputs": [],
   "source": []
  },
  {
   "cell_type": "markdown",
   "id": "indie-liability",
   "metadata": {},
   "source": [
    "### Exception handlers"
   ]
  },
  {
   "cell_type": "code",
   "execution_count": 22,
   "id": "national-investigator",
   "metadata": {},
   "outputs": [],
   "source": [
    "# handle multiple errors\n",
    "try: \n",
    "    pass\n",
    "except (URLError, ValueError): \n",
    "    pass\n",
    "except SocketTimeout: \n",
    "    pass\n",
    "\n",
    "# alternatively, if two errors inherits from the same base, you could do\n",
    "try:\n",
    "    pass\n",
    "except OSError: \n",
    "    pass\n",
    "# instead of except (FileNotFoundError, PermissionError):\n"
   ]
  },
  {
   "cell_type": "markdown",
   "id": "sapphire-germany",
   "metadata": {},
   "source": [
    "### except is checked in sequence"
   ]
  },
  {
   "cell_type": "code",
   "execution_count": 23,
   "id": "changed-seeker",
   "metadata": {},
   "outputs": [
    {
     "name": "stdout",
     "output_type": "stream",
     "text": [
      "It failed\n"
     ]
    }
   ],
   "source": [
    "# suppose we have a try-except block like below, the FileNotFoundError will \n",
    "# never be reached, why? Since OSError is more general, and FileNotFoundError \n",
    "# inherits from it\n",
    "try:\n",
    "    f = open('missing')\n",
    "except OSError:\n",
    "    print('It failed')\n",
    "except FileNotFoundError:\n",
    "    print('File not found')"
   ]
  },
  {
   "cell_type": "code",
   "execution_count": 25,
   "id": "purple-confidence",
   "metadata": {},
   "outputs": [
    {
     "data": {
      "text/plain": [
       "(FileNotFoundError, OSError, Exception, BaseException, object)"
      ]
     },
     "execution_count": 25,
     "metadata": {},
     "output_type": "execute_result"
    }
   ],
   "source": [
    "# use __mro__ to check it's hierarchy\n",
    "FileNotFoundError.__mro__"
   ]
  },
  {
   "cell_type": "code",
   "execution_count": 26,
   "id": "quantitative-jumping",
   "metadata": {},
   "outputs": [
    {
     "data": {
      "text/plain": [
       "OSError"
      ]
     },
     "execution_count": 26,
     "metadata": {},
     "output_type": "execute_result"
    }
   ],
   "source": [
    "FileExistsError.__base__"
   ]
  },
  {
   "cell_type": "markdown",
   "id": "painful-psychiatry",
   "metadata": {},
   "source": [
    "### Catch general error and use if-condition"
   ]
  },
  {
   "cell_type": "code",
   "execution_count": 35,
   "id": "operating-queensland",
   "metadata": {},
   "outputs": [
    {
     "name": "stderr",
     "output_type": "stream",
     "text": [
      "ERROR:root:File not found\n"
     ]
    }
   ],
   "source": [
    "import errno\n",
    "import logging\n",
    "try:\n",
    "    f = open('filename')\n",
    "except OSError as e:\n",
    "    if e.errno == errno.ENOENT:\n",
    "        logging.error('File not found') \n",
    "    elif e.errno == errno.EACCES:\n",
    "        logging.error('Permission denied')\n",
    "    else:\n",
    "        logging.error('Unexpected error: %d', e.errno)      "
   ]
  },
  {
   "cell_type": "markdown",
   "id": "precise-library",
   "metadata": {},
   "source": [
    "### Catch all exceptions"
   ]
  },
  {
   "cell_type": "code",
   "execution_count": null,
   "id": "hydraulic-cradle",
   "metadata": {},
   "outputs": [],
   "source": [
    "# if you want to catch all exceptions, remembrer to print out them!\n",
    "\n",
    "try: \n",
    "    pass\n",
    "except Exception as e: \n",
    "    log('Reason:', e) # important!! otherwiese you don't know what's going on"
   ]
  },
  {
   "cell_type": "markdown",
   "id": "requested-forge",
   "metadata": {},
   "source": [
    "### Custom exceptions"
   ]
  },
  {
   "cell_type": "markdown",
   "id": "broken-baker",
   "metadata": {},
   "source": [
    "- Inherite from **built-in** exception class\n",
    "- Dont inherite from base class __BaseException__, which is reserved for system-exiting exceptions such as __KeyboardInterrupt__ or __SystemExit__."
   ]
  },
  {
   "cell_type": "markdown",
   "id": "ranking-promotion",
   "metadata": {},
   "source": [
    "### Raise from"
   ]
  },
  {
   "cell_type": "markdown",
   "id": "better-storage",
   "metadata": {},
   "source": [
    "前置知识：\n",
    "\n",
    "- **\\_\\_cause\\_\\_** is the cause of the exception - due to the given exception, the current exception was raised. This is a direct link - X threw this exception, therefore Y has to throw this exception.\n",
    "\n",
    "- **\\_\\_context\\_\\_** on the other hand means that the current exception was raised while trying to handle another exception, and defines the exception that was being handled at the time this one was raised. This is so that you don't lose the fact that the other exceptions happened (and hence were at this code to throw the exception) - the context. X threw this exception, while handling it, Y was also thrown.\n",
    "\n",
    "- **\\_\\_traceback\\_\\_** shows you the stack - the various levels of functions that have been followed to get to the current line of code. This allows you to pinpoint what caused the exception. It is likely to be used (potentially in tandem with \\_\\_context\\_\\_) to find what caused a given bug."
   ]
  },
  {
   "cell_type": "markdown",
   "id": "operational-holocaust",
   "metadata": {},
   "source": [
    "如果，我们想要在一个异常抛出时，增加一个异常，则最好用 \"from e\", 这样的好处在于，我们在掉这个函数的时候，我们可以通过\\_\\_case\\_\\_来查找异常的起源,\n",
    "如果没有用 from e, 则没有这个功能, 但是\\_\\_context\\_\\_还是有的。它表示，我们在跑某个try, 然后发现了错误"
   ]
  },
  {
   "cell_type": "code",
   "execution_count": 57,
   "id": "aggregate-index",
   "metadata": {},
   "outputs": [],
   "source": [
    "def example():\n",
    "    try:\n",
    "        int('N/A')\n",
    "    except ValueError as e:\n",
    "        raise RuntimeError(\"ll\") from e\n",
    "#example()"
   ]
  },
  {
   "cell_type": "code",
   "execution_count": 58,
   "id": "biblical-linux",
   "metadata": {},
   "outputs": [
    {
     "name": "stdout",
     "output_type": "stream",
     "text": [
      "what? ll\n",
      "cause: invalid literal for int() with base 10: 'N/A'\n"
     ]
    }
   ],
   "source": [
    "\n",
    "try:\n",
    "    example()\n",
    "except RuntimeError as e:\n",
    "    print(\"what?\", e)\n",
    "    if e.__cause__:\n",
    "        print(\"cause:\", e.__cause__)\n",
    "        # will supress the underlying error\n"
   ]
  },
  {
   "cell_type": "markdown",
   "id": "clinical-moldova",
   "metadata": {},
   "source": [
    "#### If we don't want too all info"
   ]
  },
  {
   "cell_type": "code",
   "execution_count": 47,
   "id": "architectural-tracy",
   "metadata": {
    "collapsed": true
   },
   "outputs": [
    {
     "ename": "RuntimeError",
     "evalue": "ll",
     "output_type": "error",
     "traceback": [
      "\u001b[0;31m---------------------------------------------------------------------------\u001b[0m",
      "\u001b[0;31mRuntimeError\u001b[0m                              Traceback (most recent call last)",
      "\u001b[0;32m<ipython-input-47-b30846e65bbc>\u001b[0m in \u001b[0;36m<module>\u001b[0;34m\u001b[0m\n\u001b[1;32m      5\u001b[0m     \u001b[0;32mexcept\u001b[0m \u001b[0mValueError\u001b[0m \u001b[0;32mas\u001b[0m \u001b[0me\u001b[0m\u001b[0;34m:\u001b[0m\u001b[0;34m\u001b[0m\u001b[0;34m\u001b[0m\u001b[0m\n\u001b[1;32m      6\u001b[0m         \u001b[0;32mraise\u001b[0m \u001b[0mRuntimeError\u001b[0m\u001b[0;34m(\u001b[0m\u001b[0;34m\"ll\"\u001b[0m\u001b[0;34m)\u001b[0m \u001b[0;32mfrom\u001b[0m \u001b[0;32mNone\u001b[0m \u001b[0;31m# will supress the underlying error\u001b[0m\u001b[0;34m\u001b[0m\u001b[0;34m\u001b[0m\u001b[0m\n\u001b[0;32m----> 7\u001b[0;31m \u001b[0mexample\u001b[0m\u001b[0;34m(\u001b[0m\u001b[0;34m)\u001b[0m\u001b[0;34m\u001b[0m\u001b[0;34m\u001b[0m\u001b[0m\n\u001b[0m",
      "\u001b[0;32m<ipython-input-47-b30846e65bbc>\u001b[0m in \u001b[0;36mexample\u001b[0;34m()\u001b[0m\n\u001b[1;32m      4\u001b[0m         \u001b[0mint\u001b[0m\u001b[0;34m(\u001b[0m\u001b[0;34m'N/A'\u001b[0m\u001b[0;34m)\u001b[0m\u001b[0;34m\u001b[0m\u001b[0;34m\u001b[0m\u001b[0m\n\u001b[1;32m      5\u001b[0m     \u001b[0;32mexcept\u001b[0m \u001b[0mValueError\u001b[0m \u001b[0;32mas\u001b[0m \u001b[0me\u001b[0m\u001b[0;34m:\u001b[0m\u001b[0;34m\u001b[0m\u001b[0;34m\u001b[0m\u001b[0m\n\u001b[0;32m----> 6\u001b[0;31m         \u001b[0;32mraise\u001b[0m \u001b[0mRuntimeError\u001b[0m\u001b[0;34m(\u001b[0m\u001b[0;34m\"ll\"\u001b[0m\u001b[0;34m)\u001b[0m \u001b[0;32mfrom\u001b[0m \u001b[0;32mNone\u001b[0m \u001b[0;31m# will supress the underlying error\u001b[0m\u001b[0;34m\u001b[0m\u001b[0;34m\u001b[0m\u001b[0m\n\u001b[0m\u001b[1;32m      7\u001b[0m \u001b[0mexample\u001b[0m\u001b[0;34m(\u001b[0m\u001b[0;34m)\u001b[0m\u001b[0;34m\u001b[0m\u001b[0;34m\u001b[0m\u001b[0m\n",
      "\u001b[0;31mRuntimeError\u001b[0m: ll"
     ]
    }
   ],
   "source": [
    "def example():\n",
    "    try:\n",
    "        int('N/A')\n",
    "    except ValueError as e:\n",
    "        raise RuntimeError(\"ll\") from None # will supress the underlying error\n",
    "example()"
   ]
  },
  {
   "cell_type": "markdown",
   "id": "protective-moral",
   "metadata": {},
   "source": [
    "#### If we want to repeat the cause"
   ]
  },
  {
   "cell_type": "code",
   "execution_count": 61,
   "id": "perfect-computer",
   "metadata": {},
   "outputs": [],
   "source": [
    "try: \n",
    "    pass\n",
    "except Exception as e:\n",
    "    # Process exception information in some way ...\n",
    "    \n",
    "    # Propagate the exception\n",
    "    raise # simply raise it again"
   ]
  },
  {
   "cell_type": "markdown",
   "id": "false-trainer",
   "metadata": {},
   "source": [
    "## Profiling and Timing (Cookbook 14.13)"
   ]
  },
  {
   "cell_type": "code",
   "execution_count": null,
   "id": "stuffed-shame",
   "metadata": {},
   "outputs": [],
   "source": []
  },
  {
   "cell_type": "markdown",
   "id": "potential-popularity",
   "metadata": {},
   "source": [
    "### Test a function running time"
   ]
  },
  {
   "cell_type": "code",
   "execution_count": 144,
   "id": "concrete-console",
   "metadata": {},
   "outputs": [],
   "source": [
    "import time\n",
    "from functools import wraps\n",
    "\n",
    "def timethis(func): \n",
    "    @wraps(func)\n",
    "    def wrapper(*args, **kwargs):\n",
    "        start = time.perf_counter()\n",
    "        r = func(*args, **kwargs)\n",
    "        end = time.perf_counter()\n",
    "        print('{}.{} : {:.3f}s'.format(func.__module__, func.__name__, end - start)) \n",
    "        return r\n",
    "    return wrapper"
   ]
  },
  {
   "cell_type": "code",
   "execution_count": 145,
   "id": "multiple-needle",
   "metadata": {},
   "outputs": [],
   "source": [
    "@timethis\n",
    "def countdown(n):\n",
    "    while n > 0:\n",
    "        n -= 1"
   ]
  },
  {
   "cell_type": "code",
   "execution_count": 146,
   "id": "alert-horizon",
   "metadata": {},
   "outputs": [
    {
     "name": "stdout",
     "output_type": "stream",
     "text": [
      "__main__.countdown : 0.000s\n"
     ]
    }
   ],
   "source": [
    "countdown(1000)"
   ]
  },
  {
   "cell_type": "markdown",
   "id": "local-teens",
   "metadata": {},
   "source": [
    "### Test a block of code"
   ]
  },
  {
   "cell_type": "code",
   "execution_count": 142,
   "id": "expensive-toner",
   "metadata": {},
   "outputs": [],
   "source": [
    "from contextlib import contextmanager\n",
    "@contextmanager\n",
    "def timeblock(label):\n",
    "    start = time.perf_counter() \n",
    "    try:\n",
    "        yield \n",
    "    finally:\n",
    "        end = time.perf_counter()\n",
    "        print('{} : {:.3f} s'.format(label, end - start))"
   ]
  },
  {
   "cell_type": "code",
   "execution_count": 143,
   "id": "accomplished-picking",
   "metadata": {},
   "outputs": [
    {
     "name": "stdout",
     "output_type": "stream",
     "text": [
      "counting : 0.074 s\n"
     ]
    }
   ],
   "source": [
    "with timeblock('counting'):\n",
    "    n = int(1e6)\n",
    "    while n > 0:\n",
    "        n -= 1"
   ]
  },
  {
   "cell_type": "markdown",
   "id": "everyday-plaintiff",
   "metadata": {},
   "source": [
    "### Use Timeit but as function"
   ]
  },
  {
   "cell_type": "code",
   "execution_count": 10,
   "id": "exclusive-stationery",
   "metadata": {},
   "outputs": [
    {
     "data": {
      "text/plain": [
       "0.7805601590000038"
      ]
     },
     "execution_count": 10,
     "metadata": {},
     "output_type": "execute_result"
    }
   ],
   "source": [
    "# timeit(<func>, <required module>, # of iterations)\n",
    "from timeit import timeit\n",
    "timeit('math.sqrt(2)', 'import math', number=10000000)"
   ]
  },
  {
   "cell_type": "markdown",
   "id": "written-bargain",
   "metadata": {},
   "source": [
    "### Machine time vs process time measurement"
   ]
  },
  {
   "cell_type": "code",
   "execution_count": 12,
   "id": "incorporate-appointment",
   "metadata": {},
   "outputs": [],
   "source": [
    "from functools import wraps \n",
    "def timethis(func):\n",
    "    @wraps(func)\n",
    "    def wrapper(*args, **kwargs):\n",
    "        start = time.process_time()\n",
    "        r = func(*args, **kwargs)\n",
    "        end = time.process_time()\n",
    "        print('{}.{} : {}'.format(func.__module__, func.__name__, end - start)) \n",
    "        return r\n",
    "    return wrapper"
   ]
  },
  {
   "cell_type": "markdown",
   "id": "following-bennett",
   "metadata": {},
   "source": []
  },
  {
   "cell_type": "markdown",
   "id": "desperate-flower",
   "metadata": {},
   "source": []
  },
  {
   "cell_type": "code",
   "execution_count": null,
   "id": "meaningful-electric",
   "metadata": {},
   "outputs": [],
   "source": []
  },
  {
   "cell_type": "code",
   "execution_count": null,
   "id": "adjustable-shannon",
   "metadata": {},
   "outputs": [],
   "source": []
  },
  {
   "cell_type": "code",
   "execution_count": null,
   "id": "closing-adams",
   "metadata": {},
   "outputs": [],
   "source": []
  },
  {
   "cell_type": "code",
   "execution_count": null,
   "id": "classified-berlin",
   "metadata": {},
   "outputs": [],
   "source": []
  },
  {
   "cell_type": "code",
   "execution_count": null,
   "id": "valued-interference",
   "metadata": {},
   "outputs": [],
   "source": []
  },
  {
   "cell_type": "code",
   "execution_count": null,
   "id": "false-terminology",
   "metadata": {},
   "outputs": [],
   "source": []
  },
  {
   "cell_type": "code",
   "execution_count": null,
   "id": "worldwide-aurora",
   "metadata": {},
   "outputs": [],
   "source": []
  }
 ],
 "metadata": {
  "kernelspec": {
   "display_name": "Python 3",
   "language": "python",
   "name": "python3"
  },
  "language_info": {
   "codemirror_mode": {
    "name": "ipython",
    "version": 3
   },
   "file_extension": ".py",
   "mimetype": "text/x-python",
   "name": "python",
   "nbconvert_exporter": "python",
   "pygments_lexer": "ipython3",
   "version": "3.8.7"
  },
  "toc": {
   "colors": {
    "hover_highlight": "#DAA520",
    "running_highlight": "#FF0000",
    "selected_highlight": "#FFD700"
   },
   "moveMenuLeft": true,
   "nav_menu": {
    "height": "511.989px",
    "width": "251.989px"
   },
   "navigate_menu": true,
   "number_sections": true,
   "sideBar": true,
   "threshold": 4,
   "toc_cell": true,
   "toc_section_display": "block",
   "toc_window_display": true,
   "widenNotebook": false
  }
 },
 "nbformat": 4,
 "nbformat_minor": 5
}
