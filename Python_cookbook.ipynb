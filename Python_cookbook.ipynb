{
 "cells": [
  {
   "cell_type": "markdown",
   "id": "given-stone",
   "metadata": {
    "toc": "true"
   },
   "source": [
    "# Table of Contents\n",
    " <p><div class=\"lev1 toc-item\"><a href=\"#Dictionary\" data-toc-modified-id=\"Dictionary-1\"><span class=\"toc-item-num\">1&nbsp;&nbsp;</span>Dictionary</a></div><div class=\"lev2 toc-item\"><a href=\"#Dict-Max,-Min\" data-toc-modified-id=\"Dict-Max,-Min-11\"><span class=\"toc-item-num\">1.1&nbsp;&nbsp;</span>Dict Max, Min</a></div><div class=\"lev3 toc-item\"><a href=\"#Max/Min-is-based-on-keys-not-values\" data-toc-modified-id=\"Max/Min-is-based-on-keys-not-values-111\"><span class=\"toc-item-num\">1.1.1&nbsp;&nbsp;</span>Max/Min is based on keys not values</a></div><div class=\"lev3 toc-item\"><a href=\"#Another-way-is-to-use-max/min(iterables,-func)\" data-toc-modified-id=\"Another-way-is-to-use-max/min(iterables,-func)-112\"><span class=\"toc-item-num\">1.1.2&nbsp;&nbsp;</span>Another way is to use max/min(iterables, func)</a></div><div class=\"lev3 toc-item\"><a href=\"#It-gest-messy-if-you-want-val\" data-toc-modified-id=\"It-gest-messy-if-you-want-val-113\"><span class=\"toc-item-num\">1.1.3&nbsp;&nbsp;</span>It gest messy if you want val</a></div><div class=\"lev3 toc-item\"><a href=\"#Best-Solution-to-find-min-and-max-is-to-zip-reveresed-(val,-key)-tuple\" data-toc-modified-id=\"Best-Solution-to-find-min-and-max-is-to-zip-reveresed-(val,-key)-tuple-114\"><span class=\"toc-item-num\">1.1.4&nbsp;&nbsp;</span>Best Solution to find min and max is to zip reveresed (val, key) tuple</a></div><div class=\"lev3 toc-item\"><a href=\"#One-thing-interesting-is-&quot;Key&quot;-will-be-used-when-&quot;Values&quot;-are-duplicated\" data-toc-modified-id=\"One-thing-interesting-is-&quot;Key&quot;-will-be-used-when-&quot;Values&quot;-are-duplicated-115\"><span class=\"toc-item-num\">1.1.5&nbsp;&nbsp;</span>One thing interesting is \"Key\" will be used when \"Values\" are duplicated</a></div><div class=\"lev3 toc-item\"><a href=\"#Example-3-Zip-is-called-only-once\" data-toc-modified-id=\"Example-3-Zip-is-called-only-once-116\"><span class=\"toc-item-num\">1.1.6&nbsp;&nbsp;</span>Example-3 Zip is called only once</a></div><div class=\"lev2 toc-item\"><a href=\"#Dict-common\" data-toc-modified-id=\"Dict-common-12\"><span class=\"toc-item-num\">1.2&nbsp;&nbsp;</span>Dict common</a></div><div class=\"lev3 toc-item\"><a href=\"#Easiest-way-to-find-common\" data-toc-modified-id=\"Easiest-way-to-find-common-121\"><span class=\"toc-item-num\">1.2.1&nbsp;&nbsp;</span>Easiest way to find common</a></div><div class=\"lev1 toc-item\"><a href=\"#Hashable\" data-toc-modified-id=\"Hashable-2\"><span class=\"toc-item-num\">2&nbsp;&nbsp;</span>Hashable</a></div><div class=\"lev2 toc-item\"><a href=\"#Basic-hashable-knowledge\" data-toc-modified-id=\"Basic-hashable-knowledge-21\"><span class=\"toc-item-num\">2.1&nbsp;&nbsp;</span>Basic hashable knowledge</a></div><div class=\"lev3 toc-item\"><a href=\"#Here,-we-define-the-hash-function,-(default-way-of-hashing-from-id-in-Python)\" data-toc-modified-id=\"Here,-we-define-the-hash-function,-(default-way-of-hashing-from-id-in-Python)-211\"><span class=\"toc-item-num\">2.1.1&nbsp;&nbsp;</span>Here, we define the hash function, (default way of hashing from id in Python)</a></div><div class=\"lev3 toc-item\"><a href=\"#But-built-in-type..-No\" data-toc-modified-id=\"But-built-in-type..-No-212\"><span class=\"toc-item-num\">2.1.2&nbsp;&nbsp;</span>But built-in type.. No</a></div><div class=\"lev3 toc-item\"><a href=\"#In-fact,-the-default-hash-val-is-from-id,-with-some-calculations\" data-toc-modified-id=\"In-fact,-the-default-hash-val-is-from-id,-with-some-calculations-213\"><span class=\"toc-item-num\">2.1.3&nbsp;&nbsp;</span>In fact, the default hash val is from id, with some calculations</a></div><div class=\"lev3 toc-item\"><a href=\"#Of-course,-you-can-re-define-hash,-but-do-it-correctly!\" data-toc-modified-id=\"Of-course,-you-can-re-define-hash,-but-do-it-correctly!-214\"><span class=\"toc-item-num\">2.1.4&nbsp;&nbsp;</span>Of course, you can re-define hash, but do it correctly!</a></div><div class=\"lev2 toc-item\"><a href=\"#Cookbook-it!-If-we-want-to-make-a-new-dict,-based-on-old-dict-but-without-some-keys\" data-toc-modified-id=\"Cookbook-it!-If-we-want-to-make-a-new-dict,-based-on-old-dict-but-without-some-keys-22\"><span class=\"toc-item-num\">2.2&nbsp;&nbsp;</span>Cookbook it! If we want to make a new dict, based on old dict but without some keys</a></div><div class=\"lev2 toc-item\"><a href=\"#What-if-we-want-to-remove-duplicates-from-sequence\" data-toc-modified-id=\"What-if-we-want-to-remove-duplicates-from-sequence-23\"><span class=\"toc-item-num\">2.3&nbsp;&nbsp;</span>What if we want to remove duplicates from sequence</a></div><div class=\"lev3 toc-item\"><a href=\"#Naming-a-slice-(cookbook-1.11)\" data-toc-modified-id=\"Naming-a-slice-(cookbook-1.11)-231\"><span class=\"toc-item-num\">2.3.1&nbsp;&nbsp;</span>Naming a slice (cookbook 1.11)</a></div><div class=\"lev3 toc-item\"><a href=\"#Use-counter\" data-toc-modified-id=\"Use-counter-232\"><span class=\"toc-item-num\">2.3.2&nbsp;&nbsp;</span>Use counter</a></div><div class=\"lev3 toc-item\"><a href=\"#Itemgetter-for-lookup\" data-toc-modified-id=\"Itemgetter-for-lookup-233\"><span class=\"toc-item-num\">2.3.3&nbsp;&nbsp;</span>Itemgetter for lookup</a></div><div class=\"lev3 toc-item\"><a href=\"#attrgetter\" data-toc-modified-id=\"attrgetter-234\"><span class=\"toc-item-num\">2.3.4&nbsp;&nbsp;</span>attrgetter</a></div>"
   ]
  },
  {
   "cell_type": "markdown",
   "id": "horizontal-strengthening",
   "metadata": {},
   "source": [
    "# Dictionary"
   ]
  },
  {
   "cell_type": "markdown",
   "id": "statutory-sunset",
   "metadata": {},
   "source": [
    "## Dict Max, Min"
   ]
  },
  {
   "cell_type": "code",
   "execution_count": 1,
   "id": "advised-maintenance",
   "metadata": {},
   "outputs": [],
   "source": [
    "prices = {\n",
    "       'ACME': 45.23,\n",
    "       'AAPL': 612.78,\n",
    "       'IBM': 205.55,\n",
    "       'HPQ': 37.20,\n",
    "       'FB': 10.75\n",
    "}"
   ]
  },
  {
   "cell_type": "markdown",
   "id": "human-rubber",
   "metadata": {},
   "source": [
    "### Max/Min is based on keys not values"
   ]
  },
  {
   "cell_type": "code",
   "execution_count": 13,
   "id": "judicial-click",
   "metadata": {},
   "outputs": [
    {
     "name": "stdout",
     "output_type": "stream",
     "text": [
      "IBM\n"
     ]
    }
   ],
   "source": [
    " print(max(prices)) # why? This string is biggest, \"I\""
   ]
  },
  {
   "cell_type": "code",
   "execution_count": 15,
   "id": "hollywood-typing",
   "metadata": {},
   "outputs": [
    {
     "name": "stdout",
     "output_type": "stream",
     "text": [
      "612.78\n"
     ]
    }
   ],
   "source": [
    "print(max(prices.values())) # Ok, if you want to use values"
   ]
  },
  {
   "cell_type": "markdown",
   "id": "downtown-treatment",
   "metadata": {},
   "source": [
    "### Another way is to use max/min(iterables, func)"
   ]
  },
  {
   "cell_type": "code",
   "execution_count": 16,
   "id": "tender-williams",
   "metadata": {},
   "outputs": [
    {
     "data": {
      "text/plain": [
       "'AAPL'"
      ]
     },
     "execution_count": 16,
     "metadata": {},
     "output_type": "execute_result"
    }
   ],
   "source": [
    "max(prices, key=lambda x: prices[x])"
   ]
  },
  {
   "cell_type": "markdown",
   "id": "afraid-switch",
   "metadata": {},
   "source": [
    "### It gest messy if you want val"
   ]
  },
  {
   "cell_type": "code",
   "execution_count": 18,
   "id": "listed-tract",
   "metadata": {},
   "outputs": [
    {
     "data": {
      "text/plain": [
       "612.78"
      ]
     },
     "execution_count": 18,
     "metadata": {},
     "output_type": "execute_result"
    }
   ],
   "source": [
    "prices[max(prices, key=lambda x:prices[x])]"
   ]
  },
  {
   "cell_type": "markdown",
   "id": "interested-upper",
   "metadata": {},
   "source": [
    "### Best Solution to find min and max is to zip reveresed (val, key) tuple"
   ]
  },
  {
   "cell_type": "code",
   "execution_count": 3,
   "id": "victorian-vinyl",
   "metadata": {},
   "outputs": [
    {
     "name": "stdout",
     "output_type": "stream",
     "text": [
      "(10.75, 'FB')\n"
     ]
    }
   ],
   "source": [
    "# Solution \n",
    "min_price = min(zip(prices.values(), prices.keys()))\n",
    "print(min_price)"
   ]
  },
  {
   "cell_type": "code",
   "execution_count": 6,
   "id": "civil-possible",
   "metadata": {},
   "outputs": [
    {
     "name": "stdout",
     "output_type": "stream",
     "text": [
      "[(10.75, 'FB'), (37.2, 'HPQ'), (45.23, 'ACME'), (205.55, 'IBM'), (612.78, 'AAPL')]\n"
     ]
    }
   ],
   "source": [
    "prices_sorted = sorted(zip(prices.values(), prices.keys()))\n",
    "print(prices_sorted)"
   ]
  },
  {
   "cell_type": "markdown",
   "id": "great-twenty",
   "metadata": {},
   "source": [
    "### One thing interesting is \"Key\" will be used when \"Values\" are duplicated"
   ]
  },
  {
   "cell_type": "code",
   "execution_count": null,
   "id": "hybrid-peace",
   "metadata": {},
   "outputs": [],
   "source": [
    "prices = { 'AAA' : 45.23, 'ZZZ': 45.23 }"
   ]
  },
  {
   "cell_type": "code",
   "execution_count": null,
   "id": "gothic-alliance",
   "metadata": {},
   "outputs": [
    {
     "data": {
      "text/plain": [
       "(45.23, 'AAA')"
      ]
     },
     "execution_count": 2,
     "metadata": {},
     "output_type": "execute_result"
    }
   ],
   "source": [
    "min(zip(prices.values(), prices.keys()))"
   ]
  },
  {
   "cell_type": "code",
   "execution_count": 3,
   "id": "danish-yukon",
   "metadata": {},
   "outputs": [
    {
     "data": {
      "text/plain": [
       "(45.23, 'ZZZ')"
      ]
     },
     "execution_count": 3,
     "metadata": {},
     "output_type": "execute_result"
    }
   ],
   "source": [
    " max(zip(prices.values(), prices.keys()))"
   ]
  },
  {
   "cell_type": "markdown",
   "id": "exclusive-concert",
   "metadata": {},
   "source": [
    "### Example-3 Zip is called only once"
   ]
  },
  {
   "cell_type": "code",
   "execution_count": 11,
   "id": "official-lover",
   "metadata": {},
   "outputs": [
    {
     "name": "stdout",
     "output_type": "stream",
     "text": [
      "(10.75, 'FB')\n"
     ]
    },
    {
     "ename": "ValueError",
     "evalue": "max() arg is an empty sequence",
     "output_type": "error",
     "traceback": [
      "\u001b[0;31m---------------------------------------------------------------------------\u001b[0m",
      "\u001b[0;31mValueError\u001b[0m                                Traceback (most recent call last)",
      "\u001b[0;32m<ipython-input-11-c1202be833d5>\u001b[0m in \u001b[0;36m<module>\u001b[0;34m\u001b[0m\n\u001b[1;32m      5\u001b[0m \u001b[0;34m\u001b[0m\u001b[0m\n\u001b[1;32m      6\u001b[0m \u001b[0mprint\u001b[0m\u001b[0;34m(\u001b[0m\u001b[0mmin\u001b[0m\u001b[0;34m(\u001b[0m\u001b[0mprices_and_names\u001b[0m\u001b[0;34m)\u001b[0m\u001b[0;34m)\u001b[0m \u001b[0;31m# OK\u001b[0m\u001b[0;34m\u001b[0m\u001b[0;34m\u001b[0m\u001b[0m\n\u001b[0;32m----> 7\u001b[0;31m \u001b[0mprint\u001b[0m\u001b[0;34m(\u001b[0m\u001b[0mmax\u001b[0m\u001b[0;34m(\u001b[0m\u001b[0mprices_and_names\u001b[0m\u001b[0;34m)\u001b[0m\u001b[0;34m)\u001b[0m \u001b[0;31m# ValueError: max() arg is an empty sequence\u001b[0m\u001b[0;34m\u001b[0m\u001b[0;34m\u001b[0m\u001b[0m\n\u001b[0m",
      "\u001b[0;31mValueError\u001b[0m: max() arg is an empty sequence"
     ]
    }
   ],
   "source": [
    "# Example - 3\n",
    "# Zip will crete an iterator that can be consumed once ONLY\n",
    "\n",
    "prices_and_names = zip(prices.values(), prices.keys())\n",
    "\n",
    "print(min(prices_and_names)) # OK\n",
    "print(max(prices_and_names)) # ValueError: max() arg is an empty sequence"
   ]
  },
  {
   "cell_type": "markdown",
   "id": "suspected-bibliography",
   "metadata": {},
   "source": [
    "## Dict common"
   ]
  },
  {
   "cell_type": "markdown",
   "id": "ruled-concept",
   "metadata": {},
   "source": [
    "A dictionary is a mapping between a set of keys and values. The keys() method of a dictionary returns a keys-view object that exposes the keys. A little-known feature of keys views is that they also support common set operations such as unions, intersections, and differences. \n",
    "\n",
    "**Thus, if you need to perform common set operations with dictionary keys, you can often just use the keys-view objects directly without first converting them into a set.**\n",
    "\n",
    "- Keys() --> set\n",
    "- Values --> not set, since duplicated values may exist\n",
    "- Items() --> set (tuple a-like)"
   ]
  },
  {
   "cell_type": "code",
   "execution_count": 15,
   "id": "pleasant-myrtle",
   "metadata": {},
   "outputs": [],
   "source": [
    "m = {'x', 'y', 'z'} # this will create a set\n",
    "n = {'x', 'y', 'j'}"
   ]
  },
  {
   "cell_type": "code",
   "execution_count": 21,
   "id": "liberal-yield",
   "metadata": {
    "scrolled": true
   },
   "outputs": [
    {
     "data": {
      "text/plain": [
       "{'x', 'y'}"
      ]
     },
     "execution_count": 21,
     "metadata": {},
     "output_type": "execute_result"
    }
   ],
   "source": [
    "m & n"
   ]
  },
  {
   "cell_type": "markdown",
   "id": "frozen-omega",
   "metadata": {},
   "source": [
    "### Easiest way to find common"
   ]
  },
  {
   "cell_type": "code",
   "execution_count": 24,
   "id": "delayed-romance",
   "metadata": {},
   "outputs": [],
   "source": [
    "a={\n",
    "'x' : 1,\n",
    "'y' : 2,\n",
    "'z' : 3 }\n",
    "\n",
    "b={\n",
    "'w' : 10,\n",
    "'x' : 11,\n",
    "'y' : 2 }\n"
   ]
  },
  {
   "cell_type": "code",
   "execution_count": 25,
   "id": "thorough-familiar",
   "metadata": {},
   "outputs": [
    {
     "name": "stdout",
     "output_type": "stream",
     "text": [
      "<class 'dict_keys'>\n",
      "<class 'dict_values'>\n"
     ]
    }
   ],
   "source": [
    "print(type(a.keys()))\n",
    "print(type(a.values()))"
   ]
  },
  {
   "cell_type": "code",
   "execution_count": 26,
   "id": "gorgeous-dakota",
   "metadata": {},
   "outputs": [
    {
     "data": {
      "text/plain": [
       "{('y', 2)}"
      ]
     },
     "execution_count": 26,
     "metadata": {},
     "output_type": "execute_result"
    }
   ],
   "source": [
    "# Find keys in common\n",
    "a.keys() & b.keys() # { 'x', 'y' }\n",
    "\n",
    "# Find keys in a that are not in b \n",
    "a.keys() - b.keys() # { 'z' }\n",
    "\n",
    "# Find (key,value) pairs in common \n",
    "a.items() & b.items() # { ('y', 2) }"
   ]
  },
  {
   "cell_type": "markdown",
   "id": "spiritual-pastor",
   "metadata": {},
   "source": [
    "# Hashable"
   ]
  },
  {
   "cell_type": "markdown",
   "id": "international-craps",
   "metadata": {},
   "source": [
    "## Basic hashable knowledge"
   ]
  },
  {
   "cell_type": "markdown",
   "id": "authentic-people",
   "metadata": {},
   "source": [
    "- What is hashable ? you can call hash on it, usually an immutable(sth doesnt change) is hashable, you always get a same hash value, things like float, int, str.\n",
    "- An object is hashable if it has a hash value which never changes during its lifetime (it needs a __hash__() method), and can be compared to other objects (it needs an __eq__() or __cmp__() method). Hashable objects which compare equal must have the same hash value.\n",
    "\n",
    "- Hashability makes an object usable as a dictionary key and a set member, because these data structures use the hash value internally.\n",
    "\n",
    "- All of Python’s immutable built-in objects are hashable, while no mutable containers (such as lists or dictionaries) are. Objects which are instances of user-defined classes are hashable by default; they all compare unequal, and their hash value is their id() (**in fact, this is not true, the hash val is from id, but not exact id, see test below**).\n"
   ]
  },
  {
   "cell_type": "markdown",
   "id": "infinite-colony",
   "metadata": {},
   "source": [
    "### Here, we define the hash function, (default way of hashing from id in Python)"
   ]
  },
  {
   "cell_type": "code",
   "execution_count": null,
   "id": "saved-baptist",
   "metadata": {},
   "outputs": [],
   "source": [
    "# https://stackoverflow.com/questions/11324271/what-is-the-default-hash-in-python\n",
    "# What is the default __hash__ in python?\n",
    "def compute_hash(my_id):\n",
    "    import numpy\n",
    "    y = numpy.array([my_id], dtype='int64')\n",
    "    SIZEOF_VOID_P = 8\n",
    "    return (y >> 4) | (y << (8 * SIZEOF_VOID_P - 4))"
   ]
  },
  {
   "cell_type": "markdown",
   "id": "eastern-multiple",
   "metadata": {},
   "source": [
    "### But built-in type.. No"
   ]
  },
  {
   "cell_type": "code",
   "execution_count": null,
   "id": "registered-recipient",
   "metadata": {},
   "outputs": [],
   "source": [
    "# item-2, str hash values != id\n",
    "test_str = \"p\"\n",
    "print(hash(test_str) )\n",
    "print(id(test_str))\n",
    "print(compute_hash(id(test_str)))"
   ]
  },
  {
   "cell_type": "code",
   "execution_count": 80,
   "id": "under-affiliate",
   "metadata": {},
   "outputs": [
    {
     "name": "stdout",
     "output_type": "stream",
     "text": [
      "-3256958674500163095\n",
      "140542295805232\n",
      "[8783893487827]\n",
      "4433758944\n",
      "2\n",
      "[277109934]\n"
     ]
    }
   ],
   "source": [
    "#\n",
    "a = 2\n",
    "print(id(a))\n",
    "print(hash(a))\n",
    "print(compute_hash(id(a)))"
   ]
  },
  {
   "cell_type": "markdown",
   "id": "spectacular-legislation",
   "metadata": {},
   "source": [
    "### In fact, the default hash val is from id, with some calculations"
   ]
  },
  {
   "cell_type": "code",
   "execution_count": 77,
   "id": "exempt-agriculture",
   "metadata": {},
   "outputs": [
    {
     "name": "stdout",
     "output_type": "stream",
     "text": [
      "hash_val: 8783897318075\n",
      "hash_val: 8783897318075\n",
      "id      : 140542357089200\n",
      "hash from id: [8783897318075]\n"
     ]
    }
   ],
   "source": [
    "class test0():\n",
    "    use_int = 0\n",
    "    use_name = \"\"\n",
    "    use_list = []\n",
    "    \n",
    "    def __init__(self, use_int:int, use_name:str, use_list:list)->None:\n",
    "        self.use_int = use_int\n",
    "        self.use_name = use_name\n",
    "        self.use_list = use_list\n",
    "\n",
    "test_obj = test0(0,\"John\",[\"test\",\"more test\",])\n",
    "print(\"hash_val:\", hash(test_obj))\n",
    "print(\"hash_val:\", test_obj.__hash__())\n",
    "print(\"id      :\", id(test_obj))\n",
    "print(\"hash from id:\", compute_hash(id(test_obj)))"
   ]
  },
  {
   "cell_type": "code",
   "execution_count": 69,
   "id": "fifty-governor",
   "metadata": {},
   "outputs": [
    {
     "name": "stdout",
     "output_type": "stream",
     "text": [
      "140542338911584\n",
      "8783896181974\n",
      "[8783896181974]\n"
     ]
    }
   ],
   "source": [
    "class test: pass\n",
    "\n",
    "a = test()\n",
    "print(id(a))\n",
    "print(hash(a))\n",
    "print(compute_hash(id(a)))"
   ]
  },
  {
   "cell_type": "markdown",
   "id": "tracked-newspaper",
   "metadata": {},
   "source": [
    "### Of course, you can re-define hash, but do it correctly!"
   ]
  },
  {
   "cell_type": "code",
   "execution_count": 54,
   "id": "valid-bouquet",
   "metadata": {
    "scrolled": true
   },
   "outputs": [
    {
     "name": "stdout",
     "output_type": "stream",
     "text": [
      "-8432193631831888705\n",
      "2151556622989448099\n",
      "3376702520863720933\n",
      "obj id=140542352256304\n",
      "{<__main__.test object at 0x7fd290fb6d30>: 'object used as key'}\n",
      "obj id=140542352256304\n",
      "{<__main__.test object at 0x7fd290fb6d30>: 'object used as key'}\n",
      "{<__main__.test object at 0x7fd290fb6d30>: 'object used as key', <__main__.test object at 0x7fd290fb6d30>: 'second object'}\n",
      "{<__main__.test object at 0x7fd290fb6d30>: 'third object', <__main__.test object at 0x7fd290fb6d30>: 'second object'}\n",
      "2,John,test,more test\n",
      "2151556622989448099\n"
     ]
    }
   ],
   "source": [
    "# python mutable and hashable types\n",
    "# https://stackoverflow.com/questions/67249977/python-mutable-and-hashable-types\n",
    "# 解释，我们的object instance, 如果不重新改写hash, 则会是一个随机数（貌似不是id), 如果改写，有可能得到我们不想要的结果\n",
    "# 例如，这个例子，我们instance.use_list 改变后，虽然，还是一个instance, 但是，对应的hash值不同了，则出现了“重复”的keys\n",
    "# {<__main__.test object at 0x7fd290fb6d00>: 'object used as key', <__main__.test object at 0x7fd290fb6d00>: 'second object'}\n",
    "# 这个，可以看出来，key是相同的，但是为什么出现在keys里面？仔细看，我们的hash利用了keys, 这个又是和use_list有关，即其实是不同的，\n",
    "# 所以我们这样做，不好。。\n",
    "# 解决方法：不要乱改__key(), __hash(), 用自带的\n",
    "# 或者好好写。。\n",
    "class test():\n",
    "    \n",
    "    use_int = 0\n",
    "    use_name = \"\"\n",
    "    use_list = []\n",
    "    \n",
    "    def __init__(self, use_int:int, use_name:str, use_list:list)->None:\n",
    "        self.use_int = use_int\n",
    "        self.use_name = use_name\n",
    "        self.use_list = use_list\n",
    "    \n",
    "    def __key(self):\n",
    "        return (str(self.use_int), self.use_name,\",\".join(self.use_list))\n",
    "        \n",
    "    def __hash__(self):\n",
    "        return hash(self.__key())\n",
    "    \n",
    "    def __str__(self):\n",
    "        return \",\".join(self.__key())\n",
    "        \n",
    "if __name__ == \"__main__\":\n",
    "    test_obj = test(0,\"John\",[\"test\",\"more test\",])\n",
    "    # create an object instance, then change int\n",
    "    print(test_obj.__hash__())\n",
    "    # -8432193631831888705\n",
    "    test_obj.use_int = 1\n",
    "    print(test_obj.__hash__())\n",
    "    # 2151556622989448099\n",
    "    test_obj.use_int = 2\n",
    "    print(test_obj.__hash__())\n",
    "    # 3376702520863720933\n",
    "    \n",
    "    print(f\"obj id={id(test_obj)}\")\n",
    "    test_dict = dict() # if we create dict and use our instance as \"keys\"\n",
    "    test_dict[test_obj] = \"object used as key\" # dict key can be user object instance\n",
    "    print(test_dict)\n",
    "    # {<__main__.test object at 0x7fd29125eca0>: 'object used as key'}\n",
    "    test_obj.use_list.append(\"yet more tests\")\n",
    "    print(f\"obj id={id(test_obj)}\")\n",
    "    print(test_dict) # nothing changes, after we change the data in our object\n",
    "    # {<__main__.test object at 0x7fd29192ef10>: 'object used as key'}\n",
    "    \n",
    "    test_dict[test_obj] = \"second object\"\n",
    "    print(test_dict)\n",
    "    # {<__main__.test object at 0x7fd29125eca0>: 'object used as key', <__main__.test object at 0x7fd29125eca0>: 'second object'}\n",
    "    \n",
    "    del test_obj.use_list[-1]\n",
    "    test_dict[test_obj] = \"third object\"\n",
    "    print(test_dict)\n",
    "    # {<__main__.test object at 0x7fd2913495e0>: 'third object', <__main__.test object at 0x7fd2913495e0>: 'second object'}\n",
    "\n",
    "    print(test_obj)\n",
    "    # 2,John,test,more test\n",
    "\n",
    "    test_obj.use_int = 1\n",
    "    print(test_obj.__hash__())"
   ]
  },
  {
   "cell_type": "markdown",
   "id": "supreme-proportion",
   "metadata": {},
   "source": [
    "## Cookbook it! If we want to make a new dict, based on old dict but without some keys"
   ]
  },
  {
   "cell_type": "code",
   "execution_count": 27,
   "id": "deadly-manchester",
   "metadata": {},
   "outputs": [],
   "source": [
    "  # Make a new dictionary with certain keys removed\n",
    "c = {key:a[key] for key in a.keys() - {'z', 'w'}} # c is {'x': 1, 'y': 2}"
   ]
  },
  {
   "cell_type": "markdown",
   "id": "center-house",
   "metadata": {},
   "source": [
    "## What if we want to remove duplicates from sequence"
   ]
  },
  {
   "cell_type": "code",
   "execution_count": 84,
   "id": "waiting-longitude",
   "metadata": {},
   "outputs": [],
   "source": [
    "def dedupe(items, key=None): \n",
    "    seen = set()\n",
    "    for item in items:\n",
    "        val = item if key is None else key(item) \n",
    "        if val not in seen:\n",
    "            yield item \n",
    "            seen.add(val)"
   ]
  },
  {
   "cell_type": "code",
   "execution_count": 85,
   "id": "structural-henry",
   "metadata": {},
   "outputs": [],
   "source": [
    "# The key parameter is to used, when the item is not \"hashable\", for example\n",
    "a = [ {'x':1, 'y':2}, {'x':1, 'y':3}, {'x':1, 'y':2}, {'x':2, 'y':4}]"
   ]
  },
  {
   "cell_type": "code",
   "execution_count": 86,
   "id": "backed-editing",
   "metadata": {},
   "outputs": [
    {
     "data": {
      "text/plain": [
       "[{'x': 1, 'y': 2}, {'x': 1, 'y': 3}, {'x': 2, 'y': 4}]"
      ]
     },
     "execution_count": 86,
     "metadata": {},
     "output_type": "execute_result"
    }
   ],
   "source": [
    "# since the item is dict, not hashable, we cannot use set to remove duplciates\n",
    "# thus, we could use their vals, ignoring their keys, but of course, we have to define\n",
    "# the rule of \"duplicates\"\n",
    "list(dedupe(a, key=lambda d: (d['x'],d['y'])))"
   ]
  },
  {
   "cell_type": "code",
   "execution_count": 87,
   "id": "static-threat",
   "metadata": {},
   "outputs": [
    {
     "data": {
      "text/plain": [
       "[{'x': 1, 'y': 2}, {'x': 2, 'y': 4}]"
      ]
     },
     "execution_count": 87,
     "metadata": {},
     "output_type": "execute_result"
    }
   ],
   "source": [
    "# alternatively, we use x only\n",
    "list(dedupe(a, key=lambda d: d['x']))"
   ]
  },
  {
   "cell_type": "markdown",
   "id": "opening-ability",
   "metadata": {},
   "source": [
    "### Naming a slice (cookbook 1.11)"
   ]
  },
  {
   "cell_type": "code",
   "execution_count": 88,
   "id": "beneficial-comparative",
   "metadata": {},
   "outputs": [],
   "source": [
    "record = '....................100          .......513.25     ..........'\n",
    "cost = int(record[20:32]) * float(record[40:48])"
   ]
  },
  {
   "cell_type": "code",
   "execution_count": 89,
   "id": "personal-lancaster",
   "metadata": {},
   "outputs": [
    {
     "data": {
      "text/plain": [
       "51325.0"
      ]
     },
     "execution_count": 89,
     "metadata": {},
     "output_type": "execute_result"
    }
   ],
   "source": [
    "cost"
   ]
  },
  {
   "cell_type": "code",
   "execution_count": 90,
   "id": "advance-juice",
   "metadata": {},
   "outputs": [],
   "source": [
    "SHARES = slice(20,32)\n",
    "PRICE  = slice(40,48)"
   ]
  },
  {
   "cell_type": "code",
   "execution_count": 92,
   "id": "severe-inclusion",
   "metadata": {},
   "outputs": [],
   "source": [
    "cost = int(record[SHARES]) * float(record[PRICE])"
   ]
  },
  {
   "cell_type": "code",
   "execution_count": 93,
   "id": "cooperative-dining",
   "metadata": {},
   "outputs": [
    {
     "data": {
      "text/plain": [
       "51325.0"
      ]
     },
     "execution_count": 93,
     "metadata": {},
     "output_type": "execute_result"
    }
   ],
   "source": [
    "cost"
   ]
  },
  {
   "cell_type": "markdown",
   "id": "sexual-increase",
   "metadata": {},
   "source": [
    "### Use counter"
   ]
  },
  {
   "cell_type": "code",
   "execution_count": 96,
   "id": "incoming-salmon",
   "metadata": {},
   "outputs": [
    {
     "name": "stdout",
     "output_type": "stream",
     "text": [
      "[('eyes', 8), ('the', 5), ('look', 4)]\n"
     ]
    }
   ],
   "source": [
    "words = [\n",
    "   'look', 'into', 'my', 'eyes', 'look', 'into', 'my', 'eyes',\n",
    "   'the', 'eyes', 'the', 'eyes', 'the', 'eyes', 'not', 'around', 'the',\n",
    "   'eyes', \"don't\", 'look', 'around', 'the', 'eyes', 'look', 'into',\n",
    "   'my', 'eyes', \"you're\", 'under'\n",
    "]\n",
    "from collections import Counter \n",
    "\n",
    "word_counts = Counter(words)\n",
    "top_three = word_counts.most_common(3) \n",
    "print(top_three)"
   ]
  },
  {
   "cell_type": "markdown",
   "id": "boring-corrections",
   "metadata": {},
   "source": [
    "### Itemgetter for lookup"
   ]
  },
  {
   "cell_type": "code",
   "execution_count": 100,
   "id": "finished-mitchell",
   "metadata": {},
   "outputs": [
    {
     "name": "stdout",
     "output_type": "stream",
     "text": [
      "[{'fname': 'Big', 'lname': 'Jones', 'uid': 1004}, {'fname': 'Brian', 'lname': 'Jones', 'uid': 1003}, {'fname': 'David', 'lname': 'Beazley', 'uid': 1002}, {'fname': 'John', 'lname': 'Cleese', 'uid': 1001}]\n",
      "----------------\n",
      "[{'fname': 'John', 'lname': 'Cleese', 'uid': 1001}, {'fname': 'David', 'lname': 'Beazley', 'uid': 1002}, {'fname': 'Brian', 'lname': 'Jones', 'uid': 1003}, {'fname': 'Big', 'lname': 'Jones', 'uid': 1004}]\n"
     ]
    }
   ],
   "source": [
    "rows = [\n",
    "    {'fname': 'Brian', 'lname': 'Jones', 'uid': 1003},\n",
    "    {'fname': 'David', 'lname': 'Beazley', 'uid': 1002},\n",
    "    {'fname': 'John', 'lname': 'Cleese', 'uid': 1001},\n",
    "    {'fname': 'Big', 'lname': 'Jones', 'uid': 1004}\n",
    "]\n",
    "\n",
    "from operator import itemgetter\n",
    "rows_by_fname = sorted(rows, key=itemgetter('fname'))\n",
    "rows_by_uid = sorted(rows, key=itemgetter('uid')) \n",
    "\n",
    "print(rows_by_fname)\n",
    "print(\"----------------\")\n",
    "print(rows_by_uid)"
   ]
  },
  {
   "cell_type": "code",
   "execution_count": 102,
   "id": "naval-adult",
   "metadata": {},
   "outputs": [
    {
     "name": "stdout",
     "output_type": "stream",
     "text": [
      "[{'fname': 'David', 'lname': 'Beazley', 'uid': 1002}, {'fname': 'John', 'lname': 'Cleese', 'uid': 1001}, {'fname': 'Big', 'lname': 'Jones', 'uid': 1004}, {'fname': 'Brian', 'lname': 'Jones', 'uid': 1003}]\n"
     ]
    }
   ],
   "source": [
    "# you can also pass two keys, so the return is a tuple\n",
    "rows_by_lfname = sorted(rows, key=itemgetter('lname','fname'))\n",
    "print(rows_by_lfname)"
   ]
  },
  {
   "cell_type": "code",
   "execution_count": 107,
   "id": "attempted-magnet",
   "metadata": {},
   "outputs": [
    {
     "name": "stdout",
     "output_type": "stream",
     "text": [
      "601 ns ± 10.2 ns per loop (mean ± std. dev. of 7 runs, 1000000 loops each)\n"
     ]
    }
   ],
   "source": [
    "# The functionality of itemgetter() is sometimes replaced by lambda expressions. For example:\n",
    "# why use itemgetter? itemgetter is faster! But not that much..? \n",
    "%timeit rows_by_fname = sorted(rows, key=lambda r: r['fname'])"
   ]
  },
  {
   "cell_type": "code",
   "execution_count": 108,
   "id": "affiliated-retirement",
   "metadata": {},
   "outputs": [
    {
     "name": "stdout",
     "output_type": "stream",
     "text": [
      "515 ns ± 7.11 ns per loop (mean ± std. dev. of 7 runs, 1000000 loops each)\n"
     ]
    }
   ],
   "source": [
    "%timeit rows_by_fname = sorted(rows, key=itemgetter('fname'))\n"
   ]
  },
  {
   "cell_type": "markdown",
   "id": "economic-remark",
   "metadata": {},
   "source": [
    "### attrgetter"
   ]
  },
  {
   "cell_type": "code",
   "execution_count": 109,
   "id": "posted-brush",
   "metadata": {},
   "outputs": [],
   "source": [
    "class User:\n",
    "    def __init__(self, user_id): \n",
    "        self.user_id = user_id\n",
    "    def __repr__(self):\n",
    "        return 'User({})'.format(self.user_id)"
   ]
  },
  {
   "cell_type": "code",
   "execution_count": 110,
   "id": "biblical-newsletter",
   "metadata": {},
   "outputs": [],
   "source": [
    "users = [User(23), User(3), User(99)]"
   ]
  },
  {
   "cell_type": "code",
   "execution_count": 111,
   "id": "mexican-terrain",
   "metadata": {},
   "outputs": [
    {
     "data": {
      "text/plain": [
       "[User(23), User(3), User(99)]"
      ]
     },
     "execution_count": 111,
     "metadata": {},
     "output_type": "execute_result"
    }
   ],
   "source": [
    "users"
   ]
  },
  {
   "cell_type": "code",
   "execution_count": 113,
   "id": "dominant-arabic",
   "metadata": {},
   "outputs": [
    {
     "data": {
      "text/plain": [
       "[User(3), User(23), User(99)]"
      ]
     },
     "execution_count": 113,
     "metadata": {},
     "output_type": "execute_result"
    }
   ],
   "source": [
    "# solution 1 is to use lambda\n",
    "sorted(users, key=lambda u: u.user_id)"
   ]
  },
  {
   "cell_type": "code",
   "execution_count": 119,
   "id": "indian-particular",
   "metadata": {},
   "outputs": [
    {
     "data": {
      "text/plain": [
       "[User(3), User(23), User(99)]"
      ]
     },
     "execution_count": 119,
     "metadata": {},
     "output_type": "execute_result"
    }
   ],
   "source": [
    "# solution 2 is to implement lt\n",
    "class User:\n",
    "    def __init__(self, user_id): \n",
    "        self.user_id = user_id\n",
    "    def __repr__(self):\n",
    "        return 'User({})'.format(self.user_id)\n",
    "    def __lt__(self, other):\n",
    "        return self.user_id < other.user_id\n",
    "\n",
    "users2 = [User(23), User(3), User(99)]\n",
    "sorted(users2)"
   ]
  },
  {
   "cell_type": "code",
   "execution_count": 120,
   "id": "subject-delay",
   "metadata": {},
   "outputs": [
    {
     "data": {
      "text/plain": [
       "[User(3), User(23), User(99)]"
      ]
     },
     "execution_count": 120,
     "metadata": {},
     "output_type": "execute_result"
    }
   ],
   "source": [
    "# solution 3 is to use attr\n",
    "\n",
    "from operator import attrgetter\n",
    "sorted(users, key=attrgetter('user_id'))"
   ]
  },
  {
   "cell_type": "code",
   "execution_count": null,
   "id": "facial-tension",
   "metadata": {},
   "outputs": [],
   "source": []
  }
 ],
 "metadata": {
  "kernelspec": {
   "display_name": "Python 3",
   "language": "python",
   "name": "python3"
  },
  "language_info": {
   "codemirror_mode": {
    "name": "ipython",
    "version": 3
   },
   "file_extension": ".py",
   "mimetype": "text/x-python",
   "name": "python",
   "nbconvert_exporter": "python",
   "pygments_lexer": "ipython3",
   "version": "3.8.7"
  },
  "toc": {
   "colors": {
    "hover_highlight": "#DAA520",
    "running_highlight": "#FF0000",
    "selected_highlight": "#FFD700"
   },
   "moveMenuLeft": true,
   "nav_menu": {
    "height": "434.062px",
    "width": "251.989px"
   },
   "navigate_menu": true,
   "number_sections": true,
   "sideBar": true,
   "threshold": 4,
   "toc_cell": true,
   "toc_section_display": "block",
   "toc_window_display": true,
   "widenNotebook": false
  }
 },
 "nbformat": 4,
 "nbformat_minor": 5
}
