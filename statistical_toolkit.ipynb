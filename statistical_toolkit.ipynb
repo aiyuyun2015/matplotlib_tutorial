{
 "cells": [
  {
   "cell_type": "markdown",
   "id": "civilian-award",
   "metadata": {
    "toc": "true"
   },
   "source": [
    "# Table of Contents\n",
    " <p><div class=\"lev1 toc-item\"><a href=\"#Linear-regression\" data-toc-modified-id=\"Linear-regression-1\"><span class=\"toc-item-num\">1&nbsp;&nbsp;</span>Linear regression</a></div>"
   ]
  },
  {
   "cell_type": "markdown",
   "id": "magnetic-tribe",
   "metadata": {},
   "source": [
    "# Linear regression"
   ]
  },
  {
   "cell_type": "code",
   "execution_count": null,
   "id": "coupled-arabic",
   "metadata": {},
   "outputs": [],
   "source": [
    "import numpy as np\n",
    "import statsmodels.api as sm\n",
    "\n",
    "import pandas as pd"
   ]
  },
  {
   "cell_type": "code",
   "execution_count": 1,
   "id": "atomic-petite",
   "metadata": {},
   "outputs": [],
   "source": [
    "mu, sigma = 0, 1\n",
    "N = 100\n",
    "X = np.random.normal(mu, sigma, size=(N,2))\n",
    "intercept = 1\n",
    "error = np.random.normal(mu, 0.1*sigma, size=(N))\n",
    "Y = X[:, 0]*2 + X[:,1]*3 + error + intercept\n",
    "X = sm.add_constant(X)\n",
    "data = pd.DataFrame({\"X0\":X[:, 0], \"X1\":X[:, 1], \"X2\":X[:, 2], \"Y\":Y})"
   ]
  },
  {
   "cell_type": "code",
   "execution_count": 39,
   "id": "opposed-function",
   "metadata": {},
   "outputs": [
    {
     "name": "stdout",
     "output_type": "stream",
     "text": [
      "                            OLS Regression Results                            \n",
      "==============================================================================\n",
      "Dep. Variable:                      Y   R-squared:                       0.999\n",
      "Model:                            OLS   Adj. R-squared:                  0.999\n",
      "Method:                 Least Squares   F-statistic:                 5.321e+04\n",
      "Date:                Mon, 07 Feb 2022   Prob (F-statistic):          3.37e-148\n",
      "Time:                        23:46:56   Log-Likelihood:                 80.920\n",
      "No. Observations:                 100   AIC:                            -155.8\n",
      "Df Residuals:                      97   BIC:                            -148.0\n",
      "Df Model:                           2                                         \n",
      "Covariance Type:            nonrobust                                         \n",
      "==============================================================================\n",
      "                 coef    std err          t      P>|t|      [0.025      0.975]\n",
      "------------------------------------------------------------------------------\n",
      "X0             1.0062      0.011     91.489      0.000       0.984       1.028\n",
      "X1             2.0043      0.011    180.430      0.000       1.982       2.026\n",
      "X2             2.9917      0.012    253.969      0.000       2.968       3.015\n",
      "==============================================================================\n",
      "Omnibus:                        1.020   Durbin-Watson:                   2.156\n",
      "Prob(Omnibus):                  0.600   Jarque-Bera (JB):                0.997\n",
      "Skew:                           0.082   Prob(JB):                        0.608\n",
      "Kurtosis:                       2.539   Cond. No.                         1.16\n",
      "==============================================================================\n",
      "\n",
      "Notes:\n",
      "[1] Standard Errors assume that the covariance matrix of the errors is correctly specified.\n"
     ]
    }
   ],
   "source": [
    "mod = sm.OLS(data['Y'], data[['X0', 'X1', 'X2']])\n",
    "\n",
    "res = mod.fit()\n",
    "\n",
    "print(res.summary())"
   ]
  },
  {
   "cell_type": "code",
   "execution_count": null,
   "id": "copyrighted-roman",
   "metadata": {},
   "outputs": [],
   "source": []
  }
 ],
 "metadata": {
  "kernelspec": {
   "display_name": "Python 3",
   "language": "python",
   "name": "python3"
  },
  "language_info": {
   "codemirror_mode": {
    "name": "ipython",
    "version": 3
   },
   "file_extension": ".py",
   "mimetype": "text/x-python",
   "name": "python",
   "nbconvert_exporter": "python",
   "pygments_lexer": "ipython3",
   "version": "3.8.7"
  },
  "toc": {
   "colors": {
    "hover_highlight": "#DAA520",
    "running_highlight": "#FF0000",
    "selected_highlight": "#FFD700"
   },
   "moveMenuLeft": true,
   "nav_menu": {
    "height": "30.554px",
    "width": "251.989px"
   },
   "navigate_menu": true,
   "number_sections": true,
   "sideBar": true,
   "threshold": 4,
   "toc_cell": true,
   "toc_section_display": "block",
   "toc_window_display": true,
   "widenNotebook": false
  }
 },
 "nbformat": 4,
 "nbformat_minor": 5
}
