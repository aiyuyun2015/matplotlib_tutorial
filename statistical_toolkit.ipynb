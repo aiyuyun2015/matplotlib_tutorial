{
 "cells": [
  {
   "cell_type": "markdown",
   "id": "civilian-award",
   "metadata": {
    "toc": "true"
   },
   "source": [
    "<h1>Table of Contents<span class=\"tocSkip\"></span></h1>\n",
    "<div class=\"toc\"><ul class=\"toc-item\"><li><span><a href=\"#Linear-regression\" data-toc-modified-id=\"Linear-regression-1\"><span class=\"toc-item-num\">1&nbsp;&nbsp;</span>Linear regression</a></span><ul class=\"toc-item\"><li><span><a href=\"#Simple-Regression\" data-toc-modified-id=\"Simple-Regression-1.1\"><span class=\"toc-item-num\">1.1&nbsp;&nbsp;</span>Simple Regression</a></span></li><li><span><a href=\"#Extract-Coefficients\" data-toc-modified-id=\"Extract-Coefficients-1.2\"><span class=\"toc-item-num\">1.2&nbsp;&nbsp;</span>Extract Coefficients</a></span><ul class=\"toc-item\"><li><span><a href=\"#Coefficients\" data-toc-modified-id=\"Coefficients-1.2.1\"><span class=\"toc-item-num\">1.2.1&nbsp;&nbsp;</span>Coefficients</a></span></li><li><span><a href=\"#Standard-deviation\" data-toc-modified-id=\"Standard-deviation-1.2.2\"><span class=\"toc-item-num\">1.2.2&nbsp;&nbsp;</span>Standard deviation</a></span></li></ul></li></ul></li></ul></div>"
   ]
  },
  {
   "cell_type": "code",
   "execution_count": null,
   "id": "f8a34279",
   "metadata": {},
   "outputs": [],
   "source": [
    "%matplotlib inline"
   ]
  },
  {
   "cell_type": "code",
   "execution_count": null,
   "id": "4637fc86",
   "metadata": {},
   "outputs": [],
   "source": [
    "import matplotlib.pyplot as plt\n"
   ]
  },
  {
   "cell_type": "markdown",
   "id": "magnetic-tribe",
   "metadata": {},
   "source": [
    "# Linear regression"
   ]
  },
  {
   "cell_type": "code",
   "execution_count": null,
   "id": "coupled-arabic",
   "metadata": {},
   "outputs": [],
   "source": [
    "import numpy as np\n",
    "import statsmodels.api as sm\n",
    "\n",
    "import pandas as pd"
   ]
  },
  {
   "cell_type": "markdown",
   "id": "3b207d0a",
   "metadata": {},
   "source": [
    "## Simple Regression"
   ]
  },
  {
   "cell_type": "code",
   "execution_count": null,
   "id": "0073ea8b",
   "metadata": {},
   "outputs": [],
   "source": [
    "mu, sigma = 0, 1\n",
    "N = 100\n",
    "X = np.random.normal(mu, sigma, size=(N,2))\n",
    "intercept = 1\n",
    "error = np.random.normal(mu, 0.1*sigma, size=(N))"
   ]
  },
  {
   "cell_type": "code",
   "execution_count": null,
   "id": "01f6be93",
   "metadata": {},
   "outputs": [],
   "source": [
    "X.shape"
   ]
  },
  {
   "cell_type": "code",
   "execution_count": null,
   "id": "atomic-petite",
   "metadata": {},
   "outputs": [],
   "source": [
    "Y = X[:, 0]*2 + X[:,1]*3 + error + intercept\n",
    "X = sm.add_constant(X)\n",
    "data = pd.DataFrame({\"X0\":X[:, 0], \"X1\":X[:, 1], \"X2\":X[:, 2], \"Y\":Y})"
   ]
  },
  {
   "cell_type": "code",
   "execution_count": null,
   "id": "1d4f67a9",
   "metadata": {},
   "outputs": [],
   "source": [
    "data"
   ]
  },
  {
   "cell_type": "code",
   "execution_count": null,
   "id": "opposed-function",
   "metadata": {},
   "outputs": [],
   "source": [
    "mod = sm.OLS(data['Y'], data[['X0', 'X1', 'X2']])\n",
    "\n",
    "res = mod.fit()\n",
    "\n",
    "print(res.summary())"
   ]
  },
  {
   "cell_type": "markdown",
   "id": "7a40dfa0",
   "metadata": {},
   "source": [
    "## Extract Coefficients"
   ]
  },
  {
   "cell_type": "markdown",
   "id": "1e1b6689",
   "metadata": {},
   "source": [
    "### Coefficients"
   ]
  },
  {
   "cell_type": "code",
   "execution_count": null,
   "id": "fcb9feff",
   "metadata": {},
   "outputs": [],
   "source": [
    "print(res.params)"
   ]
  },
  {
   "cell_type": "markdown",
   "id": "a439a5ae",
   "metadata": {},
   "source": [
    "### Standard deviation"
   ]
  },
  {
   "cell_type": "code",
   "execution_count": null,
   "id": "ca39f39e",
   "metadata": {},
   "outputs": [],
   "source": [
    "res.rsquared"
   ]
  },
  {
   "cell_type": "code",
   "execution_count": null,
   "id": "4433cf87",
   "metadata": {},
   "outputs": [],
   "source": []
  },
  {
   "cell_type": "code",
   "execution_count": null,
   "id": "copyrighted-roman",
   "metadata": {},
   "outputs": [],
   "source": [
    "x =[1,2,3]\n",
    "y=[10, 20, 30]"
   ]
  },
  {
   "cell_type": "code",
   "execution_count": null,
   "id": "96bf8608",
   "metadata": {},
   "outputs": [],
   "source": [
    "plt.scatter(x, y)"
   ]
  },
  {
   "cell_type": "code",
   "execution_count": null,
   "id": "5fb1677e",
   "metadata": {},
   "outputs": [],
   "source": []
  }
 ],
 "metadata": {
  "kernelspec": {
   "display_name": "Python 3 (ipykernel)",
   "language": "python",
   "name": "python3"
  },
  "language_info": {
   "codemirror_mode": {
    "name": "ipython",
    "version": 3
   },
   "file_extension": ".py",
   "mimetype": "text/x-python",
   "name": "python",
   "nbconvert_exporter": "python",
   "pygments_lexer": "ipython3",
   "version": "3.9.7"
  },
  "toc": {
   "base_numbering": 1,
   "nav_menu": {
    "height": "30.554px",
    "width": "251.989px"
   },
   "number_sections": true,
   "sideBar": true,
   "skip_h1_title": false,
   "title_cell": "Table of Contents",
   "title_sidebar": "Contents",
   "toc_cell": true,
   "toc_position": {},
   "toc_section_display": "block",
   "toc_window_display": true
  }
 },
 "nbformat": 4,
 "nbformat_minor": 5
}
