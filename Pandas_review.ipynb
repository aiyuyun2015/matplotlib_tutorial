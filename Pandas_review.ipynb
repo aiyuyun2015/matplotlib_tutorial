{
 "cells": [
  {
   "cell_type": "markdown",
   "id": "offensive-reverse",
   "metadata": {
    "toc": "true"
   },
   "source": [
    "# Table of Contents\n",
    " <p><div class=\"lev1 toc-item\"><a href=\"#Prepare-a-dataframe\" data-toc-modified-id=\"Prepare-a-dataframe-1\"><span class=\"toc-item-num\">1&nbsp;&nbsp;</span>Prepare a dataframe</a></div><div class=\"lev2 toc-item\"><a href=\"#Select-row-3-7\" data-toc-modified-id=\"Select-row-3-7-11\"><span class=\"toc-item-num\">1.1&nbsp;&nbsp;</span>Select row 3-7</a></div><div class=\"lev2 toc-item\"><a href=\"#Select-column\" data-toc-modified-id=\"Select-column-12\"><span class=\"toc-item-num\">1.2&nbsp;&nbsp;</span>Select column</a></div><div class=\"lev2 toc-item\"><a href=\"#Replace-df.loc[0][3]-with-missing\" data-toc-modified-id=\"Replace-df.loc[0][3]-with-missing-13\"><span class=\"toc-item-num\">1.3&nbsp;&nbsp;</span>Replace df.loc[0][3] with missing</a></div><div class=\"lev2 toc-item\"><a href=\"#drop-na-by-row-and-dont-overwrite\" data-toc-modified-id=\"drop-na-by-row-and-dont-overwrite-14\"><span class=\"toc-item-num\">1.4&nbsp;&nbsp;</span>drop na by row and dont overwrite</a></div><div class=\"lev2 toc-item\"><a href=\"#Add-ID-number-to-our-samples\" data-toc-modified-id=\"Add-ID-number-to-our-samples-15\"><span class=\"toc-item-num\">1.5&nbsp;&nbsp;</span>Add ID number to our samples</a></div><div class=\"lev2 toc-item\"><a href=\"#Make-a-deep-copy-of-df1\" data-toc-modified-id=\"Make-a-deep-copy-of-df1-16\"><span class=\"toc-item-num\">1.6&nbsp;&nbsp;</span>Make a deep copy of df1</a></div><div class=\"lev2 toc-item\"><a href=\"#Keep-[0,10]-for-df1-and-[5,-15]-for-df2\" data-toc-modified-id=\"Keep-[0,10]-for-df1-and-[5,-15]-for-df2-17\"><span class=\"toc-item-num\">1.7&nbsp;&nbsp;</span>Keep [0,10] for df1 and [5, 15] for df2</a></div><div class=\"lev2 toc-item\"><a href=\"#Merge-two-dfs-with-pd.merge,-rename-suffix\" data-toc-modified-id=\"Merge-two-dfs-with-pd.merge,-rename-suffix-18\"><span class=\"toc-item-num\">1.8&nbsp;&nbsp;</span>Merge two dfs with pd.merge, rename suffix</a></div><div class=\"lev2 toc-item\"><a href=\"#Use-np.where-to-get-the-absolute-value-of-df1,-add-it-to-df1\" data-toc-modified-id=\"Use-np.where-to-get-the-absolute-value-of-df1,-add-it-to-df1-19\"><span class=\"toc-item-num\">1.9&nbsp;&nbsp;</span>Use np.where to get the absolute value of df1, add it to df1</a></div><div class=\"lev2 toc-item\"><a href=\"#Sampling-a-categoric-data-to-df,-range(0,3)\" data-toc-modified-id=\"Sampling-a-categoric-data-to-df,-range(0,3)-110\"><span class=\"toc-item-num\">1.10&nbsp;&nbsp;</span>Sampling a categoric data to df, range(0,3)</a></div><div class=\"lev2 toc-item\"><a href=\"#groupby-type-and-get-mean-of-X0\" data-toc-modified-id=\"groupby-type-and-get-mean-of-X0-111\"><span class=\"toc-item-num\">1.11&nbsp;&nbsp;</span>groupby type and get mean of X0</a></div><div class=\"lev2 toc-item\"><a href=\"#add-date-to-df,-starting-at-2022-Feb-8\" data-toc-modified-id=\"add-date-to-df,-starting-at-2022-Feb-8-112\"><span class=\"toc-item-num\">1.12&nbsp;&nbsp;</span>add date to df, starting at 2022-Feb-8</a></div><div class=\"lev2 toc-item\"><a href=\"#concat-firs-three-rows-of-df-to-df\" data-toc-modified-id=\"concat-firs-three-rows-of-df-to-df-113\"><span class=\"toc-item-num\">1.13&nbsp;&nbsp;</span>concat firs three rows of df to df</a></div><div class=\"lev2 toc-item\"><a href=\"#find-duplicates\" data-toc-modified-id=\"find-duplicates-114\"><span class=\"toc-item-num\">1.14&nbsp;&nbsp;</span>find duplicates</a></div><div class=\"lev2 toc-item\"><a href=\"#drop-duplicates,-keep-none,-keep-first,-keep-last\" data-toc-modified-id=\"drop-duplicates,-keep-none,-keep-first,-keep-last-115\"><span class=\"toc-item-num\">1.15&nbsp;&nbsp;</span>drop duplicates, keep none, keep first, keep last</a></div><div class=\"lev2 toc-item\"><a href=\"#find-the-diff-between-df-and-df_duplicated\" data-toc-modified-id=\"find-the-diff-between-df-and-df_duplicated-116\"><span class=\"toc-item-num\">1.16&nbsp;&nbsp;</span>find the diff between df and df_duplicated</a></div><div class=\"lev2 toc-item\"><a href=\"#loop-row-by-row-using-apply\" data-toc-modified-id=\"loop-row-by-row-using-apply-117\"><span class=\"toc-item-num\">1.17&nbsp;&nbsp;</span>loop row by row using apply</a></div><div class=\"lev2 toc-item\"><a href=\"#Output-df-to-csv\" data-toc-modified-id=\"Output-df-to-csv-118\"><span class=\"toc-item-num\">1.18&nbsp;&nbsp;</span>Output df to csv</a></div><div class=\"lev2 toc-item\"><a href=\"#read-by-chunk\" data-toc-modified-id=\"read-by-chunk-119\"><span class=\"toc-item-num\">1.19&nbsp;&nbsp;</span>read by chunk</a></div>"
   ]
  },
  {
   "cell_type": "code",
   "execution_count": 3,
   "id": "proper-sunday",
   "metadata": {},
   "outputs": [],
   "source": [
    "import pandas as pd\n",
    "import numpy as np\n",
    "import statsmodels.api as sm\n"
   ]
  },
  {
   "cell_type": "markdown",
   "id": "bulgarian-hampshire",
   "metadata": {},
   "source": [
    "# Prepare a dataframe"
   ]
  },
  {
   "cell_type": "code",
   "execution_count": 4,
   "id": "harmful-heritage",
   "metadata": {},
   "outputs": [],
   "source": [
    "mu, sigma = 0, 1\n",
    "N = 100\n",
    "X = np.random.normal(mu, sigma, size=(N,2))\n",
    "intercept = 1\n",
    "error = np.random.normal(mu, 0.1*sigma, size=(N))\n",
    "Y = X[:, 0]*2 + X[:,1]*3 + error + intercept\n",
    "X = sm.add_constant(X)\n",
    "data = pd.DataFrame({\"X0\":X[:, 0], \"X1\":X[:, 1], \"X2\":X[:, 2], \"Y\":Y})"
   ]
  },
  {
   "cell_type": "code",
   "execution_count": 6,
   "id": "fallen-stephen",
   "metadata": {},
   "outputs": [
    {
     "data": {
      "text/html": [
       "<div>\n",
       "<style scoped>\n",
       "    .dataframe tbody tr th:only-of-type {\n",
       "        vertical-align: middle;\n",
       "    }\n",
       "\n",
       "    .dataframe tbody tr th {\n",
       "        vertical-align: top;\n",
       "    }\n",
       "\n",
       "    .dataframe thead th {\n",
       "        text-align: right;\n",
       "    }\n",
       "</style>\n",
       "<table border=\"1\" class=\"dataframe\">\n",
       "  <thead>\n",
       "    <tr style=\"text-align: right;\">\n",
       "      <th></th>\n",
       "      <th>X0</th>\n",
       "      <th>X1</th>\n",
       "      <th>X2</th>\n",
       "      <th>Y</th>\n",
       "    </tr>\n",
       "  </thead>\n",
       "  <tbody>\n",
       "    <tr>\n",
       "      <th>0</th>\n",
       "      <td>1.0</td>\n",
       "      <td>-0.567464</td>\n",
       "      <td>-0.931079</td>\n",
       "      <td>-2.979348</td>\n",
       "    </tr>\n",
       "    <tr>\n",
       "      <th>1</th>\n",
       "      <td>1.0</td>\n",
       "      <td>1.717240</td>\n",
       "      <td>-1.639516</td>\n",
       "      <td>-0.432638</td>\n",
       "    </tr>\n",
       "    <tr>\n",
       "      <th>2</th>\n",
       "      <td>1.0</td>\n",
       "      <td>-0.785125</td>\n",
       "      <td>0.320842</td>\n",
       "      <td>0.400118</td>\n",
       "    </tr>\n",
       "    <tr>\n",
       "      <th>3</th>\n",
       "      <td>1.0</td>\n",
       "      <td>-0.707802</td>\n",
       "      <td>-0.174688</td>\n",
       "      <td>-0.900658</td>\n",
       "    </tr>\n",
       "    <tr>\n",
       "      <th>4</th>\n",
       "      <td>1.0</td>\n",
       "      <td>-1.391498</td>\n",
       "      <td>-0.021108</td>\n",
       "      <td>-1.789778</td>\n",
       "    </tr>\n",
       "  </tbody>\n",
       "</table>\n",
       "</div>"
      ],
      "text/plain": [
       "    X0        X1        X2         Y\n",
       "0  1.0 -0.567464 -0.931079 -2.979348\n",
       "1  1.0  1.717240 -1.639516 -0.432638\n",
       "2  1.0 -0.785125  0.320842  0.400118\n",
       "3  1.0 -0.707802 -0.174688 -0.900658\n",
       "4  1.0 -1.391498 -0.021108 -1.789778"
      ]
     },
     "execution_count": 6,
     "metadata": {},
     "output_type": "execute_result"
    }
   ],
   "source": [
    "data.head()"
   ]
  },
  {
   "cell_type": "markdown",
   "id": "necessary-coral",
   "metadata": {},
   "source": [
    "## Select row 3-7"
   ]
  },
  {
   "cell_type": "code",
   "execution_count": 7,
   "id": "blond-disposal",
   "metadata": {},
   "outputs": [
    {
     "name": "stdout",
     "output_type": "stream",
     "text": [
      "    X0        X1        X2         Y\n",
      "0  1.0 -0.567464 -0.931079 -2.979348\n",
      "1  1.0  1.717240 -1.639516 -0.432638\n",
      "2  1.0 -0.785125  0.320842  0.400118\n"
     ]
    }
   ],
   "source": [
    "df = data\n",
    "\n",
    "print(df.iloc[0:3, :])\n"
   ]
  },
  {
   "cell_type": "markdown",
   "id": "cultural-combine",
   "metadata": {},
   "source": [
    "## Select column"
   ]
  },
  {
   "cell_type": "code",
   "execution_count": 12,
   "id": "biblical-congress",
   "metadata": {},
   "outputs": [],
   "source": [
    "# select multiple columns by names\n",
    "ans1 = df[['X2', 'Y']]\n",
    "\n",
    "ans2 = df.iloc[:,2:]"
   ]
  },
  {
   "cell_type": "code",
   "execution_count": 13,
   "id": "cubic-opening",
   "metadata": {},
   "outputs": [
    {
     "name": "stdout",
     "output_type": "stream",
     "text": [
      "         X2         Y\n",
      "0 -0.931079 -2.979348\n",
      "1 -1.639516 -0.432638\n",
      "2  0.320842  0.400118\n",
      "3 -0.174688 -0.900658\n",
      "4 -0.021108 -1.789778\n"
     ]
    }
   ],
   "source": [
    "print(ans1.head())"
   ]
  },
  {
   "cell_type": "code",
   "execution_count": 14,
   "id": "compatible-albert",
   "metadata": {},
   "outputs": [
    {
     "name": "stdout",
     "output_type": "stream",
     "text": [
      "         X2         Y\n",
      "0 -0.931079 -2.979348\n",
      "1 -1.639516 -0.432638\n",
      "2  0.320842  0.400118\n",
      "3 -0.174688 -0.900658\n",
      "4 -0.021108 -1.789778\n"
     ]
    }
   ],
   "source": [
    "print(ans2.head())"
   ]
  },
  {
   "cell_type": "markdown",
   "id": "fresh-xerox",
   "metadata": {},
   "source": [
    "## Replace df.loc[0][3] with missing"
   ]
  },
  {
   "cell_type": "code",
   "execution_count": 15,
   "id": "injured-anniversary",
   "metadata": {},
   "outputs": [
    {
     "data": {
      "text/html": [
       "<div>\n",
       "<style scoped>\n",
       "    .dataframe tbody tr th:only-of-type {\n",
       "        vertical-align: middle;\n",
       "    }\n",
       "\n",
       "    .dataframe tbody tr th {\n",
       "        vertical-align: top;\n",
       "    }\n",
       "\n",
       "    .dataframe thead th {\n",
       "        text-align: right;\n",
       "    }\n",
       "</style>\n",
       "<table border=\"1\" class=\"dataframe\">\n",
       "  <thead>\n",
       "    <tr style=\"text-align: right;\">\n",
       "      <th></th>\n",
       "      <th>X0</th>\n",
       "      <th>X1</th>\n",
       "      <th>X2</th>\n",
       "      <th>Y</th>\n",
       "    </tr>\n",
       "  </thead>\n",
       "  <tbody>\n",
       "    <tr>\n",
       "      <th>0</th>\n",
       "      <td>1.0</td>\n",
       "      <td>-0.567464</td>\n",
       "      <td>-0.931079</td>\n",
       "      <td>-2.979348</td>\n",
       "    </tr>\n",
       "    <tr>\n",
       "      <th>1</th>\n",
       "      <td>1.0</td>\n",
       "      <td>1.717240</td>\n",
       "      <td>-1.639516</td>\n",
       "      <td>-0.432638</td>\n",
       "    </tr>\n",
       "    <tr>\n",
       "      <th>2</th>\n",
       "      <td>1.0</td>\n",
       "      <td>-0.785125</td>\n",
       "      <td>0.320842</td>\n",
       "      <td>0.400118</td>\n",
       "    </tr>\n",
       "    <tr>\n",
       "      <th>3</th>\n",
       "      <td>1.0</td>\n",
       "      <td>-0.707802</td>\n",
       "      <td>-0.174688</td>\n",
       "      <td>-0.900658</td>\n",
       "    </tr>\n",
       "    <tr>\n",
       "      <th>4</th>\n",
       "      <td>1.0</td>\n",
       "      <td>-1.391498</td>\n",
       "      <td>-0.021108</td>\n",
       "      <td>-1.789778</td>\n",
       "    </tr>\n",
       "  </tbody>\n",
       "</table>\n",
       "</div>"
      ],
      "text/plain": [
       "    X0        X1        X2         Y\n",
       "0  1.0 -0.567464 -0.931079 -2.979348\n",
       "1  1.0  1.717240 -1.639516 -0.432638\n",
       "2  1.0 -0.785125  0.320842  0.400118\n",
       "3  1.0 -0.707802 -0.174688 -0.900658\n",
       "4  1.0 -1.391498 -0.021108 -1.789778"
      ]
     },
     "execution_count": 15,
     "metadata": {},
     "output_type": "execute_result"
    }
   ],
   "source": [
    "df.head()"
   ]
  },
  {
   "cell_type": "code",
   "execution_count": 17,
   "id": "editorial-blond",
   "metadata": {},
   "outputs": [
    {
     "data": {
      "text/plain": [
       "-2.9793476244032555"
      ]
     },
     "execution_count": 17,
     "metadata": {},
     "output_type": "execute_result"
    }
   ],
   "source": [
    "df.iloc[0,3]"
   ]
  },
  {
   "cell_type": "code",
   "execution_count": 18,
   "id": "lasting-visibility",
   "metadata": {},
   "outputs": [],
   "source": [
    "df.iloc[0,3] = np.nan"
   ]
  },
  {
   "cell_type": "code",
   "execution_count": 19,
   "id": "known-elizabeth",
   "metadata": {},
   "outputs": [
    {
     "data": {
      "text/html": [
       "<div>\n",
       "<style scoped>\n",
       "    .dataframe tbody tr th:only-of-type {\n",
       "        vertical-align: middle;\n",
       "    }\n",
       "\n",
       "    .dataframe tbody tr th {\n",
       "        vertical-align: top;\n",
       "    }\n",
       "\n",
       "    .dataframe thead th {\n",
       "        text-align: right;\n",
       "    }\n",
       "</style>\n",
       "<table border=\"1\" class=\"dataframe\">\n",
       "  <thead>\n",
       "    <tr style=\"text-align: right;\">\n",
       "      <th></th>\n",
       "      <th>X0</th>\n",
       "      <th>X1</th>\n",
       "      <th>X2</th>\n",
       "      <th>Y</th>\n",
       "    </tr>\n",
       "  </thead>\n",
       "  <tbody>\n",
       "    <tr>\n",
       "      <th>0</th>\n",
       "      <td>1.0</td>\n",
       "      <td>-0.567464</td>\n",
       "      <td>-0.931079</td>\n",
       "      <td>NaN</td>\n",
       "    </tr>\n",
       "  </tbody>\n",
       "</table>\n",
       "</div>"
      ],
      "text/plain": [
       "    X0        X1        X2   Y\n",
       "0  1.0 -0.567464 -0.931079 NaN"
      ]
     },
     "execution_count": 19,
     "metadata": {},
     "output_type": "execute_result"
    }
   ],
   "source": [
    "df.head(1)"
   ]
  },
  {
   "cell_type": "markdown",
   "id": "uniform-foster",
   "metadata": {},
   "source": [
    "## drop na by row and dont overwrite"
   ]
  },
  {
   "cell_type": "code",
   "execution_count": 23,
   "id": "thick-inspiration",
   "metadata": {},
   "outputs": [
    {
     "name": "stdout",
     "output_type": "stream",
     "text": [
      "(100, 4)\n",
      "(99, 4)\n",
      "(100, 3)\n"
     ]
    }
   ],
   "source": [
    "print(df.shape)\n",
    "# here, axis=0 will be changed\n",
    "print(df.dropna(axis=0).shape)\n",
    "\n",
    "# here axis=1 will be changed, and axis=0 is the same\n",
    "print(df.dropna(axis=1).shape)"
   ]
  },
  {
   "cell_type": "markdown",
   "id": "intelligent-architecture",
   "metadata": {},
   "source": [
    "## Add ID number to our samples"
   ]
  },
  {
   "cell_type": "code",
   "execution_count": 26,
   "id": "personal-japanese",
   "metadata": {},
   "outputs": [],
   "source": [
    "df1 = df.reset_index().rename(columns={\"index\":\"Sample ID\"})"
   ]
  },
  {
   "cell_type": "markdown",
   "id": "appointed-stationery",
   "metadata": {},
   "source": [
    "## Make a deep copy of df1"
   ]
  },
  {
   "cell_type": "code",
   "execution_count": 36,
   "id": "chubby-estonia",
   "metadata": {},
   "outputs": [
    {
     "name": "stdout",
     "output_type": "stream",
     "text": [
      "140550395517632\n",
      "140550395516672\n"
     ]
    }
   ],
   "source": [
    "df2 = df1.copy(deep=True) # default is also true\n",
    "\n",
    "print(id(df2['X1']))\n",
    "print(id(df1['X1']))"
   ]
  },
  {
   "cell_type": "code",
   "execution_count": 39,
   "id": "resident-sampling",
   "metadata": {},
   "outputs": [
    {
     "name": "stdout",
     "output_type": "stream",
     "text": [
      "140550395517584\n",
      "140550395434080\n"
     ]
    }
   ],
   "source": [
    "df2 = df1.copy(deep=False) # make it false here\n",
    "\n",
    "print(id(df2))\n",
    "print(id(df1))"
   ]
  },
  {
   "cell_type": "markdown",
   "id": "divine-attribute",
   "metadata": {},
   "source": [
    "## Keep [0,10] for df1 and [5, 15] for df2"
   ]
  },
  {
   "cell_type": "code",
   "execution_count": 40,
   "id": "documented-thailand",
   "metadata": {},
   "outputs": [
    {
     "name": "stdout",
     "output_type": "stream",
     "text": [
      "(10, 5)\n",
      "(10, 5)\n"
     ]
    }
   ],
   "source": [
    "df1 = df1.iloc[0:10,:]\n",
    "print(df1.shape)\n",
    "\n",
    "df2 = df2.iloc[5:15, :]\n",
    "print(df2.shape)"
   ]
  },
  {
   "cell_type": "markdown",
   "id": "coupled-entry",
   "metadata": {},
   "source": [
    "## Merge two dfs with pd.merge, rename suffix"
   ]
  },
  {
   "cell_type": "code",
   "execution_count": 43,
   "id": "affected-separate",
   "metadata": {},
   "outputs": [],
   "source": [
    "merged = pd.merge(df1, df2, how='inner', on='Sample ID', suffixes=(\"_df1\", \"_df2\"))"
   ]
  },
  {
   "cell_type": "code",
   "execution_count": 44,
   "id": "little-inspiration",
   "metadata": {},
   "outputs": [
    {
     "data": {
      "text/html": [
       "<div>\n",
       "<style scoped>\n",
       "    .dataframe tbody tr th:only-of-type {\n",
       "        vertical-align: middle;\n",
       "    }\n",
       "\n",
       "    .dataframe tbody tr th {\n",
       "        vertical-align: top;\n",
       "    }\n",
       "\n",
       "    .dataframe thead th {\n",
       "        text-align: right;\n",
       "    }\n",
       "</style>\n",
       "<table border=\"1\" class=\"dataframe\">\n",
       "  <thead>\n",
       "    <tr style=\"text-align: right;\">\n",
       "      <th></th>\n",
       "      <th>Sample ID</th>\n",
       "      <th>X0_df1</th>\n",
       "      <th>X1_df1</th>\n",
       "      <th>X2_df1</th>\n",
       "      <th>Y_df1</th>\n",
       "      <th>X0_df2</th>\n",
       "      <th>X1_df2</th>\n",
       "      <th>X2_df2</th>\n",
       "      <th>Y_df2</th>\n",
       "    </tr>\n",
       "  </thead>\n",
       "  <tbody>\n",
       "    <tr>\n",
       "      <th>0</th>\n",
       "      <td>5</td>\n",
       "      <td>1.0</td>\n",
       "      <td>1.365948</td>\n",
       "      <td>0.413803</td>\n",
       "      <td>4.920567</td>\n",
       "      <td>1.0</td>\n",
       "      <td>1.365948</td>\n",
       "      <td>0.413803</td>\n",
       "      <td>4.920567</td>\n",
       "    </tr>\n",
       "    <tr>\n",
       "      <th>1</th>\n",
       "      <td>6</td>\n",
       "      <td>1.0</td>\n",
       "      <td>0.358125</td>\n",
       "      <td>-0.533465</td>\n",
       "      <td>-0.001091</td>\n",
       "      <td>1.0</td>\n",
       "      <td>0.358125</td>\n",
       "      <td>-0.533465</td>\n",
       "      <td>-0.001091</td>\n",
       "    </tr>\n",
       "    <tr>\n",
       "      <th>2</th>\n",
       "      <td>7</td>\n",
       "      <td>1.0</td>\n",
       "      <td>0.600601</td>\n",
       "      <td>0.146732</td>\n",
       "      <td>2.624350</td>\n",
       "      <td>1.0</td>\n",
       "      <td>0.600601</td>\n",
       "      <td>0.146732</td>\n",
       "      <td>2.624350</td>\n",
       "    </tr>\n",
       "    <tr>\n",
       "      <th>3</th>\n",
       "      <td>8</td>\n",
       "      <td>1.0</td>\n",
       "      <td>-0.042533</td>\n",
       "      <td>-1.755382</td>\n",
       "      <td>-4.410504</td>\n",
       "      <td>1.0</td>\n",
       "      <td>-0.042533</td>\n",
       "      <td>-1.755382</td>\n",
       "      <td>-4.410504</td>\n",
       "    </tr>\n",
       "    <tr>\n",
       "      <th>4</th>\n",
       "      <td>9</td>\n",
       "      <td>1.0</td>\n",
       "      <td>0.247390</td>\n",
       "      <td>1.205187</td>\n",
       "      <td>5.090265</td>\n",
       "      <td>1.0</td>\n",
       "      <td>0.247390</td>\n",
       "      <td>1.205187</td>\n",
       "      <td>5.090265</td>\n",
       "    </tr>\n",
       "  </tbody>\n",
       "</table>\n",
       "</div>"
      ],
      "text/plain": [
       "   Sample ID  X0_df1    X1_df1    X2_df1     Y_df1  X0_df2    X1_df2  \\\n",
       "0          5     1.0  1.365948  0.413803  4.920567     1.0  1.365948   \n",
       "1          6     1.0  0.358125 -0.533465 -0.001091     1.0  0.358125   \n",
       "2          7     1.0  0.600601  0.146732  2.624350     1.0  0.600601   \n",
       "3          8     1.0 -0.042533 -1.755382 -4.410504     1.0 -0.042533   \n",
       "4          9     1.0  0.247390  1.205187  5.090265     1.0  0.247390   \n",
       "\n",
       "     X2_df2     Y_df2  \n",
       "0  0.413803  4.920567  \n",
       "1 -0.533465 -0.001091  \n",
       "2  0.146732  2.624350  \n",
       "3 -1.755382 -4.410504  \n",
       "4  1.205187  5.090265  "
      ]
     },
     "execution_count": 44,
     "metadata": {},
     "output_type": "execute_result"
    }
   ],
   "source": [
    "merged"
   ]
  },
  {
   "cell_type": "markdown",
   "id": "second-jerusalem",
   "metadata": {},
   "source": [
    "## Use np.where to get the absolute value of df1, add it to df1"
   ]
  },
  {
   "cell_type": "code",
   "execution_count": 45,
   "id": "chief-religion",
   "metadata": {},
   "outputs": [
    {
     "data": {
      "text/html": [
       "<div>\n",
       "<style scoped>\n",
       "    .dataframe tbody tr th:only-of-type {\n",
       "        vertical-align: middle;\n",
       "    }\n",
       "\n",
       "    .dataframe tbody tr th {\n",
       "        vertical-align: top;\n",
       "    }\n",
       "\n",
       "    .dataframe thead th {\n",
       "        text-align: right;\n",
       "    }\n",
       "</style>\n",
       "<table border=\"1\" class=\"dataframe\">\n",
       "  <thead>\n",
       "    <tr style=\"text-align: right;\">\n",
       "      <th></th>\n",
       "      <th>Sample ID</th>\n",
       "      <th>X0</th>\n",
       "      <th>X1</th>\n",
       "      <th>X2</th>\n",
       "      <th>Y</th>\n",
       "    </tr>\n",
       "  </thead>\n",
       "  <tbody>\n",
       "    <tr>\n",
       "      <th>0</th>\n",
       "      <td>0</td>\n",
       "      <td>1.0</td>\n",
       "      <td>-0.567464</td>\n",
       "      <td>-0.931079</td>\n",
       "      <td>NaN</td>\n",
       "    </tr>\n",
       "    <tr>\n",
       "      <th>1</th>\n",
       "      <td>1</td>\n",
       "      <td>1.0</td>\n",
       "      <td>1.717240</td>\n",
       "      <td>-1.639516</td>\n",
       "      <td>-0.432638</td>\n",
       "    </tr>\n",
       "    <tr>\n",
       "      <th>2</th>\n",
       "      <td>2</td>\n",
       "      <td>1.0</td>\n",
       "      <td>-0.785125</td>\n",
       "      <td>0.320842</td>\n",
       "      <td>0.400118</td>\n",
       "    </tr>\n",
       "    <tr>\n",
       "      <th>3</th>\n",
       "      <td>3</td>\n",
       "      <td>1.0</td>\n",
       "      <td>-0.707802</td>\n",
       "      <td>-0.174688</td>\n",
       "      <td>-0.900658</td>\n",
       "    </tr>\n",
       "    <tr>\n",
       "      <th>4</th>\n",
       "      <td>4</td>\n",
       "      <td>1.0</td>\n",
       "      <td>-1.391498</td>\n",
       "      <td>-0.021108</td>\n",
       "      <td>-1.789778</td>\n",
       "    </tr>\n",
       "  </tbody>\n",
       "</table>\n",
       "</div>"
      ],
      "text/plain": [
       "   Sample ID   X0        X1        X2         Y\n",
       "0          0  1.0 -0.567464 -0.931079       NaN\n",
       "1          1  1.0  1.717240 -1.639516 -0.432638\n",
       "2          2  1.0 -0.785125  0.320842  0.400118\n",
       "3          3  1.0 -0.707802 -0.174688 -0.900658\n",
       "4          4  1.0 -1.391498 -0.021108 -1.789778"
      ]
     },
     "execution_count": 45,
     "metadata": {},
     "output_type": "execute_result"
    }
   ],
   "source": [
    "df1.head()"
   ]
  },
  {
   "cell_type": "code",
   "execution_count": 47,
   "id": "entertaining-conditioning",
   "metadata": {},
   "outputs": [],
   "source": [
    "mask = df1['X1'] > 0\n",
    "df1['|X1|'] = np.where(mask, df1['X1'], -df1['X1'])"
   ]
  },
  {
   "cell_type": "code",
   "execution_count": 48,
   "id": "earned-casting",
   "metadata": {},
   "outputs": [
    {
     "data": {
      "text/html": [
       "<div>\n",
       "<style scoped>\n",
       "    .dataframe tbody tr th:only-of-type {\n",
       "        vertical-align: middle;\n",
       "    }\n",
       "\n",
       "    .dataframe tbody tr th {\n",
       "        vertical-align: top;\n",
       "    }\n",
       "\n",
       "    .dataframe thead th {\n",
       "        text-align: right;\n",
       "    }\n",
       "</style>\n",
       "<table border=\"1\" class=\"dataframe\">\n",
       "  <thead>\n",
       "    <tr style=\"text-align: right;\">\n",
       "      <th></th>\n",
       "      <th>Sample ID</th>\n",
       "      <th>X0</th>\n",
       "      <th>X1</th>\n",
       "      <th>X2</th>\n",
       "      <th>Y</th>\n",
       "      <th>|X1|</th>\n",
       "    </tr>\n",
       "  </thead>\n",
       "  <tbody>\n",
       "    <tr>\n",
       "      <th>0</th>\n",
       "      <td>0</td>\n",
       "      <td>1.0</td>\n",
       "      <td>-0.567464</td>\n",
       "      <td>-0.931079</td>\n",
       "      <td>NaN</td>\n",
       "      <td>0.567464</td>\n",
       "    </tr>\n",
       "    <tr>\n",
       "      <th>1</th>\n",
       "      <td>1</td>\n",
       "      <td>1.0</td>\n",
       "      <td>1.717240</td>\n",
       "      <td>-1.639516</td>\n",
       "      <td>-0.432638</td>\n",
       "      <td>1.717240</td>\n",
       "    </tr>\n",
       "    <tr>\n",
       "      <th>2</th>\n",
       "      <td>2</td>\n",
       "      <td>1.0</td>\n",
       "      <td>-0.785125</td>\n",
       "      <td>0.320842</td>\n",
       "      <td>0.400118</td>\n",
       "      <td>0.785125</td>\n",
       "    </tr>\n",
       "    <tr>\n",
       "      <th>3</th>\n",
       "      <td>3</td>\n",
       "      <td>1.0</td>\n",
       "      <td>-0.707802</td>\n",
       "      <td>-0.174688</td>\n",
       "      <td>-0.900658</td>\n",
       "      <td>0.707802</td>\n",
       "    </tr>\n",
       "    <tr>\n",
       "      <th>4</th>\n",
       "      <td>4</td>\n",
       "      <td>1.0</td>\n",
       "      <td>-1.391498</td>\n",
       "      <td>-0.021108</td>\n",
       "      <td>-1.789778</td>\n",
       "      <td>1.391498</td>\n",
       "    </tr>\n",
       "    <tr>\n",
       "      <th>5</th>\n",
       "      <td>5</td>\n",
       "      <td>1.0</td>\n",
       "      <td>1.365948</td>\n",
       "      <td>0.413803</td>\n",
       "      <td>4.920567</td>\n",
       "      <td>1.365948</td>\n",
       "    </tr>\n",
       "    <tr>\n",
       "      <th>6</th>\n",
       "      <td>6</td>\n",
       "      <td>1.0</td>\n",
       "      <td>0.358125</td>\n",
       "      <td>-0.533465</td>\n",
       "      <td>-0.001091</td>\n",
       "      <td>0.358125</td>\n",
       "    </tr>\n",
       "    <tr>\n",
       "      <th>7</th>\n",
       "      <td>7</td>\n",
       "      <td>1.0</td>\n",
       "      <td>0.600601</td>\n",
       "      <td>0.146732</td>\n",
       "      <td>2.624350</td>\n",
       "      <td>0.600601</td>\n",
       "    </tr>\n",
       "    <tr>\n",
       "      <th>8</th>\n",
       "      <td>8</td>\n",
       "      <td>1.0</td>\n",
       "      <td>-0.042533</td>\n",
       "      <td>-1.755382</td>\n",
       "      <td>-4.410504</td>\n",
       "      <td>0.042533</td>\n",
       "    </tr>\n",
       "    <tr>\n",
       "      <th>9</th>\n",
       "      <td>9</td>\n",
       "      <td>1.0</td>\n",
       "      <td>0.247390</td>\n",
       "      <td>1.205187</td>\n",
       "      <td>5.090265</td>\n",
       "      <td>0.247390</td>\n",
       "    </tr>\n",
       "  </tbody>\n",
       "</table>\n",
       "</div>"
      ],
      "text/plain": [
       "   Sample ID   X0        X1        X2         Y      |X1|\n",
       "0          0  1.0 -0.567464 -0.931079       NaN  0.567464\n",
       "1          1  1.0  1.717240 -1.639516 -0.432638  1.717240\n",
       "2          2  1.0 -0.785125  0.320842  0.400118  0.785125\n",
       "3          3  1.0 -0.707802 -0.174688 -0.900658  0.707802\n",
       "4          4  1.0 -1.391498 -0.021108 -1.789778  1.391498\n",
       "5          5  1.0  1.365948  0.413803  4.920567  1.365948\n",
       "6          6  1.0  0.358125 -0.533465 -0.001091  0.358125\n",
       "7          7  1.0  0.600601  0.146732  2.624350  0.600601\n",
       "8          8  1.0 -0.042533 -1.755382 -4.410504  0.042533\n",
       "9          9  1.0  0.247390  1.205187  5.090265  0.247390"
      ]
     },
     "execution_count": 48,
     "metadata": {},
     "output_type": "execute_result"
    }
   ],
   "source": [
    "df1"
   ]
  },
  {
   "cell_type": "markdown",
   "id": "mexican-anger",
   "metadata": {},
   "source": [
    "## Sampling a categoric data to df, range(0,3)"
   ]
  },
  {
   "cell_type": "code",
   "execution_count": 58,
   "id": "sealed-explosion",
   "metadata": {},
   "outputs": [],
   "source": [
    "df['type'] = np.random.randint(0,3, size=(df.shape[0],))"
   ]
  },
  {
   "cell_type": "code",
   "execution_count": 60,
   "id": "serial-jersey",
   "metadata": {},
   "outputs": [
    {
     "data": {
      "text/html": [
       "<div>\n",
       "<style scoped>\n",
       "    .dataframe tbody tr th:only-of-type {\n",
       "        vertical-align: middle;\n",
       "    }\n",
       "\n",
       "    .dataframe tbody tr th {\n",
       "        vertical-align: top;\n",
       "    }\n",
       "\n",
       "    .dataframe thead th {\n",
       "        text-align: right;\n",
       "    }\n",
       "</style>\n",
       "<table border=\"1\" class=\"dataframe\">\n",
       "  <thead>\n",
       "    <tr style=\"text-align: right;\">\n",
       "      <th></th>\n",
       "      <th>X0</th>\n",
       "      <th>X1</th>\n",
       "      <th>X2</th>\n",
       "      <th>Y</th>\n",
       "      <th>type</th>\n",
       "    </tr>\n",
       "  </thead>\n",
       "  <tbody>\n",
       "    <tr>\n",
       "      <th>0</th>\n",
       "      <td>1.0</td>\n",
       "      <td>-0.567464</td>\n",
       "      <td>-0.931079</td>\n",
       "      <td>NaN</td>\n",
       "      <td>0</td>\n",
       "    </tr>\n",
       "    <tr>\n",
       "      <th>1</th>\n",
       "      <td>1.0</td>\n",
       "      <td>1.717240</td>\n",
       "      <td>-1.639516</td>\n",
       "      <td>-0.432638</td>\n",
       "      <td>2</td>\n",
       "    </tr>\n",
       "    <tr>\n",
       "      <th>2</th>\n",
       "      <td>1.0</td>\n",
       "      <td>-0.785125</td>\n",
       "      <td>0.320842</td>\n",
       "      <td>0.400118</td>\n",
       "      <td>2</td>\n",
       "    </tr>\n",
       "    <tr>\n",
       "      <th>3</th>\n",
       "      <td>1.0</td>\n",
       "      <td>-0.707802</td>\n",
       "      <td>-0.174688</td>\n",
       "      <td>-0.900658</td>\n",
       "      <td>0</td>\n",
       "    </tr>\n",
       "    <tr>\n",
       "      <th>4</th>\n",
       "      <td>1.0</td>\n",
       "      <td>-1.391498</td>\n",
       "      <td>-0.021108</td>\n",
       "      <td>-1.789778</td>\n",
       "      <td>0</td>\n",
       "    </tr>\n",
       "  </tbody>\n",
       "</table>\n",
       "</div>"
      ],
      "text/plain": [
       "    X0        X1        X2         Y  type\n",
       "0  1.0 -0.567464 -0.931079       NaN     0\n",
       "1  1.0  1.717240 -1.639516 -0.432638     2\n",
       "2  1.0 -0.785125  0.320842  0.400118     2\n",
       "3  1.0 -0.707802 -0.174688 -0.900658     0\n",
       "4  1.0 -1.391498 -0.021108 -1.789778     0"
      ]
     },
     "execution_count": 60,
     "metadata": {},
     "output_type": "execute_result"
    }
   ],
   "source": [
    "df.head()"
   ]
  },
  {
   "cell_type": "markdown",
   "id": "otherwise-edinburgh",
   "metadata": {},
   "source": [
    "## groupby type and get mean of X0"
   ]
  },
  {
   "cell_type": "code",
   "execution_count": 61,
   "id": "speaking-eleven",
   "metadata": {},
   "outputs": [
    {
     "data": {
      "text/html": [
       "<div>\n",
       "<style scoped>\n",
       "    .dataframe tbody tr th:only-of-type {\n",
       "        vertical-align: middle;\n",
       "    }\n",
       "\n",
       "    .dataframe tbody tr th {\n",
       "        vertical-align: top;\n",
       "    }\n",
       "\n",
       "    .dataframe thead th {\n",
       "        text-align: right;\n",
       "    }\n",
       "</style>\n",
       "<table border=\"1\" class=\"dataframe\">\n",
       "  <thead>\n",
       "    <tr style=\"text-align: right;\">\n",
       "      <th></th>\n",
       "      <th>X0</th>\n",
       "      <th>X1</th>\n",
       "      <th>X2</th>\n",
       "      <th>Y</th>\n",
       "      <th>type</th>\n",
       "    </tr>\n",
       "    <tr>\n",
       "      <th>type</th>\n",
       "      <th></th>\n",
       "      <th></th>\n",
       "      <th></th>\n",
       "      <th></th>\n",
       "      <th></th>\n",
       "    </tr>\n",
       "  </thead>\n",
       "  <tbody>\n",
       "    <tr>\n",
       "      <th>0</th>\n",
       "      <td>1.0</td>\n",
       "      <td>-0.300702</td>\n",
       "      <td>-0.080749</td>\n",
       "      <td>0.297835</td>\n",
       "      <td>0.0</td>\n",
       "    </tr>\n",
       "    <tr>\n",
       "      <th>1</th>\n",
       "      <td>1.0</td>\n",
       "      <td>-0.051006</td>\n",
       "      <td>-0.170129</td>\n",
       "      <td>0.387253</td>\n",
       "      <td>1.0</td>\n",
       "    </tr>\n",
       "    <tr>\n",
       "      <th>2</th>\n",
       "      <td>1.0</td>\n",
       "      <td>-0.091504</td>\n",
       "      <td>-0.025254</td>\n",
       "      <td>0.722630</td>\n",
       "      <td>2.0</td>\n",
       "    </tr>\n",
       "  </tbody>\n",
       "</table>\n",
       "</div>"
      ],
      "text/plain": [
       "       X0        X1        X2         Y  type\n",
       "type                                         \n",
       "0     1.0 -0.300702 -0.080749  0.297835   0.0\n",
       "1     1.0 -0.051006 -0.170129  0.387253   1.0\n",
       "2     1.0 -0.091504 -0.025254  0.722630   2.0"
      ]
     },
     "execution_count": 61,
     "metadata": {},
     "output_type": "execute_result"
    }
   ],
   "source": [
    "\n",
    "df.groupby('type').apply(lambda x: x.mean())"
   ]
  },
  {
   "cell_type": "markdown",
   "id": "advance-austria",
   "metadata": {},
   "source": [
    "## add date to df, starting at 2022-Feb-8"
   ]
  },
  {
   "cell_type": "code",
   "execution_count": 66,
   "id": "interpreted-seven",
   "metadata": {},
   "outputs": [],
   "source": [
    "df['Date'] = pd.date_range('2022-2-8', periods=100)"
   ]
  },
  {
   "cell_type": "code",
   "execution_count": 68,
   "id": "radical-correlation",
   "metadata": {},
   "outputs": [
    {
     "data": {
      "text/plain": [
       "X0             float64\n",
       "X1             float64\n",
       "X2             float64\n",
       "Y              float64\n",
       "type             int64\n",
       "Date    datetime64[ns]\n",
       "dtype: object"
      ]
     },
     "execution_count": 68,
     "metadata": {},
     "output_type": "execute_result"
    }
   ],
   "source": [
    "df.dtypes"
   ]
  },
  {
   "cell_type": "code",
   "execution_count": 69,
   "id": "stock-board",
   "metadata": {},
   "outputs": [
    {
     "data": {
      "text/html": [
       "<div>\n",
       "<style scoped>\n",
       "    .dataframe tbody tr th:only-of-type {\n",
       "        vertical-align: middle;\n",
       "    }\n",
       "\n",
       "    .dataframe tbody tr th {\n",
       "        vertical-align: top;\n",
       "    }\n",
       "\n",
       "    .dataframe thead th {\n",
       "        text-align: right;\n",
       "    }\n",
       "</style>\n",
       "<table border=\"1\" class=\"dataframe\">\n",
       "  <thead>\n",
       "    <tr style=\"text-align: right;\">\n",
       "      <th></th>\n",
       "      <th>X0</th>\n",
       "      <th>X1</th>\n",
       "      <th>X2</th>\n",
       "      <th>Y</th>\n",
       "      <th>type</th>\n",
       "      <th>Date</th>\n",
       "    </tr>\n",
       "  </thead>\n",
       "  <tbody>\n",
       "    <tr>\n",
       "      <th>0</th>\n",
       "      <td>1.0</td>\n",
       "      <td>-0.567464</td>\n",
       "      <td>-0.931079</td>\n",
       "      <td>NaN</td>\n",
       "      <td>0</td>\n",
       "      <td>2022-02-08</td>\n",
       "    </tr>\n",
       "    <tr>\n",
       "      <th>1</th>\n",
       "      <td>1.0</td>\n",
       "      <td>1.717240</td>\n",
       "      <td>-1.639516</td>\n",
       "      <td>-0.432638</td>\n",
       "      <td>2</td>\n",
       "      <td>2022-02-09</td>\n",
       "    </tr>\n",
       "    <tr>\n",
       "      <th>2</th>\n",
       "      <td>1.0</td>\n",
       "      <td>-0.785125</td>\n",
       "      <td>0.320842</td>\n",
       "      <td>0.400118</td>\n",
       "      <td>2</td>\n",
       "      <td>2022-02-10</td>\n",
       "    </tr>\n",
       "    <tr>\n",
       "      <th>3</th>\n",
       "      <td>1.0</td>\n",
       "      <td>-0.707802</td>\n",
       "      <td>-0.174688</td>\n",
       "      <td>-0.900658</td>\n",
       "      <td>0</td>\n",
       "      <td>2022-02-11</td>\n",
       "    </tr>\n",
       "    <tr>\n",
       "      <th>4</th>\n",
       "      <td>1.0</td>\n",
       "      <td>-1.391498</td>\n",
       "      <td>-0.021108</td>\n",
       "      <td>-1.789778</td>\n",
       "      <td>0</td>\n",
       "      <td>2022-02-12</td>\n",
       "    </tr>\n",
       "  </tbody>\n",
       "</table>\n",
       "</div>"
      ],
      "text/plain": [
       "    X0        X1        X2         Y  type       Date\n",
       "0  1.0 -0.567464 -0.931079       NaN     0 2022-02-08\n",
       "1  1.0  1.717240 -1.639516 -0.432638     2 2022-02-09\n",
       "2  1.0 -0.785125  0.320842  0.400118     2 2022-02-10\n",
       "3  1.0 -0.707802 -0.174688 -0.900658     0 2022-02-11\n",
       "4  1.0 -1.391498 -0.021108 -1.789778     0 2022-02-12"
      ]
     },
     "execution_count": 69,
     "metadata": {},
     "output_type": "execute_result"
    }
   ],
   "source": [
    "df.head()"
   ]
  },
  {
   "cell_type": "markdown",
   "id": "discrete-stopping",
   "metadata": {},
   "source": [
    "## concat firs three rows of df to df"
   ]
  },
  {
   "cell_type": "code",
   "execution_count": 70,
   "id": "urban-impression",
   "metadata": {},
   "outputs": [],
   "source": [
    "df_small = df.iloc[0:3,:]"
   ]
  },
  {
   "cell_type": "code",
   "execution_count": 74,
   "id": "mathematical-fifth",
   "metadata": {},
   "outputs": [],
   "source": [
    "df_duplicated = pd.concat([df, df_small], axis=0)"
   ]
  },
  {
   "cell_type": "code",
   "execution_count": 75,
   "id": "vulnerable-vietnamese",
   "metadata": {},
   "outputs": [
    {
     "data": {
      "text/plain": [
       "(103, 6)"
      ]
     },
     "execution_count": 75,
     "metadata": {},
     "output_type": "execute_result"
    }
   ],
   "source": [
    "df_duplicated.shape"
   ]
  },
  {
   "cell_type": "code",
   "execution_count": 77,
   "id": "sorted-fiber",
   "metadata": {},
   "outputs": [
    {
     "data": {
      "text/html": [
       "<div>\n",
       "<style scoped>\n",
       "    .dataframe tbody tr th:only-of-type {\n",
       "        vertical-align: middle;\n",
       "    }\n",
       "\n",
       "    .dataframe tbody tr th {\n",
       "        vertical-align: top;\n",
       "    }\n",
       "\n",
       "    .dataframe thead th {\n",
       "        text-align: right;\n",
       "    }\n",
       "</style>\n",
       "<table border=\"1\" class=\"dataframe\">\n",
       "  <thead>\n",
       "    <tr style=\"text-align: right;\">\n",
       "      <th></th>\n",
       "      <th>X0</th>\n",
       "      <th>X1</th>\n",
       "      <th>X2</th>\n",
       "      <th>Y</th>\n",
       "      <th>type</th>\n",
       "      <th>Date</th>\n",
       "    </tr>\n",
       "  </thead>\n",
       "  <tbody>\n",
       "    <tr>\n",
       "      <th>98</th>\n",
       "      <td>1.0</td>\n",
       "      <td>-0.248327</td>\n",
       "      <td>0.099522</td>\n",
       "      <td>0.904248</td>\n",
       "      <td>2</td>\n",
       "      <td>2022-05-17</td>\n",
       "    </tr>\n",
       "    <tr>\n",
       "      <th>99</th>\n",
       "      <td>1.0</td>\n",
       "      <td>0.697865</td>\n",
       "      <td>1.479909</td>\n",
       "      <td>6.822559</td>\n",
       "      <td>2</td>\n",
       "      <td>2022-05-18</td>\n",
       "    </tr>\n",
       "    <tr>\n",
       "      <th>0</th>\n",
       "      <td>1.0</td>\n",
       "      <td>-0.567464</td>\n",
       "      <td>-0.931079</td>\n",
       "      <td>NaN</td>\n",
       "      <td>0</td>\n",
       "      <td>2022-02-08</td>\n",
       "    </tr>\n",
       "    <tr>\n",
       "      <th>1</th>\n",
       "      <td>1.0</td>\n",
       "      <td>1.717240</td>\n",
       "      <td>-1.639516</td>\n",
       "      <td>-0.432638</td>\n",
       "      <td>2</td>\n",
       "      <td>2022-02-09</td>\n",
       "    </tr>\n",
       "    <tr>\n",
       "      <th>2</th>\n",
       "      <td>1.0</td>\n",
       "      <td>-0.785125</td>\n",
       "      <td>0.320842</td>\n",
       "      <td>0.400118</td>\n",
       "      <td>2</td>\n",
       "      <td>2022-02-10</td>\n",
       "    </tr>\n",
       "  </tbody>\n",
       "</table>\n",
       "</div>"
      ],
      "text/plain": [
       "     X0        X1        X2         Y  type       Date\n",
       "98  1.0 -0.248327  0.099522  0.904248     2 2022-05-17\n",
       "99  1.0  0.697865  1.479909  6.822559     2 2022-05-18\n",
       "0   1.0 -0.567464 -0.931079       NaN     0 2022-02-08\n",
       "1   1.0  1.717240 -1.639516 -0.432638     2 2022-02-09\n",
       "2   1.0 -0.785125  0.320842  0.400118     2 2022-02-10"
      ]
     },
     "execution_count": 77,
     "metadata": {},
     "output_type": "execute_result"
    }
   ],
   "source": [
    "df_duplicated.tail()"
   ]
  },
  {
   "cell_type": "markdown",
   "id": "framed-delta",
   "metadata": {},
   "source": [
    "## find duplicates"
   ]
  },
  {
   "cell_type": "code",
   "execution_count": 78,
   "id": "rubber-madonna",
   "metadata": {},
   "outputs": [
    {
     "data": {
      "text/plain": [
       "0     False\n",
       "1     False\n",
       "2     False\n",
       "3     False\n",
       "4     False\n",
       "      ...  \n",
       "98    False\n",
       "99    False\n",
       "0      True\n",
       "1      True\n",
       "2      True\n",
       "Length: 103, dtype: bool"
      ]
     },
     "execution_count": 78,
     "metadata": {},
     "output_type": "execute_result"
    }
   ],
   "source": [
    "df_duplicated.duplicated()"
   ]
  },
  {
   "cell_type": "markdown",
   "id": "latin-description",
   "metadata": {},
   "source": [
    "## drop duplicates, keep none, keep first, keep last"
   ]
  },
  {
   "cell_type": "code",
   "execution_count": 81,
   "id": "fixed-overhead",
   "metadata": {},
   "outputs": [
    {
     "name": "stdout",
     "output_type": "stream",
     "text": [
      "(103, 6)\n",
      "(97, 6)\n"
     ]
    }
   ],
   "source": [
    "print(df_duplicated.shape)\n",
    "print(df_duplicated.drop_duplicates(keep=False).shape)"
   ]
  },
  {
   "cell_type": "code",
   "execution_count": 83,
   "id": "german-chuck",
   "metadata": {},
   "outputs": [
    {
     "data": {
      "text/html": [
       "<div>\n",
       "<style scoped>\n",
       "    .dataframe tbody tr th:only-of-type {\n",
       "        vertical-align: middle;\n",
       "    }\n",
       "\n",
       "    .dataframe tbody tr th {\n",
       "        vertical-align: top;\n",
       "    }\n",
       "\n",
       "    .dataframe thead th {\n",
       "        text-align: right;\n",
       "    }\n",
       "</style>\n",
       "<table border=\"1\" class=\"dataframe\">\n",
       "  <thead>\n",
       "    <tr style=\"text-align: right;\">\n",
       "      <th></th>\n",
       "      <th>X0</th>\n",
       "      <th>X1</th>\n",
       "      <th>X2</th>\n",
       "      <th>Y</th>\n",
       "      <th>type</th>\n",
       "      <th>Date</th>\n",
       "    </tr>\n",
       "  </thead>\n",
       "  <tbody>\n",
       "    <tr>\n",
       "      <th>3</th>\n",
       "      <td>1.0</td>\n",
       "      <td>-0.707802</td>\n",
       "      <td>-0.174688</td>\n",
       "      <td>-0.900658</td>\n",
       "      <td>0</td>\n",
       "      <td>2022-02-11</td>\n",
       "    </tr>\n",
       "    <tr>\n",
       "      <th>4</th>\n",
       "      <td>1.0</td>\n",
       "      <td>-1.391498</td>\n",
       "      <td>-0.021108</td>\n",
       "      <td>-1.789778</td>\n",
       "      <td>0</td>\n",
       "      <td>2022-02-12</td>\n",
       "    </tr>\n",
       "    <tr>\n",
       "      <th>5</th>\n",
       "      <td>1.0</td>\n",
       "      <td>1.365948</td>\n",
       "      <td>0.413803</td>\n",
       "      <td>4.920567</td>\n",
       "      <td>0</td>\n",
       "      <td>2022-02-13</td>\n",
       "    </tr>\n",
       "    <tr>\n",
       "      <th>6</th>\n",
       "      <td>1.0</td>\n",
       "      <td>0.358125</td>\n",
       "      <td>-0.533465</td>\n",
       "      <td>-0.001091</td>\n",
       "      <td>0</td>\n",
       "      <td>2022-02-14</td>\n",
       "    </tr>\n",
       "    <tr>\n",
       "      <th>7</th>\n",
       "      <td>1.0</td>\n",
       "      <td>0.600601</td>\n",
       "      <td>0.146732</td>\n",
       "      <td>2.624350</td>\n",
       "      <td>1</td>\n",
       "      <td>2022-02-15</td>\n",
       "    </tr>\n",
       "    <tr>\n",
       "      <th>...</th>\n",
       "      <td>...</td>\n",
       "      <td>...</td>\n",
       "      <td>...</td>\n",
       "      <td>...</td>\n",
       "      <td>...</td>\n",
       "      <td>...</td>\n",
       "    </tr>\n",
       "    <tr>\n",
       "      <th>98</th>\n",
       "      <td>1.0</td>\n",
       "      <td>-0.248327</td>\n",
       "      <td>0.099522</td>\n",
       "      <td>0.904248</td>\n",
       "      <td>2</td>\n",
       "      <td>2022-05-17</td>\n",
       "    </tr>\n",
       "    <tr>\n",
       "      <th>99</th>\n",
       "      <td>1.0</td>\n",
       "      <td>0.697865</td>\n",
       "      <td>1.479909</td>\n",
       "      <td>6.822559</td>\n",
       "      <td>2</td>\n",
       "      <td>2022-05-18</td>\n",
       "    </tr>\n",
       "    <tr>\n",
       "      <th>0</th>\n",
       "      <td>1.0</td>\n",
       "      <td>-0.567464</td>\n",
       "      <td>-0.931079</td>\n",
       "      <td>NaN</td>\n",
       "      <td>0</td>\n",
       "      <td>2022-02-08</td>\n",
       "    </tr>\n",
       "    <tr>\n",
       "      <th>1</th>\n",
       "      <td>1.0</td>\n",
       "      <td>1.717240</td>\n",
       "      <td>-1.639516</td>\n",
       "      <td>-0.432638</td>\n",
       "      <td>2</td>\n",
       "      <td>2022-02-09</td>\n",
       "    </tr>\n",
       "    <tr>\n",
       "      <th>2</th>\n",
       "      <td>1.0</td>\n",
       "      <td>-0.785125</td>\n",
       "      <td>0.320842</td>\n",
       "      <td>0.400118</td>\n",
       "      <td>2</td>\n",
       "      <td>2022-02-10</td>\n",
       "    </tr>\n",
       "  </tbody>\n",
       "</table>\n",
       "<p>100 rows × 6 columns</p>\n",
       "</div>"
      ],
      "text/plain": [
       "     X0        X1        X2         Y  type       Date\n",
       "3   1.0 -0.707802 -0.174688 -0.900658     0 2022-02-11\n",
       "4   1.0 -1.391498 -0.021108 -1.789778     0 2022-02-12\n",
       "5   1.0  1.365948  0.413803  4.920567     0 2022-02-13\n",
       "6   1.0  0.358125 -0.533465 -0.001091     0 2022-02-14\n",
       "7   1.0  0.600601  0.146732  2.624350     1 2022-02-15\n",
       "..  ...       ...       ...       ...   ...        ...\n",
       "98  1.0 -0.248327  0.099522  0.904248     2 2022-05-17\n",
       "99  1.0  0.697865  1.479909  6.822559     2 2022-05-18\n",
       "0   1.0 -0.567464 -0.931079       NaN     0 2022-02-08\n",
       "1   1.0  1.717240 -1.639516 -0.432638     2 2022-02-09\n",
       "2   1.0 -0.785125  0.320842  0.400118     2 2022-02-10\n",
       "\n",
       "[100 rows x 6 columns]"
      ]
     },
     "execution_count": 83,
     "metadata": {},
     "output_type": "execute_result"
    }
   ],
   "source": [
    "df_duplicated.drop_duplicates(keep='last')"
   ]
  },
  {
   "cell_type": "markdown",
   "id": "opposed-acrobat",
   "metadata": {},
   "source": [
    "## find the diff between df and df_duplicated"
   ]
  },
  {
   "cell_type": "code",
   "execution_count": 84,
   "id": "future-champagne",
   "metadata": {},
   "outputs": [],
   "source": [
    "df_without_first_three = df_duplicated.drop_duplicates(keep=False)"
   ]
  },
  {
   "cell_type": "code",
   "execution_count": 86,
   "id": "attended-respect",
   "metadata": {},
   "outputs": [],
   "source": [
    "diff = pd.concat([df, df_without_first_three]).drop_duplicates(keep=False)"
   ]
  },
  {
   "cell_type": "code",
   "execution_count": 87,
   "id": "independent-small",
   "metadata": {},
   "outputs": [
    {
     "data": {
      "text/html": [
       "<div>\n",
       "<style scoped>\n",
       "    .dataframe tbody tr th:only-of-type {\n",
       "        vertical-align: middle;\n",
       "    }\n",
       "\n",
       "    .dataframe tbody tr th {\n",
       "        vertical-align: top;\n",
       "    }\n",
       "\n",
       "    .dataframe thead th {\n",
       "        text-align: right;\n",
       "    }\n",
       "</style>\n",
       "<table border=\"1\" class=\"dataframe\">\n",
       "  <thead>\n",
       "    <tr style=\"text-align: right;\">\n",
       "      <th></th>\n",
       "      <th>X0</th>\n",
       "      <th>X1</th>\n",
       "      <th>X2</th>\n",
       "      <th>Y</th>\n",
       "      <th>type</th>\n",
       "      <th>Date</th>\n",
       "    </tr>\n",
       "  </thead>\n",
       "  <tbody>\n",
       "    <tr>\n",
       "      <th>0</th>\n",
       "      <td>1.0</td>\n",
       "      <td>-0.567464</td>\n",
       "      <td>-0.931079</td>\n",
       "      <td>NaN</td>\n",
       "      <td>0</td>\n",
       "      <td>2022-02-08</td>\n",
       "    </tr>\n",
       "    <tr>\n",
       "      <th>1</th>\n",
       "      <td>1.0</td>\n",
       "      <td>1.717240</td>\n",
       "      <td>-1.639516</td>\n",
       "      <td>-0.432638</td>\n",
       "      <td>2</td>\n",
       "      <td>2022-02-09</td>\n",
       "    </tr>\n",
       "    <tr>\n",
       "      <th>2</th>\n",
       "      <td>1.0</td>\n",
       "      <td>-0.785125</td>\n",
       "      <td>0.320842</td>\n",
       "      <td>0.400118</td>\n",
       "      <td>2</td>\n",
       "      <td>2022-02-10</td>\n",
       "    </tr>\n",
       "  </tbody>\n",
       "</table>\n",
       "</div>"
      ],
      "text/plain": [
       "    X0        X1        X2         Y  type       Date\n",
       "0  1.0 -0.567464 -0.931079       NaN     0 2022-02-08\n",
       "1  1.0  1.717240 -1.639516 -0.432638     2 2022-02-09\n",
       "2  1.0 -0.785125  0.320842  0.400118     2 2022-02-10"
      ]
     },
     "execution_count": 87,
     "metadata": {},
     "output_type": "execute_result"
    }
   ],
   "source": [
    "diff "
   ]
  },
  {
   "cell_type": "markdown",
   "id": "attractive-brazil",
   "metadata": {},
   "source": [
    "## loop row by row using apply"
   ]
  },
  {
   "cell_type": "code",
   "execution_count": 102,
   "id": "maritime-overview",
   "metadata": {},
   "outputs": [
    {
     "name": "stdout",
     "output_type": "stream",
     "text": [
      "1.0\n",
      "-0.5674644434151771\n",
      "-0.9310786426580836\n",
      "nan\n",
      "0\n",
      "2022-02-08 00:00:00\n",
      "1.0\n",
      "1.71724010306611\n",
      "-1.6395155529284826\n",
      "-0.43263845198314543\n",
      "2\n",
      "2022-02-09 00:00:00\n",
      "1.0\n",
      "-0.7851247268944032\n",
      "0.3208416960978822\n",
      "0.4001177755126495\n",
      "2\n",
      "2022-02-10 00:00:00\n"
     ]
    },
    {
     "data": {
      "text/plain": [
       "0    None\n",
       "1    None\n",
       "2    None\n",
       "dtype: object"
      ]
     },
     "execution_count": 102,
     "metadata": {},
     "output_type": "execute_result"
    }
   ],
   "source": [
    "def f(x):\n",
    "    for i in x:\n",
    "        print(i)\n",
    "diff.apply(f, axis=1)"
   ]
  },
  {
   "cell_type": "markdown",
   "id": "brown-excess",
   "metadata": {},
   "source": [
    "## Output df to csv"
   ]
  },
  {
   "cell_type": "code",
   "execution_count": 103,
   "id": "celtic-steel",
   "metadata": {},
   "outputs": [],
   "source": [
    "df.to_csv(\"lr.csv\")"
   ]
  },
  {
   "cell_type": "markdown",
   "id": "soviet-outline",
   "metadata": {},
   "source": [
    "## read by chunk"
   ]
  },
  {
   "cell_type": "code",
   "execution_count": 110,
   "id": "maritime-tennis",
   "metadata": {},
   "outputs": [],
   "source": [
    "chunks = pd.read_csv('lr.csv', chunksize=20)"
   ]
  },
  {
   "cell_type": "code",
   "execution_count": 111,
   "id": "cosmetic-valuation",
   "metadata": {},
   "outputs": [
    {
     "name": "stdout",
     "output_type": "stream",
     "text": [
      "    Unnamed: 0   X0        X1        X2         Y  type        Date\n",
      "0            0  1.0 -0.567464 -0.931079       NaN     0  2022-02-08\n",
      "1            1  1.0  1.717240 -1.639516 -0.432638     2  2022-02-09\n",
      "2            2  1.0 -0.785125  0.320842  0.400118     2  2022-02-10\n",
      "3            3  1.0 -0.707802 -0.174688 -0.900658     0  2022-02-11\n",
      "4            4  1.0 -1.391498 -0.021108 -1.789778     0  2022-02-12\n",
      "5            5  1.0  1.365948  0.413803  4.920567     0  2022-02-13\n",
      "6            6  1.0  0.358125 -0.533465 -0.001091     0  2022-02-14\n",
      "7            7  1.0  0.600601  0.146732  2.624350     1  2022-02-15\n",
      "8            8  1.0 -0.042533 -1.755382 -4.410504     2  2022-02-16\n",
      "9            9  1.0  0.247390  1.205187  5.090265     1  2022-02-17\n",
      "10          10  1.0 -0.804117  0.015119 -0.407113     1  2022-02-18\n",
      "11          11  1.0  0.548388 -0.120124  1.840511     0  2022-02-19\n",
      "12          12  1.0 -1.586830 -0.895314 -4.738616     0  2022-02-20\n",
      "13          13  1.0 -0.238916  0.695767  2.717445     0  2022-02-21\n",
      "14          14  1.0 -0.887277  0.820611  1.622594     1  2022-02-22\n",
      "15          15  1.0  0.519887 -0.324473  1.028903     1  2022-02-23\n",
      "16          16  1.0 -0.857337 -0.132735 -1.008156     0  2022-02-24\n",
      "17          17  1.0  0.103101  1.978350  7.194863     1  2022-02-25\n",
      "18          18  1.0  0.333188 -0.195889  0.900397     2  2022-02-26\n",
      "19          19  1.0  0.640315  0.256677  2.980159     1  2022-02-27\n"
     ]
    }
   ],
   "source": [
    "for i in chunks:\n",
    "    print(i)\n",
    "    break"
   ]
  },
  {
   "cell_type": "code",
   "execution_count": null,
   "id": "varied-democracy",
   "metadata": {},
   "outputs": [],
   "source": []
  }
 ],
 "metadata": {
  "kernelspec": {
   "display_name": "Python 3",
   "language": "python",
   "name": "python3"
  },
  "language_info": {
   "codemirror_mode": {
    "name": "ipython",
    "version": 3
   },
   "file_extension": ".py",
   "mimetype": "text/x-python",
   "name": "python",
   "nbconvert_exporter": "python",
   "pygments_lexer": "ipython3",
   "version": "3.8.7"
  },
  "toc": {
   "colors": {
    "hover_highlight": "#DAA520",
    "running_highlight": "#FF0000",
    "selected_highlight": "#FFD700"
   },
   "moveMenuLeft": true,
   "nav_menu": {
    "height": "396.932px",
    "width": "251.989px"
   },
   "navigate_menu": true,
   "number_sections": true,
   "sideBar": true,
   "threshold": 4,
   "toc_cell": true,
   "toc_section_display": "block",
   "toc_window_display": true,
   "widenNotebook": false
  }
 },
 "nbformat": 4,
 "nbformat_minor": 5
}
