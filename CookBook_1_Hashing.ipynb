{
 "cells": [
  {
   "cell_type": "markdown",
   "id": "hispanic-meaning",
   "metadata": {
    "toc": "true"
   },
   "source": [
    "<h1>Table of Contents<span class=\"tocSkip\"></span></h1>\n",
    "<div class=\"toc\"><ul class=\"toc-item\"><li><span><a href=\"#Dictionary\" data-toc-modified-id=\"Dictionary-1\"><span class=\"toc-item-num\">1&nbsp;&nbsp;</span>Dictionary</a></span><ul class=\"toc-item\"><li><span><a href=\"#Dict-Max,-Min\" data-toc-modified-id=\"Dict-Max,-Min-1.1\"><span class=\"toc-item-num\">1.1&nbsp;&nbsp;</span>Dict Max, Min</a></span><ul class=\"toc-item\"><li><span><a href=\"#Max/Min-is-based-on-keys-not-values\" data-toc-modified-id=\"Max/Min-is-based-on-keys-not-values-1.1.1\"><span class=\"toc-item-num\">1.1.1&nbsp;&nbsp;</span>Max/Min is based on keys not values</a></span></li><li><span><a href=\"#Another-way-is-to-use-max/min(iterables,-func)\" data-toc-modified-id=\"Another-way-is-to-use-max/min(iterables,-func)-1.1.2\"><span class=\"toc-item-num\">1.1.2&nbsp;&nbsp;</span>Another way is to use max/min(iterables, func)</a></span></li><li><span><a href=\"#It-gest-messy-if-you-want-val\" data-toc-modified-id=\"It-gest-messy-if-you-want-val-1.1.3\"><span class=\"toc-item-num\">1.1.3&nbsp;&nbsp;</span>It gest messy if you want val</a></span></li><li><span><a href=\"#Best-Solution-to-find-min-and-max-is-to-zip-reveresed-(val,-key)-tuple\" data-toc-modified-id=\"Best-Solution-to-find-min-and-max-is-to-zip-reveresed-(val,-key)-tuple-1.1.4\"><span class=\"toc-item-num\">1.1.4&nbsp;&nbsp;</span>Best Solution to find min and max is to zip reveresed (val, key) tuple</a></span></li><li><span><a href=\"#One-thing-interesting-is-&quot;Key&quot;-will-be-used-when-&quot;Values&quot;-are-duplicated\" data-toc-modified-id=\"One-thing-interesting-is-&quot;Key&quot;-will-be-used-when-&quot;Values&quot;-are-duplicated-1.1.5\"><span class=\"toc-item-num\">1.1.5&nbsp;&nbsp;</span>One thing interesting is \"Key\" will be used when \"Values\" are duplicated</a></span></li><li><span><a href=\"#Example-3-Zip-is-called-only-once\" data-toc-modified-id=\"Example-3-Zip-is-called-only-once-1.1.6\"><span class=\"toc-item-num\">1.1.6&nbsp;&nbsp;</span>Example-3 Zip is called only once</a></span></li></ul></li><li><span><a href=\"#Dict-common\" data-toc-modified-id=\"Dict-common-1.2\"><span class=\"toc-item-num\">1.2&nbsp;&nbsp;</span>Dict common</a></span><ul class=\"toc-item\"><li><span><a href=\"#Easiest-way-to-find-common\" data-toc-modified-id=\"Easiest-way-to-find-common-1.2.1\"><span class=\"toc-item-num\">1.2.1&nbsp;&nbsp;</span>Easiest way to find common</a></span></li></ul></li></ul></li><li><span><a href=\"#Hashable\" data-toc-modified-id=\"Hashable-2\"><span class=\"toc-item-num\">2&nbsp;&nbsp;</span>Hashable</a></span><ul class=\"toc-item\"><li><span><a href=\"#Basic-hashable-knowledge\" data-toc-modified-id=\"Basic-hashable-knowledge-2.1\"><span class=\"toc-item-num\">2.1&nbsp;&nbsp;</span>Basic hashable knowledge</a></span><ul class=\"toc-item\"><li><span><a href=\"#Here,-we-define-the-hash-function,-(default-way-of-hashing-from-id-in-Python)\" data-toc-modified-id=\"Here,-we-define-the-hash-function,-(default-way-of-hashing-from-id-in-Python)-2.1.1\"><span class=\"toc-item-num\">2.1.1&nbsp;&nbsp;</span>Here, we define the hash function, (default way of hashing from id in Python)</a></span></li><li><span><a href=\"#But-built-in-type..-No\" data-toc-modified-id=\"But-built-in-type..-No-2.1.2\"><span class=\"toc-item-num\">2.1.2&nbsp;&nbsp;</span>But built-in type.. No</a></span></li><li><span><a href=\"#In-fact,-the-default-hash-val-is-from-id,-with-some-calculations\" data-toc-modified-id=\"In-fact,-the-default-hash-val-is-from-id,-with-some-calculations-2.1.3\"><span class=\"toc-item-num\">2.1.3&nbsp;&nbsp;</span>In fact, the default hash val is from id, with some calculations</a></span></li><li><span><a href=\"#Of-course,-you-can-re-define-hash,-but-do-it-correctly!\" data-toc-modified-id=\"Of-course,-you-can-re-define-hash,-but-do-it-correctly!-2.1.4\"><span class=\"toc-item-num\">2.1.4&nbsp;&nbsp;</span>Of course, you can re-define hash, but do it correctly!</a></span></li></ul></li><li><span><a href=\"#Cookbook-it!-If-we-want-to-make-a-new-dict,-based-on-old-dict-but-without-some-keys\" data-toc-modified-id=\"Cookbook-it!-If-we-want-to-make-a-new-dict,-based-on-old-dict-but-without-some-keys-2.2\"><span class=\"toc-item-num\">2.2&nbsp;&nbsp;</span>Cookbook it! If we want to make a new dict, based on old dict but without some keys</a></span></li><li><span><a href=\"#What-if-we-want-to-remove-duplicates-from-sequence\" data-toc-modified-id=\"What-if-we-want-to-remove-duplicates-from-sequence-2.3\"><span class=\"toc-item-num\">2.3&nbsp;&nbsp;</span>What if we want to remove duplicates from sequence</a></span><ul class=\"toc-item\"><li><span><a href=\"#Naming-a-slice-(cookbook-1.11)\" data-toc-modified-id=\"Naming-a-slice-(cookbook-1.11)-2.3.1\"><span class=\"toc-item-num\">2.3.1&nbsp;&nbsp;</span>Naming a slice (cookbook 1.11)</a></span></li><li><span><a href=\"#Use-counter\" data-toc-modified-id=\"Use-counter-2.3.2\"><span class=\"toc-item-num\">2.3.2&nbsp;&nbsp;</span>Use counter</a></span></li><li><span><a href=\"#Itemgetter-for-lookup\" data-toc-modified-id=\"Itemgetter-for-lookup-2.3.3\"><span class=\"toc-item-num\">2.3.3&nbsp;&nbsp;</span>Itemgetter for lookup</a></span></li><li><span><a href=\"#attrgetter\" data-toc-modified-id=\"attrgetter-2.3.4\"><span class=\"toc-item-num\">2.3.4&nbsp;&nbsp;</span>attrgetter</a></span></li><li><span><a href=\"#Dict,-List,-Tuple-comprehension\" data-toc-modified-id=\"Dict,-List,-Tuple-comprehension-2.3.5\"><span class=\"toc-item-num\">2.3.5&nbsp;&nbsp;</span>Dict, List, Tuple comprehension</a></span></li></ul></li></ul></li><li><span><a href=\"#Testing,-Debugging,-and-Extension\" data-toc-modified-id=\"Testing,-Debugging,-and-Extension-3\"><span class=\"toc-item-num\">3&nbsp;&nbsp;</span>Testing, Debugging, and Extension</a></span><ul class=\"toc-item\"><li><span><a href=\"#Context-Manager-Knowledge\" data-toc-modified-id=\"Context-Manager-Knowledge-3.1\"><span class=\"toc-item-num\">3.1&nbsp;&nbsp;</span>Context Manager Knowledge</a></span><ul class=\"toc-item\"><li><span><a href=\"#A-real-example\" data-toc-modified-id=\"A-real-example-3.1.1\"><span class=\"toc-item-num\">3.1.1&nbsp;&nbsp;</span>A real example</a></span></li><li><span><a href=\"#Use-@contextmanager\" data-toc-modified-id=\"Use-@contextmanager-3.1.2\"><span class=\"toc-item-num\">3.1.2&nbsp;&nbsp;</span>Use @contextmanager</a></span></li></ul></li></ul></li></ul></div>"
   ]
  },
  {
   "cell_type": "markdown",
   "id": "anonymous-synthesis",
   "metadata": {},
   "source": [
    "# Dictionary"
   ]
  },
  {
   "cell_type": "markdown",
   "id": "deluxe-commander",
   "metadata": {},
   "source": [
    "## Dict Max, Min"
   ]
  },
  {
   "cell_type": "code",
   "execution_count": null,
   "id": "pointed-gravity",
   "metadata": {},
   "outputs": [],
   "source": [
    "prices = {\n",
    "       'ACME': 45.23,\n",
    "       'AAPL': 612.78,\n",
    "       'IBM': 205.55,\n",
    "       'HPQ': 37.20,\n",
    "       'FB': 10.75\n",
    "}"
   ]
  },
  {
   "cell_type": "markdown",
   "id": "ecological-elizabeth",
   "metadata": {},
   "source": [
    "### Max/Min is based on keys not values"
   ]
  },
  {
   "cell_type": "code",
   "execution_count": null,
   "id": "devoted-superior",
   "metadata": {},
   "outputs": [],
   "source": [
    " print(max(prices)) # why? This string is biggest, \"I\""
   ]
  },
  {
   "cell_type": "code",
   "execution_count": null,
   "id": "signed-punch",
   "metadata": {},
   "outputs": [],
   "source": [
    "print(max(prices.values())) # Ok, if you want to use values"
   ]
  },
  {
   "cell_type": "markdown",
   "id": "entertaining-knife",
   "metadata": {},
   "source": [
    "### Another way is to use max/min(iterables, func)"
   ]
  },
  {
   "cell_type": "code",
   "execution_count": null,
   "id": "medieval-carry",
   "metadata": {},
   "outputs": [],
   "source": [
    "max(prices, key=lambda x: prices[x])"
   ]
  },
  {
   "cell_type": "markdown",
   "id": "analyzed-exhaust",
   "metadata": {},
   "source": [
    "### It gest messy if you want val"
   ]
  },
  {
   "cell_type": "code",
   "execution_count": null,
   "id": "verbal-teens",
   "metadata": {},
   "outputs": [],
   "source": [
    "prices[max(prices, key=lambda x:prices[x])]"
   ]
  },
  {
   "cell_type": "markdown",
   "id": "funny-vision",
   "metadata": {},
   "source": [
    "### Best Solution to find min and max is to zip reveresed (val, key) tuple"
   ]
  },
  {
   "cell_type": "code",
   "execution_count": null,
   "id": "going-pavilion",
   "metadata": {},
   "outputs": [],
   "source": [
    "# Solution \n",
    "min_price = min(zip(prices.values(), prices.keys()))\n",
    "print(min_price)"
   ]
  },
  {
   "cell_type": "code",
   "execution_count": null,
   "id": "simplified-midwest",
   "metadata": {},
   "outputs": [],
   "source": [
    "prices_sorted = sorted(zip(prices.values(), prices.keys()))\n",
    "print(prices_sorted)"
   ]
  },
  {
   "cell_type": "markdown",
   "id": "advised-cambridge",
   "metadata": {},
   "source": [
    "### One thing interesting is \"Key\" will be used when \"Values\" are duplicated"
   ]
  },
  {
   "cell_type": "code",
   "execution_count": null,
   "id": "fresh-hobby",
   "metadata": {},
   "outputs": [],
   "source": [
    "prices = { 'AAA' : 45.23, 'ZZZ': 45.23 }"
   ]
  },
  {
   "cell_type": "code",
   "execution_count": null,
   "id": "useful-consumer",
   "metadata": {},
   "outputs": [],
   "source": [
    "min(zip(prices.values(), prices.keys()))"
   ]
  },
  {
   "cell_type": "code",
   "execution_count": null,
   "id": "spread-navigation",
   "metadata": {},
   "outputs": [],
   "source": [
    " max(zip(prices.values(), prices.keys()))"
   ]
  },
  {
   "cell_type": "markdown",
   "id": "comic-remark",
   "metadata": {},
   "source": [
    "### Example-3 Zip is called only once"
   ]
  },
  {
   "cell_type": "code",
   "execution_count": null,
   "id": "verbal-dancing",
   "metadata": {},
   "outputs": [],
   "source": [
    "# Example - 3\n",
    "# Zip will crete an iterator that can be consumed once ONLY\n",
    "\n",
    "prices_and_names = zip(prices.values(), prices.keys())\n",
    "\n",
    "print(min(prices_and_names)) # OK\n",
    "print(max(prices_and_names)) # ValueError: max() arg is an empty sequence"
   ]
  },
  {
   "cell_type": "markdown",
   "id": "intelligent-liberal",
   "metadata": {},
   "source": [
    "## Dict common"
   ]
  },
  {
   "cell_type": "markdown",
   "id": "breeding-engineer",
   "metadata": {},
   "source": [
    "A dictionary is a mapping between a set of keys and values. The keys() method of a dictionary returns a keys-view object that exposes the keys. A little-known feature of keys views is that they also support common set operations such as unions, intersections, and differences. \n",
    "\n",
    "**Thus, if you need to perform common set operations with dictionary keys, you can often just use the keys-view objects directly without first converting them into a set.**\n",
    "\n",
    "- Keys() --> set\n",
    "- Values --> not set, since duplicated values may exist\n",
    "- Items() --> set (tuple a-like)"
   ]
  },
  {
   "cell_type": "code",
   "execution_count": null,
   "id": "touched-wilson",
   "metadata": {},
   "outputs": [],
   "source": [
    "m = {'x', 'y', 'z'} # this will create a set\n",
    "n = {'x', 'y', 'j'}"
   ]
  },
  {
   "cell_type": "code",
   "execution_count": null,
   "id": "saving-casting",
   "metadata": {
    "scrolled": true
   },
   "outputs": [],
   "source": [
    "m & n"
   ]
  },
  {
   "cell_type": "markdown",
   "id": "horizontal-uncertainty",
   "metadata": {},
   "source": [
    "### Easiest way to find common"
   ]
  },
  {
   "cell_type": "code",
   "execution_count": null,
   "id": "equivalent-volunteer",
   "metadata": {},
   "outputs": [],
   "source": [
    "a={\n",
    "'x' : 1,\n",
    "'y' : 2,\n",
    "'z' : 3 }\n",
    "\n",
    "b={\n",
    "'w' : 10,\n",
    "'x' : 11,\n",
    "'y' : 2 }\n"
   ]
  },
  {
   "cell_type": "code",
   "execution_count": null,
   "id": "sustained-yugoslavia",
   "metadata": {},
   "outputs": [],
   "source": [
    "print(type(a.keys()))\n",
    "print(type(a.values()))"
   ]
  },
  {
   "cell_type": "code",
   "execution_count": null,
   "id": "impossible-reaction",
   "metadata": {},
   "outputs": [],
   "source": [
    "# Find keys in common\n",
    "a.keys() & b.keys() # { 'x', 'y' }\n",
    "\n",
    "# Find keys in a that are not in b \n",
    "a.keys() - b.keys() # { 'z' }\n",
    "\n",
    "# Find (key,value) pairs in common \n",
    "a.items() & b.items() # { ('y', 2) }"
   ]
  },
  {
   "cell_type": "markdown",
   "id": "forced-freight",
   "metadata": {},
   "source": [
    "# Hashable"
   ]
  },
  {
   "cell_type": "markdown",
   "id": "based-speech",
   "metadata": {},
   "source": [
    "## Basic hashable knowledge"
   ]
  },
  {
   "cell_type": "markdown",
   "id": "specific-watch",
   "metadata": {},
   "source": [
    "- What is hashable ? you can call hash on it, usually an immutable(sth doesnt change) is hashable, you always get a same hash value, things like float, int, str.\n",
    "- An object is hashable if it has a hash value which never changes during its lifetime (it needs a __hash__() method), and can be compared to other objects (it needs an __eq__() or __cmp__() method). Hashable objects which compare equal must have the same hash value.\n",
    "\n",
    "- Hashability makes an object usable as a dictionary key and a set member, because these data structures use the hash value internally.\n",
    "\n",
    "- All of Python’s immutable built-in objects are hashable, while no mutable containers (such as lists or dictionaries) are. Objects which are instances of user-defined classes are hashable by default; they all compare unequal, and their hash value is their id() (**in fact, this is not true, the hash val is from id, but not exact id, see test below**).\n"
   ]
  },
  {
   "cell_type": "markdown",
   "id": "linear-genius",
   "metadata": {},
   "source": [
    "### Here, we define the hash function, (default way of hashing from id in Python)"
   ]
  },
  {
   "cell_type": "code",
   "execution_count": null,
   "id": "destroyed-imagination",
   "metadata": {},
   "outputs": [],
   "source": [
    "# https://stackoverflow.com/questions/11324271/what-is-the-default-hash-in-python\n",
    "# What is the default __hash__ in python?\n",
    "def compute_hash(my_id):\n",
    "    import numpy\n",
    "    y = numpy.array([my_id], dtype='int64')\n",
    "    SIZEOF_VOID_P = 8\n",
    "    return (y >> 4) | (y << (8 * SIZEOF_VOID_P - 4))"
   ]
  },
  {
   "cell_type": "markdown",
   "id": "above-marijuana",
   "metadata": {},
   "source": [
    "### But built-in type.. No"
   ]
  },
  {
   "cell_type": "code",
   "execution_count": null,
   "id": "comparative-representative",
   "metadata": {},
   "outputs": [],
   "source": [
    "# item-2, str hash values != id\n",
    "test_str = \"p\"\n",
    "print(hash(test_str) )\n",
    "print(id(test_str))\n",
    "print(compute_hash(id(test_str)))"
   ]
  },
  {
   "cell_type": "code",
   "execution_count": null,
   "id": "exclusive-cream",
   "metadata": {},
   "outputs": [],
   "source": [
    "#\n",
    "a = 2\n",
    "print(id(a))\n",
    "print(hash(a))\n",
    "print(compute_hash(id(a)))"
   ]
  },
  {
   "cell_type": "markdown",
   "id": "coupled-respect",
   "metadata": {},
   "source": [
    "### In fact, the default hash val is from id, with some calculations"
   ]
  },
  {
   "cell_type": "code",
   "execution_count": null,
   "id": "enormous-investor",
   "metadata": {},
   "outputs": [],
   "source": [
    "class test0():\n",
    "    use_int = 0\n",
    "    use_name = \"\"\n",
    "    use_list = []\n",
    "    \n",
    "    def __init__(self, use_int:int, use_name:str, use_list:list)->None:\n",
    "        self.use_int = use_int\n",
    "        self.use_name = use_name\n",
    "        self.use_list = use_list\n",
    "\n",
    "test_obj = test0(0,\"John\",[\"test\",\"more test\",])\n",
    "print(\"hash_val:\", hash(test_obj))\n",
    "print(\"hash_val:\", test_obj.__hash__())\n",
    "print(\"id      :\", id(test_obj))\n",
    "print(\"hash from id:\", compute_hash(id(test_obj)))"
   ]
  },
  {
   "cell_type": "code",
   "execution_count": null,
   "id": "peaceful-young",
   "metadata": {},
   "outputs": [],
   "source": [
    "class test: pass\n",
    "\n",
    "a = test()\n",
    "print(id(a))\n",
    "print(hash(a))\n",
    "print(compute_hash(id(a)))"
   ]
  },
  {
   "cell_type": "markdown",
   "id": "intelligent-saskatchewan",
   "metadata": {},
   "source": [
    "### Of course, you can re-define hash, but do it correctly!"
   ]
  },
  {
   "cell_type": "code",
   "execution_count": null,
   "id": "geological-wages",
   "metadata": {
    "scrolled": true
   },
   "outputs": [],
   "source": [
    "# python mutable and hashable types\n",
    "# https://stackoverflow.com/questions/67249977/python-mutable-and-hashable-types\n",
    "# 解释，我们的object instance, 如果不重新改写hash, 则会是一个随机数（貌似不是id), 如果改写，有可能得到我们不想要的结果\n",
    "# 例如，这个例子，我们instance.use_list 改变后，虽然，还是一个instance, 但是，对应的hash值不同了，则出现了“重复”的keys\n",
    "# {<__main__.test object at 0x7fd290fb6d00>: 'object used as key', <__main__.test object at 0x7fd290fb6d00>: 'second object'}\n",
    "# 这个，可以看出来，key是相同的，但是为什么出现在keys里面？仔细看，我们的hash利用了keys, 这个又是和use_list有关，即其实是不同的，\n",
    "# 所以我们这样做，不好。。\n",
    "# 解决方法：不要乱改__key(), __hash(), 用自带的\n",
    "# 或者好好写。。\n",
    "class test():\n",
    "    \n",
    "    use_int = 0\n",
    "    use_name = \"\"\n",
    "    use_list = []\n",
    "    \n",
    "    def __init__(self, use_int:int, use_name:str, use_list:list)->None:\n",
    "        self.use_int = use_int\n",
    "        self.use_name = use_name\n",
    "        self.use_list = use_list\n",
    "    \n",
    "    def __key(self):\n",
    "        return (str(self.use_int), self.use_name,\",\".join(self.use_list))\n",
    "        \n",
    "    def __hash__(self):\n",
    "        return hash(self.__key())\n",
    "    \n",
    "    def __str__(self):\n",
    "        return \",\".join(self.__key())\n",
    "        \n",
    "if __name__ == \"__main__\":\n",
    "    test_obj = test(0,\"John\",[\"test\",\"more test\",])\n",
    "    # create an object instance, then change int\n",
    "    print(test_obj.__hash__())\n",
    "    # -8432193631831888705\n",
    "    test_obj.use_int = 1\n",
    "    print(test_obj.__hash__())\n",
    "    # 2151556622989448099\n",
    "    test_obj.use_int = 2\n",
    "    print(test_obj.__hash__())\n",
    "    # 3376702520863720933\n",
    "    \n",
    "    print(f\"obj id={id(test_obj)}\")\n",
    "    test_dict = dict() # if we create dict and use our instance as \"keys\"\n",
    "    test_dict[test_obj] = \"object used as key\" # dict key can be user object instance\n",
    "    print(test_dict)\n",
    "    # {<__main__.test object at 0x7fd29125eca0>: 'object used as key'}\n",
    "    test_obj.use_list.append(\"yet more tests\")\n",
    "    print(f\"obj id={id(test_obj)}\")\n",
    "    print(test_dict) # nothing changes, after we change the data in our object\n",
    "    # {<__main__.test object at 0x7fd29192ef10>: 'object used as key'}\n",
    "    \n",
    "    test_dict[test_obj] = \"second object\"\n",
    "    print(test_dict)\n",
    "    # {<__main__.test object at 0x7fd29125eca0>: 'object used as key', <__main__.test object at 0x7fd29125eca0>: 'second object'}\n",
    "    \n",
    "    del test_obj.use_list[-1]\n",
    "    test_dict[test_obj] = \"third object\"\n",
    "    print(test_dict)\n",
    "    # {<__main__.test object at 0x7fd2913495e0>: 'third object', <__main__.test object at 0x7fd2913495e0>: 'second object'}\n",
    "\n",
    "    print(test_obj)\n",
    "    # 2,John,test,more test\n",
    "\n",
    "    test_obj.use_int = 1\n",
    "    print(test_obj.__hash__())"
   ]
  },
  {
   "cell_type": "markdown",
   "id": "manufactured-rider",
   "metadata": {},
   "source": [
    "## Cookbook it! If we want to make a new dict, based on old dict but without some keys"
   ]
  },
  {
   "cell_type": "code",
   "execution_count": null,
   "id": "formed-second",
   "metadata": {},
   "outputs": [],
   "source": [
    "  # Make a new dictionary with certain keys removed\n",
    "c = {key:a[key] for key in a.keys() - {'z', 'w'}} # c is {'x': 1, 'y': 2}"
   ]
  },
  {
   "cell_type": "markdown",
   "id": "introductory-shell",
   "metadata": {},
   "source": [
    "## What if we want to remove duplicates from sequence"
   ]
  },
  {
   "cell_type": "code",
   "execution_count": null,
   "id": "inappropriate-ireland",
   "metadata": {},
   "outputs": [],
   "source": [
    "def dedupe(items, key=None): \n",
    "    seen = set()\n",
    "    for item in items:\n",
    "        val = item if key is None else key(item) \n",
    "        if val not in seen:\n",
    "            yield item \n",
    "            seen.add(val)"
   ]
  },
  {
   "cell_type": "code",
   "execution_count": null,
   "id": "corporate-supply",
   "metadata": {},
   "outputs": [],
   "source": [
    "# The key parameter is to used, when the item is not \"hashable\", for example\n",
    "a = [ {'x':1, 'y':2}, {'x':1, 'y':3}, {'x':1, 'y':2}, {'x':2, 'y':4}]"
   ]
  },
  {
   "cell_type": "code",
   "execution_count": null,
   "id": "determined-pathology",
   "metadata": {},
   "outputs": [],
   "source": [
    "# since the item is dict, not hashable, we cannot use set to remove duplciates\n",
    "# thus, we could use their vals, ignoring their keys, but of course, we have to define\n",
    "# the rule of \"duplicates\"\n",
    "list(dedupe(a, key=lambda d: (d['x'],d['y'])))"
   ]
  },
  {
   "cell_type": "code",
   "execution_count": null,
   "id": "realistic-winner",
   "metadata": {},
   "outputs": [],
   "source": [
    "# alternatively, we use x only\n",
    "list(dedupe(a, key=lambda d: d['x']))"
   ]
  },
  {
   "cell_type": "markdown",
   "id": "suffering-supervision",
   "metadata": {},
   "source": [
    "### Naming a slice (cookbook 1.11)"
   ]
  },
  {
   "cell_type": "code",
   "execution_count": null,
   "id": "noticed-underwear",
   "metadata": {},
   "outputs": [],
   "source": [
    "record = '....................100          .......513.25     ..........'\n",
    "cost = int(record[20:32]) * float(record[40:48])"
   ]
  },
  {
   "cell_type": "code",
   "execution_count": null,
   "id": "damaged-shakespeare",
   "metadata": {},
   "outputs": [],
   "source": [
    "cost"
   ]
  },
  {
   "cell_type": "code",
   "execution_count": null,
   "id": "pointed-president",
   "metadata": {},
   "outputs": [],
   "source": [
    "SHARES = slice(20,32)\n",
    "PRICE  = slice(40,48)"
   ]
  },
  {
   "cell_type": "code",
   "execution_count": null,
   "id": "reduced-motel",
   "metadata": {},
   "outputs": [],
   "source": [
    "cost = int(record[SHARES]) * float(record[PRICE])"
   ]
  },
  {
   "cell_type": "code",
   "execution_count": null,
   "id": "still-progress",
   "metadata": {},
   "outputs": [],
   "source": [
    "cost"
   ]
  },
  {
   "cell_type": "markdown",
   "id": "genetic-oxygen",
   "metadata": {},
   "source": [
    "### Use counter"
   ]
  },
  {
   "cell_type": "code",
   "execution_count": null,
   "id": "comparative-equipment",
   "metadata": {},
   "outputs": [],
   "source": [
    "words = [\n",
    "   'look', 'into', 'my', 'eyes', 'look', 'into', 'my', 'eyes',\n",
    "   'the', 'eyes', 'the', 'eyes', 'the', 'eyes', 'not', 'around', 'the',\n",
    "   'eyes', \"don't\", 'look', 'around', 'the', 'eyes', 'look', 'into',\n",
    "   'my', 'eyes', \"you're\", 'under'\n",
    "]\n",
    "from collections import Counter \n",
    "\n",
    "word_counts = Counter(words)\n",
    "top_three = word_counts.most_common(3) \n",
    "print(top_three)"
   ]
  },
  {
   "cell_type": "markdown",
   "id": "powerful-sunset",
   "metadata": {},
   "source": [
    "### Itemgetter for lookup"
   ]
  },
  {
   "cell_type": "code",
   "execution_count": null,
   "id": "vietnamese-commodity",
   "metadata": {},
   "outputs": [],
   "source": [
    "rows = [\n",
    "    {'fname': 'Brian', 'lname': 'Jones', 'uid': 1003},\n",
    "    {'fname': 'David', 'lname': 'Beazley', 'uid': 1002},\n",
    "    {'fname': 'John', 'lname': 'Cleese', 'uid': 1001},\n",
    "    {'fname': 'Big', 'lname': 'Jones', 'uid': 1004}\n",
    "]\n",
    "\n",
    "from operator import itemgetter\n",
    "rows_by_fname = sorted(rows, key=itemgetter('fname'))\n",
    "rows_by_uid = sorted(rows, key=itemgetter('uid')) \n",
    "\n",
    "print(rows_by_fname)\n",
    "print(\"----------------\")\n",
    "print(rows_by_uid)"
   ]
  },
  {
   "cell_type": "code",
   "execution_count": null,
   "id": "charming-throw",
   "metadata": {},
   "outputs": [],
   "source": [
    "# you can also pass two keys, so the return is a tuple\n",
    "rows_by_lfname = sorted(rows, key=itemgetter('lname','fname'))\n",
    "print(rows_by_lfname)"
   ]
  },
  {
   "cell_type": "code",
   "execution_count": null,
   "id": "bottom-essex",
   "metadata": {},
   "outputs": [],
   "source": [
    "# The functionality of itemgetter() is sometimes replaced by lambda expressions. For example:\n",
    "# why use itemgetter? itemgetter is faster! But not that much..? \n",
    "%timeit rows_by_fname = sorted(rows, key=lambda r: r['fname'])"
   ]
  },
  {
   "cell_type": "code",
   "execution_count": null,
   "id": "bored-beast",
   "metadata": {},
   "outputs": [],
   "source": [
    "%timeit rows_by_fname = sorted(rows, key=itemgetter('fname'))\n"
   ]
  },
  {
   "cell_type": "markdown",
   "id": "exceptional-damages",
   "metadata": {},
   "source": [
    "### attrgetter"
   ]
  },
  {
   "cell_type": "code",
   "execution_count": null,
   "id": "about-edgar",
   "metadata": {},
   "outputs": [],
   "source": [
    "class User:\n",
    "    def __init__(self, user_id): \n",
    "        self.user_id = user_id\n",
    "    def __repr__(self):\n",
    "        return 'User({})'.format(self.user_id)"
   ]
  },
  {
   "cell_type": "code",
   "execution_count": null,
   "id": "reliable-adult",
   "metadata": {},
   "outputs": [],
   "source": [
    "users = [User(23), User(3), User(99)]"
   ]
  },
  {
   "cell_type": "code",
   "execution_count": null,
   "id": "consistent-episode",
   "metadata": {},
   "outputs": [],
   "source": [
    "users"
   ]
  },
  {
   "cell_type": "code",
   "execution_count": null,
   "id": "furnished-recruitment",
   "metadata": {},
   "outputs": [],
   "source": [
    "# solution 1 is to use lambda\n",
    "sorted(users, key=lambda u: u.user_id)"
   ]
  },
  {
   "cell_type": "code",
   "execution_count": null,
   "id": "negative-hometown",
   "metadata": {},
   "outputs": [],
   "source": [
    "# solution 2 is to implement lt\n",
    "class User:\n",
    "    def __init__(self, user_id): \n",
    "        self.user_id = user_id\n",
    "    def __repr__(self):\n",
    "        return 'User({})'.format(self.user_id)\n",
    "    def __lt__(self, other):\n",
    "        return self.user_id < other.user_id\n",
    "\n",
    "users2 = [User(23), User(3), User(99)]\n",
    "sorted(users2)"
   ]
  },
  {
   "cell_type": "code",
   "execution_count": null,
   "id": "armed-bryan",
   "metadata": {},
   "outputs": [],
   "source": [
    "# solution 3 is to use attr\n",
    "\n",
    "from operator import attrgetter\n",
    "sorted(users, key=attrgetter('user_id'))"
   ]
  },
  {
   "cell_type": "markdown",
   "id": "blocked-carnival",
   "metadata": {},
   "source": [
    "### Dict, List, Tuple comprehension"
   ]
  },
  {
   "cell_type": "code",
   "execution_count": null,
   "id": "exotic-melissa",
   "metadata": {},
   "outputs": [],
   "source": [
    "mylist = [1, 4, -5, 10, -7, 2, 3, -1]"
   ]
  },
  {
   "cell_type": "code",
   "execution_count": null,
   "id": "authentic-remove",
   "metadata": {},
   "outputs": [],
   "source": [
    "[n for n in mylist if n > 0]"
   ]
  },
  {
   "cell_type": "code",
   "execution_count": null,
   "id": "modified-sender",
   "metadata": {},
   "outputs": [],
   "source": [
    "# when the list is big, you may want to use generator to produce filtered values iteratively\n",
    "\n",
    "pos = (n for n in mylist if n > 0)\n",
    "for x in pos:\n",
    "    print(x, end=',')\n",
    "    \n",
    "# of course, you can use filter if the logic is complicated or you  need raise error\n",
    "def is_int(val): \n",
    "    try:\n",
    "        x = int(val)\n",
    "        return True \n",
    "    except ValueError:\n",
    "        return False\n",
    "values = ['1', '2', '-3', '-', '4', 'N/A', '5']"
   ]
  },
  {
   "cell_type": "code",
   "execution_count": null,
   "id": "surprised-stretch",
   "metadata": {},
   "outputs": [],
   "source": [
    "ivals = list(filter(is_int, values))\n",
    "print(ivals)"
   ]
  },
  {
   "cell_type": "code",
   "execution_count": null,
   "id": "institutional-amsterdam",
   "metadata": {},
   "outputs": [],
   "source": []
  },
  {
   "cell_type": "code",
   "execution_count": null,
   "id": "antique-bernard",
   "metadata": {},
   "outputs": [],
   "source": []
  },
  {
   "cell_type": "code",
   "execution_count": null,
   "id": "familiar-bankruptcy",
   "metadata": {},
   "outputs": [],
   "source": []
  },
  {
   "cell_type": "markdown",
   "id": "grave-relation",
   "metadata": {},
   "source": [
    "# Testing, Debugging, and Extension"
   ]
  },
  {
   "cell_type": "markdown",
   "id": "remarkable-resolution",
   "metadata": {},
   "source": [
    "## Context Manager Knowledge"
   ]
  },
  {
   "cell_type": "markdown",
   "id": "funded-mainland",
   "metadata": {},
   "source": [
    "Why context manager?\n",
    "- too many file may be opened but not closed properly (file descriptor leakage)\n",
    "- if an error is thrown, it's not easy to find the files opened and close them"
   ]
  },
  {
   "cell_type": "code",
   "execution_count": null,
   "id": "funky-spencer",
   "metadata": {},
   "outputs": [],
   "source": [
    "# file_descriptors = []\n",
    "# for x in range(100000):\n",
    "#     file_descriptors.append(open('test.txt', 'w'))\n"
   ]
  },
  {
   "cell_type": "code",
   "execution_count": null,
   "id": "personal-animal",
   "metadata": {},
   "outputs": [],
   "source": [
    "# Python program creating a\n",
    "# context manager\n",
    "\n",
    "class ContextManager():\n",
    "    def __init__(self):\n",
    "        print('init method called')\n",
    "\n",
    "    def __enter__(self):\n",
    "        # build and return the resource needed\n",
    "        print('enter method called')\n",
    "        return self\n",
    "\n",
    "    def __exit__(self, exc_type, exc_value, exc_traceback):\n",
    "        # it cleans up after the context manager scope is finished\n",
    "        print('exit method called')\n",
    "\n",
    "\n",
    "with ContextManager() as manager:\n",
    "\tprint('with statement block')\n"
   ]
  },
  {
   "cell_type": "markdown",
   "id": "little-aspect",
   "metadata": {},
   "source": [
    "### A real example"
   ]
  },
  {
   "cell_type": "markdown",
   "id": "developing-lottery",
   "metadata": {},
   "source": [
    "On executing the with block, the following operations happen in sequence:\n",
    "\n",
    "- A FileManager object is created with test.txt as the filename and w(write) as the mode when __init__ method is executed.\n",
    "- The __enter__ method opens the test.txt file in write mode(setup operation) and returns the FileManager object to variable f.\n",
    "- The text ‘Test’ is written into the file.\n",
    "- The __exit__ method takes care of closing the file on exiting the with block(teardown operation).\n",
    "- When print(f.closed) is run, the output is True as the FileManager has already taken care of closing the file which otherwise needed to be explicitly done."
   ]
  },
  {
   "cell_type": "code",
   "execution_count": null,
   "id": "bearing-redhead",
   "metadata": {},
   "outputs": [],
   "source": [
    "# a real example\n",
    "# Python program showing\n",
    "# file management using\n",
    "# context manager\n",
    "\n",
    "class FileManager():\n",
    "    def __init__(self, filename, mode):\n",
    "        self.filename = filename\n",
    "        self.mode = mode\n",
    "        self.file = None\n",
    "\n",
    "    def __enter__(self):\n",
    "        self.file = open(self.filename, self.mode)\n",
    "        return self.file\n",
    "\n",
    "    def __exit__(self, exc_type, exc_value, exc_traceback):\n",
    "        self.file.close()\n",
    "\n",
    "# loading a file\n",
    "with FileManager('test.txt', 'w') as f:\n",
    "\tf.write('Test')\n",
    "\n",
    "print(f.closed)\n"
   ]
  },
  {
   "cell_type": "markdown",
   "id": "weighted-modern",
   "metadata": {},
   "source": [
    "### Use @contextmanager"
   ]
  },
  {
   "cell_type": "code",
   "execution_count": null,
   "id": "geographic-index",
   "metadata": {},
   "outputs": [],
   "source": [
    "#     \"\"\"@contextmanager decorator.\n",
    "\n",
    "#     Typical usage:\n",
    "\n",
    "#         @contextmanager\n",
    "#         def some_generator(<arguments>):\n",
    "#             <setup>\n",
    "#             try:\n",
    "#                 yield <value>\n",
    "#             finally:\n",
    "#                 <cleanup>\n",
    "\n",
    "#     This makes this:\n",
    "\n",
    "#         with some_generator(<arguments>) as <variable>:\n",
    "#             <body>\n",
    "\n",
    "#     equivalent to this:\n",
    "\n",
    "#         <setup>\n",
    "#         try:\n",
    "#             <variable> = <value>\n",
    "#             <body>\n",
    "#         finally:\n",
    "#             <cleanup>\n",
    "\n",
    "#     \"\"\"\n"
   ]
  },
  {
   "cell_type": "code",
   "execution_count": null,
   "id": "packed-manner",
   "metadata": {},
   "outputs": [],
   "source": [
    "from contextlib import contextmanager\n",
    "\n",
    "@contextmanager\n",
    "def myOpen(name, state):\n",
    "    try:\n",
    "        f = open(name, state)\n",
    "        yield f\n",
    "    finally:\n",
    "        f.close()\n",
    "\n",
    "\n",
    "with myOpen(\"test.txt\", \"w\") as f:\n",
    "    f.write(\"hello world!\")\n",
    "# ————————————————\n",
    "# 版权声明：本文为CSDN博主「孔天逸」的原创文章，遵循CC 4.0 BY-SA版权协议，转载请附上原文出处链接及本声明。\n",
    "# 原文链接：https://blog.csdn.net/qq_30242609/article/details/52926646"
   ]
  },
  {
   "cell_type": "code",
   "execution_count": null,
   "id": "db1a728c",
   "metadata": {},
   "outputs": [],
   "source": []
  },
  {
   "cell_type": "code",
   "execution_count": null,
   "id": "closing-adams",
   "metadata": {},
   "outputs": [],
   "source": []
  },
  {
   "cell_type": "code",
   "execution_count": null,
   "id": "classified-berlin",
   "metadata": {},
   "outputs": [],
   "source": []
  },
  {
   "cell_type": "code",
   "execution_count": null,
   "id": "valued-interference",
   "metadata": {},
   "outputs": [],
   "source": []
  },
  {
   "cell_type": "code",
   "execution_count": null,
   "id": "false-terminology",
   "metadata": {},
   "outputs": [],
   "source": []
  },
  {
   "cell_type": "code",
   "execution_count": null,
   "id": "worldwide-aurora",
   "metadata": {},
   "outputs": [],
   "source": []
  },
  {
   "cell_type": "code",
   "execution_count": null,
   "id": "ebbc10dc",
   "metadata": {},
   "outputs": [],
   "source": []
  },
  {
   "cell_type": "code",
   "execution_count": null,
   "id": "615c9c51",
   "metadata": {},
   "outputs": [],
   "source": []
  },
  {
   "cell_type": "code",
   "execution_count": null,
   "id": "ec520dd3",
   "metadata": {},
   "outputs": [],
   "source": []
  },
  {
   "cell_type": "code",
   "execution_count": null,
   "id": "cb857692",
   "metadata": {},
   "outputs": [],
   "source": []
  },
  {
   "cell_type": "code",
   "execution_count": null,
   "id": "056c528e",
   "metadata": {},
   "outputs": [],
   "source": []
  },
  {
   "cell_type": "code",
   "execution_count": null,
   "id": "167571d1",
   "metadata": {},
   "outputs": [],
   "source": []
  },
  {
   "cell_type": "code",
   "execution_count": null,
   "id": "3df3618e",
   "metadata": {},
   "outputs": [],
   "source": []
  },
  {
   "cell_type": "code",
   "execution_count": null,
   "id": "79f72e98",
   "metadata": {},
   "outputs": [],
   "source": []
  },
  {
   "cell_type": "code",
   "execution_count": null,
   "id": "91e61ab1",
   "metadata": {},
   "outputs": [],
   "source": []
  },
  {
   "cell_type": "code",
   "execution_count": null,
   "id": "1e94962b",
   "metadata": {},
   "outputs": [],
   "source": []
  },
  {
   "cell_type": "code",
   "execution_count": null,
   "id": "51584ea5",
   "metadata": {},
   "outputs": [],
   "source": []
  },
  {
   "cell_type": "code",
   "execution_count": null,
   "id": "3938b510",
   "metadata": {},
   "outputs": [],
   "source": []
  }
 ],
 "metadata": {
  "kernelspec": {
   "display_name": "Python 3 (ipykernel)",
   "language": "python",
   "name": "python3"
  },
  "language_info": {
   "codemirror_mode": {
    "name": "ipython",
    "version": 3
   },
   "file_extension": ".py",
   "mimetype": "text/x-python",
   "name": "python",
   "nbconvert_exporter": "python",
   "pygments_lexer": "ipython3",
   "version": "3.9.7"
  },
  "toc": {
   "base_numbering": 1,
   "nav_menu": {
    "height": "511.989px",
    "width": "251.989px"
   },
   "number_sections": true,
   "sideBar": true,
   "skip_h1_title": false,
   "title_cell": "Table of Contents",
   "title_sidebar": "Contents",
   "toc_cell": true,
   "toc_position": {
    "height": "calc(100% - 180px)",
    "left": "10px",
    "top": "150px",
    "width": "384px"
   },
   "toc_section_display": "block",
   "toc_window_display": true
  }
 },
 "nbformat": 4,
 "nbformat_minor": 5
}
