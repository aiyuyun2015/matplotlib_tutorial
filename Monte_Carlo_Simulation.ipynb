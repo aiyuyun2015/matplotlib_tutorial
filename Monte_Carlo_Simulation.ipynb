{
 "cells": [
  {
   "cell_type": "markdown",
   "id": "cooked-personal",
   "metadata": {
    "toc": "true"
   },
   "source": [
    "# Table of Contents\n",
    " <p><div class=\"lev1 toc-item\"><a href=\"#Uniform-random\" data-toc-modified-id=\"Uniform-random-1\"><span class=\"toc-item-num\">1&nbsp;&nbsp;</span>Uniform random</a></div><div class=\"lev2 toc-item\"><a href=\"#Linear-congruential-generator\" data-toc-modified-id=\"Linear-congruential-generator-11\"><span class=\"toc-item-num\">1.1&nbsp;&nbsp;</span>Linear congruential generator</a></div><div class=\"lev1 toc-item\"><a href=\"#Monete-Carlo-Integeration\" data-toc-modified-id=\"Monete-Carlo-Integeration-2\"><span class=\"toc-item-num\">2&nbsp;&nbsp;</span>Monete Carlo Integeration</a></div><div class=\"lev2 toc-item\"><a href=\"#Integrate-int_{0}^1-x^2-dx\" data-toc-modified-id=\"Integrate-int_{0}^1-x^2-dx-21\"><span class=\"toc-item-num\">2.1&nbsp;&nbsp;</span>Integrate $\\int_{0}^1 x^2 dx$</a></div><div class=\"lev2 toc-item\"><a href=\"#Integrate-int_{1}^3-x^2+x-dx-=-12.67\" data-toc-modified-id=\"Integrate-int_{1}^3-x^2+x-dx-=-12.67-22\"><span class=\"toc-item-num\">2.2&nbsp;&nbsp;</span>Integrate $\\int_{1}^3 x^2+x dx = 12.67$</a></div><div class=\"lev2 toc-item\"><a href=\"#Integrate-int_0^1-\\int_0^1-\\big-(4x^2-y+-y^2)dx-dy-=-1\" data-toc-modified-id=\"Integrate-int_0^1-\\int_0^1-\\big-(4x^2-y+-y^2)dx-dy-=-1-23\"><span class=\"toc-item-num\">2.3&nbsp;&nbsp;</span>Integrate $\\int_0^1 \\int_0^1 \\big (4x^2 y+ y^2)dx dy = 1$</a></div><div class=\"lev2 toc-item\"><a href=\"#Inverse-transform-exponential-distribution\" data-toc-modified-id=\"Inverse-transform-exponential-distribution-24\"><span class=\"toc-item-num\">2.4&nbsp;&nbsp;</span>Inverse transform exponential distribution</a></div><div class=\"lev2 toc-item\"><a href=\"#Acceptance-Rejection-Algorithm\" data-toc-modified-id=\"Acceptance-Rejection-Algorithm-25\"><span class=\"toc-item-num\">2.5&nbsp;&nbsp;</span>Acceptance Rejection Algorithm</a></div><div class=\"lev3 toc-item\"><a href=\"#beta-f(x)\" data-toc-modified-id=\"beta-f(x)-251\"><span class=\"toc-item-num\">2.5.1&nbsp;&nbsp;</span>beta f(x)</a></div>"
   ]
  },
  {
   "cell_type": "code",
   "execution_count": 5,
   "id": "satisfied-commissioner",
   "metadata": {},
   "outputs": [],
   "source": [
    "import numpy as np"
   ]
  },
  {
   "cell_type": "code",
   "execution_count": 21,
   "id": "sonic-emerald",
   "metadata": {},
   "outputs": [],
   "source": [
    "import matplotlib.pyplot as plt"
   ]
  },
  {
   "cell_type": "markdown",
   "id": "informed-password",
   "metadata": {},
   "source": [
    "# Uniform random"
   ]
  },
  {
   "cell_type": "markdown",
   "id": "compressed-evolution",
   "metadata": {},
   "source": [
    "简述一种产生，随机整数，随机[0,1] 的算法"
   ]
  },
  {
   "cell_type": "markdown",
   "id": "aggregate-peter",
   "metadata": {},
   "source": [
    "## Linear congruential generator"
   ]
  },
  {
   "cell_type": "markdown",
   "id": "complicated-singer",
   "metadata": {},
   "source": [
    "$Z_i = (a Z_{i-1} + b) \\text{ mod } m $\n",
    "\n",
    "note:\n",
    "easiest\n",
    "- m is prime number\n",
    "- a, b are both 0"
   ]
  },
  {
   "cell_type": "code",
   "execution_count": null,
   "id": "lined-spider",
   "metadata": {},
   "outputs": [],
   "source": [
    "def randint(seed, m=9):\n",
    "    Z_i = seed\n",
    "    while True:\n",
    "        yield Z_i % m"
   ]
  },
  {
   "cell_type": "markdown",
   "id": "encouraging-difficulty",
   "metadata": {},
   "source": [
    "- 注意的问题是周期，最后怎么会重复，因为其实这些都是pseudo-random\n"
   ]
  },
  {
   "cell_type": "markdown",
   "id": "matched-context",
   "metadata": {},
   "source": [
    "# Monete Carlo Integeration"
   ]
  },
  {
   "cell_type": "markdown",
   "id": "mental-community",
   "metadata": {},
   "source": [
    "$ X = \\int_{0}^{1} f(x) dx $"
   ]
  },
  {
   "cell_type": "code",
   "execution_count": 2,
   "id": "bigger-sculpture",
   "metadata": {},
   "outputs": [],
   "source": [
    "def f(x):\n",
    "    return x*x"
   ]
  },
  {
   "cell_type": "markdown",
   "id": "considered-bottle",
   "metadata": {},
   "source": [
    "## Integrate $\\int_{0}^1 x^2 dx$"
   ]
  },
  {
   "cell_type": "code",
   "execution_count": 14,
   "id": "induced-player",
   "metadata": {},
   "outputs": [
    {
     "data": {
      "text/plain": [
       "0.33484043870837843"
      ]
     },
     "execution_count": 14,
     "metadata": {},
     "output_type": "execute_result"
    }
   ],
   "source": [
    "N = 100000\n",
    "\n",
    "data = np.random.uniform(0,1, (N,))\n",
    "\n",
    "integration = f(data).mean()\n",
    "\n",
    "integration"
   ]
  },
  {
   "cell_type": "markdown",
   "id": "criminal-stewart",
   "metadata": {},
   "source": [
    "## Integrate $\\int_{1}^3 x^2+x dx = 12.67$"
   ]
  },
  {
   "cell_type": "markdown",
   "id": "touched-patrol",
   "metadata": {},
   "source": [
    "Note: \n",
    "- here the range is [a,b], so pdf is 1/(b-a), when we simulate, we are actually doing $\\int_1^3 \\frac{1}{3-1}(x^2+x) dx$, so we need to add back the constant.\n",
    "- instead, we could, start with [0,1] random, so the question is, what is the relationship between uniform $Z$ and $X\\sim U(1,3)$? ans:\n",
    "$2*Z+1 = X$, thus, the integration becomes $\\int_0^1 \\bigg (2z+1)^2 + (2z+1) \\bigg) d(2z+1) = 2  * \\int_0^1 \\bigg (2z+1)^2 + (2z+1) \\bigg) $\n",
    "\n",
    "In sum, I prefer the first way..\n",
    "\n",
    "    "
   ]
  },
  {
   "cell_type": "code",
   "execution_count": 23,
   "id": "enormous-check",
   "metadata": {},
   "outputs": [],
   "source": [
    "def f2(x):\n",
    "    return x*x+x"
   ]
  },
  {
   "cell_type": "markdown",
   "id": "offensive-tsunami",
   "metadata": {},
   "source": [
    "Method-1"
   ]
  },
  {
   "cell_type": "code",
   "execution_count": 36,
   "id": "listed-thriller",
   "metadata": {},
   "outputs": [
    {
     "data": {
      "text/plain": [
       "12.673452253204148"
      ]
     },
     "execution_count": 36,
     "metadata": {},
     "output_type": "execute_result"
    }
   ],
   "source": [
    "N = 1000\n",
    "low, high = 1, 3\n",
    "data = np.random.uniform(low, high, (N,))\n",
    "\n",
    "integration = (high-low)*f2(data).mean()\n",
    "\n",
    "integration"
   ]
  },
  {
   "cell_type": "markdown",
   "id": "apparent-economics",
   "metadata": {},
   "source": [
    "Method-2"
   ]
  },
  {
   "cell_type": "code",
   "execution_count": 48,
   "id": "departmental-respect",
   "metadata": {},
   "outputs": [
    {
     "data": {
      "text/plain": [
       "12.471413519191664"
      ]
     },
     "execution_count": 48,
     "metadata": {},
     "output_type": "execute_result"
    }
   ],
   "source": [
    "N = 1000\n",
    "low, high = 1, 3\n",
    "data = np.random.uniform(0, 1, (N,))\n",
    "data_prime = data*(high-low) + low\n",
    "integration2 = (high-low)*f2(data_prime).mean()\n",
    "\n",
    "integration2"
   ]
  },
  {
   "cell_type": "markdown",
   "id": "coordinate-subscription",
   "metadata": {},
   "source": [
    "## Integrate $\\int_0^1 \\int_0^1 \\big (4x^2 y+ y^2)dx dy = 1$"
   ]
  },
  {
   "cell_type": "code",
   "execution_count": 66,
   "id": "supreme-kazakhstan",
   "metadata": {},
   "outputs": [],
   "source": [
    "N = 1000\n",
    "data = np.random.uniform(0,1, size=(N, 2))"
   ]
  },
  {
   "cell_type": "code",
   "execution_count": 79,
   "id": "skilled-release",
   "metadata": {},
   "outputs": [],
   "source": [
    "def f(x):\n",
    "    return 4*x[:,0]**2*x[:, 1] + x[:,1]**2\n",
    "\n",
    "# note, for a 2-d numpy array, how to extract a column? x[:, 0], \n",
    "# note it's not x[:][0], the later x[:] returns a complete 2d-matrix, then x[:][0] extract first row."
   ]
  },
  {
   "cell_type": "code",
   "execution_count": 80,
   "id": "capital-allen",
   "metadata": {},
   "outputs": [
    {
     "data": {
      "text/plain": [
       "0.9957396321946322"
      ]
     },
     "execution_count": 80,
     "metadata": {},
     "output_type": "execute_result"
    }
   ],
   "source": [
    "f(data).mean()"
   ]
  },
  {
   "cell_type": "code",
   "execution_count": 81,
   "id": "public-japanese",
   "metadata": {},
   "outputs": [
    {
     "data": {
      "text/plain": [
       "<matplotlib.collections.PathCollection at 0x7f85ba3dff40>"
      ]
     },
     "execution_count": 81,
     "metadata": {},
     "output_type": "execute_result"
    },
    {
     "data": {
      "image/png": "[encoded data removed]",
      "text/plain": [
       "<Figure size 432x288 with 1 Axes>"
      ]
     },
     "metadata": {
      "needs_background": "light"
     },
     "output_type": "display_data"
    }
   ],
   "source": [
    "plt.scatter([x[0] for x in data], [x[1] for x in data])"
   ]
  },
  {
   "cell_type": "markdown",
   "id": "nuclear-component",
   "metadata": {},
   "source": [
    "## Inverse transform exponential distribution"
   ]
  },
  {
   "cell_type": "markdown",
   "id": "august-knowing",
   "metadata": {},
   "source": [
    "\n",
    "$Exp(x) = \\lambda e^{-\\lambda x}, x>0$"
   ]
  },
  {
   "cell_type": "code",
   "execution_count": 84,
   "id": "oriented-membrane",
   "metadata": {},
   "outputs": [],
   "source": [
    "from scipy.stats import norm"
   ]
  },
  {
   "cell_type": "code",
   "execution_count": 88,
   "id": "unlimited-batch",
   "metadata": {},
   "outputs": [],
   "source": [
    "# use norm.ppf()"
   ]
  },
  {
   "cell_type": "code",
   "execution_count": 96,
   "id": "saved-going",
   "metadata": {},
   "outputs": [],
   "source": [
    "N = 10000"
   ]
  },
  {
   "cell_type": "code",
   "execution_count": 97,
   "id": "square-accordance",
   "metadata": {},
   "outputs": [],
   "source": [
    "data = np.random.uniform(0,1, size=(N,))"
   ]
  },
  {
   "cell_type": "code",
   "execution_count": 98,
   "id": "aggressive-dealer",
   "metadata": {},
   "outputs": [],
   "source": [
    "x = norm.ppf(data)"
   ]
  },
  {
   "cell_type": "code",
   "execution_count": 100,
   "id": "numeric-underwear",
   "metadata": {},
   "outputs": [
    {
     "data": {
      "image/png": "[encoded data removed]",
      "text/plain": [
       "<Figure size 432x288 with 1 Axes>"
      ]
     },
     "metadata": {
      "needs_background": "light"
     },
     "output_type": "display_data"
    }
   ],
   "source": [
    "plt.hist(x)\n",
    "plt.show()"
   ]
  },
  {
   "cell_type": "markdown",
   "id": "opening-atlas",
   "metadata": {},
   "source": [
    "## Acceptance Rejection Algorithm"
   ]
  },
  {
   "cell_type": "markdown",
   "id": "current-fleece",
   "metadata": {},
   "source": [
    "- $x\\sim f(x)$\n",
    "- $y\\sim g(y)$\n",
    "- find $a$ so that $f(x)/g(x) < a$.\n",
    "\n",
    "Generate $Y=y_i$, \n",
    "- if $ f(y_i) < a \\cdot g(y_i)$ reject\n",
    "- else accept"
   ]
  },
  {
   "cell_type": "markdown",
   "id": "automatic-alpha",
   "metadata": {},
   "source": [
    "Note:\n",
    "- f(x) and g(x) must have same ranges for x; e.g., you cannot use $U(0,1)$ to generate normal, since they have different ranges. But can try it with exponential"
   ]
  },
  {
   "cell_type": "markdown",
   "id": "handmade-kennedy",
   "metadata": {},
   "source": [
    "### beta f(x)"
   ]
  },
  {
   "cell_type": "code",
   "execution_count": 105,
   "id": "unauthorized-murder",
   "metadata": {},
   "outputs": [],
   "source": [
    "import math"
   ]
  },
  {
   "cell_type": "code",
   "execution_count": 136,
   "id": "loved-stocks",
   "metadata": {},
   "outputs": [],
   "source": [
    "from scipy.stats import beta"
   ]
  },
  {
   "cell_type": "code",
   "execution_count": 162,
   "id": "adverse-poison",
   "metadata": {},
   "outputs": [],
   "source": [
    "def f(x):\n",
    "    return 60*x**3*(1-x)**2\n",
    "    "
   ]
  },
  {
   "cell_type": "code",
   "execution_count": 163,
   "id": "ranging-referral",
   "metadata": {},
   "outputs": [],
   "source": [
    "x = np.linspace(0, 1.0, 100)\n",
    "a, b = 4, 3\n",
    "#y = beta.pdf(x, a, b)\n",
    "y = f(x)"
   ]
  },
  {
   "cell_type": "code",
   "execution_count": 164,
   "id": "metropolitan-range",
   "metadata": {},
   "outputs": [
    {
     "data": {
      "text/plain": [
       "[<matplotlib.lines.Line2D at 0x7f85bccfe610>]"
      ]
     },
     "execution_count": 164,
     "metadata": {},
     "output_type": "execute_result"
    },
    {
     "data": {
      "image/png": "[encoded data removed]",
      "text/plain": [
       "<Figure size 432x288 with 1 Axes>"
      ]
     },
     "metadata": {
      "needs_background": "light"
     },
     "output_type": "display_data"
    }
   ],
   "source": [
    "plt.plot(x, y)"
   ]
  },
  {
   "cell_type": "code",
   "execution_count": 129,
   "id": "adequate-findings",
   "metadata": {},
   "outputs": [],
   "source": [
    "import random"
   ]
  },
  {
   "cell_type": "code",
   "execution_count": 167,
   "id": "crucial-victorian",
   "metadata": {},
   "outputs": [],
   "source": [
    "N = 10000\n",
    "data = []\n",
    "c = 3\n",
    "for i in range(N):\n",
    "    Y = random.uniform(0,1)\n",
    "    U = random.uniform(0,1)\n",
    "    if beta.pdf(Y, a,b )/c < U :\n",
    "        continue\n",
    "    else:\n",
    "        data.append(Y)"
   ]
  },
  {
   "cell_type": "code",
   "execution_count": 168,
   "id": "built-jefferson",
   "metadata": {
    "scrolled": true
   },
   "outputs": [
    {
     "data": {
      "image/png": "[encoded data removed]",
      "text/plain": [
       "<Figure size 432x288 with 1 Axes>"
      ]
     },
     "metadata": {
      "needs_background": "light"
     },
     "output_type": "display_data"
    }
   ],
   "source": [
    "plt.hist(data, density=True)\n",
    "plt.show()"
   ]
  },
  {
   "cell_type": "code",
   "execution_count": 170,
   "id": "acting-carbon",
   "metadata": {},
   "outputs": [
    {
     "data": {
      "text/plain": [
       "'/Users/junsu/Dropbox/workspace/2022_python'"
      ]
     },
     "execution_count": 170,
     "metadata": {},
     "output_type": "execute_result"
    }
   ],
   "source": [
    "%pwd"
   ]
  },
  {
   "cell_type": "code",
   "execution_count": null,
   "id": "recognized-vessel",
   "metadata": {},
   "outputs": [],
   "source": []
  }
 ],
 "metadata": {
  "kernelspec": {
   "display_name": "Python 3",
   "language": "python",
   "name": "python3"
  },
  "language_info": {
   "codemirror_mode": {
    "name": "ipython",
    "version": 3
   },
   "file_extension": ".py",
   "mimetype": "text/x-python",
   "name": "python",
   "nbconvert_exporter": "python",
   "pygments_lexer": "ipython3",
   "version": "3.8.7"
  },
  "toc": {
   "colors": {
    "hover_highlight": "#DAA520",
    "running_highlight": "#FF0000",
    "selected_highlight": "#FFD700"
   },
   "moveMenuLeft": true,
   "nav_menu": {
    "height": "192.713px",
    "width": "251.989px"
   },
   "navigate_menu": true,
   "number_sections": true,
   "sideBar": true,
   "threshold": 4,
   "toc_cell": true,
   "toc_section_display": "block",
   "toc_window_display": true,
   "widenNotebook": false
  }
 },
 "nbformat": 4,
 "nbformat_minor": 5
}
