{
 "cells": [
  {
   "cell_type": "code",
   "execution_count": 2,
   "id": "22cc8132",
   "metadata": {
    "scrolled": true
   },
   "outputs": [],
   "source": [
    "%load_ext cython"
   ]
  },
  {
   "cell_type": "markdown",
   "id": "83e34912",
   "metadata": {},
   "source": [
    "## Ref count issue"
   ]
  },
  {
   "cell_type": "markdown",
   "id": "5beb657f",
   "metadata": {},
   "source": [
    "The below is not working, why?\n",
    "\n",
    "The Cython will produce the error message Storing **unsafe C derivative of temporary  Python reference**. The reason is that concatenating the two Python strings produces a new Python string object that is referenced only by a temporary internal variable that Cython generates. As soon as the statement has finished, the temporary variable will be **decrefed** and the Python string deallocated, leaving s dangling. Since this code could not possibly work, Cython refuses to compile it."
   ]
  },
  {
   "cell_type": "code",
   "execution_count": 8,
   "id": "130ed33a",
   "metadata": {
    "scrolled": true
   },
   "outputs": [
    {
     "name": "stderr",
     "output_type": "stream",
     "text": [
      "\n",
      "Error compiling Cython file:\n",
      "------------------------------------------------------------\n",
      "...\n",
      "b1 = b'aa'\n",
      "b2 = b'bb'\n",
      "cdef char *buf = b1 + b2\n",
      "    ^\n",
      "------------------------------------------------------------\n",
      "\n",
      "C:\\Users\\Administrator\\.ipython\\cython\\_cython_magic_c1dc3259b0dfff20ffcb605b57035318.pyx:3:5: Storing unsafe C derivative of temporary Python reference\n"
     ]
    }
   ],
   "source": [
    "%%cython\n",
    "b1 = b'aa'\n",
    "b2 = b'bb'\n",
    "cdef char *buf = b1 + b2"
   ]
  },
  {
   "cell_type": "markdown",
   "id": "6245cb86",
   "metadata": {},
   "source": [
    "Solution is simple"
   ]
  },
  {
   "cell_type": "code",
   "execution_count": 9,
   "id": "3336177c",
   "metadata": {
    "scrolled": true
   },
   "outputs": [],
   "source": [
    "%%cython\n",
    "b1 = b'aa'\n",
    "b2 = b'bb'\n",
    "p = b1 + b2\n",
    "cdef char *buf = p"
   ]
  },
  {
   "cell_type": "markdown",
   "id": "74c9b528",
   "metadata": {},
   "source": [
    "Note: why python doesn't have this issue? I think the reason is how python interpret \"=\", when we do"
   ]
  },
  {
   "cell_type": "code",
   "execution_count": 5,
   "id": "5ea113c2",
   "metadata": {},
   "outputs": [],
   "source": [
    "b1='aa'\n",
    "b2='bb'\n",
    "buf=b1+b2"
   ]
  },
  {
   "cell_type": "markdown",
   "id": "2d7449f1",
   "metadata": {},
   "source": [
    "we are actually, telling Python,ok, now, we have a temp from b1 + b2, then buf is a **alias** of temp, so the count of ref is still 1, after delete of temp.\n",
    "\n",
    "However, Cython, on the other side, is making a copy of pointer, and this pointer is different from temp, meaning, buf and temp are pointers, and themselves also are stored somewhere, and they have different addresses."
   ]
  },
  {
   "cell_type": "markdown",
   "id": "2d569a1d",
   "metadata": {},
   "source": [
    "# Why define cdef?"
   ]
  },
  {
   "cell_type": "code",
   "execution_count": 19,
   "id": "1a8ae820",
   "metadata": {},
   "outputs": [],
   "source": [
    "%%cython\n",
    "def typed_fact(long n):\n",
    "    if n<=1:\n",
    "        return 1\n",
    "    return n * typed_fact(n-1)"
   ]
  },
  {
   "cell_type": "code",
   "execution_count": 20,
   "id": "2c53b7b9",
   "metadata": {},
   "outputs": [],
   "source": [
    "#%%cython\n",
    "def typed_fact2(n):\n",
    "    if n<=1:\n",
    "        return 1\n",
    "    return n * typed_fact2(n-1)"
   ]
  },
  {
   "cell_type": "code",
   "execution_count": 21,
   "id": "99cf2d6b",
   "metadata": {},
   "outputs": [
    {
     "name": "stdout",
     "output_type": "stream",
     "text": [
      "242 ns ± 5.12 ns per loop (mean ± std. dev. of 7 runs, 1000000 loops each)\n"
     ]
    }
   ],
   "source": [
    "%timeit typed_fact(10)"
   ]
  },
  {
   "cell_type": "code",
   "execution_count": 22,
   "id": "a26f7a1a",
   "metadata": {},
   "outputs": [
    {
     "name": "stdout",
     "output_type": "stream",
     "text": [
      "673 ns ± 6.96 ns per loop (mean ± std. dev. of 7 runs, 1000000 loops each)\n"
     ]
    }
   ],
   "source": [
    "%timeit typed_fact2(10)"
   ]
  },
  {
   "cell_type": "markdown",
   "id": "725241ef",
   "metadata": {},
   "source": [
    "Few points:\n",
    "- cdef must be in the same cell of the caller\n",
    "- cdef, if omit the return type, then it's object\n",
    "- cdef is not recommended to called from outside of Cython module, thus it's usually used as fast auxiliary functions to help def functions do their job.\n",
    "- note, overflow may happen, when n > 21, this is wrong"
   ]
  },
  {
   "cell_type": "code",
   "execution_count": 43,
   "id": "449868f5",
   "metadata": {},
   "outputs": [
    {
     "name": "stdout",
     "output_type": "stream",
     "text": [
      "12.956619262695312 ns\n"
     ]
    }
   ],
   "source": [
    "%%cython\n",
    "cimport cython\n",
    "#from timeit import timeit\n",
    "import time\n",
    "cdef long c_fact(long n):\n",
    "    if n<=1:\n",
    "        return 1\n",
    "    return n * c_fact(n-1)\n",
    "# TODO: how to test it now!! Cannot use c_fact, so i had to write time..\n",
    "# Also, calling timeit('c_fact(10)') will not work!\n",
    "# Indirection!!!\n",
    "\n",
    "#print(timeit(\"c_fact(10)\"))\n",
    "start = time.time()\n",
    "for i in range(0, 1000000, 1):\n",
    "    c_fact(10) # Note: this cell has %%cython, and calling c_fact must be inside this cell\n",
    "end = time.time()\n",
    "print((end - start)/1000000 * 1e9, 'ns')\n",
    "# if you define a Python function, e.g., def --> cdef, it's fine, you can call it from a separate cell\n",
    "#%timeit(c_fact(100))"
   ]
  },
  {
   "cell_type": "code",
   "execution_count": 44,
   "id": "ad0d0e88",
   "metadata": {},
   "outputs": [],
   "source": [
    "# Thus, a walkaround is wrap it!!!"
   ]
  },
  {
   "cell_type": "code",
   "execution_count": 51,
   "id": "06d85c4f",
   "metadata": {},
   "outputs": [],
   "source": [
    "%%cython\n",
    "\n",
    "cdef long c_fact(long n):\n",
    "    if n<=1:\n",
    "        return 1\n",
    "    return n * c_fact(n-1)\n",
    "\n",
    "\n",
    "def wrap_c_fact(n):\n",
    "    return c_fact\n",
    "\n",
    "def lala(n):\n",
    "    return 1"
   ]
  },
  {
   "cell_type": "code",
   "execution_count": 50,
   "id": "84680307",
   "metadata": {},
   "outputs": [
    {
     "name": "stdout",
     "output_type": "stream",
     "text": [
      "48.9 ns ± 0.881 ns per loop (mean ± std. dev. of 7 runs, 10000000 loops each)\n"
     ]
    }
   ],
   "source": [
    "%timeit wrap_c_fact(10)"
   ]
  },
  {
   "cell_type": "code",
   "execution_count": 52,
   "id": "691af27a",
   "metadata": {},
   "outputs": [
    {
     "name": "stdout",
     "output_type": "stream",
     "text": [
      "25.6 ns ± 1.01 ns per loop (mean ± std. dev. of 7 runs, 10000000 loops each)\n"
     ]
    }
   ],
   "source": [
    "%timeit lala(10)"
   ]
  },
  {
   "cell_type": "markdown",
   "id": "e391f88c",
   "metadata": {},
   "source": [
    "# Overloading"
   ]
  },
  {
   "cell_type": "markdown",
   "id": "238b7d5f",
   "metadata": {},
   "source": [
    "How? Use Fused Type, page 59"
   ]
  },
  {
   "cell_type": "code",
   "execution_count": null,
   "id": "39e96143",
   "metadata": {},
   "outputs": [],
   "source": []
  }
 ],
 "metadata": {
  "kernelspec": {
   "display_name": "Python 3 (ipykernel)",
   "language": "python",
   "name": "python3"
  },
  "language_info": {
   "codemirror_mode": {
    "name": "ipython",
    "version": 3
   },
   "file_extension": ".py",
   "mimetype": "text/x-python",
   "name": "python",
   "nbconvert_exporter": "python",
   "pygments_lexer": "ipython3",
   "version": "3.9.7"
  }
 },
 "nbformat": 4,
 "nbformat_minor": 5
}
