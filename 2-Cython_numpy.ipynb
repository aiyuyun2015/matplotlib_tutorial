{
 "cells": [
  {
   "cell_type": "code",
   "execution_count": 2,
   "id": "29f4905e",
   "metadata": {},
   "outputs": [],
   "source": [
    "%load_ext cython"
   ]
  },
  {
   "cell_type": "code",
   "execution_count": 3,
   "id": "17798395",
   "metadata": {},
   "outputs": [],
   "source": [
    "%%cython\n",
    "def cyfib(int n):\n",
    "    cdef int a, b, i\n",
    "    a, b = 1, 1\n",
    "    for i in range(n):\n",
    "        a, b = a+b, a\n",
    "    return a"
   ]
  },
  {
   "cell_type": "code",
   "execution_count": 4,
   "id": "e0de94d9",
   "metadata": {},
   "outputs": [
    {
     "data": {
      "text/plain": [
       "5"
      ]
     },
     "execution_count": 4,
     "metadata": {},
     "output_type": "execute_result"
    }
   ],
   "source": [
    "cyfib(3)"
   ]
  },
  {
   "cell_type": "code",
   "execution_count": 12,
   "id": "348d1f2c",
   "metadata": {},
   "outputs": [],
   "source": [
    "\n",
    "bb=b'these'"
   ]
  },
  {
   "cell_type": "code",
   "execution_count": 13,
   "id": "24940cbf",
   "metadata": {},
   "outputs": [],
   "source": [
    "memv = memoryview(bb)"
   ]
  },
  {
   "cell_type": "code",
   "execution_count": 14,
   "id": "11752f5f",
   "metadata": {},
   "outputs": [
    {
     "data": {
      "text/plain": [
       "<memory at 0x0000026DF1D5E280>"
      ]
     },
     "execution_count": 14,
     "metadata": {},
     "output_type": "execute_result"
    }
   ],
   "source": [
    "memv"
   ]
  },
  {
   "cell_type": "code",
   "execution_count": 17,
   "id": "ecf8af7e",
   "metadata": {},
   "outputs": [
    {
     "name": "stdout",
     "output_type": "stream",
     "text": [
      "116\n"
     ]
    }
   ],
   "source": [
    "print(memv[0])"
   ]
  },
  {
   "cell_type": "code",
   "execution_count": 21,
   "id": "75ee92b7",
   "metadata": {},
   "outputs": [
    {
     "data": {
      "text/plain": [
       "<memory at 0x0000026DF1D5E880>"
      ]
     },
     "execution_count": 21,
     "metadata": {},
     "output_type": "execute_result"
    }
   ],
   "source": [
    "memv[:1]"
   ]
  },
  {
   "cell_type": "code",
   "execution_count": 22,
   "id": "6027d315",
   "metadata": {
    "collapsed": true
   },
   "outputs": [
    {
     "ename": "TypeError",
     "evalue": "cannot modify read-only memory",
     "output_type": "error",
     "traceback": [
      "\u001b[1;31m---------------------------------------------------------------------------\u001b[0m",
      "\u001b[1;31mTypeError\u001b[0m                                 Traceback (most recent call last)",
      "\u001b[1;32mC:\\Users\\ADMINI~1\\AppData\\Local\\Temp/ipykernel_25484/2077952796.py\u001b[0m in \u001b[0;36m<module>\u001b[1;34m\u001b[0m\n\u001b[1;32m----> 1\u001b[1;33m \u001b[0mmemv\u001b[0m\u001b[1;33m[\u001b[0m\u001b[1;36m0\u001b[0m\u001b[1;33m]\u001b[0m\u001b[1;33m=\u001b[0m\u001b[1;34m'f'\u001b[0m\u001b[1;33m\u001b[0m\u001b[1;33m\u001b[0m\u001b[0m\n\u001b[0m",
      "\u001b[1;31mTypeError\u001b[0m: cannot modify read-only memory"
     ]
    }
   ],
   "source": [
    "memv[0]='f'"
   ]
  },
  {
   "cell_type": "code",
   "execution_count": 24,
   "id": "f4326890",
   "metadata": {},
   "outputs": [
    {
     "data": {
      "text/plain": [
       "'t'"
      ]
     },
     "execution_count": 24,
     "metadata": {},
     "output_type": "execute_result"
    }
   ],
   "source": [
    "chr(116)"
   ]
  },
  {
   "cell_type": "code",
   "execution_count": 25,
   "id": "e76ea3f9",
   "metadata": {},
   "outputs": [],
   "source": [
    "# make a byte array"
   ]
  },
  {
   "cell_type": "code",
   "execution_count": 27,
   "id": "c9a73262",
   "metadata": {},
   "outputs": [],
   "source": [
    "ba = bytearray(b'if this is the casemut')"
   ]
  },
  {
   "cell_type": "code",
   "execution_count": 28,
   "id": "b08ea9f8",
   "metadata": {},
   "outputs": [],
   "source": [
    "mutable1 = memoryview(ba)"
   ]
  },
  {
   "cell_type": "code",
   "execution_count": 29,
   "id": "70deb82f",
   "metadata": {},
   "outputs": [
    {
     "data": {
      "text/plain": [
       "<memory at 0x0000026DF1D5EA00>"
      ]
     },
     "execution_count": 29,
     "metadata": {},
     "output_type": "execute_result"
    }
   ],
   "source": [
    "mutable1"
   ]
  },
  {
   "cell_type": "code",
   "execution_count": 30,
   "id": "483305a0",
   "metadata": {},
   "outputs": [
    {
     "data": {
      "text/plain": [
       "<memory at 0x0000026DF1D5ED00>"
      ]
     },
     "execution_count": 30,
     "metadata": {},
     "output_type": "execute_result"
    }
   ],
   "source": [
    "mutable1[:1]"
   ]
  },
  {
   "cell_type": "code",
   "execution_count": 44,
   "id": "1424932d",
   "metadata": {},
   "outputs": [],
   "source": [
    "# single indexing is not allowed, use slice"
   ]
  },
  {
   "cell_type": "code",
   "execution_count": 42,
   "id": "dddc0474",
   "metadata": {},
   "outputs": [],
   "source": [
    "mutable1[0:1]=b\"c\""
   ]
  },
  {
   "cell_type": "code",
   "execution_count": 43,
   "id": "14598ef0",
   "metadata": {},
   "outputs": [
    {
     "data": {
      "text/plain": [
       "bytearray(b'cf this is the casemut')"
      ]
     },
     "execution_count": 43,
     "metadata": {},
     "output_type": "execute_result"
    }
   ],
   "source": [
    "ba"
   ]
  },
  {
   "cell_type": "code",
   "execution_count": 35,
   "id": "f369ce7a",
   "metadata": {},
   "outputs": [],
   "source": [
    "m = memoryview('abc'.encode())"
   ]
  },
  {
   "cell_type": "code",
   "execution_count": 37,
   "id": "2efc9566",
   "metadata": {},
   "outputs": [
    {
     "data": {
      "text/plain": [
       "97"
      ]
     },
     "execution_count": 37,
     "metadata": {},
     "output_type": "execute_result"
    }
   ],
   "source": [
    "m[0]"
   ]
  },
  {
   "cell_type": "code",
   "execution_count": 45,
   "id": "b45c54be",
   "metadata": {},
   "outputs": [],
   "source": [
    "# numpy and memoryview"
   ]
  },
  {
   "cell_type": "code",
   "execution_count": 46,
   "id": "d50c4f85",
   "metadata": {},
   "outputs": [],
   "source": [
    "import numpy as np"
   ]
  },
  {
   "cell_type": "code",
   "execution_count": 48,
   "id": "2d62b4fa",
   "metadata": {},
   "outputs": [],
   "source": [
    "s = np.ones((10, 20, 30))"
   ]
  },
  {
   "cell_type": "code",
   "execution_count": 50,
   "id": "5f41bdd7",
   "metadata": {},
   "outputs": [
    {
     "data": {
      "text/plain": [
       "(10, 20, 30)"
      ]
     },
     "execution_count": 50,
     "metadata": {},
     "output_type": "execute_result"
    }
   ],
   "source": [
    "s.shape"
   ]
  },
  {
   "cell_type": "code",
   "execution_count": 51,
   "id": "d8355f5c",
   "metadata": {},
   "outputs": [],
   "source": [
    "np_mv =memoryview(s)"
   ]
  },
  {
   "cell_type": "code",
   "execution_count": 52,
   "id": "920f636a",
   "metadata": {},
   "outputs": [
    {
     "data": {
      "text/plain": [
       "(10, 20, 30)"
      ]
     },
     "execution_count": 52,
     "metadata": {},
     "output_type": "execute_result"
    }
   ],
   "source": [
    "np_mv.shape"
   ]
  },
  {
   "cell_type": "code",
   "execution_count": 53,
   "id": "2f6b3e2f",
   "metadata": {},
   "outputs": [
    {
     "data": {
      "text/plain": [
       "3"
      ]
     },
     "execution_count": 53,
     "metadata": {},
     "output_type": "execute_result"
    }
   ],
   "source": [
    "np_mv.ndim"
   ]
  },
  {
   "cell_type": "code",
   "execution_count": 55,
   "id": "c193dcbd",
   "metadata": {},
   "outputs": [],
   "source": [
    "# chec the data storage "
   ]
  },
  {
   "cell_type": "code",
   "execution_count": 54,
   "id": "191871eb",
   "metadata": {},
   "outputs": [
    {
     "data": {
      "text/plain": [
       "(4800, 240, 8)"
      ]
     },
     "execution_count": 54,
     "metadata": {},
     "output_type": "execute_result"
    }
   ],
   "source": [
    "np_mv.strides"
   ]
  },
  {
   "cell_type": "code",
   "execution_count": 56,
   "id": "198b601e",
   "metadata": {},
   "outputs": [],
   "source": [
    "# check underlying data type"
   ]
  },
  {
   "cell_type": "code",
   "execution_count": 57,
   "id": "56c29fc1",
   "metadata": {},
   "outputs": [
    {
     "data": {
      "text/plain": [
       "'d'"
      ]
     },
     "execution_count": 57,
     "metadata": {},
     "output_type": "execute_result"
    }
   ],
   "source": [
    "np_mv.format"
   ]
  },
  {
   "cell_type": "markdown",
   "id": "5362f886",
   "metadata": {},
   "source": [
    "# working with numpy"
   ]
  },
  {
   "cell_type": "markdown",
   "id": "10165e82",
   "metadata": {},
   "source": [
    "### working with memory view, bad example, version-1"
   ]
  },
  {
   "cell_type": "code",
   "execution_count": 8,
   "id": "0a86ab1f",
   "metadata": {},
   "outputs": [],
   "source": [
    "import numpy as np"
   ]
  },
  {
   "cell_type": "code",
   "execution_count": 9,
   "id": "45d5b775",
   "metadata": {},
   "outputs": [],
   "source": [
    "%%cython\n",
    "def summer(double[:] mv):\n",
    "    cdef double d, ss = 0.0\n",
    "    # This is a bad example, python treats mv as python iterator\n",
    "    # calling in Python/C API for each access, slower..\n",
    "    for d in mv:\n",
    "        ss += d\n",
    "    return ss"
   ]
  },
  {
   "cell_type": "code",
   "execution_count": 10,
   "id": "8a52ac2b",
   "metadata": {},
   "outputs": [],
   "source": [
    "#%%cython\n",
    "def summer_python(mv):\n",
    "    #cdef double d, ss = 0.0\n",
    "    ss = 0\n",
    "    for d in mv:\n",
    "        ss += d\n",
    "    return ss"
   ]
  },
  {
   "cell_type": "code",
   "execution_count": 11,
   "id": "a6bb6213",
   "metadata": {},
   "outputs": [],
   "source": [
    "arr = np.ones((10**6,), dtype=np.double)"
   ]
  },
  {
   "cell_type": "code",
   "execution_count": 67,
   "id": "1dc24b3f",
   "metadata": {},
   "outputs": [
    {
     "name": "stdout",
     "output_type": "stream",
     "text": [
      "94 ms ± 1.1 ms per loop (mean ± std. dev. of 7 runs, 10 loops each)\n"
     ]
    }
   ],
   "source": [
    "%timeit summer(arr)"
   ]
  },
  {
   "cell_type": "code",
   "execution_count": 68,
   "id": "7e1843b5",
   "metadata": {},
   "outputs": [
    {
     "name": "stdout",
     "output_type": "stream",
     "text": [
      "61 ms ± 886 µs per loop (mean ± std. dev. of 7 runs, 10 loops each)\n"
     ]
    }
   ],
   "source": [
    "%timeit summer2(arr)"
   ]
  },
  {
   "cell_type": "markdown",
   "id": "fc37219d",
   "metadata": {},
   "source": [
    "### Working with memory view, better, version-2"
   ]
  },
  {
   "cell_type": "code",
   "execution_count": 79,
   "id": "3a388a46",
   "metadata": {},
   "outputs": [],
   "source": [
    "%%cython\n",
    "def summer2(double[:] mv):\n",
    "    cdef:\n",
    "        double ss = 0.0\n",
    "        int i, N\n",
    "    N = mv.shape[0]\n",
    "    # When the Python iterator is removed, the Python/C API is not used\n",
    "    # isntead, indexes into the underlying buffer\n",
    "    for i in range(N):\n",
    "        ss += mv[i]\n",
    "    return ss"
   ]
  },
  {
   "cell_type": "code",
   "execution_count": 73,
   "id": "b80b1443",
   "metadata": {},
   "outputs": [
    {
     "name": "stdout",
     "output_type": "stream",
     "text": [
      "598 µs ± 21.9 µs per loop (mean ± std. dev. of 7 runs, 1000 loops each)\n"
     ]
    }
   ],
   "source": [
    "%timeit summer3(arr)"
   ]
  },
  {
   "cell_type": "markdown",
   "id": "d45f5881",
   "metadata": {},
   "source": [
    "### Working with memory view, version-3"
   ]
  },
  {
   "cell_type": "code",
   "execution_count": 83,
   "id": "6304829e",
   "metadata": {},
   "outputs": [],
   "source": [
    "%%cython\n",
    "from cython cimport boundscheck, wraparound\n",
    "\n",
    "#%%cython\n",
    "def summer3(double[:] mv):\n",
    "    cdef:\n",
    "        double ss = 0.0\n",
    "        int i, N\n",
    "    N = mv.shape[0]\n",
    "    \n",
    "    with boundscheck(False), wraparound(False):\n",
    "        for i in range(N):\n",
    "            ss += mv[i]\n",
    "    return ss"
   ]
  },
  {
   "cell_type": "code",
   "execution_count": 85,
   "id": "e7f56f27",
   "metadata": {},
   "outputs": [
    {
     "name": "stdout",
     "output_type": "stream",
     "text": [
      "538 µs ± 1.11 µs per loop (mean ± std. dev. of 7 runs, 1000 loops each)\n"
     ]
    }
   ],
   "source": [
    "%timeit summer3(arr)"
   ]
  },
  {
   "cell_type": "code",
   "execution_count": null,
   "id": "c8cc2a59",
   "metadata": {},
   "outputs": [],
   "source": []
  },
  {
   "cell_type": "code",
   "execution_count": 86,
   "id": "6db73942",
   "metadata": {},
   "outputs": [],
   "source": [
    "%%cython\n",
    "from cython cimport boundscheck, wraparound\n",
    "\n",
    "#%%cython\n",
    "@boundscheck(False)\n",
    "@wraparound(False)\n",
    "def summer3(double[:] mv):\n",
    "    cdef:\n",
    "        double ss = 0.0\n",
    "        int i, N\n",
    "    N = mv.shape[0]\n",
    "    \n",
    "    for i in range(N):\n",
    "        ss += mv[i]\n",
    "    return ss"
   ]
  },
  {
   "cell_type": "code",
   "execution_count": 87,
   "id": "10d807d6",
   "metadata": {},
   "outputs": [
    {
     "name": "stdout",
     "output_type": "stream",
     "text": [
      "536 µs ± 3.78 µs per loop (mean ± std. dev. of 7 runs, 1000 loops each)\n"
     ]
    }
   ],
   "source": [
    "%timeit summer3(arr)"
   ]
  },
  {
   "cell_type": "code",
   "execution_count": 88,
   "id": "1d710cf9",
   "metadata": {},
   "outputs": [
    {
     "name": "stdout",
     "output_type": "stream",
     "text": [
      "287 µs ± 6.38 µs per loop (mean ± std. dev. of 7 runs, 1000 loops each)\n"
     ]
    }
   ],
   "source": [
    "# compare with python numpy\n",
    "%timeit arr.sum()"
   ]
  },
  {
   "cell_type": "markdown",
   "id": "ac6e0447",
   "metadata": {},
   "source": [
    "### Test Fortran and C type"
   ]
  },
  {
   "cell_type": "code",
   "execution_count": 106,
   "id": "9ba10875",
   "metadata": {},
   "outputs": [],
   "source": [
    "# what does stride mean?\n",
    "# it actually means, the address difference between you index\n",
    "# suppose, we have a 10 * 20 matrix, if you look at data[0][:], data[1][:]\n",
    "# then you will note the difference is 4, as the below example shows\n",
    "# In comparing, C order, will give you 80, why? Since, each row, you have 20 integers(4 btye for each)"
   ]
  },
  {
   "cell_type": "code",
   "execution_count": 95,
   "id": "60d619b3",
   "metadata": {},
   "outputs": [],
   "source": [
    "mv = np.ones((10, 20), dtype=np.int32, order='F')"
   ]
  },
  {
   "cell_type": "code",
   "execution_count": 96,
   "id": "6536a4e3",
   "metadata": {},
   "outputs": [
    {
     "data": {
      "text/plain": [
       "(4, 40)"
      ]
     },
     "execution_count": 96,
     "metadata": {},
     "output_type": "execute_result"
    }
   ],
   "source": [
    "mv.strides"
   ]
  },
  {
   "cell_type": "code",
   "execution_count": 104,
   "id": "8de4ecc8",
   "metadata": {},
   "outputs": [],
   "source": [
    "mv = np.ones((10, 20), dtype=np.int32, order='C')"
   ]
  },
  {
   "cell_type": "code",
   "execution_count": 105,
   "id": "9621fcaf",
   "metadata": {},
   "outputs": [
    {
     "data": {
      "text/plain": [
       "(80, 4)"
      ]
     },
     "execution_count": 105,
     "metadata": {},
     "output_type": "execute_result"
    }
   ],
   "source": [
    "mv.strides"
   ]
  },
  {
   "cell_type": "code",
   "execution_count": null,
   "id": "40ace8ac",
   "metadata": {},
   "outputs": [],
   "source": []
  },
  {
   "cell_type": "code",
   "execution_count": 89,
   "id": "fea2382f",
   "metadata": {},
   "outputs": [],
   "source": [
    "mv = np.ones((10, 20, 30), dtype=np.int32, order='F')"
   ]
  },
  {
   "cell_type": "code",
   "execution_count": 92,
   "id": "76a7740f",
   "metadata": {},
   "outputs": [
    {
     "data": {
      "text/plain": [
       "(4, 40, 800)"
      ]
     },
     "execution_count": 92,
     "metadata": {},
     "output_type": "execute_result"
    }
   ],
   "source": [
    "mv.strides"
   ]
  },
  {
   "cell_type": "code",
   "execution_count": 93,
   "id": "63131a2f",
   "metadata": {},
   "outputs": [],
   "source": [
    "mv = np.ones((10, 20, 30), dtype=np.int32, order='C')"
   ]
  },
  {
   "cell_type": "code",
   "execution_count": 94,
   "id": "8eb27cae",
   "metadata": {},
   "outputs": [
    {
     "data": {
      "text/plain": [
       "(2400, 120, 4)"
      ]
     },
     "execution_count": 94,
     "metadata": {},
     "output_type": "execute_result"
    }
   ],
   "source": [
    "mv.strides"
   ]
  },
  {
   "cell_type": "markdown",
   "id": "c2575e2c",
   "metadata": {},
   "source": [
    "#### Define a typed memoryview (Cython"
   ]
  },
  {
   "cell_type": "code",
   "execution_count": 111,
   "id": "0292227d",
   "metadata": {},
   "outputs": [],
   "source": [
    "# define a c continous memory view, with the last colon ::1\n",
    "# if it's a Fortran mv, then ::2, see example below"
   ]
  },
  {
   "cell_type": "code",
   "execution_count": 124,
   "id": "9e802b14",
   "metadata": {},
   "outputs": [],
   "source": [
    "%%cython\n",
    "cdef float[:, ::1] c_contig_mv"
   ]
  },
  {
   "cell_type": "code",
   "execution_count": 125,
   "id": "9229451c",
   "metadata": {},
   "outputs": [],
   "source": [
    "c_contig_mv = np.ones((3, 4), dtype=np.float32)"
   ]
  },
  {
   "cell_type": "code",
   "execution_count": 127,
   "id": "051b0840",
   "metadata": {},
   "outputs": [
    {
     "data": {
      "text/plain": [
       "(16, 4)"
      ]
     },
     "execution_count": 127,
     "metadata": {},
     "output_type": "execute_result"
    }
   ],
   "source": [
    "c_contig_mv.strides"
   ]
  },
  {
   "cell_type": "code",
   "execution_count": 114,
   "id": "e00e53bf",
   "metadata": {},
   "outputs": [],
   "source": [
    "# define a Fortran type, or column stride mv"
   ]
  },
  {
   "cell_type": "code",
   "execution_count": 129,
   "id": "e3b35fe8",
   "metadata": {
    "collapsed": true
   },
   "outputs": [
    {
     "name": "stderr",
     "output_type": "stream",
     "text": [
      "\n",
      "Error compiling Cython file:\n",
      "------------------------------------------------------------\n",
      "...\n",
      "cdef float[:, ::2] f_contig_mv\n",
      "               ^\n",
      "------------------------------------------------------------\n",
      "\n",
      "C:\\Users\\Administrator\\.ipython\\cython\\_cython_magic_18bc0588e7e6975dc41cf91f4692e0e4.pyx:1:16: Step must be omitted, 1, or a valid specifier.\n"
     ]
    }
   ],
   "source": [
    "%%cython\n",
    "cdef float[:, ::2] f_contig_mv\n",
    "# wrong example!!! dont do this"
   ]
  },
  {
   "cell_type": "code",
   "execution_count": 130,
   "id": "91e1c362",
   "metadata": {},
   "outputs": [],
   "source": [
    "%%cython\n",
    "cdef float[::1, :] f_contig_mv"
   ]
  },
  {
   "cell_type": "code",
   "execution_count": 131,
   "id": "5a170db6",
   "metadata": {},
   "outputs": [],
   "source": [
    "f_np = np.ones((3, 4), dtype=np.float64, order='F')\n",
    "f_contig_mv = f_np"
   ]
  },
  {
   "cell_type": "code",
   "execution_count": 132,
   "id": "c6a84021",
   "metadata": {},
   "outputs": [
    {
     "data": {
      "text/plain": [
       "(8, 24)"
      ]
     },
     "execution_count": 132,
     "metadata": {},
     "output_type": "execute_result"
    }
   ],
   "source": [
    "f_contig_mv.strides"
   ]
  },
  {
   "cell_type": "code",
   "execution_count": 133,
   "id": "4ae1e4a8",
   "metadata": {},
   "outputs": [],
   "source": [
    "c_contig_mv = f_np"
   ]
  },
  {
   "cell_type": "code",
   "execution_count": 134,
   "id": "defed92a",
   "metadata": {},
   "outputs": [
    {
     "data": {
      "text/plain": [
       "(8, 24)"
      ]
     },
     "execution_count": 134,
     "metadata": {},
     "output_type": "execute_result"
    }
   ],
   "source": [
    "c_contig_mv.strides"
   ]
  },
  {
   "cell_type": "code",
   "execution_count": 136,
   "id": "69ccdfd9",
   "metadata": {},
   "outputs": [
    {
     "data": {
      "text/plain": [
       "True"
      ]
     },
     "execution_count": 136,
     "metadata": {},
     "output_type": "execute_result"
    }
   ],
   "source": [
    "# interesting\n",
    "f_contig_mv is c_contig_mv"
   ]
  },
  {
   "cell_type": "markdown",
   "id": "1e69fa8c",
   "metadata": {},
   "source": [
    "## Interact with np array, pandas"
   ]
  },
  {
   "cell_type": "code",
   "execution_count": 36,
   "id": "b7f6f61f",
   "metadata": {},
   "outputs": [],
   "source": [
    "%%cython\n",
    "import numpy as np\n",
    "#import pandas as pd\n",
    "#obj = pd.Series({'a':[1,2,3], 'b':[10.0, 11.0, 12.0]})\n",
    "obj = np.array([[1,2,3],[4,5,6]], dtype=np.int32)\n",
    "cdef int[:, :] mv = obj\n",
    "print(mv[0, 1])\n",
    "print(mv[0,-1])\n",
    "mv[0, 1] = 10\n",
    "print(mv[0, 1])"
   ]
  },
  {
   "cell_type": "code",
   "execution_count": 3,
   "id": "0947ae60",
   "metadata": {},
   "outputs": [
    {
     "name": "stdout",
     "output_type": "stream",
     "text": [
      "   0  1  2\n",
      "0  1  2  3\n",
      "1  4  5  6\n",
      "2\n",
      "3\n",
      "10\n"
     ]
    }
   ],
   "source": [
    "%%cython\n",
    "import pandas as pd\n",
    "import numpy as np\n",
    "#import pandas as pd\n",
    "#obj = pd.Series({'a':[1,2,3], 'b':[10.0, 11.0, 12.0]})\n",
    "obj = pd.DataFrame([[1,2,3],[4,5,6]], dtype=np.int32)\n",
    "print(obj)\n",
    "cdef int[:, :] mv = obj.values\n",
    "print(mv[0, 1])\n",
    "print(mv[0,-1])\n",
    "mv[0, 1] = 10\n",
    "print(mv[0, 1])"
   ]
  },
  {
   "cell_type": "code",
   "execution_count": null,
   "id": "6847b481",
   "metadata": {},
   "outputs": [],
   "source": []
  },
  {
   "cell_type": "markdown",
   "id": "ec89182b",
   "metadata": {},
   "source": [
    "# Two examples I cannot understand"
   ]
  },
  {
   "cell_type": "markdown",
   "id": "542e76bf",
   "metadata": {},
   "source": [
    "## Example-1"
   ]
  },
  {
   "cell_type": "code",
   "execution_count": 19,
   "id": "f82d722b",
   "metadata": {},
   "outputs": [
    {
     "name": "stdout",
     "output_type": "stream",
     "text": [
      "   0  1  2\n",
      "0  1  2  3\n",
      "1  4  5  6\n",
      "10\n",
      "10\n",
      "2316057988416\n",
      "2316057988416\n"
     ]
    }
   ],
   "source": [
    "%%cython\n",
    "import pandas as pd\n",
    "import numpy as np\n",
    "#import pandas as pd\n",
    "#obj = pd.Series({'a':[1,2,3], 'b':[10.0, 11.0, 12.0]})\n",
    "obj = pd.DataFrame([[1,2,3],[4,5,6]], dtype=np.int32)\n",
    "print(obj)\n",
    "cdef int[:, :] mv \n",
    "mv = obj.values\n",
    "cdef int[:, :] mv2 = mv[...]\n",
    "\n",
    "#print(mv[0, 1])\n",
    "#print(mv[0,-1])\n",
    "mv[0, 1] = 10\n",
    "print(mv[0, 1])\n",
    "print(mv2[0,1])\n",
    "print(id(mv))\n",
    "print(id(mv2))"
   ]
  },
  {
   "cell_type": "markdown",
   "id": "238f9e8e",
   "metadata": {},
   "source": [
    "## Example-2"
   ]
  },
  {
   "cell_type": "code",
   "execution_count": 29,
   "id": "77d27a6a",
   "metadata": {},
   "outputs": [
    {
     "name": "stdout",
     "output_type": "stream",
     "text": [
      "1\n",
      "999\n",
      "2316095320960\n",
      "2316095320960\n"
     ]
    }
   ],
   "source": [
    "%%cython\n",
    "import numpy as np\n",
    "\n",
    "cdef int[:, :, :] to_view, from_view\n",
    "to_view = np.zeros((20, 15, 30), dtype=np.intc)\n",
    "from_view = np.ones((20, 15, 30), dtype=np.intc)\n",
    "\n",
    "# copy the elements in from_view to to_view\n",
    "to_view[...] = from_view\n",
    "# or\n",
    "to_view[:] = from_view\n",
    "# or\n",
    "to_view[:, :, :] = from_view\n",
    "\n",
    "from_view[0, 0, 0] = 999\n",
    "print(to_view[0,0,0])\n",
    "print(from_view[0,0,0])\n",
    "print(id(to_view))\n",
    "print(id(from_view))"
   ]
  },
  {
   "cell_type": "markdown",
   "id": "4d731ecd",
   "metadata": {},
   "source": [
    "## Example-3 from official website"
   ]
  },
  {
   "cell_type": "markdown",
   "id": "deeded44",
   "metadata": {},
   "source": [
    "https://cython.readthedocs.io/en/latest/src/userguide/memoryviews.html#:~:text=Memory%20views%20can%20be%20copied%20in%20place%3A%20import,from_view%20%23%20or%20to_view%5B%3A%2C%20%3A%2C%20%3A%5D%20%3D%20from_view"
   ]
  },
  {
   "cell_type": "code",
   "execution_count": 15,
   "id": "6602f0c8",
   "metadata": {},
   "outputs": [
    {
     "name": "stderr",
     "output_type": "stream",
     "text": [
      "warning: C:\\Users\\Administrator\\.ipython\\cython\\_cython_magic_435faff5feb52940161ac533aa22bf5d.pyx:43:28: Use boundscheck(False) for faster access\n"
     ]
    },
    {
     "name": "stdout",
     "output_type": "stream",
     "text": [
      "NumPy sum of the NumPy array before assignments: 351\n",
      "NumPy sum of NumPy array after assignments: 81\n",
      "Memoryview sum of NumPy array is 81\n",
      "Memoryview sum of C array is 451\n",
      "Memoryview sum of Cython array is 1351\n",
      "Memoryview sum of C memoryview is 451\n"
     ]
    }
   ],
   "source": [
    "%%cython\n",
    "from cython.view cimport array as cvarray\n",
    "import numpy as np\n",
    "\n",
    "# Memoryview on a NumPy array\n",
    "narr = np.arange(27, dtype=np.dtype(\"i\")).reshape((3, 3, 3))\n",
    "cdef int [:, :, :] narr_view = narr\n",
    "\n",
    "# Memoryview on a C array\n",
    "cdef int carr[3][3][3]\n",
    "cdef int [:, :, :] carr_view = carr\n",
    "\n",
    "# Memoryview on a Cython array\n",
    "cyarr = cvarray(shape=(3, 3, 3), itemsize=sizeof(int), format=\"i\")\n",
    "cdef int [:, :, :] cyarr_view = cyarr\n",
    "\n",
    "# Show the sum of all the arrays before altering it\n",
    "print(\"NumPy sum of the NumPy array before assignments: %s\" % narr.sum())\n",
    "\n",
    "# We can copy the values from one memoryview into another using a single\n",
    "# statement, by either indexing with ... or (NumPy-style) with a colon.\n",
    "carr_view[...] = narr_view\n",
    "cyarr_view[:] = narr_view\n",
    "# NumPy-style syntax for assigning a single value to all elements.\n",
    "narr_view[:, :, :] = 3\n",
    "\n",
    "# Just to distinguish the arrays\n",
    "carr_view[0, 0, 0] = 100\n",
    "cyarr_view[0, 0, 0] = 1000\n",
    "\n",
    "# Assigning into the memoryview on the NumPy array alters the latter\n",
    "print(\"NumPy sum of NumPy array after assignments: %s\" % narr.sum())\n",
    "\n",
    "# A function using a memoryview does not usually need the GIL\n",
    "cpdef int sum3d(int[:, :, :] arr) nogil:\n",
    "    cdef size_t i, j, k, I, J, K\n",
    "    cdef int total = 0\n",
    "    I = arr.shape[0]\n",
    "    J = arr.shape[1]\n",
    "    K = arr.shape[2]\n",
    "    for i in range(I):\n",
    "        for j in range(J):\n",
    "            for k in range(K):\n",
    "                total += arr[i, j, k]\n",
    "    return total\n",
    "\n",
    "# A function accepting a memoryview knows how to use a NumPy array,\n",
    "# a C array, a Cython array...\n",
    "print(\"Memoryview sum of NumPy array is %s\" % sum3d(narr))\n",
    "print(\"Memoryview sum of C array is %s\" % sum3d(carr))\n",
    "print(\"Memoryview sum of Cython array is %s\" % sum3d(cyarr))\n",
    "# ... and of course, a memoryview.\n",
    "print(\"Memoryview sum of C memoryview is %s\" % sum3d(carr_view))"
   ]
  },
  {
   "cell_type": "code",
   "execution_count": null,
   "id": "2c4ecf8a",
   "metadata": {},
   "outputs": [],
   "source": []
  }
 ],
 "metadata": {
  "kernelspec": {
   "display_name": "Python 3 (ipykernel)",
   "language": "python",
   "name": "python3"
  },
  "language_info": {
   "codemirror_mode": {
    "name": "ipython",
    "version": 3
   },
   "file_extension": ".py",
   "mimetype": "text/x-python",
   "name": "python",
   "nbconvert_exporter": "python",
   "pygments_lexer": "ipython3",
   "version": "3.9.7"
  }
 },
 "nbformat": 4,
 "nbformat_minor": 5
}
