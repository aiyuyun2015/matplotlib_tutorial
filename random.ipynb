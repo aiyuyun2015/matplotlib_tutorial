{
 "cells": [
  {
   "cell_type": "markdown",
   "id": "elder-problem",
   "metadata": {
    "toc": "true"
   },
   "source": [
    "# Table of Contents\n",
    " <p><div class=\"lev1 toc-item\"><a href=\"#Random-from-Python\" data-toc-modified-id=\"Random-from-Python-1\"><span class=\"toc-item-num\">1&nbsp;&nbsp;</span>Random from Python</a></div><div class=\"lev2 toc-item\"><a href=\"#random-integer\" data-toc-modified-id=\"random-integer-11\"><span class=\"toc-item-num\">1.1&nbsp;&nbsp;</span>random integer</a></div><div class=\"lev2 toc-item\"><a href=\"#random-float\" data-toc-modified-id=\"random-float-12\"><span class=\"toc-item-num\">1.2&nbsp;&nbsp;</span>random float</a></div><div class=\"lev2 toc-item\"><a href=\"#gaussion-distribution\" data-toc-modified-id=\"gaussion-distribution-13\"><span class=\"toc-item-num\">1.3&nbsp;&nbsp;</span>gaussion distribution</a></div><div class=\"lev1 toc-item\"><a href=\"#random-from-numpy\" data-toc-modified-id=\"random-from-numpy-2\"><span class=\"toc-item-num\">2&nbsp;&nbsp;</span>random from numpy</a></div><div class=\"lev2 toc-item\"><a href=\"#random-integer\" data-toc-modified-id=\"random-integer-21\"><span class=\"toc-item-num\">2.1&nbsp;&nbsp;</span>random integer</a></div><div class=\"lev2 toc-item\"><a href=\"#random-uniform\" data-toc-modified-id=\"random-uniform-22\"><span class=\"toc-item-num\">2.2&nbsp;&nbsp;</span>random uniform</a></div><div class=\"lev2 toc-item\"><a href=\"#random-choice\" data-toc-modified-id=\"random-choice-23\"><span class=\"toc-item-num\">2.3&nbsp;&nbsp;</span>random choice</a></div><div class=\"lev2 toc-item\"><a href=\"#np.random.normal\" data-toc-modified-id=\"np.random.normal-24\"><span class=\"toc-item-num\">2.4&nbsp;&nbsp;</span>np.random.normal</a></div><div class=\"lev1 toc-item\"><a href=\"#Bootstrapping-example\" data-toc-modified-id=\"Bootstrapping-example-3\"><span class=\"toc-item-num\">3&nbsp;&nbsp;</span>Bootstrapping example</a></div><div class=\"lev2 toc-item\"><a href=\"#normal-distribution-bootstrapping-data-pairwise-correlation\" data-toc-modified-id=\"normal-distribution-bootstrapping-data-pairwise-correlation-31\"><span class=\"toc-item-num\">3.1&nbsp;&nbsp;</span>normal distribution bootstrapping data pairwise correlation</a></div>"
   ]
  },
  {
   "cell_type": "code",
   "execution_count": 1,
   "id": "oriented-spell",
   "metadata": {},
   "outputs": [],
   "source": [
    "import random"
   ]
  },
  {
   "cell_type": "markdown",
   "id": "equipped-ground",
   "metadata": {},
   "source": [
    "# Random from Python"
   ]
  },
  {
   "cell_type": "markdown",
   "id": "british-freeze",
   "metadata": {},
   "source": [
    "## random integer"
   ]
  },
  {
   "cell_type": "code",
   "execution_count": 7,
   "id": "explicit-melissa",
   "metadata": {},
   "outputs": [
    {
     "name": "stdout",
     "output_type": "stream",
     "text": [
      "3\n"
     ]
    }
   ],
   "source": [
    "random.seed(100)\n",
    "a = random.randint(1, 10) # will create a random number between 1, 10; the seed is not fixed\n",
    "print(a) # will be 3, the seed is fixed"
   ]
  },
  {
   "cell_type": "code",
   "execution_count": 15,
   "id": "beneficial-imaging",
   "metadata": {},
   "outputs": [
    {
     "name": "stdout",
     "output_type": "stream",
     "text": [
      "8\n",
      "5\n",
      "1\n",
      "4\n",
      "6\n"
     ]
    }
   ],
   "source": [
    "n = 5\n",
    "while n > 0:\n",
    "    tmp = random.randint(1, 10) # if we do this again, this time is a new number\n",
    "    n -= 1\n",
    "    print(tmp)"
   ]
  },
  {
   "cell_type": "markdown",
   "id": "occasional-mystery",
   "metadata": {},
   "source": [
    "## random float"
   ]
  },
  {
   "cell_type": "code",
   "execution_count": 16,
   "id": "competent-insurance",
   "metadata": {},
   "outputs": [],
   "source": [
    "a = random.uniform(1, 10)"
   ]
  },
  {
   "cell_type": "code",
   "execution_count": 17,
   "id": "delayed-occupation",
   "metadata": {},
   "outputs": [
    {
     "name": "stdout",
     "output_type": "stream",
     "text": [
      "3.067346951251129\n"
     ]
    }
   ],
   "source": [
    "print(a)"
   ]
  },
  {
   "cell_type": "markdown",
   "id": "greenhouse-milan",
   "metadata": {},
   "source": [
    "## gaussion distribution"
   ]
  },
  {
   "cell_type": "code",
   "execution_count": 26,
   "id": "portable-charity",
   "metadata": {},
   "outputs": [
    {
     "data": {
      "text/plain": [
       "4.133231104398666"
      ]
     },
     "execution_count": 26,
     "metadata": {},
     "output_type": "execute_result"
    }
   ],
   "source": [
    "mu = 1\n",
    "sigma = 2\n",
    "random.gauss(mu, sigma)"
   ]
  },
  {
   "cell_type": "markdown",
   "id": "expanded-samba",
   "metadata": {},
   "source": [
    "# random from numpy"
   ]
  },
  {
   "cell_type": "code",
   "execution_count": 18,
   "id": "annoying-neighbor",
   "metadata": {},
   "outputs": [],
   "source": [
    "import numpy as np"
   ]
  },
  {
   "cell_type": "markdown",
   "id": "statistical-camcorder",
   "metadata": {},
   "source": [
    "## random integer"
   ]
  },
  {
   "cell_type": "code",
   "execution_count": 21,
   "id": "congressional-greek",
   "metadata": {},
   "outputs": [
    {
     "data": {
      "text/plain": [
       "array([9, 3, 7, 6, 7, 8, 4, 5, 3, 2])"
      ]
     },
     "execution_count": 21,
     "metadata": {},
     "output_type": "execute_result"
    }
   ],
   "source": [
    "np.random.randint(low=1, high=10, size=(10,))"
   ]
  },
  {
   "cell_type": "code",
   "execution_count": 22,
   "id": "peaceful-domain",
   "metadata": {},
   "outputs": [
    {
     "data": {
      "text/plain": [
       "array([[3, 9],\n",
       "       [4, 9],\n",
       "       [2, 8],\n",
       "       [5, 5],\n",
       "       [4, 4],\n",
       "       [7, 6],\n",
       "       [9, 7],\n",
       "       [1, 6],\n",
       "       [8, 2],\n",
       "       [1, 3]])"
      ]
     },
     "execution_count": 22,
     "metadata": {},
     "output_type": "execute_result"
    }
   ],
   "source": [
    "np.random.randint(low=1, high=10, size=(10,2))"
   ]
  },
  {
   "cell_type": "markdown",
   "id": "indirect-joshua",
   "metadata": {},
   "source": [
    "## random uniform"
   ]
  },
  {
   "cell_type": "code",
   "execution_count": 23,
   "id": "historic-communist",
   "metadata": {},
   "outputs": [
    {
     "data": {
      "text/plain": [
       "array([[9.33875128, 5.74570483],\n",
       "       [4.12557209, 5.4772311 ],\n",
       "       [6.10319709, 1.05907225],\n",
       "       [9.83529675, 2.61502922],\n",
       "       [3.21969747, 7.37902884],\n",
       "       [3.33542327, 5.77599278],\n",
       "       [1.90352866, 9.82730958],\n",
       "       [4.57622561, 6.58965902],\n",
       "       [6.87418442, 8.69543347],\n",
       "       [4.10841226, 9.75560805]])"
      ]
     },
     "execution_count": 23,
     "metadata": {},
     "output_type": "execute_result"
    }
   ],
   "source": [
    "np.random.uniform(low=1, high=10, size=(10,2))"
   ]
  },
  {
   "cell_type": "markdown",
   "id": "immune-heating",
   "metadata": {},
   "source": [
    "## random choice"
   ]
  },
  {
   "cell_type": "markdown",
   "id": "driven-infrared",
   "metadata": {},
   "source": [
    "Random choice will choose from inputs"
   ]
  },
  {
   "cell_type": "code",
   "execution_count": 25,
   "id": "competitive-homeless",
   "metadata": {},
   "outputs": [
    {
     "data": {
      "text/plain": [
       "array([4, 7, 9, 6, 7])"
      ]
     },
     "execution_count": 25,
     "metadata": {},
     "output_type": "execute_result"
    }
   ],
   "source": [
    "a = list(range(1, 10))\n",
    "np.random.choice(a, size=(5,))"
   ]
  },
  {
   "cell_type": "markdown",
   "id": "starting-ottawa",
   "metadata": {},
   "source": [
    "## np.random.normal"
   ]
  },
  {
   "cell_type": "code",
   "execution_count": 49,
   "id": "traditional-telephone",
   "metadata": {},
   "outputs": [],
   "source": [
    "import matplotlib.pyplot as plt"
   ]
  },
  {
   "cell_type": "code",
   "execution_count": 55,
   "id": "revised-style",
   "metadata": {},
   "outputs": [
    {
     "name": "stdout",
     "output_type": "stream",
     "text": [
      "1.9620082678644233\n"
     ]
    },
    {
     "data": {
      "image/png": "[encoded data removed]",
      "text/plain": [
       "<Figure size 432x288 with 1 Axes>"
      ]
     },
     "metadata": {
      "needs_background": "light"
     },
     "output_type": "display_data"
    }
   ],
   "source": [
    "np.random.seed(1) # similarily, use seed to make pseudo-random number\n",
    "\n",
    "mu, sigma = 0, 2\n",
    "s = np.random.normal(mu, sigma, size=(1000,))\n",
    "\n",
    "print(s.std())\n",
    "\n",
    "\n",
    "\n",
    "count, bins, ignored = plt.hist(s, 30, density=True)\n",
    "plt.plot(bins, 1/(sigma * np.sqrt(2 * np.pi)) *\n",
    "               np.exp( - (bins - mu)**2 / (2 * sigma**2) ),\n",
    "         linewidth=2, color='r')\n",
    "plt.show()"
   ]
  },
  {
   "cell_type": "markdown",
   "id": "composite-friday",
   "metadata": {},
   "source": [
    "# Bootstrapping example"
   ]
  },
  {
   "cell_type": "markdown",
   "id": "hungry-cancer",
   "metadata": {},
   "source": [
    "## normal distribution bootstrapping data pairwise correlation"
   ]
  },
  {
   "cell_type": "code",
   "execution_count": 114,
   "id": "incident-brush",
   "metadata": {},
   "outputs": [],
   "source": [
    "mu, sigma = 2, 10\n",
    "n = 1000\n",
    "data = np.random.normal(mu, sigma, size=(n,))\n",
    "\n",
    "\n",
    "mean1, mean2 = [], []\n",
    "\n",
    "for i in range(0, 100, 1):\n",
    "    bt1 = data[np.random.randint(n, size=n)].mean()\n",
    "    bt2 = data[np.random.randint(n, size=n)].mean()\n",
    "    mean1.append(bt1)\n",
    "    mean2.append(bt2)\n",
    "    #corrs.append(np.corrcoef(bt1, bt2)[0][1])"
   ]
  },
  {
   "cell_type": "code",
   "execution_count": 115,
   "id": "removed-idaho",
   "metadata": {},
   "outputs": [
    {
     "data": {
      "text/plain": [
       "array([[1.        , 0.02088068],\n",
       "       [0.02088068, 1.        ]])"
      ]
     },
     "execution_count": 115,
     "metadata": {},
     "output_type": "execute_result"
    }
   ],
   "source": [
    "np.corrcoef(mean1, mean2)"
   ]
  },
  {
   "cell_type": "code",
   "execution_count": 116,
   "id": "reliable-population",
   "metadata": {},
   "outputs": [],
   "source": [
    "#plt.hist(corrs)"
   ]
  },
  {
   "cell_type": "code",
   "execution_count": 117,
   "id": "union-headquarters",
   "metadata": {},
   "outputs": [],
   "source": [
    "# from scipy.stats.stats import pearsonr   \n",
    "\n",
    "\n",
    "# pearsonr(bt1, bt2)"
   ]
  },
  {
   "cell_type": "code",
   "execution_count": 118,
   "id": "motivated-collect",
   "metadata": {},
   "outputs": [
    {
     "data": {
      "text/plain": [
       "2.1796599752099257"
      ]
     },
     "execution_count": 118,
     "metadata": {},
     "output_type": "execute_result"
    }
   ],
   "source": [
    "bt1"
   ]
  },
  {
   "cell_type": "code",
   "execution_count": 113,
   "id": "pleasant-musical",
   "metadata": {},
   "outputs": [
    {
     "data": {
      "text/plain": [
       "2.0093381303746525"
      ]
     },
     "execution_count": 113,
     "metadata": {},
     "output_type": "execute_result"
    }
   ],
   "source": [
    "bt2"
   ]
  },
  {
   "cell_type": "code",
   "execution_count": null,
   "id": "composed-silence",
   "metadata": {},
   "outputs": [],
   "source": []
  },
  {
   "cell_type": "code",
   "execution_count": null,
   "id": "large-somerset",
   "metadata": {},
   "outputs": [],
   "source": []
  }
 ],
 "metadata": {
  "kernelspec": {
   "display_name": "my-conda-env-kernel",
   "language": "python",
   "name": "my-conda-env-kernel"
  },
  "language_info": {
   "codemirror_mode": {
    "name": "ipython",
    "version": 3
   },
   "file_extension": ".py",
   "mimetype": "text/x-python",
   "name": "python",
   "nbconvert_exporter": "python",
   "pygments_lexer": "ipython3",
   "version": "3.9.7"
  },
  "toc": {
   "colors": {
    "hover_highlight": "#DAA520",
    "running_highlight": "#FF0000",
    "selected_highlight": "#FFD700"
   },
   "moveMenuLeft": true,
   "nav_menu": {
    "height": "229.844px",
    "width": "251.989px"
   },
   "navigate_menu": true,
   "number_sections": true,
   "sideBar": true,
   "threshold": 4,
   "toc_cell": true,
   "toc_section_display": "block",
   "toc_window_display": true,
   "widenNotebook": false
  }
 },
 "nbformat": 4,
 "nbformat_minor": 5
}
