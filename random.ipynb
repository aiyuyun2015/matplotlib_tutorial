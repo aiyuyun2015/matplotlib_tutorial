{
 "cells": [
  {
   "cell_type": "markdown",
   "id": "elder-problem",
   "metadata": {
    "toc": "true"
   },
   "source": [
    "<h1>Table of Contents<span class=\"tocSkip\"></span></h1>\n",
    "<div class=\"toc\"><ul class=\"toc-item\"><li><span><a href=\"#Random-from-Python\" data-toc-modified-id=\"Random-from-Python-1\"><span class=\"toc-item-num\">1&nbsp;&nbsp;</span>Random from Python</a></span><ul class=\"toc-item\"><li><span><a href=\"#random-integer\" data-toc-modified-id=\"random-integer-1.1\"><span class=\"toc-item-num\">1.1&nbsp;&nbsp;</span>random integer</a></span></li><li><span><a href=\"#random-float\" data-toc-modified-id=\"random-float-1.2\"><span class=\"toc-item-num\">1.2&nbsp;&nbsp;</span>random float</a></span></li><li><span><a href=\"#gaussion-distribution\" data-toc-modified-id=\"gaussion-distribution-1.3\"><span class=\"toc-item-num\">1.3&nbsp;&nbsp;</span>gaussion distribution</a></span></li></ul></li><li><span><a href=\"#random-from-numpy\" data-toc-modified-id=\"random-from-numpy-2\"><span class=\"toc-item-num\">2&nbsp;&nbsp;</span>random from numpy</a></span><ul class=\"toc-item\"><li><span><a href=\"#random-integer\" data-toc-modified-id=\"random-integer-2.1\"><span class=\"toc-item-num\">2.1&nbsp;&nbsp;</span>random integer</a></span></li><li><span><a href=\"#random-uniform\" data-toc-modified-id=\"random-uniform-2.2\"><span class=\"toc-item-num\">2.2&nbsp;&nbsp;</span>random uniform</a></span></li><li><span><a href=\"#random-choice\" data-toc-modified-id=\"random-choice-2.3\"><span class=\"toc-item-num\">2.3&nbsp;&nbsp;</span>random choice</a></span></li><li><span><a href=\"#np.random.normal\" data-toc-modified-id=\"np.random.normal-2.4\"><span class=\"toc-item-num\">2.4&nbsp;&nbsp;</span>np.random.normal</a></span></li></ul></li><li><span><a href=\"#Bootstrapping-example\" data-toc-modified-id=\"Bootstrapping-example-3\"><span class=\"toc-item-num\">3&nbsp;&nbsp;</span>Bootstrapping example</a></span><ul class=\"toc-item\"><li><span><a href=\"#normal-distribution-bootstrapping-data-pairwise-correlation\" data-toc-modified-id=\"normal-distribution-bootstrapping-data-pairwise-correlation-3.1\"><span class=\"toc-item-num\">3.1&nbsp;&nbsp;</span>normal distribution bootstrapping data pairwise correlation</a></span></li></ul></li></ul></div>"
   ]
  },
  {
   "cell_type": "code",
   "execution_count": null,
   "id": "oriented-spell",
   "metadata": {},
   "outputs": [],
   "source": [
    "import random"
   ]
  },
  {
   "cell_type": "markdown",
   "id": "equipped-ground",
   "metadata": {},
   "source": [
    "# Random from Python"
   ]
  },
  {
   "cell_type": "markdown",
   "id": "british-freeze",
   "metadata": {},
   "source": [
    "## random integer"
   ]
  },
  {
   "cell_type": "code",
   "execution_count": null,
   "id": "explicit-melissa",
   "metadata": {},
   "outputs": [],
   "source": [
    "random.seed(100)\n",
    "a = random.randint(1, 10) # will create a random number between 1, 10; the seed is not fixed\n",
    "print(a) # will be 3, the seed is fixed"
   ]
  },
  {
   "cell_type": "code",
   "execution_count": null,
   "id": "beneficial-imaging",
   "metadata": {},
   "outputs": [],
   "source": [
    "n = 5\n",
    "while n > 0:\n",
    "    tmp = random.randint(1, 10) # if we do this again, this time is a new number\n",
    "    n -= 1\n",
    "    print(tmp)"
   ]
  },
  {
   "cell_type": "markdown",
   "id": "occasional-mystery",
   "metadata": {},
   "source": [
    "## random float"
   ]
  },
  {
   "cell_type": "code",
   "execution_count": null,
   "id": "competent-insurance",
   "metadata": {},
   "outputs": [],
   "source": [
    "a = random.uniform(1, 10)"
   ]
  },
  {
   "cell_type": "code",
   "execution_count": null,
   "id": "delayed-occupation",
   "metadata": {},
   "outputs": [],
   "source": [
    "print(a)"
   ]
  },
  {
   "cell_type": "markdown",
   "id": "greenhouse-milan",
   "metadata": {},
   "source": [
    "## gaussion distribution"
   ]
  },
  {
   "cell_type": "code",
   "execution_count": null,
   "id": "portable-charity",
   "metadata": {},
   "outputs": [],
   "source": [
    "mu = 1\n",
    "sigma = 2\n",
    "random.gauss(mu, sigma)"
   ]
  },
  {
   "cell_type": "markdown",
   "id": "expanded-samba",
   "metadata": {},
   "source": [
    "# random from numpy"
   ]
  },
  {
   "cell_type": "code",
   "execution_count": null,
   "id": "annoying-neighbor",
   "metadata": {},
   "outputs": [],
   "source": [
    "import numpy as np"
   ]
  },
  {
   "cell_type": "markdown",
   "id": "statistical-camcorder",
   "metadata": {},
   "source": [
    "## random integer"
   ]
  },
  {
   "cell_type": "code",
   "execution_count": null,
   "id": "congressional-greek",
   "metadata": {},
   "outputs": [],
   "source": [
    "np.random.randint(low=1, high=10, size=(10,))"
   ]
  },
  {
   "cell_type": "code",
   "execution_count": null,
   "id": "peaceful-domain",
   "metadata": {},
   "outputs": [],
   "source": [
    "np.random.randint(low=1, high=10, size=(10,2))"
   ]
  },
  {
   "cell_type": "markdown",
   "id": "indirect-joshua",
   "metadata": {},
   "source": [
    "## random uniform"
   ]
  },
  {
   "cell_type": "code",
   "execution_count": null,
   "id": "historic-communist",
   "metadata": {},
   "outputs": [],
   "source": [
    "np.random.uniform(low=1, high=10, size=(10,2))"
   ]
  },
  {
   "cell_type": "markdown",
   "id": "immune-heating",
   "metadata": {},
   "source": [
    "## random choice"
   ]
  },
  {
   "cell_type": "markdown",
   "id": "driven-infrared",
   "metadata": {},
   "source": [
    "Random choice will choose from inputs"
   ]
  },
  {
   "cell_type": "code",
   "execution_count": null,
   "id": "competitive-homeless",
   "metadata": {},
   "outputs": [],
   "source": [
    "a = list(range(1, 10))\n",
    "np.random.choice(a, size=(5,))"
   ]
  },
  {
   "cell_type": "markdown",
   "id": "starting-ottawa",
   "metadata": {},
   "source": [
    "## np.random.normal"
   ]
  },
  {
   "cell_type": "code",
   "execution_count": null,
   "id": "traditional-telephone",
   "metadata": {},
   "outputs": [],
   "source": [
    "import matplotlib.pyplot as plt"
   ]
  },
  {
   "cell_type": "code",
   "execution_count": null,
   "id": "revised-style",
   "metadata": {},
   "outputs": [],
   "source": [
    "np.random.seed(1) # similarily, use seed to make pseudo-random number\n",
    "\n",
    "mu, sigma = 0, 2\n",
    "s = np.random.normal(mu, sigma, size=(1000,))\n",
    "\n",
    "print(s.std())\n",
    "\n",
    "\n",
    "\n",
    "count, bins, ignored = plt.hist(s, 30, density=True)\n",
    "plt.plot(bins, 1/(sigma * np.sqrt(2 * np.pi)) *\n",
    "               np.exp( - (bins - mu)**2 / (2 * sigma**2) ),\n",
    "         linewidth=2, color='r')\n",
    "plt.show()"
   ]
  },
  {
   "cell_type": "markdown",
   "id": "composite-friday",
   "metadata": {},
   "source": [
    "# Bootstrapping example"
   ]
  },
  {
   "cell_type": "markdown",
   "id": "hungry-cancer",
   "metadata": {},
   "source": [
    "## normal distribution bootstrapping data pairwise correlation"
   ]
  },
  {
   "cell_type": "code",
   "execution_count": null,
   "id": "incident-brush",
   "metadata": {},
   "outputs": [],
   "source": [
    "mu, sigma = 2, 10\n",
    "n = 1000\n",
    "data = np.random.normal(mu, sigma, size=(n,))\n",
    "\n",
    "\n",
    "mean1, mean2 = [], []\n",
    "\n",
    "for i in range(0, 100, 1):\n",
    "    bt1 = data[np.random.randint(n, size=n)].mean()\n",
    "    bt2 = data[np.random.randint(n, size=n)].mean()\n",
    "    mean1.append(bt1)\n",
    "    mean2.append(bt2)\n",
    "    #corrs.append(np.corrcoef(bt1, bt2)[0][1])"
   ]
  },
  {
   "cell_type": "code",
   "execution_count": null,
   "id": "removed-idaho",
   "metadata": {},
   "outputs": [],
   "source": [
    "np.corrcoef(mean1, mean2)"
   ]
  },
  {
   "cell_type": "code",
   "execution_count": null,
   "id": "reliable-population",
   "metadata": {},
   "outputs": [],
   "source": [
    "#plt.hist(corrs)"
   ]
  },
  {
   "cell_type": "code",
   "execution_count": null,
   "id": "union-headquarters",
   "metadata": {},
   "outputs": [],
   "source": [
    "# from scipy.stats.stats import pearsonr   \n",
    "\n",
    "\n",
    "# pearsonr(bt1, bt2)"
   ]
  },
  {
   "cell_type": "code",
   "execution_count": null,
   "id": "motivated-collect",
   "metadata": {},
   "outputs": [],
   "source": [
    "bt1"
   ]
  },
  {
   "cell_type": "code",
   "execution_count": null,
   "id": "pleasant-musical",
   "metadata": {},
   "outputs": [],
   "source": [
    "bt2"
   ]
  },
  {
   "cell_type": "code",
   "execution_count": null,
   "id": "composed-silence",
   "metadata": {},
   "outputs": [],
   "source": []
  },
  {
   "cell_type": "code",
   "execution_count": null,
   "id": "large-somerset",
   "metadata": {},
   "outputs": [],
   "source": []
  }
 ],
 "metadata": {
  "kernelspec": {
   "display_name": "Python 3 (ipykernel)",
   "language": "python",
   "name": "python3"
  },
  "language_info": {
   "codemirror_mode": {
    "name": "ipython",
    "version": 3
   },
   "file_extension": ".py",
   "mimetype": "text/x-python",
   "name": "python",
   "nbconvert_exporter": "python",
   "pygments_lexer": "ipython3",
   "version": "3.9.7"
  },
  "toc": {
   "base_numbering": 1,
   "nav_menu": {
    "height": "229.844px",
    "width": "251.989px"
   },
   "number_sections": true,
   "sideBar": true,
   "skip_h1_title": false,
   "title_cell": "Table of Contents",
   "title_sidebar": "Contents",
   "toc_cell": true,
   "toc_position": {},
   "toc_section_display": "block",
   "toc_window_display": true
  }
 },
 "nbformat": 4,
 "nbformat_minor": 5
}
