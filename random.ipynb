{
 "cells": [
  {
   "cell_type": "markdown",
   "id": "healthy-thanksgiving",
   "metadata": {
    "toc": "true"
   },
   "source": [
    "# Table of Contents\n",
    " <p><div class=\"lev1 toc-item\"><a href=\"#Random-from-Python\" data-toc-modified-id=\"Random-from-Python-1\"><span class=\"toc-item-num\">1&nbsp;&nbsp;</span>Random from Python</a></div><div class=\"lev2 toc-item\"><a href=\"#random-integer\" data-toc-modified-id=\"random-integer-11\"><span class=\"toc-item-num\">1.1&nbsp;&nbsp;</span>random integer</a></div><div class=\"lev2 toc-item\"><a href=\"#random-float\" data-toc-modified-id=\"random-float-12\"><span class=\"toc-item-num\">1.2&nbsp;&nbsp;</span>random float</a></div><div class=\"lev2 toc-item\"><a href=\"#gaussion-distribution\" data-toc-modified-id=\"gaussion-distribution-13\"><span class=\"toc-item-num\">1.3&nbsp;&nbsp;</span>gaussion distribution</a></div><div class=\"lev1 toc-item\"><a href=\"#random-from-numpy\" data-toc-modified-id=\"random-from-numpy-2\"><span class=\"toc-item-num\">2&nbsp;&nbsp;</span>random from numpy</a></div><div class=\"lev2 toc-item\"><a href=\"#random-integer\" data-toc-modified-id=\"random-integer-21\"><span class=\"toc-item-num\">2.1&nbsp;&nbsp;</span>random integer</a></div><div class=\"lev2 toc-item\"><a href=\"#random-uniform\" data-toc-modified-id=\"random-uniform-22\"><span class=\"toc-item-num\">2.2&nbsp;&nbsp;</span>random uniform</a></div><div class=\"lev2 toc-item\"><a href=\"#random-choice\" data-toc-modified-id=\"random-choice-23\"><span class=\"toc-item-num\">2.3&nbsp;&nbsp;</span>random choice</a></div><div class=\"lev2 toc-item\"><a href=\"#np.random.normal\" data-toc-modified-id=\"np.random.normal-24\"><span class=\"toc-item-num\">2.4&nbsp;&nbsp;</span>np.random.normal</a></div>"
   ]
  },
  {
   "cell_type": "code",
   "execution_count": 1,
   "id": "junior-mozambique",
   "metadata": {},
   "outputs": [],
   "source": [
    "import random"
   ]
  },
  {
   "cell_type": "markdown",
   "id": "joined-exercise",
   "metadata": {},
   "source": [
    "# Random from Python"
   ]
  },
  {
   "cell_type": "markdown",
   "id": "responsible-alarm",
   "metadata": {},
   "source": [
    "## random integer"
   ]
  },
  {
   "cell_type": "code",
   "execution_count": 7,
   "id": "beneficial-assistant",
   "metadata": {},
   "outputs": [
    {
     "name": "stdout",
     "output_type": "stream",
     "text": [
      "3\n"
     ]
    }
   ],
   "source": [
    "random.seed(100)\n",
    "a = random.randint(1, 10) # will create a random number between 1, 10; the seed is not fixed\n",
    "print(a) # will be 3, the seed is fixed"
   ]
  },
  {
   "cell_type": "code",
   "execution_count": 15,
   "id": "completed-guard",
   "metadata": {},
   "outputs": [
    {
     "name": "stdout",
     "output_type": "stream",
     "text": [
      "8\n",
      "5\n",
      "1\n",
      "4\n",
      "6\n"
     ]
    }
   ],
   "source": [
    "n = 5\n",
    "while n > 0:\n",
    "    tmp = random.randint(1, 10) # if we do this again, this time is a new number\n",
    "    n -= 1\n",
    "    print(tmp)"
   ]
  },
  {
   "cell_type": "markdown",
   "id": "existing-mauritius",
   "metadata": {},
   "source": [
    "## random float"
   ]
  },
  {
   "cell_type": "code",
   "execution_count": 16,
   "id": "average-champagne",
   "metadata": {},
   "outputs": [],
   "source": [
    "a = random.uniform(1, 10)"
   ]
  },
  {
   "cell_type": "code",
   "execution_count": 17,
   "id": "decimal-matthew",
   "metadata": {},
   "outputs": [
    {
     "name": "stdout",
     "output_type": "stream",
     "text": [
      "3.067346951251129\n"
     ]
    }
   ],
   "source": [
    "print(a)"
   ]
  },
  {
   "cell_type": "markdown",
   "id": "typical-belarus",
   "metadata": {},
   "source": [
    "## gaussion distribution"
   ]
  },
  {
   "cell_type": "code",
   "execution_count": 26,
   "id": "regulation-neighborhood",
   "metadata": {},
   "outputs": [
    {
     "data": {
      "text/plain": [
       "4.133231104398666"
      ]
     },
     "execution_count": 26,
     "metadata": {},
     "output_type": "execute_result"
    }
   ],
   "source": [
    "mu = 1\n",
    "sigma = 2\n",
    "random.gauss(mu, sigma)"
   ]
  },
  {
   "cell_type": "markdown",
   "id": "quality-glossary",
   "metadata": {},
   "source": [
    "# random from numpy"
   ]
  },
  {
   "cell_type": "code",
   "execution_count": 18,
   "id": "motivated-rogers",
   "metadata": {},
   "outputs": [],
   "source": [
    "import numpy as np"
   ]
  },
  {
   "cell_type": "markdown",
   "id": "precious-cambridge",
   "metadata": {},
   "source": [
    "## random integer"
   ]
  },
  {
   "cell_type": "code",
   "execution_count": 21,
   "id": "urban-motorcycle",
   "metadata": {},
   "outputs": [
    {
     "data": {
      "text/plain": [
       "array([9, 3, 7, 6, 7, 8, 4, 5, 3, 2])"
      ]
     },
     "execution_count": 21,
     "metadata": {},
     "output_type": "execute_result"
    }
   ],
   "source": [
    "np.random.randint(low=1, high=10, size=(10,))"
   ]
  },
  {
   "cell_type": "code",
   "execution_count": 22,
   "id": "unnecessary-italian",
   "metadata": {},
   "outputs": [
    {
     "data": {
      "text/plain": [
       "array([[3, 9],\n",
       "       [4, 9],\n",
       "       [2, 8],\n",
       "       [5, 5],\n",
       "       [4, 4],\n",
       "       [7, 6],\n",
       "       [9, 7],\n",
       "       [1, 6],\n",
       "       [8, 2],\n",
       "       [1, 3]])"
      ]
     },
     "execution_count": 22,
     "metadata": {},
     "output_type": "execute_result"
    }
   ],
   "source": [
    "np.random.randint(low=1, high=10, size=(10,2))"
   ]
  },
  {
   "cell_type": "markdown",
   "id": "cooked-savage",
   "metadata": {},
   "source": [
    "## random uniform"
   ]
  },
  {
   "cell_type": "code",
   "execution_count": 23,
   "id": "split-commissioner",
   "metadata": {},
   "outputs": [
    {
     "data": {
      "text/plain": [
       "array([[9.33875128, 5.74570483],\n",
       "       [4.12557209, 5.4772311 ],\n",
       "       [6.10319709, 1.05907225],\n",
       "       [9.83529675, 2.61502922],\n",
       "       [3.21969747, 7.37902884],\n",
       "       [3.33542327, 5.77599278],\n",
       "       [1.90352866, 9.82730958],\n",
       "       [4.57622561, 6.58965902],\n",
       "       [6.87418442, 8.69543347],\n",
       "       [4.10841226, 9.75560805]])"
      ]
     },
     "execution_count": 23,
     "metadata": {},
     "output_type": "execute_result"
    }
   ],
   "source": [
    "np.random.uniform(low=1, high=10, size=(10,2))"
   ]
  },
  {
   "cell_type": "markdown",
   "id": "realistic-straight",
   "metadata": {},
   "source": [
    "## random choice"
   ]
  },
  {
   "cell_type": "markdown",
   "id": "moderate-slovenia",
   "metadata": {},
   "source": [
    "Random choice will choose from inputs"
   ]
  },
  {
   "cell_type": "code",
   "execution_count": 25,
   "id": "trying-robin",
   "metadata": {},
   "outputs": [
    {
     "data": {
      "text/plain": [
       "array([4, 7, 9, 6, 7])"
      ]
     },
     "execution_count": 25,
     "metadata": {},
     "output_type": "execute_result"
    }
   ],
   "source": [
    "a = list(range(1, 10))\n",
    "np.random.choice(a, size=(5,))"
   ]
  },
  {
   "cell_type": "markdown",
   "id": "independent-driver",
   "metadata": {},
   "source": [
    "## np.random.normal"
   ]
  },
  {
   "cell_type": "code",
   "execution_count": 42,
   "id": "common-substance",
   "metadata": {},
   "outputs": [],
   "source": [
    "mu, sigma = 0, 2\n",
    "s = np.random.normal(mu, sigma, size=(1000,))"
   ]
  },
  {
   "cell_type": "code",
   "execution_count": 43,
   "id": "interesting-columbus",
   "metadata": {},
   "outputs": [
    {
     "data": {
      "text/plain": [
       "1.9208757591562864"
      ]
     },
     "execution_count": 43,
     "metadata": {},
     "output_type": "execute_result"
    }
   ],
   "source": [
    "s.std()"
   ]
  },
  {
   "cell_type": "code",
   "execution_count": 44,
   "id": "answering-conviction",
   "metadata": {},
   "outputs": [],
   "source": [
    "import matplotlib.pyplot as plt"
   ]
  },
  {
   "cell_type": "code",
   "execution_count": 45,
   "id": "fallen-dependence",
   "metadata": {},
   "outputs": [
    {
     "data": {
      "image/png": "[encoded data removed]",
      "text/plain": [
       "<Figure size 432x288 with 1 Axes>"
      ]
     },
     "metadata": {
      "needs_background": "light"
     },
     "output_type": "display_data"
    }
   ],
   "source": [
    "count, bins, ignored = plt.hist(s, 30, density=True)\n",
    "plt.plot(bins, 1/(sigma * np.sqrt(2 * np.pi)) *\n",
    "               np.exp( - (bins - mu)**2 / (2 * sigma**2) ),\n",
    "         linewidth=2, color='r')\n",
    "plt.show()"
   ]
  },
  {
   "cell_type": "code",
   "execution_count": null,
   "id": "casual-management",
   "metadata": {},
   "outputs": [],
   "source": []
  }
 ],
 "metadata": {
  "kernelspec": {
   "display_name": "my-conda-env-kernel",
   "language": "python",
   "name": "my-conda-env-kernel"
  },
  "language_info": {
   "codemirror_mode": {
    "name": "ipython",
    "version": 3
   },
   "file_extension": ".py",
   "mimetype": "text/x-python",
   "name": "python",
   "nbconvert_exporter": "python",
   "pygments_lexer": "ipython3",
   "version": "3.9.7"
  },
  "toc": {
   "colors": {
    "hover_highlight": "#DAA520",
    "running_highlight": "#FF0000",
    "selected_highlight": "#FFD700"
   },
   "moveMenuLeft": true,
   "nav_menu": {
    "height": "179.077px",
    "width": "251.989px"
   },
   "navigate_menu": true,
   "number_sections": true,
   "sideBar": true,
   "threshold": 4,
   "toc_cell": true,
   "toc_section_display": "block",
   "toc_window_display": true,
   "widenNotebook": false
  }
 },
 "nbformat": 4,
 "nbformat_minor": 5
}
